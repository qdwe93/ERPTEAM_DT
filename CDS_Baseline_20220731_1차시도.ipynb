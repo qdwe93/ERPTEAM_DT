{
  "cells": [
    {
      "cell_type": "markdown",
      "metadata": {
        "id": "view-in-github",
        "colab_type": "text"
      },
      "source": [
        "<a href=\"https://colab.research.google.com/github/qdwe93/ERPTEAM_DT/blob/main/CDS_Baseline_20220731_1%EC%B0%A8%EC%8B%9C%EB%8F%84.ipynb\" target=\"_parent\"><img src=\"https://colab.research.google.com/assets/colab-badge.svg\" alt=\"Open In Colab\"/></a>"
      ]
    },
    {
      "cell_type": "markdown",
      "metadata": {
        "id": "ddf5cd88"
      },
      "source": [
        "##  Baseline 제공 목적 \n",
        "- 제공한 데이터세트를 활용한 머신러닝 Pipeline(분석절차)이 올바르게 동작하는지를 확인\n",
        "- 제공한 데이터세트를 활용하여 분석 대상 기준 정의 및 제출 결과 파일 생성 방법 등에 참고\n",
        "\n",
        "※ 주어진 베이스라인 모델은 예시이며, 참가자들은 자유롭게 분석 방법 및 항목 변경 가능\n",
        "\n",
        "---------------\n",
        "\n",
        "## Baseline 목차 \n",
        "\n",
        "\n",
        "- [1. 분석환경 구축](#01)\n",
        "    - [1.1  Colab 구글드라이브 연동](#01-01)\n",
        "    - [1.2  라이브러리 임포트](#01-02)\n",
        "- [2. 데이터 읽기](#02)\n",
        "    - [2.1 데이터 통합](#02-01)\n",
        "    - [2.2 데이터 설명](#02-02)  \n",
        "- [3. 탐색적 데이터 분석](#03)\n",
        "\n",
        "    - [3.1 타깃 변수 분포 확인하기](#03-01)\n",
        "    - [3.2 센서 변수와 타깃 변수의 상관관계 파악](#03-02)\n",
        "    - [3.3 범주형 변수에 따른 타깃 변수의 변화](#03-03)\n",
        "    - [3.4 전체 공정 소요시간에 따른 타깃 변수의 변화](#03-04)\n",
        "    - [3.5 센서의 집약된 통계량에 따른 타깃 변수의 변화](#03-05)\n",
        "\n",
        "- [4. 데이터 전처리](#04)\n",
        "    - [4.1 내부 데이터를 통한 변수 생성](#04-01)\n",
        "    - [4.2 이상치 치환하기](#04-02)\n",
        "    - [4.3 분산이 적은 변수 제거](#04-03)\n",
        "    - [4.4 표준화](#04-04)\n",
        "    - [4.5 원-핫 인코딩](#04-05)\n",
        "    - [4.6 변수 선택](#04-06)\n",
        "\n",
        "- [5. 모델링](#05)\n",
        "    - [5.1 데이터 분할](#05-01)\n",
        "    - [5.2 릿지 회귀 모델](#05-02)\n",
        "    - [5.3 랜덤 포레스트 모델](#05-03)\n",
        "    - [5.4 최종 모델 구축](#05-04)\n",
        "    - [5.5 결과 해석](#05-05)\n",
        "    - [5.6 예측 결과 파일 제출](#05-06)\n",
        "\n",
        "\n",
        "\n",
        "\n"
      ],
      "id": "ddf5cd88"
    },
    {
      "cell_type": "markdown",
      "metadata": {
        "id": "7f70174a"
      },
      "source": [
        "<a name='01'></a>\n",
        "## 1. 분석환경 구축 "
      ],
      "id": "7f70174a"
    },
    {
      "cell_type": "markdown",
      "metadata": {
        "id": "54777026"
      },
      "source": [
        "<a name='01-01'></a>\n",
        "### 1.1 Colab 구글 드라이브 연동 "
      ],
      "id": "54777026"
    },
    {
      "cell_type": "code",
      "execution_count": 1,
      "metadata": {
        "colab": {
          "base_uri": "https://localhost:8080/"
        },
        "id": "0129b0eb",
        "outputId": "3a27f447-48c5-4bdd-ebaf-7c660424f815"
      },
      "outputs": [
        {
          "output_type": "stream",
          "name": "stdout",
          "text": [
            "Mounted at /content/drive\n"
          ]
        }
      ],
      "source": [
        "# 구글 Colaboratory 를 사용하기 위해 구글 계정으로 로그인합니다. \n",
        "from google.colab import drive\n",
        "drive.mount('/content/drive')\n"
      ],
      "id": "0129b0eb"
    },
    {
      "cell_type": "markdown",
      "metadata": {
        "id": "d3016eeb"
      },
      "source": [
        "<a name='01-02'></a>\n",
        "### 1.2 라이브러리 임포트"
      ],
      "id": "d3016eeb"
    },
    {
      "cell_type": "code",
      "execution_count": 2,
      "metadata": {
        "id": "ce2d12a0"
      },
      "outputs": [],
      "source": [
        "import warnings\n",
        "warnings.filterwarnings('ignore')\n",
        "\n",
        "# 데이터 읽기를 위한 라이브러리\n",
        "import numpy as np\n",
        "np.random.seed(0)\n",
        "import pandas as pd\n",
        "import gc, os, time\n",
        "import scipy as sp\n",
        "import statsmodels.api as sm\n",
        "from pandas import DataFrame, Series\n",
        "from datetime import datetime, date, timedelta\n",
        "from sklearn.preprocessing import StandardScaler, LabelEncoder\n",
        "\n",
        "# 탐색적 데이터 분석을 위한 라이브러리\n",
        "import seaborn as sns\n",
        "import matplotlib.pyplot as plt\n",
        "from scipy.stats import skew, norm, probplot, boxcox\n",
        "\n",
        "# 모델링을 위한 라이브러리\n",
        "from sklearn.linear_model import Ridge, Lasso\n",
        "from sklearn.ensemble import RandomForestRegressor\n",
        "from sklearn.metrics import mean_squared_error\n",
        "from sklearn.model_selection import train_test_split, GridSearchCV\n",
        "from sklearn.feature_selection import SelectKBest, mutual_info_regression, VarianceThreshold"
      ],
      "id": "ce2d12a0"
    },
    {
      "cell_type": "markdown",
      "metadata": {
        "id": "32ab1be0"
      },
      "source": [
        "<a name='02'></a>\n",
        "## 2. 데이터 읽기\n",
        "\n",
        "데이터 파일을 불러옵니다."
      ],
      "id": "32ab1be0"
    },
    {
      "cell_type": "code",
      "execution_count": 3,
      "metadata": {
        "id": "b752d71e"
      },
      "outputs": [],
      "source": [
        "# 구글 드라이브 내 데이터가 위치한 경로를 설정합니다.\n",
        "path = 'drive/MyDrive/SK 2회 AI대회/'\n",
        "\n",
        "# 학습용 데이터 \n",
        "train_sensor = pd.read_csv(f'{path}train_sensor.csv')\n",
        "train_quality = pd.read_csv(f'{path}train_quality.csv')\n",
        "\n",
        "# 평가용 데이터 \n",
        "predict_sensor = pd.read_csv(f'{path}predict_sensor.csv')"
      ],
      "id": "b752d71e"
    },
    {
      "cell_type": "code",
      "execution_count": 4,
      "metadata": {
        "colab": {
          "base_uri": "https://localhost:8080/",
          "height": 143
        },
        "id": "9bb55898",
        "outputId": "37cd560f-f31a-49df-a69a-309aca4bd825"
      },
      "outputs": [
        {
          "output_type": "execute_result",
          "data": {
            "text/plain": [
              "  module_name    key_val param_alias   mean_val             end_time  step_id\n",
              "0     EQ4_PM6   LOT64_18   EPD_para4     0.0000  2021-10-11 01:59:49       17\n",
              "1     EQ7_PM2  LOT102_18  TIME_para7  1401.1833  2021-10-04 06:37:59       13\n",
              "2     EQ8_PM2    LOT8_18    HV_para3     0.0000  2021-10-09 01:31:39        4"
            ],
            "text/html": [
              "\n",
              "  <div id=\"df-50859bb4-8be2-43dd-baef-53281ef9616c\">\n",
              "    <div class=\"colab-df-container\">\n",
              "      <div>\n",
              "<style scoped>\n",
              "    .dataframe tbody tr th:only-of-type {\n",
              "        vertical-align: middle;\n",
              "    }\n",
              "\n",
              "    .dataframe tbody tr th {\n",
              "        vertical-align: top;\n",
              "    }\n",
              "\n",
              "    .dataframe thead th {\n",
              "        text-align: right;\n",
              "    }\n",
              "</style>\n",
              "<table border=\"1\" class=\"dataframe\">\n",
              "  <thead>\n",
              "    <tr style=\"text-align: right;\">\n",
              "      <th></th>\n",
              "      <th>module_name</th>\n",
              "      <th>key_val</th>\n",
              "      <th>param_alias</th>\n",
              "      <th>mean_val</th>\n",
              "      <th>end_time</th>\n",
              "      <th>step_id</th>\n",
              "    </tr>\n",
              "  </thead>\n",
              "  <tbody>\n",
              "    <tr>\n",
              "      <th>0</th>\n",
              "      <td>EQ4_PM6</td>\n",
              "      <td>LOT64_18</td>\n",
              "      <td>EPD_para4</td>\n",
              "      <td>0.0000</td>\n",
              "      <td>2021-10-11 01:59:49</td>\n",
              "      <td>17</td>\n",
              "    </tr>\n",
              "    <tr>\n",
              "      <th>1</th>\n",
              "      <td>EQ7_PM2</td>\n",
              "      <td>LOT102_18</td>\n",
              "      <td>TIME_para7</td>\n",
              "      <td>1401.1833</td>\n",
              "      <td>2021-10-04 06:37:59</td>\n",
              "      <td>13</td>\n",
              "    </tr>\n",
              "    <tr>\n",
              "      <th>2</th>\n",
              "      <td>EQ8_PM2</td>\n",
              "      <td>LOT8_18</td>\n",
              "      <td>HV_para3</td>\n",
              "      <td>0.0000</td>\n",
              "      <td>2021-10-09 01:31:39</td>\n",
              "      <td>4</td>\n",
              "    </tr>\n",
              "  </tbody>\n",
              "</table>\n",
              "</div>\n",
              "      <button class=\"colab-df-convert\" onclick=\"convertToInteractive('df-50859bb4-8be2-43dd-baef-53281ef9616c')\"\n",
              "              title=\"Convert this dataframe to an interactive table.\"\n",
              "              style=\"display:none;\">\n",
              "        \n",
              "  <svg xmlns=\"http://www.w3.org/2000/svg\" height=\"24px\"viewBox=\"0 0 24 24\"\n",
              "       width=\"24px\">\n",
              "    <path d=\"M0 0h24v24H0V0z\" fill=\"none\"/>\n",
              "    <path d=\"M18.56 5.44l.94 2.06.94-2.06 2.06-.94-2.06-.94-.94-2.06-.94 2.06-2.06.94zm-11 1L8.5 8.5l.94-2.06 2.06-.94-2.06-.94L8.5 2.5l-.94 2.06-2.06.94zm10 10l.94 2.06.94-2.06 2.06-.94-2.06-.94-.94-2.06-.94 2.06-2.06.94z\"/><path d=\"M17.41 7.96l-1.37-1.37c-.4-.4-.92-.59-1.43-.59-.52 0-1.04.2-1.43.59L10.3 9.45l-7.72 7.72c-.78.78-.78 2.05 0 2.83L4 21.41c.39.39.9.59 1.41.59.51 0 1.02-.2 1.41-.59l7.78-7.78 2.81-2.81c.8-.78.8-2.07 0-2.86zM5.41 20L4 18.59l7.72-7.72 1.47 1.35L5.41 20z\"/>\n",
              "  </svg>\n",
              "      </button>\n",
              "      \n",
              "  <style>\n",
              "    .colab-df-container {\n",
              "      display:flex;\n",
              "      flex-wrap:wrap;\n",
              "      gap: 12px;\n",
              "    }\n",
              "\n",
              "    .colab-df-convert {\n",
              "      background-color: #E8F0FE;\n",
              "      border: none;\n",
              "      border-radius: 50%;\n",
              "      cursor: pointer;\n",
              "      display: none;\n",
              "      fill: #1967D2;\n",
              "      height: 32px;\n",
              "      padding: 0 0 0 0;\n",
              "      width: 32px;\n",
              "    }\n",
              "\n",
              "    .colab-df-convert:hover {\n",
              "      background-color: #E2EBFA;\n",
              "      box-shadow: 0px 1px 2px rgba(60, 64, 67, 0.3), 0px 1px 3px 1px rgba(60, 64, 67, 0.15);\n",
              "      fill: #174EA6;\n",
              "    }\n",
              "\n",
              "    [theme=dark] .colab-df-convert {\n",
              "      background-color: #3B4455;\n",
              "      fill: #D2E3FC;\n",
              "    }\n",
              "\n",
              "    [theme=dark] .colab-df-convert:hover {\n",
              "      background-color: #434B5C;\n",
              "      box-shadow: 0px 1px 3px 1px rgba(0, 0, 0, 0.15);\n",
              "      filter: drop-shadow(0px 1px 2px rgba(0, 0, 0, 0.3));\n",
              "      fill: #FFFFFF;\n",
              "    }\n",
              "  </style>\n",
              "\n",
              "      <script>\n",
              "        const buttonEl =\n",
              "          document.querySelector('#df-50859bb4-8be2-43dd-baef-53281ef9616c button.colab-df-convert');\n",
              "        buttonEl.style.display =\n",
              "          google.colab.kernel.accessAllowed ? 'block' : 'none';\n",
              "\n",
              "        async function convertToInteractive(key) {\n",
              "          const element = document.querySelector('#df-50859bb4-8be2-43dd-baef-53281ef9616c');\n",
              "          const dataTable =\n",
              "            await google.colab.kernel.invokeFunction('convertToInteractive',\n",
              "                                                     [key], {});\n",
              "          if (!dataTable) return;\n",
              "\n",
              "          const docLinkHtml = 'Like what you see? Visit the ' +\n",
              "            '<a target=\"_blank\" href=https://colab.research.google.com/notebooks/data_table.ipynb>data table notebook</a>'\n",
              "            + ' to learn more about interactive tables.';\n",
              "          element.innerHTML = '';\n",
              "          dataTable['output_type'] = 'display_data';\n",
              "          await google.colab.output.renderOutput(dataTable, element);\n",
              "          const docLink = document.createElement('div');\n",
              "          docLink.innerHTML = docLinkHtml;\n",
              "          element.appendChild(docLink);\n",
              "        }\n",
              "      </script>\n",
              "    </div>\n",
              "  </div>\n",
              "  "
            ]
          },
          "metadata": {},
          "execution_count": 4
        }
      ],
      "source": [
        "# 센서 변수 데이터프레임의 상위 3개 행을 출력합니다. \n",
        "train_sensor.head(3)"
      ],
      "id": "9bb55898"
    },
    {
      "cell_type": "code",
      "execution_count": 5,
      "metadata": {
        "colab": {
          "base_uri": "https://localhost:8080/",
          "height": 143
        },
        "id": "2d272248",
        "outputId": "6fc876bf-1ead-4ba2-9e0a-d196a0ae359e"
      },
      "outputs": [
        {
          "output_type": "execute_result",
          "data": {
            "text/plain": [
              "   key_val   msure_val            end_dt_tm\n",
              "0  LOT1_21  1281.14148  2021-10-11 21:00:17\n",
              "1  LOT2_04  1271.26772  2021-10-12 01:23:50\n",
              "2  LOT3_18  1252.67080  2021-10-16 10:35:24"
            ],
            "text/html": [
              "\n",
              "  <div id=\"df-51968b98-e544-45d1-9324-1330f612c6b4\">\n",
              "    <div class=\"colab-df-container\">\n",
              "      <div>\n",
              "<style scoped>\n",
              "    .dataframe tbody tr th:only-of-type {\n",
              "        vertical-align: middle;\n",
              "    }\n",
              "\n",
              "    .dataframe tbody tr th {\n",
              "        vertical-align: top;\n",
              "    }\n",
              "\n",
              "    .dataframe thead th {\n",
              "        text-align: right;\n",
              "    }\n",
              "</style>\n",
              "<table border=\"1\" class=\"dataframe\">\n",
              "  <thead>\n",
              "    <tr style=\"text-align: right;\">\n",
              "      <th></th>\n",
              "      <th>key_val</th>\n",
              "      <th>msure_val</th>\n",
              "      <th>end_dt_tm</th>\n",
              "    </tr>\n",
              "  </thead>\n",
              "  <tbody>\n",
              "    <tr>\n",
              "      <th>0</th>\n",
              "      <td>LOT1_21</td>\n",
              "      <td>1281.14148</td>\n",
              "      <td>2021-10-11 21:00:17</td>\n",
              "    </tr>\n",
              "    <tr>\n",
              "      <th>1</th>\n",
              "      <td>LOT2_04</td>\n",
              "      <td>1271.26772</td>\n",
              "      <td>2021-10-12 01:23:50</td>\n",
              "    </tr>\n",
              "    <tr>\n",
              "      <th>2</th>\n",
              "      <td>LOT3_18</td>\n",
              "      <td>1252.67080</td>\n",
              "      <td>2021-10-16 10:35:24</td>\n",
              "    </tr>\n",
              "  </tbody>\n",
              "</table>\n",
              "</div>\n",
              "      <button class=\"colab-df-convert\" onclick=\"convertToInteractive('df-51968b98-e544-45d1-9324-1330f612c6b4')\"\n",
              "              title=\"Convert this dataframe to an interactive table.\"\n",
              "              style=\"display:none;\">\n",
              "        \n",
              "  <svg xmlns=\"http://www.w3.org/2000/svg\" height=\"24px\"viewBox=\"0 0 24 24\"\n",
              "       width=\"24px\">\n",
              "    <path d=\"M0 0h24v24H0V0z\" fill=\"none\"/>\n",
              "    <path d=\"M18.56 5.44l.94 2.06.94-2.06 2.06-.94-2.06-.94-.94-2.06-.94 2.06-2.06.94zm-11 1L8.5 8.5l.94-2.06 2.06-.94-2.06-.94L8.5 2.5l-.94 2.06-2.06.94zm10 10l.94 2.06.94-2.06 2.06-.94-2.06-.94-.94-2.06-.94 2.06-2.06.94z\"/><path d=\"M17.41 7.96l-1.37-1.37c-.4-.4-.92-.59-1.43-.59-.52 0-1.04.2-1.43.59L10.3 9.45l-7.72 7.72c-.78.78-.78 2.05 0 2.83L4 21.41c.39.39.9.59 1.41.59.51 0 1.02-.2 1.41-.59l7.78-7.78 2.81-2.81c.8-.78.8-2.07 0-2.86zM5.41 20L4 18.59l7.72-7.72 1.47 1.35L5.41 20z\"/>\n",
              "  </svg>\n",
              "      </button>\n",
              "      \n",
              "  <style>\n",
              "    .colab-df-container {\n",
              "      display:flex;\n",
              "      flex-wrap:wrap;\n",
              "      gap: 12px;\n",
              "    }\n",
              "\n",
              "    .colab-df-convert {\n",
              "      background-color: #E8F0FE;\n",
              "      border: none;\n",
              "      border-radius: 50%;\n",
              "      cursor: pointer;\n",
              "      display: none;\n",
              "      fill: #1967D2;\n",
              "      height: 32px;\n",
              "      padding: 0 0 0 0;\n",
              "      width: 32px;\n",
              "    }\n",
              "\n",
              "    .colab-df-convert:hover {\n",
              "      background-color: #E2EBFA;\n",
              "      box-shadow: 0px 1px 2px rgba(60, 64, 67, 0.3), 0px 1px 3px 1px rgba(60, 64, 67, 0.15);\n",
              "      fill: #174EA6;\n",
              "    }\n",
              "\n",
              "    [theme=dark] .colab-df-convert {\n",
              "      background-color: #3B4455;\n",
              "      fill: #D2E3FC;\n",
              "    }\n",
              "\n",
              "    [theme=dark] .colab-df-convert:hover {\n",
              "      background-color: #434B5C;\n",
              "      box-shadow: 0px 1px 3px 1px rgba(0, 0, 0, 0.15);\n",
              "      filter: drop-shadow(0px 1px 2px rgba(0, 0, 0, 0.3));\n",
              "      fill: #FFFFFF;\n",
              "    }\n",
              "  </style>\n",
              "\n",
              "      <script>\n",
              "        const buttonEl =\n",
              "          document.querySelector('#df-51968b98-e544-45d1-9324-1330f612c6b4 button.colab-df-convert');\n",
              "        buttonEl.style.display =\n",
              "          google.colab.kernel.accessAllowed ? 'block' : 'none';\n",
              "\n",
              "        async function convertToInteractive(key) {\n",
              "          const element = document.querySelector('#df-51968b98-e544-45d1-9324-1330f612c6b4');\n",
              "          const dataTable =\n",
              "            await google.colab.kernel.invokeFunction('convertToInteractive',\n",
              "                                                     [key], {});\n",
              "          if (!dataTable) return;\n",
              "\n",
              "          const docLinkHtml = 'Like what you see? Visit the ' +\n",
              "            '<a target=\"_blank\" href=https://colab.research.google.com/notebooks/data_table.ipynb>data table notebook</a>'\n",
              "            + ' to learn more about interactive tables.';\n",
              "          element.innerHTML = '';\n",
              "          dataTable['output_type'] = 'display_data';\n",
              "          await google.colab.output.renderOutput(dataTable, element);\n",
              "          const docLink = document.createElement('div');\n",
              "          docLink.innerHTML = docLinkHtml;\n",
              "          element.appendChild(docLink);\n",
              "        }\n",
              "      </script>\n",
              "    </div>\n",
              "  </div>\n",
              "  "
            ]
          },
          "metadata": {},
          "execution_count": 5
        }
      ],
      "source": [
        "# 타깃 변수 데이터프레임의 상위 3개 행을 출력합니다.\n",
        "train_quality.head(3)"
      ],
      "id": "2d272248"
    },
    {
      "cell_type": "markdown",
      "metadata": {
        "id": "1613901b"
      },
      "source": [
        "<a name='02-01'></a>\n",
        "### 2.1 데이터 통합 \n",
        "\n",
        "학습 데이터의 특징과 타깃 변수가 다른 파일에 존재하므로, 이를 통합하기 위한 작업을 수행합니다. \n",
        "\n",
        "key_val 을 기준으로 train_sensor (X인자)와 train_quality (y인자)의 데이터프레임을 통합합니다.\n",
        "\n",
        "key_val 별 665개의 센서값 컬럼을 생성하기 위해 pandas의 pivot_table 함수를 사용합니다. \n",
        "\n",
        "pivot_table 의 주요 인자는 **index, agg_func, columns** 입니다.\n",
        "\n",
        "1. **index** : key_val 을 기준으로 그룹핑을 하고자 하므로, index 에 key_val 과 그의 상위 그룹인 module_name 을 입력합니다.  \n",
        "2. **agg_func** : values 에 mean_val 을 입력하고, 해당 값에 대한 산식을 sum으로 설정합니다. \n",
        "3. **columns** : step_param 을 columns 인자로 주어, key_val 별 665개의 스텝 단위의 센서 특징을 생성합니다. "
      ],
      "id": "1613901b"
    },
    {
      "cell_type": "code",
      "execution_count": 6,
      "metadata": {
        "id": "d7bc0916"
      },
      "outputs": [],
      "source": [
        "def make_dataset(X, y=None):\n",
        "    \n",
        "    # -----------------------------------\n",
        "    # train_sensor (X 인자)\n",
        "    # -----------------------------------\n",
        "    df_X = X.copy()\n",
        "    df_X['step_id'] = df_X['step_id'].apply(lambda x: str(x).zfill(2))\n",
        "    # step_id 와 param_alias 를 결합한 임시 컬럼 step_param 을 생성합니다. ex. 17_EPD_para4\n",
        "    df_X['step_param'] = df_X[['step_id', 'param_alias']].apply(lambda x: '_'.join(x), axis=1)\n",
        "    df_X_tmp = df_X.pivot_table(index = ['module_name','key_val'], columns = 'step_param', values='mean_val', aggfunc='sum')\n",
        "    # 데이터 통합을 위해 인덱스를 key_val 로 재설정합니다. \n",
        "    df_X_tmp = df_X_tmp.reset_index(level=[0, 1])\n",
        "    df_X_tmp.set_index('key_val', inplace=True)\n",
        "\n",
        "    # -----------------------------------\n",
        "    # 시간 데이터 \n",
        "    # -----------------------------------\n",
        "    df_X['end_time_tmp'] = df_X.apply(lambda x: x['step_id'] + '_end_time', axis=1)\n",
        "    df_X['end_time'] = pd.to_datetime(df_X['end_time'])\n",
        "    # end_time 은 센서 데이터가 서버에 도달한 시간으로 스텝 내 오차가 발생할 수 있습니다. 동일 스텝 구간내 공정 완료 시간이 다른 경우, max 함수를 사용하여 가장 최근에 \n",
        "    # 수집된 시간을 가져옵니다. \n",
        "    df_time_tmp = df_X.pivot_table(index = ['key_val'], columns = 'end_time_tmp', values='end_time', aggfunc=lambda x : max(x.unique()))\n",
        "    df_time_tmp = df_time_tmp.reset_index()\n",
        "    df_time_tmp.set_index('key_val', inplace=True)\n",
        "\n",
        "    # -----------------------------------\n",
        "    # train_quality (y 인자)\n",
        "    # -----------------------------------\n",
        "\n",
        "    if y is None : # 평가용 데이터 \n",
        "      \n",
        "      col_target = []\n",
        "      col_idx = ['module_name', 'key_val']\n",
        "      df_complete = pd.concat([df_X_tmp, df_time_tmp], axis=1).reset_index()\n",
        "    \n",
        "    else : # 학습용 데이터 \n",
        "      df_y = y.copy()\n",
        "      df_y.set_index('key_val', inplace=True)\n",
        "      \n",
        "      col_target = ['y']\n",
        "      col_idx = ['module_name', 'key_val', 'end_dt_tm']\n",
        "      \n",
        "      # 센서 데이터, 시간데이터, 품질지표에 대하여 인덱스(key_val)기준으로 데이터프레임을 통합합니다.\n",
        "      df_complete = pd.concat([df_X_tmp, df_time_tmp, df_y], axis=1).reset_index()\n",
        "\n",
        "      # 컬럼 이름을 변경합니다.  \n",
        "      df_complete.rename(columns={'msure_val':'y'}, inplace=True)\n",
        "\n",
        "\n",
        "    # 컬럼 순서를 정렬합니다. \n",
        "    col_feats = df_X['step_param'].unique().tolist()\n",
        "    col_feats.sort()\n",
        "    col_time = [s for s in df_complete.columns.tolist() if \"_end_time\" in s]\n",
        "    col_all = col_idx + col_target + col_feats + col_time\n",
        "    df_complete = df_complete[col_all]\n",
        "    \n",
        "    # 컬럼을 소문자로 변경합니다. \n",
        "    df_complete.columns = df_complete.columns.str.lower()\n",
        "\n",
        "    return df_complete\n"
      ],
      "id": "d7bc0916"
    },
    {
      "cell_type": "code",
      "execution_count": 7,
      "metadata": {
        "id": "73fd4a6b"
      },
      "outputs": [],
      "source": [
        "# 학습용 데이터 \n",
        "train = make_dataset(train_sensor, train_quality)\n",
        "# 평가용 데이터 \n",
        "predict = make_dataset(predict_sensor)"
      ],
      "id": "73fd4a6b"
    },
    {
      "cell_type": "code",
      "source": [
        "train.head(3)"
      ],
      "metadata": {
        "colab": {
          "base_uri": "https://localhost:8080/",
          "height": 341
        },
        "id": "SIauyDrLJ5KX",
        "outputId": "eebf1392-006e-477e-b3a8-95a73922f077"
      },
      "id": "SIauyDrLJ5KX",
      "execution_count": 8,
      "outputs": [
        {
          "output_type": "execute_result",
          "data": {
            "text/plain": [
              "  module_name    key_val            end_dt_tm           y  04_efem_para2  \\\n",
              "0    EQ10_PM1  LOT124_21  2021-10-18 18:12:50  1257.84920       1627.636   \n",
              "1    EQ10_PM1  LOT126_21  2021-10-04 23:34:27  1253.30152       1627.971   \n",
              "2    EQ10_PM1  LOT191_17  2021-10-22 11:59:52  1265.93544       1627.182   \n",
              "\n",
              "   04_efem_para25  04_efem_para78  04_epd_para4  04_epd_para40  04_epd_para63  \\\n",
              "0        1638.818        5.140073           0.0            0.0            0.0   \n",
              "1        1641.118        5.023404           0.0            0.0            0.0   \n",
              "2        1637.000        5.042702           0.0            0.0            0.0   \n",
              "\n",
              "   ...  20_time_para9  20_time_para90  20_tmp_para31         04_end_time  \\\n",
              "0  ...       458.3667        2786.450       3.432500 2021-10-18 11:00:06   \n",
              "1  ...       166.2667        2494.350       3.411500 2021-10-04 11:09:20   \n",
              "2  ...       515.9500        2844.033       3.436816 2021-10-21 08:25:57   \n",
              "\n",
              "          06_end_time         12_end_time         13_end_time  \\\n",
              "0 2021-10-18 11:02:32 2021-10-18 11:16:38 2021-10-18 11:16:54   \n",
              "1 2021-10-04 11:11:45 2021-10-04 11:25:52 2021-10-04 11:26:08   \n",
              "2 2021-10-21 08:28:23 2021-10-21 08:42:29 2021-10-21 08:42:45   \n",
              "\n",
              "          17_end_time         18_end_time         20_end_time  \n",
              "0 2021-10-18 11:24:51 2021-10-18 11:25:07 2021-10-18 11:31:58  \n",
              "1 2021-10-04 11:34:05 2021-10-04 11:34:21 2021-10-04 11:41:12  \n",
              "2 2021-10-21 08:50:41 2021-10-21 08:50:57 2021-10-21 08:57:48  \n",
              "\n",
              "[3 rows x 676 columns]"
            ],
            "text/html": [
              "\n",
              "  <div id=\"df-3b30c608-43d8-4163-8a3c-1f8eaf0cd874\">\n",
              "    <div class=\"colab-df-container\">\n",
              "      <div>\n",
              "<style scoped>\n",
              "    .dataframe tbody tr th:only-of-type {\n",
              "        vertical-align: middle;\n",
              "    }\n",
              "\n",
              "    .dataframe tbody tr th {\n",
              "        vertical-align: top;\n",
              "    }\n",
              "\n",
              "    .dataframe thead th {\n",
              "        text-align: right;\n",
              "    }\n",
              "</style>\n",
              "<table border=\"1\" class=\"dataframe\">\n",
              "  <thead>\n",
              "    <tr style=\"text-align: right;\">\n",
              "      <th></th>\n",
              "      <th>module_name</th>\n",
              "      <th>key_val</th>\n",
              "      <th>end_dt_tm</th>\n",
              "      <th>y</th>\n",
              "      <th>04_efem_para2</th>\n",
              "      <th>04_efem_para25</th>\n",
              "      <th>04_efem_para78</th>\n",
              "      <th>04_epd_para4</th>\n",
              "      <th>04_epd_para40</th>\n",
              "      <th>04_epd_para63</th>\n",
              "      <th>...</th>\n",
              "      <th>20_time_para9</th>\n",
              "      <th>20_time_para90</th>\n",
              "      <th>20_tmp_para31</th>\n",
              "      <th>04_end_time</th>\n",
              "      <th>06_end_time</th>\n",
              "      <th>12_end_time</th>\n",
              "      <th>13_end_time</th>\n",
              "      <th>17_end_time</th>\n",
              "      <th>18_end_time</th>\n",
              "      <th>20_end_time</th>\n",
              "    </tr>\n",
              "  </thead>\n",
              "  <tbody>\n",
              "    <tr>\n",
              "      <th>0</th>\n",
              "      <td>EQ10_PM1</td>\n",
              "      <td>LOT124_21</td>\n",
              "      <td>2021-10-18 18:12:50</td>\n",
              "      <td>1257.84920</td>\n",
              "      <td>1627.636</td>\n",
              "      <td>1638.818</td>\n",
              "      <td>5.140073</td>\n",
              "      <td>0.0</td>\n",
              "      <td>0.0</td>\n",
              "      <td>0.0</td>\n",
              "      <td>...</td>\n",
              "      <td>458.3667</td>\n",
              "      <td>2786.450</td>\n",
              "      <td>3.432500</td>\n",
              "      <td>2021-10-18 11:00:06</td>\n",
              "      <td>2021-10-18 11:02:32</td>\n",
              "      <td>2021-10-18 11:16:38</td>\n",
              "      <td>2021-10-18 11:16:54</td>\n",
              "      <td>2021-10-18 11:24:51</td>\n",
              "      <td>2021-10-18 11:25:07</td>\n",
              "      <td>2021-10-18 11:31:58</td>\n",
              "    </tr>\n",
              "    <tr>\n",
              "      <th>1</th>\n",
              "      <td>EQ10_PM1</td>\n",
              "      <td>LOT126_21</td>\n",
              "      <td>2021-10-04 23:34:27</td>\n",
              "      <td>1253.30152</td>\n",
              "      <td>1627.971</td>\n",
              "      <td>1641.118</td>\n",
              "      <td>5.023404</td>\n",
              "      <td>0.0</td>\n",
              "      <td>0.0</td>\n",
              "      <td>0.0</td>\n",
              "      <td>...</td>\n",
              "      <td>166.2667</td>\n",
              "      <td>2494.350</td>\n",
              "      <td>3.411500</td>\n",
              "      <td>2021-10-04 11:09:20</td>\n",
              "      <td>2021-10-04 11:11:45</td>\n",
              "      <td>2021-10-04 11:25:52</td>\n",
              "      <td>2021-10-04 11:26:08</td>\n",
              "      <td>2021-10-04 11:34:05</td>\n",
              "      <td>2021-10-04 11:34:21</td>\n",
              "      <td>2021-10-04 11:41:12</td>\n",
              "    </tr>\n",
              "    <tr>\n",
              "      <th>2</th>\n",
              "      <td>EQ10_PM1</td>\n",
              "      <td>LOT191_17</td>\n",
              "      <td>2021-10-22 11:59:52</td>\n",
              "      <td>1265.93544</td>\n",
              "      <td>1627.182</td>\n",
              "      <td>1637.000</td>\n",
              "      <td>5.042702</td>\n",
              "      <td>0.0</td>\n",
              "      <td>0.0</td>\n",
              "      <td>0.0</td>\n",
              "      <td>...</td>\n",
              "      <td>515.9500</td>\n",
              "      <td>2844.033</td>\n",
              "      <td>3.436816</td>\n",
              "      <td>2021-10-21 08:25:57</td>\n",
              "      <td>2021-10-21 08:28:23</td>\n",
              "      <td>2021-10-21 08:42:29</td>\n",
              "      <td>2021-10-21 08:42:45</td>\n",
              "      <td>2021-10-21 08:50:41</td>\n",
              "      <td>2021-10-21 08:50:57</td>\n",
              "      <td>2021-10-21 08:57:48</td>\n",
              "    </tr>\n",
              "  </tbody>\n",
              "</table>\n",
              "<p>3 rows × 676 columns</p>\n",
              "</div>\n",
              "      <button class=\"colab-df-convert\" onclick=\"convertToInteractive('df-3b30c608-43d8-4163-8a3c-1f8eaf0cd874')\"\n",
              "              title=\"Convert this dataframe to an interactive table.\"\n",
              "              style=\"display:none;\">\n",
              "        \n",
              "  <svg xmlns=\"http://www.w3.org/2000/svg\" height=\"24px\"viewBox=\"0 0 24 24\"\n",
              "       width=\"24px\">\n",
              "    <path d=\"M0 0h24v24H0V0z\" fill=\"none\"/>\n",
              "    <path d=\"M18.56 5.44l.94 2.06.94-2.06 2.06-.94-2.06-.94-.94-2.06-.94 2.06-2.06.94zm-11 1L8.5 8.5l.94-2.06 2.06-.94-2.06-.94L8.5 2.5l-.94 2.06-2.06.94zm10 10l.94 2.06.94-2.06 2.06-.94-2.06-.94-.94-2.06-.94 2.06-2.06.94z\"/><path d=\"M17.41 7.96l-1.37-1.37c-.4-.4-.92-.59-1.43-.59-.52 0-1.04.2-1.43.59L10.3 9.45l-7.72 7.72c-.78.78-.78 2.05 0 2.83L4 21.41c.39.39.9.59 1.41.59.51 0 1.02-.2 1.41-.59l7.78-7.78 2.81-2.81c.8-.78.8-2.07 0-2.86zM5.41 20L4 18.59l7.72-7.72 1.47 1.35L5.41 20z\"/>\n",
              "  </svg>\n",
              "      </button>\n",
              "      \n",
              "  <style>\n",
              "    .colab-df-container {\n",
              "      display:flex;\n",
              "      flex-wrap:wrap;\n",
              "      gap: 12px;\n",
              "    }\n",
              "\n",
              "    .colab-df-convert {\n",
              "      background-color: #E8F0FE;\n",
              "      border: none;\n",
              "      border-radius: 50%;\n",
              "      cursor: pointer;\n",
              "      display: none;\n",
              "      fill: #1967D2;\n",
              "      height: 32px;\n",
              "      padding: 0 0 0 0;\n",
              "      width: 32px;\n",
              "    }\n",
              "\n",
              "    .colab-df-convert:hover {\n",
              "      background-color: #E2EBFA;\n",
              "      box-shadow: 0px 1px 2px rgba(60, 64, 67, 0.3), 0px 1px 3px 1px rgba(60, 64, 67, 0.15);\n",
              "      fill: #174EA6;\n",
              "    }\n",
              "\n",
              "    [theme=dark] .colab-df-convert {\n",
              "      background-color: #3B4455;\n",
              "      fill: #D2E3FC;\n",
              "    }\n",
              "\n",
              "    [theme=dark] .colab-df-convert:hover {\n",
              "      background-color: #434B5C;\n",
              "      box-shadow: 0px 1px 3px 1px rgba(0, 0, 0, 0.15);\n",
              "      filter: drop-shadow(0px 1px 2px rgba(0, 0, 0, 0.3));\n",
              "      fill: #FFFFFF;\n",
              "    }\n",
              "  </style>\n",
              "\n",
              "      <script>\n",
              "        const buttonEl =\n",
              "          document.querySelector('#df-3b30c608-43d8-4163-8a3c-1f8eaf0cd874 button.colab-df-convert');\n",
              "        buttonEl.style.display =\n",
              "          google.colab.kernel.accessAllowed ? 'block' : 'none';\n",
              "\n",
              "        async function convertToInteractive(key) {\n",
              "          const element = document.querySelector('#df-3b30c608-43d8-4163-8a3c-1f8eaf0cd874');\n",
              "          const dataTable =\n",
              "            await google.colab.kernel.invokeFunction('convertToInteractive',\n",
              "                                                     [key], {});\n",
              "          if (!dataTable) return;\n",
              "\n",
              "          const docLinkHtml = 'Like what you see? Visit the ' +\n",
              "            '<a target=\"_blank\" href=https://colab.research.google.com/notebooks/data_table.ipynb>data table notebook</a>'\n",
              "            + ' to learn more about interactive tables.';\n",
              "          element.innerHTML = '';\n",
              "          dataTable['output_type'] = 'display_data';\n",
              "          await google.colab.output.renderOutput(dataTable, element);\n",
              "          const docLink = document.createElement('div');\n",
              "          docLink.innerHTML = docLinkHtml;\n",
              "          element.appendChild(docLink);\n",
              "        }\n",
              "      </script>\n",
              "    </div>\n",
              "  </div>\n",
              "  "
            ]
          },
          "metadata": {},
          "execution_count": 8
        }
      ]
    },
    {
      "cell_type": "code",
      "source": [
        "predict.head(3)"
      ],
      "metadata": {
        "colab": {
          "base_uri": "https://localhost:8080/",
          "height": 289
        },
        "id": "87VgfyZSJ726",
        "outputId": "0066e94f-fe98-4f0b-ba48-d81e063336a7"
      },
      "id": "87VgfyZSJ726",
      "execution_count": 9,
      "outputs": [
        {
          "output_type": "execute_result",
          "data": {
            "text/plain": [
              "  module_name    key_val  04_efem_para2  04_efem_para25  04_efem_para78  \\\n",
              "0    EQ10_PM1  LOT122_18      1630.2900       1637.1610        5.254062   \n",
              "1    EQ10_PM1  LOT313_18      1627.2812       1637.3125        5.147371   \n",
              "2    EQ10_PM1  LOT380_17      1626.8125       1635.9062        5.141955   \n",
              "\n",
              "   04_epd_para4  04_epd_para40  04_epd_para63  04_epd_para80  04_esc_para84  \\\n",
              "0           0.0            0.0            0.0            0.0         2999.0   \n",
              "1           0.0            0.0            0.0            0.0         2999.0   \n",
              "2           0.0            0.0            0.0            0.0         2999.0   \n",
              "\n",
              "   ...  20_time_para9  20_time_para90  20_tmp_para31         04_end_time  \\\n",
              "0  ...       63.63334        63.63334       3.395025 2021-10-29 11:49:11   \n",
              "1  ...       74.03333        74.03333       3.398507 2021-10-29 23:05:49   \n",
              "2  ...       38.20000        38.20000       3.393516 2021-10-28 08:15:36   \n",
              "\n",
              "          06_end_time         12_end_time         13_end_time  \\\n",
              "0 2021-10-29 11:51:12 2021-10-29 12:04:28 2021-10-29 12:04:44   \n",
              "1 2021-10-29 23:07:51 2021-10-29 23:21:08 2021-10-29 23:21:24   \n",
              "2 2021-10-28 08:17:39 2021-10-28 08:30:54 2021-10-28 08:31:10   \n",
              "\n",
              "          17_end_time         18_end_time         20_end_time  \n",
              "0 2021-10-29 12:12:41 2021-10-29 12:12:57 2021-10-29 12:19:48  \n",
              "1 2021-10-29 23:29:20 2021-10-29 23:29:36 2021-10-29 23:36:27  \n",
              "2 2021-10-28 08:39:07 2021-10-28 08:39:23 2021-10-28 08:46:13  \n",
              "\n",
              "[3 rows x 674 columns]"
            ],
            "text/html": [
              "\n",
              "  <div id=\"df-fd253fd5-c82f-4e27-84d4-cf1463fd3f96\">\n",
              "    <div class=\"colab-df-container\">\n",
              "      <div>\n",
              "<style scoped>\n",
              "    .dataframe tbody tr th:only-of-type {\n",
              "        vertical-align: middle;\n",
              "    }\n",
              "\n",
              "    .dataframe tbody tr th {\n",
              "        vertical-align: top;\n",
              "    }\n",
              "\n",
              "    .dataframe thead th {\n",
              "        text-align: right;\n",
              "    }\n",
              "</style>\n",
              "<table border=\"1\" class=\"dataframe\">\n",
              "  <thead>\n",
              "    <tr style=\"text-align: right;\">\n",
              "      <th></th>\n",
              "      <th>module_name</th>\n",
              "      <th>key_val</th>\n",
              "      <th>04_efem_para2</th>\n",
              "      <th>04_efem_para25</th>\n",
              "      <th>04_efem_para78</th>\n",
              "      <th>04_epd_para4</th>\n",
              "      <th>04_epd_para40</th>\n",
              "      <th>04_epd_para63</th>\n",
              "      <th>04_epd_para80</th>\n",
              "      <th>04_esc_para84</th>\n",
              "      <th>...</th>\n",
              "      <th>20_time_para9</th>\n",
              "      <th>20_time_para90</th>\n",
              "      <th>20_tmp_para31</th>\n",
              "      <th>04_end_time</th>\n",
              "      <th>06_end_time</th>\n",
              "      <th>12_end_time</th>\n",
              "      <th>13_end_time</th>\n",
              "      <th>17_end_time</th>\n",
              "      <th>18_end_time</th>\n",
              "      <th>20_end_time</th>\n",
              "    </tr>\n",
              "  </thead>\n",
              "  <tbody>\n",
              "    <tr>\n",
              "      <th>0</th>\n",
              "      <td>EQ10_PM1</td>\n",
              "      <td>LOT122_18</td>\n",
              "      <td>1630.2900</td>\n",
              "      <td>1637.1610</td>\n",
              "      <td>5.254062</td>\n",
              "      <td>0.0</td>\n",
              "      <td>0.0</td>\n",
              "      <td>0.0</td>\n",
              "      <td>0.0</td>\n",
              "      <td>2999.0</td>\n",
              "      <td>...</td>\n",
              "      <td>63.63334</td>\n",
              "      <td>63.63334</td>\n",
              "      <td>3.395025</td>\n",
              "      <td>2021-10-29 11:49:11</td>\n",
              "      <td>2021-10-29 11:51:12</td>\n",
              "      <td>2021-10-29 12:04:28</td>\n",
              "      <td>2021-10-29 12:04:44</td>\n",
              "      <td>2021-10-29 12:12:41</td>\n",
              "      <td>2021-10-29 12:12:57</td>\n",
              "      <td>2021-10-29 12:19:48</td>\n",
              "    </tr>\n",
              "    <tr>\n",
              "      <th>1</th>\n",
              "      <td>EQ10_PM1</td>\n",
              "      <td>LOT313_18</td>\n",
              "      <td>1627.2812</td>\n",
              "      <td>1637.3125</td>\n",
              "      <td>5.147371</td>\n",
              "      <td>0.0</td>\n",
              "      <td>0.0</td>\n",
              "      <td>0.0</td>\n",
              "      <td>0.0</td>\n",
              "      <td>2999.0</td>\n",
              "      <td>...</td>\n",
              "      <td>74.03333</td>\n",
              "      <td>74.03333</td>\n",
              "      <td>3.398507</td>\n",
              "      <td>2021-10-29 23:05:49</td>\n",
              "      <td>2021-10-29 23:07:51</td>\n",
              "      <td>2021-10-29 23:21:08</td>\n",
              "      <td>2021-10-29 23:21:24</td>\n",
              "      <td>2021-10-29 23:29:20</td>\n",
              "      <td>2021-10-29 23:29:36</td>\n",
              "      <td>2021-10-29 23:36:27</td>\n",
              "    </tr>\n",
              "    <tr>\n",
              "      <th>2</th>\n",
              "      <td>EQ10_PM1</td>\n",
              "      <td>LOT380_17</td>\n",
              "      <td>1626.8125</td>\n",
              "      <td>1635.9062</td>\n",
              "      <td>5.141955</td>\n",
              "      <td>0.0</td>\n",
              "      <td>0.0</td>\n",
              "      <td>0.0</td>\n",
              "      <td>0.0</td>\n",
              "      <td>2999.0</td>\n",
              "      <td>...</td>\n",
              "      <td>38.20000</td>\n",
              "      <td>38.20000</td>\n",
              "      <td>3.393516</td>\n",
              "      <td>2021-10-28 08:15:36</td>\n",
              "      <td>2021-10-28 08:17:39</td>\n",
              "      <td>2021-10-28 08:30:54</td>\n",
              "      <td>2021-10-28 08:31:10</td>\n",
              "      <td>2021-10-28 08:39:07</td>\n",
              "      <td>2021-10-28 08:39:23</td>\n",
              "      <td>2021-10-28 08:46:13</td>\n",
              "    </tr>\n",
              "  </tbody>\n",
              "</table>\n",
              "<p>3 rows × 674 columns</p>\n",
              "</div>\n",
              "      <button class=\"colab-df-convert\" onclick=\"convertToInteractive('df-fd253fd5-c82f-4e27-84d4-cf1463fd3f96')\"\n",
              "              title=\"Convert this dataframe to an interactive table.\"\n",
              "              style=\"display:none;\">\n",
              "        \n",
              "  <svg xmlns=\"http://www.w3.org/2000/svg\" height=\"24px\"viewBox=\"0 0 24 24\"\n",
              "       width=\"24px\">\n",
              "    <path d=\"M0 0h24v24H0V0z\" fill=\"none\"/>\n",
              "    <path d=\"M18.56 5.44l.94 2.06.94-2.06 2.06-.94-2.06-.94-.94-2.06-.94 2.06-2.06.94zm-11 1L8.5 8.5l.94-2.06 2.06-.94-2.06-.94L8.5 2.5l-.94 2.06-2.06.94zm10 10l.94 2.06.94-2.06 2.06-.94-2.06-.94-.94-2.06-.94 2.06-2.06.94z\"/><path d=\"M17.41 7.96l-1.37-1.37c-.4-.4-.92-.59-1.43-.59-.52 0-1.04.2-1.43.59L10.3 9.45l-7.72 7.72c-.78.78-.78 2.05 0 2.83L4 21.41c.39.39.9.59 1.41.59.51 0 1.02-.2 1.41-.59l7.78-7.78 2.81-2.81c.8-.78.8-2.07 0-2.86zM5.41 20L4 18.59l7.72-7.72 1.47 1.35L5.41 20z\"/>\n",
              "  </svg>\n",
              "      </button>\n",
              "      \n",
              "  <style>\n",
              "    .colab-df-container {\n",
              "      display:flex;\n",
              "      flex-wrap:wrap;\n",
              "      gap: 12px;\n",
              "    }\n",
              "\n",
              "    .colab-df-convert {\n",
              "      background-color: #E8F0FE;\n",
              "      border: none;\n",
              "      border-radius: 50%;\n",
              "      cursor: pointer;\n",
              "      display: none;\n",
              "      fill: #1967D2;\n",
              "      height: 32px;\n",
              "      padding: 0 0 0 0;\n",
              "      width: 32px;\n",
              "    }\n",
              "\n",
              "    .colab-df-convert:hover {\n",
              "      background-color: #E2EBFA;\n",
              "      box-shadow: 0px 1px 2px rgba(60, 64, 67, 0.3), 0px 1px 3px 1px rgba(60, 64, 67, 0.15);\n",
              "      fill: #174EA6;\n",
              "    }\n",
              "\n",
              "    [theme=dark] .colab-df-convert {\n",
              "      background-color: #3B4455;\n",
              "      fill: #D2E3FC;\n",
              "    }\n",
              "\n",
              "    [theme=dark] .colab-df-convert:hover {\n",
              "      background-color: #434B5C;\n",
              "      box-shadow: 0px 1px 3px 1px rgba(0, 0, 0, 0.15);\n",
              "      filter: drop-shadow(0px 1px 2px rgba(0, 0, 0, 0.3));\n",
              "      fill: #FFFFFF;\n",
              "    }\n",
              "  </style>\n",
              "\n",
              "      <script>\n",
              "        const buttonEl =\n",
              "          document.querySelector('#df-fd253fd5-c82f-4e27-84d4-cf1463fd3f96 button.colab-df-convert');\n",
              "        buttonEl.style.display =\n",
              "          google.colab.kernel.accessAllowed ? 'block' : 'none';\n",
              "\n",
              "        async function convertToInteractive(key) {\n",
              "          const element = document.querySelector('#df-fd253fd5-c82f-4e27-84d4-cf1463fd3f96');\n",
              "          const dataTable =\n",
              "            await google.colab.kernel.invokeFunction('convertToInteractive',\n",
              "                                                     [key], {});\n",
              "          if (!dataTable) return;\n",
              "\n",
              "          const docLinkHtml = 'Like what you see? Visit the ' +\n",
              "            '<a target=\"_blank\" href=https://colab.research.google.com/notebooks/data_table.ipynb>data table notebook</a>'\n",
              "            + ' to learn more about interactive tables.';\n",
              "          element.innerHTML = '';\n",
              "          dataTable['output_type'] = 'display_data';\n",
              "          await google.colab.output.renderOutput(dataTable, element);\n",
              "          const docLink = document.createElement('div');\n",
              "          docLink.innerHTML = docLinkHtml;\n",
              "          element.appendChild(docLink);\n",
              "        }\n",
              "      </script>\n",
              "    </div>\n",
              "  </div>\n",
              "  "
            ]
          },
          "metadata": {},
          "execution_count": 9
        }
      ]
    },
    {
      "cell_type": "markdown",
      "metadata": {
        "id": "ab164e3b"
      },
      "source": [
        "<a name='02-02'></a>\n",
        "### 2.2 데이터 설명"
      ],
      "id": "ab164e3b"
    },
    {
      "cell_type": "code",
      "execution_count": 10,
      "metadata": {
        "id": "3f0e9e3e"
      },
      "outputs": [],
      "source": [
        "def rstr(df, pred=None): \n",
        "    \n",
        "    obs = df.shape[0]\n",
        "    types = df.dtypes # 자료형 \n",
        "    counts = df.apply(lambda x: x.count()) # 값의 갯수 \n",
        "    uniques = df.apply(lambda x: x.unique()) # 고유값 \n",
        "    distincts = df.apply(lambda x: x.unique().shape[0]) # 고유값의 갯수 \n",
        "    nulls = df.apply(lambda x: x.isnull().sum()) # 결측치의 갯수  \n",
        "    nulls_ratio = (df.isnull().sum()/ obs) * 100 # 결측 비율 \n",
        "    skewness = df.skew() # 왜도  \n",
        "    kurtosis = df.kurt() # 첨도  \n",
        "    \n",
        "    print('Data shape:', df.shape)\n",
        "    \n",
        "    if pred is None:\n",
        "        cols = ['types', 'counts', 'distincts', 'nulls', 'nulls_ratio', 'uniques', 'skewness', 'kurtosis']\n",
        "        str = pd.concat([types, counts, distincts, nulls, nulls_ratio, uniques, skewness, kurtosis], axis = 1)\n",
        "\n",
        "    else:\n",
        "        corr = df.corr()[pred]\n",
        "        str = pd.concat([types, counts, distincts, nulls, nulls_ratio, uniques, skewness, kurtosis, corr], axis = 1, sort=False)\n",
        "        corr_col = 'corr '  + pred\n",
        "        cols = ['types', 'counts', 'distincts', 'nulls', 'nulls_ratio', 'uniques', 'skewness', 'kurtosis', corr_col ]\n",
        "\n",
        "    str.columns = cols\n",
        "    dtypes = str.types.value_counts()\n",
        "    print('___________________________\\nData types:\\n',str.types.value_counts())\n",
        "    print('___________________________')\n",
        "    \n",
        "    return str"
      ],
      "id": "3f0e9e3e"
    },
    {
      "cell_type": "markdown",
      "metadata": {
        "id": "31fdd142"
      },
      "source": [
        "학습 데이터의 수는 611건이며, 665개의 센서 데이터와 7개의 시간 데이터의 특성을 가지고 있습니다. "
      ],
      "id": "31fdd142"
    },
    {
      "cell_type": "code",
      "execution_count": 11,
      "metadata": {
        "colab": {
          "base_uri": "https://localhost:8080/",
          "height": 571
        },
        "id": "8ea6bcd2",
        "outputId": "1ff6ff18-4bd3-4ca2-89e1-6dc0c692c606"
      },
      "outputs": [
        {
          "output_type": "stream",
          "name": "stdout",
          "text": [
            "Data shape: (611, 676)\n",
            "___________________________\n",
            "Data types:\n",
            " float64           666\n",
            "datetime64[ns]      7\n",
            "object              3\n",
            "Name: types, dtype: int64\n",
            "___________________________\n"
          ]
        },
        {
          "output_type": "display_data",
          "data": {
            "text/plain": [
              "                         types  counts  distincts  nulls  nulls_ratio  \\\n",
              "y                      float64     611        591      0          0.0   \n",
              "20_temp_para24         float64     611        575      0          0.0   \n",
              "13_temp_para24         float64     611        189      0          0.0   \n",
              "12_temp_para24         float64     611        425      0          0.0   \n",
              "17_temp_para24         float64     611        419      0          0.0   \n",
              "...                        ...     ...        ...    ...          ...   \n",
              "12_end_time     datetime64[ns]     611        611      0          0.0   \n",
              "13_end_time     datetime64[ns]     611        611      0          0.0   \n",
              "17_end_time     datetime64[ns]     611        611      0          0.0   \n",
              "18_end_time     datetime64[ns]     611        611      0          0.0   \n",
              "20_end_time     datetime64[ns]     611        611      0          0.0   \n",
              "\n",
              "                                                          uniques  skewness  \\\n",
              "y               [1257.8492, 1253.30152, 1265.93544, 1248.5508,... -0.059197   \n",
              "20_temp_para24  [50.28713, 51.87376, 49.72592, 51.89357, 49.61... -0.438729   \n",
              "13_temp_para24  [69.5625, 72.6875, 68.3125, 71.125, 66.125, 72... -0.309862   \n",
              "12_temp_para24  [68.45, 70.56667, 67.43333, 70.66666, 66.55932... -0.340203   \n",
              "17_temp_para24  [69.63333, 72.21667, 69.96667, 71.73333, 69.35... -0.439029   \n",
              "...                                                           ...       ...   \n",
              "12_end_time     [2021-10-18T11:16:38.000000000, 2021-10-04T11:...       NaN   \n",
              "13_end_time     [2021-10-18T11:16:54.000000000, 2021-10-04T11:...       NaN   \n",
              "17_end_time     [2021-10-18T11:24:51.000000000, 2021-10-04T11:...       NaN   \n",
              "18_end_time     [2021-10-18T11:25:07.000000000, 2021-10-04T11:...       NaN   \n",
              "20_end_time     [2021-10-18T11:31:58.000000000, 2021-10-04T11:...       NaN   \n",
              "\n",
              "                kurtosis    corr y  \n",
              "y               0.342927  1.000000  \n",
              "20_temp_para24  0.090808  0.196888  \n",
              "13_temp_para24 -0.110704  0.194742  \n",
              "12_temp_para24 -0.064225  0.189035  \n",
              "17_temp_para24  0.009083  0.183320  \n",
              "...                  ...       ...  \n",
              "12_end_time          NaN       NaN  \n",
              "13_end_time          NaN       NaN  \n",
              "17_end_time          NaN       NaN  \n",
              "18_end_time          NaN       NaN  \n",
              "20_end_time          NaN       NaN  \n",
              "\n",
              "[676 rows x 9 columns]"
            ],
            "text/html": [
              "\n",
              "  <div id=\"df-58047786-de3d-40cc-9c9b-02919b22ae69\">\n",
              "    <div class=\"colab-df-container\">\n",
              "      <div>\n",
              "<style scoped>\n",
              "    .dataframe tbody tr th:only-of-type {\n",
              "        vertical-align: middle;\n",
              "    }\n",
              "\n",
              "    .dataframe tbody tr th {\n",
              "        vertical-align: top;\n",
              "    }\n",
              "\n",
              "    .dataframe thead th {\n",
              "        text-align: right;\n",
              "    }\n",
              "</style>\n",
              "<table border=\"1\" class=\"dataframe\">\n",
              "  <thead>\n",
              "    <tr style=\"text-align: right;\">\n",
              "      <th></th>\n",
              "      <th>types</th>\n",
              "      <th>counts</th>\n",
              "      <th>distincts</th>\n",
              "      <th>nulls</th>\n",
              "      <th>nulls_ratio</th>\n",
              "      <th>uniques</th>\n",
              "      <th>skewness</th>\n",
              "      <th>kurtosis</th>\n",
              "      <th>corr y</th>\n",
              "    </tr>\n",
              "  </thead>\n",
              "  <tbody>\n",
              "    <tr>\n",
              "      <th>y</th>\n",
              "      <td>float64</td>\n",
              "      <td>611</td>\n",
              "      <td>591</td>\n",
              "      <td>0</td>\n",
              "      <td>0.0</td>\n",
              "      <td>[1257.8492, 1253.30152, 1265.93544, 1248.5508,...</td>\n",
              "      <td>-0.059197</td>\n",
              "      <td>0.342927</td>\n",
              "      <td>1.000000</td>\n",
              "    </tr>\n",
              "    <tr>\n",
              "      <th>20_temp_para24</th>\n",
              "      <td>float64</td>\n",
              "      <td>611</td>\n",
              "      <td>575</td>\n",
              "      <td>0</td>\n",
              "      <td>0.0</td>\n",
              "      <td>[50.28713, 51.87376, 49.72592, 51.89357, 49.61...</td>\n",
              "      <td>-0.438729</td>\n",
              "      <td>0.090808</td>\n",
              "      <td>0.196888</td>\n",
              "    </tr>\n",
              "    <tr>\n",
              "      <th>13_temp_para24</th>\n",
              "      <td>float64</td>\n",
              "      <td>611</td>\n",
              "      <td>189</td>\n",
              "      <td>0</td>\n",
              "      <td>0.0</td>\n",
              "      <td>[69.5625, 72.6875, 68.3125, 71.125, 66.125, 72...</td>\n",
              "      <td>-0.309862</td>\n",
              "      <td>-0.110704</td>\n",
              "      <td>0.194742</td>\n",
              "    </tr>\n",
              "    <tr>\n",
              "      <th>12_temp_para24</th>\n",
              "      <td>float64</td>\n",
              "      <td>611</td>\n",
              "      <td>425</td>\n",
              "      <td>0</td>\n",
              "      <td>0.0</td>\n",
              "      <td>[68.45, 70.56667, 67.43333, 70.66666, 66.55932...</td>\n",
              "      <td>-0.340203</td>\n",
              "      <td>-0.064225</td>\n",
              "      <td>0.189035</td>\n",
              "    </tr>\n",
              "    <tr>\n",
              "      <th>17_temp_para24</th>\n",
              "      <td>float64</td>\n",
              "      <td>611</td>\n",
              "      <td>419</td>\n",
              "      <td>0</td>\n",
              "      <td>0.0</td>\n",
              "      <td>[69.63333, 72.21667, 69.96667, 71.73333, 69.35...</td>\n",
              "      <td>-0.439029</td>\n",
              "      <td>0.009083</td>\n",
              "      <td>0.183320</td>\n",
              "    </tr>\n",
              "    <tr>\n",
              "      <th>...</th>\n",
              "      <td>...</td>\n",
              "      <td>...</td>\n",
              "      <td>...</td>\n",
              "      <td>...</td>\n",
              "      <td>...</td>\n",
              "      <td>...</td>\n",
              "      <td>...</td>\n",
              "      <td>...</td>\n",
              "      <td>...</td>\n",
              "    </tr>\n",
              "    <tr>\n",
              "      <th>12_end_time</th>\n",
              "      <td>datetime64[ns]</td>\n",
              "      <td>611</td>\n",
              "      <td>611</td>\n",
              "      <td>0</td>\n",
              "      <td>0.0</td>\n",
              "      <td>[2021-10-18T11:16:38.000000000, 2021-10-04T11:...</td>\n",
              "      <td>NaN</td>\n",
              "      <td>NaN</td>\n",
              "      <td>NaN</td>\n",
              "    </tr>\n",
              "    <tr>\n",
              "      <th>13_end_time</th>\n",
              "      <td>datetime64[ns]</td>\n",
              "      <td>611</td>\n",
              "      <td>611</td>\n",
              "      <td>0</td>\n",
              "      <td>0.0</td>\n",
              "      <td>[2021-10-18T11:16:54.000000000, 2021-10-04T11:...</td>\n",
              "      <td>NaN</td>\n",
              "      <td>NaN</td>\n",
              "      <td>NaN</td>\n",
              "    </tr>\n",
              "    <tr>\n",
              "      <th>17_end_time</th>\n",
              "      <td>datetime64[ns]</td>\n",
              "      <td>611</td>\n",
              "      <td>611</td>\n",
              "      <td>0</td>\n",
              "      <td>0.0</td>\n",
              "      <td>[2021-10-18T11:24:51.000000000, 2021-10-04T11:...</td>\n",
              "      <td>NaN</td>\n",
              "      <td>NaN</td>\n",
              "      <td>NaN</td>\n",
              "    </tr>\n",
              "    <tr>\n",
              "      <th>18_end_time</th>\n",
              "      <td>datetime64[ns]</td>\n",
              "      <td>611</td>\n",
              "      <td>611</td>\n",
              "      <td>0</td>\n",
              "      <td>0.0</td>\n",
              "      <td>[2021-10-18T11:25:07.000000000, 2021-10-04T11:...</td>\n",
              "      <td>NaN</td>\n",
              "      <td>NaN</td>\n",
              "      <td>NaN</td>\n",
              "    </tr>\n",
              "    <tr>\n",
              "      <th>20_end_time</th>\n",
              "      <td>datetime64[ns]</td>\n",
              "      <td>611</td>\n",
              "      <td>611</td>\n",
              "      <td>0</td>\n",
              "      <td>0.0</td>\n",
              "      <td>[2021-10-18T11:31:58.000000000, 2021-10-04T11:...</td>\n",
              "      <td>NaN</td>\n",
              "      <td>NaN</td>\n",
              "      <td>NaN</td>\n",
              "    </tr>\n",
              "  </tbody>\n",
              "</table>\n",
              "<p>676 rows × 9 columns</p>\n",
              "</div>\n",
              "      <button class=\"colab-df-convert\" onclick=\"convertToInteractive('df-58047786-de3d-40cc-9c9b-02919b22ae69')\"\n",
              "              title=\"Convert this dataframe to an interactive table.\"\n",
              "              style=\"display:none;\">\n",
              "        \n",
              "  <svg xmlns=\"http://www.w3.org/2000/svg\" height=\"24px\"viewBox=\"0 0 24 24\"\n",
              "       width=\"24px\">\n",
              "    <path d=\"M0 0h24v24H0V0z\" fill=\"none\"/>\n",
              "    <path d=\"M18.56 5.44l.94 2.06.94-2.06 2.06-.94-2.06-.94-.94-2.06-.94 2.06-2.06.94zm-11 1L8.5 8.5l.94-2.06 2.06-.94-2.06-.94L8.5 2.5l-.94 2.06-2.06.94zm10 10l.94 2.06.94-2.06 2.06-.94-2.06-.94-.94-2.06-.94 2.06-2.06.94z\"/><path d=\"M17.41 7.96l-1.37-1.37c-.4-.4-.92-.59-1.43-.59-.52 0-1.04.2-1.43.59L10.3 9.45l-7.72 7.72c-.78.78-.78 2.05 0 2.83L4 21.41c.39.39.9.59 1.41.59.51 0 1.02-.2 1.41-.59l7.78-7.78 2.81-2.81c.8-.78.8-2.07 0-2.86zM5.41 20L4 18.59l7.72-7.72 1.47 1.35L5.41 20z\"/>\n",
              "  </svg>\n",
              "      </button>\n",
              "      \n",
              "  <style>\n",
              "    .colab-df-container {\n",
              "      display:flex;\n",
              "      flex-wrap:wrap;\n",
              "      gap: 12px;\n",
              "    }\n",
              "\n",
              "    .colab-df-convert {\n",
              "      background-color: #E8F0FE;\n",
              "      border: none;\n",
              "      border-radius: 50%;\n",
              "      cursor: pointer;\n",
              "      display: none;\n",
              "      fill: #1967D2;\n",
              "      height: 32px;\n",
              "      padding: 0 0 0 0;\n",
              "      width: 32px;\n",
              "    }\n",
              "\n",
              "    .colab-df-convert:hover {\n",
              "      background-color: #E2EBFA;\n",
              "      box-shadow: 0px 1px 2px rgba(60, 64, 67, 0.3), 0px 1px 3px 1px rgba(60, 64, 67, 0.15);\n",
              "      fill: #174EA6;\n",
              "    }\n",
              "\n",
              "    [theme=dark] .colab-df-convert {\n",
              "      background-color: #3B4455;\n",
              "      fill: #D2E3FC;\n",
              "    }\n",
              "\n",
              "    [theme=dark] .colab-df-convert:hover {\n",
              "      background-color: #434B5C;\n",
              "      box-shadow: 0px 1px 3px 1px rgba(0, 0, 0, 0.15);\n",
              "      filter: drop-shadow(0px 1px 2px rgba(0, 0, 0, 0.3));\n",
              "      fill: #FFFFFF;\n",
              "    }\n",
              "  </style>\n",
              "\n",
              "      <script>\n",
              "        const buttonEl =\n",
              "          document.querySelector('#df-58047786-de3d-40cc-9c9b-02919b22ae69 button.colab-df-convert');\n",
              "        buttonEl.style.display =\n",
              "          google.colab.kernel.accessAllowed ? 'block' : 'none';\n",
              "\n",
              "        async function convertToInteractive(key) {\n",
              "          const element = document.querySelector('#df-58047786-de3d-40cc-9c9b-02919b22ae69');\n",
              "          const dataTable =\n",
              "            await google.colab.kernel.invokeFunction('convertToInteractive',\n",
              "                                                     [key], {});\n",
              "          if (!dataTable) return;\n",
              "\n",
              "          const docLinkHtml = 'Like what you see? Visit the ' +\n",
              "            '<a target=\"_blank\" href=https://colab.research.google.com/notebooks/data_table.ipynb>data table notebook</a>'\n",
              "            + ' to learn more about interactive tables.';\n",
              "          element.innerHTML = '';\n",
              "          dataTable['output_type'] = 'display_data';\n",
              "          await google.colab.output.renderOutput(dataTable, element);\n",
              "          const docLink = document.createElement('div');\n",
              "          docLink.innerHTML = docLinkHtml;\n",
              "          element.appendChild(docLink);\n",
              "        }\n",
              "      </script>\n",
              "    </div>\n",
              "  </div>\n",
              "  "
            ]
          },
          "metadata": {}
        }
      ],
      "source": [
        "details = rstr(train, 'y')\n",
        "display(details.sort_values(by='corr y', ascending=False))"
      ],
      "id": "8ea6bcd2"
    },
    {
      "cell_type": "markdown",
      "metadata": {
        "id": "008a0e3b"
      },
      "source": [
        "<a name='03'></a>\n",
        "## 3. 탐색적 데이터 분석 \n",
        "\n",
        "탐색적 데이터 분석을 통해 **데이터를 이해**하고, 모델에 유용한 **특징을 생성**할 수 있습니다. \n",
        "\n",
        "- 데이터에 대한 이해를 높이기 위해 타깃 변수의 분포 (3.1절) , 각 센서 변수와 타깃 변수와의 상관 관계 (3.2절)를 파악합니다. \n",
        "\n",
        "- 새로운 특징을 도출하기 위해 범주형 변수에 따른 타깃 변수의 변화 (3.3절) , 전체 공정 소요시간에 따른 타깃 변수의 변화 (3.4절) , 센서 변수의 집약된 통계량 (3.5절) 을 확인해봅니다."
      ],
      "id": "008a0e3b"
    },
    {
      "cell_type": "code",
      "source": [
        "# -----------------------------------\n",
        "# 3 장 EDA 분석에 필요한 변수를 선언합니다.\n",
        "# -----------------------------------\n",
        "\n",
        "# \bEDA를 위한 학습 데이터를 복사합니다.\n",
        "df_eda = train.copy()\n",
        "\n",
        "# 센서 컬럼과 날짜 컬럼을 정의합니다. \n",
        "col_sensor = df_eda.iloc[:, 4:-7].columns.tolist() \n",
        "col_time = df_eda.filter(regex='end').columns.tolist() \n",
        "\n",
        "assert len(col_sensor) == 665\n",
        "assert len(col_time) == 8 \n",
        "\n",
        "# \b3.4절 공정 소요시간 분석에 필요한 변수를 정의합니다. \n",
        "lst_steps = ['04','06','12','13','17','18', '20']\n",
        "lst_stepsgap = ['0406','0612','1213','1317','1718','1820']\n",
        "\n",
        "lst_sensors = []\n",
        "for step in lst_steps:\n",
        "    _ = [col for col in col_sensor if col[:2] == step]\n",
        "    lst_sensors.append(_)\n",
        "\n",
        "sensors_nm = list(map(lambda x: x[3:], lst_sensors[0]))\n",
        "\n",
        "# 시간과 관련한 분석을 진행하기 위하여 날짜형으로 변환합니다. \n",
        "df_eda[col_time] = df_eda[col_time].apply(pd.to_datetime)"
      ],
      "metadata": {
        "id": "fokGIM4gWb53"
      },
      "id": "fokGIM4gWb53",
      "execution_count": 12,
      "outputs": []
    },
    {
      "cell_type": "markdown",
      "metadata": {
        "id": "8a6093bb"
      },
      "source": [
        "<a name='03-01'></a>\n",
        "### 3.1 타깃 변수 분포 확인하기 \n",
        "\n",
        "학습 데이터를 이용해 타깃 변수의 분포를 살펴보겠습니다. \n",
        "\n",
        "Seaborn 의 **distplot** 과 **probplot** 을 사용하여 타깃 변수의 분포 범위와 해당 값이 특정 구간에 치우쳐 있는지를 확인합니다."
      ],
      "id": "8a6093bb"
    },
    {
      "cell_type": "code",
      "execution_count": 13,
      "metadata": {
        "id": "1a3a5733"
      },
      "outputs": [],
      "source": [
        "def QQ_plot(data, measure):\n",
        "    \n",
        "    # 그래프의 크기를 지정합니다.\n",
        "    fig = plt.figure(figsize=(10,4))\n",
        "    \n",
        "    # 1행 2열의 첫번째 히스토그램 그래프입니다.\n",
        "    fig1 = fig.add_subplot(121)\n",
        "    (mu, sigma) = norm.fit(data)\n",
        "    # distplot 으로 타깃 변수의 분포를 확인합니다. kde = True를 입력하면 커널밀도추정 결과를 함께 표기할 수 있습니다.\n",
        "    sns.distplot(data, kde=True, fit=norm)\n",
        "    fig1.legend(['KDE', f'N({round(mu, 2)},{round(sigma**2, 2)})'], loc='upper right')\n",
        "    fig1.set_title(f'{measure} Distribution', loc='center')\n",
        "    fig1.set_xlabel(f'{measure}')\n",
        "\n",
        "    # 1행 2열의 두번째 QQ Plot 그래프입니다.\n",
        "    fig2 = fig.add_subplot(122)\n",
        "    # 정규분포와 타깃변수의 분포를 비교합니다.\n",
        "    res = probplot(data, plot=fig2)\n",
        "    fig2.set_title(f'{measure} Probability Plot', loc='center')\n",
        "\n",
        "    plt.tight_layout()\n",
        "    plt.show()\n"
      ],
      "id": "1a3a5733"
    },
    {
      "cell_type": "markdown",
      "metadata": {
        "id": "12acea32"
      },
      "source": [
        "타깃은 평균 1263.41, 분산 67.16 인 정규분포를 거의 따른다고 볼 수 있습니다."
      ],
      "id": "12acea32"
    },
    {
      "cell_type": "code",
      "execution_count": 14,
      "metadata": {
        "id": "f186ad43"
      },
      "outputs": [],
      "source": [
        "# QQ_plot(df_eda['y'], 'y')"
      ],
      "id": "f186ad43"
    },
    {
      "cell_type": "markdown",
      "metadata": {
        "id": "4cc729ac"
      },
      "source": [
        "<a name='03-02'></a>\n",
        "### 3.2 센서 변수와 타깃 변수의 상관관계 파악\n",
        "총 665개의 센서 변수와 타깃 변수 y 간의 관련성이 있는지 확인해보겠습니다. \n",
        "\n",
        "95개의 센서 변수는 총 7개의 공정 스텝 (4, 6, 12, 13, 17, 18, 20) 단위로 수집됩니다. "
      ],
      "id": "4cc729ac"
    },
    {
      "cell_type": "code",
      "execution_count": 15,
      "metadata": {
        "id": "7afd4406"
      },
      "outputs": [],
      "source": [
        "def regplots(cols, data):\n",
        "    \n",
        "    # 각 센서별 7개의 스텝을 가지므로 행이 2개이고, 열이 4개인 서브 플롯을 생성합니다.\n",
        "    fig, axes = plt.subplots(nrows=2, ncols=4, sharey=True, figsize=(15,8))\n",
        "    \n",
        "    # 서브 플롯 간의 세로 간격(hspace) 가로 간격(wspace)을 설정합니다. \n",
        "    fig.subplots_adjust(hspace=.4, wspace=.1)\n",
        "    \n",
        "    for i, ax in zip(range(len(cols)), axes.flat):\n",
        "\n",
        "        sns.regplot(x=cols[i], y='y', data=data, ax=ax)\n",
        "        ax.set_title(f'{cols[i].upper()}')\n",
        "        ax.set_xlabel('')\n",
        "        ax.set_ylabel('')\n",
        "    \n",
        "    # 8번째 서브 플롯은 필요 없으므로 표기하지 않습니다. \n",
        "    axes.flat[-1].set_visible(False)\n",
        "    plt.tight_layout()\n",
        "    plt.show()"
      ],
      "id": "7afd4406"
    },
    {
      "cell_type": "markdown",
      "source": [
        "수치형 변수 X 수치형 변수 조합 시각화에 유용한 산점도 그래프 scatter plot 를 작성합니다. \n",
        "\n",
        "**regplot** 을 사용하여 산점도와 함께 데이터의 경향성을 나타내는 추세선까지 함께 표시합니다."
      ],
      "metadata": {
        "id": "9wW-V4UdZoow"
      },
      "id": "9wW-V4UdZoow"
    },
    {
      "cell_type": "markdown",
      "source": [
        "### (작업) 상관관계 분석 - STD < 0.001 인 경우 제거\n",
        "- 이미 mean, max, min, std 를 적용하여 불필요함"
      ],
      "metadata": {
        "id": "5Fwy9L9FYyfN"
      },
      "id": "5Fwy9L9FYyfN"
    },
    {
      "cell_type": "code",
      "execution_count": 16,
      "metadata": {
        "id": "38f8b9d1",
        "scrolled": true,
        "colab": {
          "base_uri": "https://localhost:8080/"
        },
        "outputId": "15f4e6c0-8a66-44e7-81fb-f6142fd2b0bd"
      },
      "outputs": [
        {
          "output_type": "stream",
          "name": "stdout",
          "text": [
            "*****['efem_para2']\n",
            "*****['efem_para25']\n",
            "*****['efem_para78']\n",
            "*****['epd_para4']\n",
            "*****['epd_para40']\n",
            "*****['epd_para63']\n",
            "*****['epd_para80']\n",
            "*****['esc_para84']\n",
            "*****['esc_para94']\n",
            "*****['fr_para28']\n",
            "*****['fr_para35']\n",
            "*****['fr_para61']\n",
            "*****['fr_para69']\n",
            "*****['gas_para10']\n",
            "*****['gas_para13']\n",
            "*****['gas_para15']\n",
            "*****['gas_para19']\n",
            "*****['gas_para21']\n",
            "*****['gas_para26']\n",
            "*****['gas_para27']\n",
            "*****['gas_para33']\n",
            "*****['gas_para36']\n",
            "*****['gas_para39']\n",
            "*****['gas_para46']\n",
            "*****['gas_para48']\n",
            "*****['gas_para50']\n",
            "*****['gas_para51']\n",
            "*****['gas_para52']\n",
            "*****['gas_para59']\n",
            "*****['gas_para6']\n",
            "*****['gas_para70']\n",
            "*****['gas_para71']\n",
            "*****['gas_para73']\n",
            "*****['gas_para74']\n",
            "*****['gas_para85']\n",
            "*****['he_para1']\n",
            "*****['he_para22']\n",
            "*****['he_para88']\n",
            "*****['he_para95']\n",
            "*****['hv_para3']\n",
            "*****['hv_para45']\n",
            "*****['hv_para47']\n",
            "*****['hv_para56']\n",
            "*****['position_para72']\n",
            "*****['power_para14']\n",
            "*****['power_para49']\n",
            "*****['power_para57']\n",
            "*****['power_para68']\n",
            "*****['power_para76']\n",
            "*****['power_para82']\n",
            "*****['pressure_para91']\n",
            "*****['temp_para11']\n",
            "*****['temp_para12']\n",
            "*****['temp_para17']\n",
            "*****['temp_para18']\n",
            "*****['temp_para20']\n",
            "*****['temp_para23']\n",
            "*****['temp_para24']\n",
            "*****['temp_para32']\n",
            "*****['temp_para38']\n",
            "*****['temp_para53']\n",
            "*****['temp_para54']\n",
            "*****['temp_para55']\n",
            "*****['temp_para58']\n",
            "*****['temp_para60']\n",
            "*****['temp_para65']\n",
            "*****['temp_para66']\n",
            "*****['temp_para79']\n",
            "*****['temp_para86']\n",
            "*****['temp_para87']\n",
            "*****['temp_para92']\n",
            "*****['temp_para93']\n",
            "*****['time_para16']\n",
            "*****['time_para29']\n",
            "*****['time_para30']\n",
            "*****['time_para34']\n",
            "*****['time_para37']\n",
            "*****['time_para41']\n",
            "*****['time_para42']\n",
            "*****['time_para43']\n",
            "*****['time_para44']\n",
            "*****['time_para5']\n",
            "*****['time_para62']\n",
            "*****['time_para64']\n",
            "*****['time_para67']\n",
            "*****['time_para7']\n",
            "*****['time_para75']\n",
            "*****['time_para77']\n",
            "*****['time_para8']\n",
            "*****['time_para81']\n",
            "*****['time_para83']\n",
            "*****['time_para89']\n",
            "*****['time_para9']\n",
            "*****['time_para90']\n",
            "*****['tmp_para31']\n"
          ]
        }
      ],
      "source": [
        "for ix, sensor_nm in enumerate(sensors_nm):\n",
        "    print(f'*****{[sensor_nm]}')\n",
        "\n",
        "    # tmp_lst 는 {스텝}_{센서명} 형식으로 센서의 총 7개의 스텝 컬럼 리스트를 생성합니다.\n",
        "    # ex. 04_efem_para2, 06_efem_para2, ..., 20_efem_para2\n",
        "    tmp_lst = list(map(lambda x: f'{x}_{sensor_nm}', lst_steps))\n",
        "    # regplots(tmp_lst, df_eda)\n",
        "    \n",
        "    tmp_lst2 = df_eda[tmp_lst].corr()\n",
        "    tmp_lst2['key'] = tmp_lst2.keys()[0:7]\n",
        "    tmp_lst2['std'] = tmp_lst2[tmp_lst].std(axis=1)\n",
        "    tmp_lst2['diff'] = ( tmp_lst2[tmp_lst].max(axis=1) - tmp_lst2[tmp_lst].min(axis=1) ) / tmp_lst2[tmp_lst].mean(axis=1)\n",
        "\n",
        "    # tmp_lst_sum.append(tmp_lst2.iloc[:,7:10])\n",
        "    if ix == 0:\n",
        "      tmp_lst_sum = tmp_lst2[['key','std','diff']]\n",
        "    else:\n",
        "      tmp_lst_sum = tmp_lst_sum.append(tmp_lst2[['key','std','diff']])\n",
        "\n",
        "    # 총 95개의 센서를 시각화를 할 경우 아래 코드를 주석 처리 합니다.\n",
        "    # if ix == 0:\n",
        "    #     break\n",
        "\n"
      ],
      "id": "38f8b9d1"
    },
    {
      "cell_type": "code",
      "source": [
        "# mean 으로 대체\n",
        "cols_corr_drop = tmp_lst_sum[tmp_lst_sum['std']<0.001].index.values.tolist()"
      ],
      "metadata": {
        "id": "yHSSJca5Ye6I"
      },
      "id": "yHSSJca5Ye6I",
      "execution_count": 17,
      "outputs": []
    },
    {
      "cell_type": "markdown",
      "source": [
        "<a name='03-03'></a>\n",
        "### 3.3 범주형 변수에 따른 타깃 변수의 변화\n",
        "\n",
        "총 모듈(module_name)의 고유값의 갯수는 47개입니다. 모듈 이름은 _ 를 기준으로 EQ와 PM 식별자로 조합되어 있습니다."
      ],
      "metadata": {
        "id": "3rYgrRocaLZW"
      },
      "id": "3rYgrRocaLZW"
    },
    {
      "cell_type": "code",
      "source": [
        "idx = 'module_name'\n",
        "# 모듈의 고유값과 고유값의 갯수를 구합니다.\n",
        "module_unq = df_eda[idx].unique() \n",
        "module_nunq = df_eda[idx].nunique()\n",
        "\n",
        "print(f'***')\n",
        "print(f'\bNo. of Module : {module_nunq}')\n",
        "print(f'{module_unq}')"
      ],
      "metadata": {
        "colab": {
          "base_uri": "https://localhost:8080/"
        },
        "id": "QOlA9HjZl-ri",
        "outputId": "080f390e-68d4-4374-8186-1f6b747a595b"
      },
      "id": "QOlA9HjZl-ri",
      "execution_count": 18,
      "outputs": [
        {
          "output_type": "stream",
          "name": "stdout",
          "text": [
            "***\n",
            "\bNo. of Module : 47\n",
            "['EQ10_PM1' 'EQ10_PM2' 'EQ10_PM5' 'EQ10_PM6' 'EQ11_PM1' 'EQ11_PM2'\n",
            " 'EQ11_PM5' 'EQ11_PM6' 'EQ12_PM1' 'EQ12_PM2' 'EQ12_PM5' 'EQ12_PM6'\n",
            " 'EQ1_PM1' 'EQ1_PM2' 'EQ1_PM5' 'EQ1_PM6' 'EQ2_PM1' 'EQ2_PM2' 'EQ2_PM5'\n",
            " 'EQ2_PM6' 'EQ3_PM1' 'EQ3_PM2' 'EQ3_PM5' 'EQ3_PM6' 'EQ4_PM1' 'EQ4_PM2'\n",
            " 'EQ4_PM5' 'EQ4_PM6' 'EQ5_PM1' 'EQ5_PM2' 'EQ5_PM5' 'EQ5_PM6' 'EQ6_PM1'\n",
            " 'EQ6_PM2' 'EQ6_PM5' 'EQ6_PM6' 'EQ7_PM1' 'EQ7_PM2' 'EQ7_PM5' 'EQ7_PM6'\n",
            " 'EQ8_PM1' 'EQ8_PM2' 'EQ8_PM5' 'EQ8_PM6' 'EQ9_PM1' 'EQ9_PM2' 'EQ9_PM5']\n"
          ]
        }
      ]
    },
    {
      "cell_type": "markdown",
      "source": [
        "범주의 정도를 상위 레벨에서 보기 위하여 EQ를 기준으로 재범주화 해보겠습니다.\n",
        "\n",
        "apply 를 사용하여 모듈 이름의 EQ 식별자 부분만 추출하여 module_name_eq 컬럼에 값을 저장합니다."
      ],
      "metadata": {
        "id": "J0ZIuJpGkLfO"
      },
      "id": "J0ZIuJpGkLfO"
    },
    {
      "cell_type": "code",
      "source": [
        "# 모듈 이름의 상위 집계단위를 나타내는 module_name_eq 범주형 변수를 생성하는 함수입니다.\n",
        "def gen_cate_feats(df):\n",
        "  df['module_name_eq'] = df['module_name'].apply(lambda x : x.split('_')[0])\n",
        "  return df \n",
        "   \n",
        "df_eda = gen_cate_feats(df_eda)\n",
        "sns.boxplot(x='module_name_eq', y='y', data=df_eda)"
      ],
      "metadata": {
        "colab": {
          "base_uri": "https://localhost:8080/",
          "height": 299
        },
        "id": "HLEQHcKumxr0",
        "outputId": "80d45c1b-6594-4c1e-8419-d39ad8809f5d"
      },
      "id": "HLEQHcKumxr0",
      "execution_count": 19,
      "outputs": [
        {
          "output_type": "execute_result",
          "data": {
            "text/plain": [
              "<matplotlib.axes._subplots.AxesSubplot at 0x7fa64fc83f10>"
            ]
          },
          "metadata": {},
          "execution_count": 19
        },
        {
          "output_type": "display_data",
          "data": {
            "text/plain": [
              "<Figure size 432x288 with 1 Axes>"
            ],
            "image/png": "[encoded data removed]"
          },
          "metadata": {
            "needs_background": "light"
          }
        }
      ]
    },
    {
      "cell_type": "markdown",
      "metadata": {
        "id": "23d0981e"
      },
      "source": [
        "<a name='03-04'></a>\n",
        "### 3.4 전체 공정 소요시간에 따른 타깃 변수의 변화 \n",
        "\n",
        "전체 및 개별 공정 소요시간 변수를 생성하는 함수를 작성합니다. \n",
        "\n",
        "전체 공정 소요시간은 마지막 공정 완료시간 ***20_end_time*** 과 첫번째 공정 완료시간 **04_end_time** 의 차이(초)를 계산한 값입니다."
      ],
      "id": "23d0981e"
    },
    {
      "cell_type": "code",
      "execution_count": 20,
      "metadata": {
        "id": "a5524cee"
      },
      "outputs": [],
      "source": [
        "# 전체 및 개별 공정 소요시간 변수를 생성하는 함수입니다.\n",
        "def gen_duration_feats(df, lst_stepsgap):\n",
        "    \n",
        "    # 전체 공정 소요시간(초) 변수를 생성합니다. \n",
        "    df['gen_tmdiff'] = (df['20_end_time'] - df['04_end_time']).dt.total_seconds()\n",
        "    \n",
        "    # 개별 스텝간 공정 소요시간(초) 변수를 생성합니다. \n",
        "    # ex. gen_\btmdiff_0406 : 04 스텝 공정 완료 시간과 06 스텝 공정 완료 시간의 차이 \n",
        "    for stepgap in lst_stepsgap:\n",
        "        df[f'gen_tmdiff_{stepgap}'] = (df[f'{stepgap[2:]}_end_time'] - df[f'{stepgap[:2]}_end_time']).dt.total_seconds()\n",
        "\n",
        "    return df\n",
        "\n",
        "df_eda = gen_duration_feats(df_eda, lst_stepsgap)"
      ],
      "id": "a5524cee"
    },
    {
      "cell_type": "markdown",
      "metadata": {
        "id": "0cb07d84"
      },
      "source": [
        "전체 공정 소요시간은 최소 30.6분에서 최대 31.9분입니다. \n",
        "\n",
        "개별 스텝간 공정 소요시간도 확인하였을 시, 6번째 스텝에서 12번째 스텝 간 소요시간이 가장 길었습니다. "
      ],
      "id": "0cb07d84"
    },
    {
      "cell_type": "code",
      "source": [
        "# 전체 공정 소요시간 및 개별 공정 소요시간 컬럼을 리스트 형태로 추출합니다. \n",
        "col_tmdiff = df_eda.filter(regex='gen_tmdiff($|_\\d)').columns.tolist()\n",
        "\n",
        "# 공정 소요시간의 통계값(최소, 최대, 평균)을 추출하는 함수입니다.\n",
        "def tmdiff_stats(x):\n",
        "  return [round(x.min()/60,1), round(x.max()/60,1), round(x.mean()/60,1)]\n",
        "\n",
        "df_tmp = df_eda[col_tmdiff].apply(tmdiff_stats).T\n",
        "df_tmp.columns = ['MIN', 'MAX', 'MEAN']\n",
        "df_tmp"
      ],
      "metadata": {
        "colab": {
          "base_uri": "https://localhost:8080/",
          "height": 269
        },
        "id": "F3jmUKbu_vtd",
        "outputId": "f5e90d5f-73a3-491d-c28b-84e85c24e690"
      },
      "id": "F3jmUKbu_vtd",
      "execution_count": 21,
      "outputs": [
        {
          "output_type": "execute_result",
          "data": {
            "text/plain": [
              "                  MIN   MAX  MEAN\n",
              "gen_tmdiff       30.6  31.9  31.5\n",
              "gen_tmdiff_0406   2.0   2.5   2.3\n",
              "gen_tmdiff_0612  13.3  14.2  13.9\n",
              "gen_tmdiff_1213   0.3   0.3   0.3\n",
              "gen_tmdiff_1317   7.9   8.0   7.9\n",
              "gen_tmdiff_1718   0.3   0.3   0.3\n",
              "gen_tmdiff_1820   6.8   6.9   6.8"
            ],
            "text/html": [
              "\n",
              "  <div id=\"df-61923e8a-1fc3-47f4-8fd5-ef66d1c00ee5\">\n",
              "    <div class=\"colab-df-container\">\n",
              "      <div>\n",
              "<style scoped>\n",
              "    .dataframe tbody tr th:only-of-type {\n",
              "        vertical-align: middle;\n",
              "    }\n",
              "\n",
              "    .dataframe tbody tr th {\n",
              "        vertical-align: top;\n",
              "    }\n",
              "\n",
              "    .dataframe thead th {\n",
              "        text-align: right;\n",
              "    }\n",
              "</style>\n",
              "<table border=\"1\" class=\"dataframe\">\n",
              "  <thead>\n",
              "    <tr style=\"text-align: right;\">\n",
              "      <th></th>\n",
              "      <th>MIN</th>\n",
              "      <th>MAX</th>\n",
              "      <th>MEAN</th>\n",
              "    </tr>\n",
              "  </thead>\n",
              "  <tbody>\n",
              "    <tr>\n",
              "      <th>gen_tmdiff</th>\n",
              "      <td>30.6</td>\n",
              "      <td>31.9</td>\n",
              "      <td>31.5</td>\n",
              "    </tr>\n",
              "    <tr>\n",
              "      <th>gen_tmdiff_0406</th>\n",
              "      <td>2.0</td>\n",
              "      <td>2.5</td>\n",
              "      <td>2.3</td>\n",
              "    </tr>\n",
              "    <tr>\n",
              "      <th>gen_tmdiff_0612</th>\n",
              "      <td>13.3</td>\n",
              "      <td>14.2</td>\n",
              "      <td>13.9</td>\n",
              "    </tr>\n",
              "    <tr>\n",
              "      <th>gen_tmdiff_1213</th>\n",
              "      <td>0.3</td>\n",
              "      <td>0.3</td>\n",
              "      <td>0.3</td>\n",
              "    </tr>\n",
              "    <tr>\n",
              "      <th>gen_tmdiff_1317</th>\n",
              "      <td>7.9</td>\n",
              "      <td>8.0</td>\n",
              "      <td>7.9</td>\n",
              "    </tr>\n",
              "    <tr>\n",
              "      <th>gen_tmdiff_1718</th>\n",
              "      <td>0.3</td>\n",
              "      <td>0.3</td>\n",
              "      <td>0.3</td>\n",
              "    </tr>\n",
              "    <tr>\n",
              "      <th>gen_tmdiff_1820</th>\n",
              "      <td>6.8</td>\n",
              "      <td>6.9</td>\n",
              "      <td>6.8</td>\n",
              "    </tr>\n",
              "  </tbody>\n",
              "</table>\n",
              "</div>\n",
              "      <button class=\"colab-df-convert\" onclick=\"convertToInteractive('df-61923e8a-1fc3-47f4-8fd5-ef66d1c00ee5')\"\n",
              "              title=\"Convert this dataframe to an interactive table.\"\n",
              "              style=\"display:none;\">\n",
              "        \n",
              "  <svg xmlns=\"http://www.w3.org/2000/svg\" height=\"24px\"viewBox=\"0 0 24 24\"\n",
              "       width=\"24px\">\n",
              "    <path d=\"M0 0h24v24H0V0z\" fill=\"none\"/>\n",
              "    <path d=\"M18.56 5.44l.94 2.06.94-2.06 2.06-.94-2.06-.94-.94-2.06-.94 2.06-2.06.94zm-11 1L8.5 8.5l.94-2.06 2.06-.94-2.06-.94L8.5 2.5l-.94 2.06-2.06.94zm10 10l.94 2.06.94-2.06 2.06-.94-2.06-.94-.94-2.06-.94 2.06-2.06.94z\"/><path d=\"M17.41 7.96l-1.37-1.37c-.4-.4-.92-.59-1.43-.59-.52 0-1.04.2-1.43.59L10.3 9.45l-7.72 7.72c-.78.78-.78 2.05 0 2.83L4 21.41c.39.39.9.59 1.41.59.51 0 1.02-.2 1.41-.59l7.78-7.78 2.81-2.81c.8-.78.8-2.07 0-2.86zM5.41 20L4 18.59l7.72-7.72 1.47 1.35L5.41 20z\"/>\n",
              "  </svg>\n",
              "      </button>\n",
              "      \n",
              "  <style>\n",
              "    .colab-df-container {\n",
              "      display:flex;\n",
              "      flex-wrap:wrap;\n",
              "      gap: 12px;\n",
              "    }\n",
              "\n",
              "    .colab-df-convert {\n",
              "      background-color: #E8F0FE;\n",
              "      border: none;\n",
              "      border-radius: 50%;\n",
              "      cursor: pointer;\n",
              "      display: none;\n",
              "      fill: #1967D2;\n",
              "      height: 32px;\n",
              "      padding: 0 0 0 0;\n",
              "      width: 32px;\n",
              "    }\n",
              "\n",
              "    .colab-df-convert:hover {\n",
              "      background-color: #E2EBFA;\n",
              "      box-shadow: 0px 1px 2px rgba(60, 64, 67, 0.3), 0px 1px 3px 1px rgba(60, 64, 67, 0.15);\n",
              "      fill: #174EA6;\n",
              "    }\n",
              "\n",
              "    [theme=dark] .colab-df-convert {\n",
              "      background-color: #3B4455;\n",
              "      fill: #D2E3FC;\n",
              "    }\n",
              "\n",
              "    [theme=dark] .colab-df-convert:hover {\n",
              "      background-color: #434B5C;\n",
              "      box-shadow: 0px 1px 3px 1px rgba(0, 0, 0, 0.15);\n",
              "      filter: drop-shadow(0px 1px 2px rgba(0, 0, 0, 0.3));\n",
              "      fill: #FFFFFF;\n",
              "    }\n",
              "  </style>\n",
              "\n",
              "      <script>\n",
              "        const buttonEl =\n",
              "          document.querySelector('#df-61923e8a-1fc3-47f4-8fd5-ef66d1c00ee5 button.colab-df-convert');\n",
              "        buttonEl.style.display =\n",
              "          google.colab.kernel.accessAllowed ? 'block' : 'none';\n",
              "\n",
              "        async function convertToInteractive(key) {\n",
              "          const element = document.querySelector('#df-61923e8a-1fc3-47f4-8fd5-ef66d1c00ee5');\n",
              "          const dataTable =\n",
              "            await google.colab.kernel.invokeFunction('convertToInteractive',\n",
              "                                                     [key], {});\n",
              "          if (!dataTable) return;\n",
              "\n",
              "          const docLinkHtml = 'Like what you see? Visit the ' +\n",
              "            '<a target=\"_blank\" href=https://colab.research.google.com/notebooks/data_table.ipynb>data table notebook</a>'\n",
              "            + ' to learn more about interactive tables.';\n",
              "          element.innerHTML = '';\n",
              "          dataTable['output_type'] = 'display_data';\n",
              "          await google.colab.output.renderOutput(dataTable, element);\n",
              "          const docLink = document.createElement('div');\n",
              "          docLink.innerHTML = docLinkHtml;\n",
              "          element.appendChild(docLink);\n",
              "        }\n",
              "      </script>\n",
              "    </div>\n",
              "  </div>\n",
              "  "
            ]
          },
          "metadata": {},
          "execution_count": 21
        }
      ]
    },
    {
      "cell_type": "markdown",
      "source": [
        "전체 공정 소요시간은 30분대 공정이 완료된 장비와 31분대에 공정이 완료된 장비로 뚜렷이 구분됩니다. \n",
        "\n",
        "대부분의 장비는 31분대에 완료되었으며, 일찍 공정을 마친 장비는 주로 EQ7, EQ8 모듈입니다.\n"
      ],
      "metadata": {
        "id": "1U9R-Jwa74S1"
      },
      "id": "1U9R-Jwa74S1"
    },
    {
      "cell_type": "code",
      "execution_count": 22,
      "metadata": {
        "colab": {
          "base_uri": "https://localhost:8080/",
          "height": 353
        },
        "id": "7d92739c",
        "outputId": "8bc34ba4-1e8e-4310-cbac-28af75cd4f17"
      },
      "outputs": [
        {
          "output_type": "execute_result",
          "data": {
            "text/plain": [
              "<matplotlib.legend.Legend at 0x7fa64d9fae50>"
            ]
          },
          "metadata": {},
          "execution_count": 22
        },
        {
          "output_type": "display_data",
          "data": {
            "text/plain": [
              "<Figure size 720x360 with 2 Axes>"
            ],
            "image/png": "[encoded data removed]"
          },
          "metadata": {
            "needs_background": "light"
          }
        }
      ],
      "source": [
        "# 시각화를 위하여 1870초를 기준으로 일찍 마친 장비와 늦께 마친 장비를 구분합니다.\n",
        "df_eda.loc[df_eda['gen_tmdiff'] < 1870, 'tmdiff_speed'] = 'E' # Early \n",
        "df_eda.loc[df_eda['gen_tmdiff'] > 1870, 'tmdiff_speed'] = 'L' # Late\n",
        "\n",
        "fig, axes = plt.subplots(nrows=1, ncols=2, sharey=True, figsize=(10,5))\n",
        "sns.scatterplot(x='gen_tmdiff', y='y', hue='tmdiff_speed', data = df_eda, ax=axes[0])\n",
        "sns.scatterplot(x='gen_tmdiff', y='y', hue='module_name_eq', data = df_eda, ax=axes[1])\n",
        "axes[0].legend(loc='lower left', ncol=2, title='tmdiff_speed')\n",
        "axes[1].legend(loc='lower left', ncol=1, title='module_name_eq', bbox_to_anchor=(1.04, 0))"
      ],
      "id": "7d92739c"
    },
    {
      "cell_type": "markdown",
      "metadata": {
        "id": "D7eUhu-s8CgI"
      },
      "source": [
        "<a name='03-05'></a>\n",
        "### 3.5 (작업) 센서의 집약된 통계량에 따른 타깃 변수의 변화\n",
        "\n",
        "센서 측정치에 대해 총 7개의 스텝을 집약한 표준편차를 확인해보겠습니다. 전 구간에서 센서 측정치의 흩어진 정도를 알 수 있습니다. \n",
        "\n",
        "통계량 추가함"
      ],
      "id": "D7eUhu-s8CgI"
    },
    {
      "cell_type": "code",
      "execution_count": 23,
      "metadata": {
        "id": "L9yzrXsX8Hz0"
      },
      "outputs": [],
      "source": [
        "# 센서의 집약된 표준편차 변수를 생성하는 함수입니다.\n",
        "def gen_stats_feats(df, sensors_nm, lst_steps):\n",
        "    \n",
        "    for sensor_nm in sensors_nm:\n",
        "\n",
        "        # 센서별 총 7개의 스텝 컬럼 리스트를 생성합니다.\n",
        "        # ex. 04_efem_para2, 06_efem_para2, ..., 20_efem_para2\n",
        "        tmp_lst = list(map(lambda x: f'{x}_{sensor_nm}', lst_steps))\n",
        "\n",
        "        # 전 스텝을 집약하여 센서의 표준편차 변수를 생성합니다. \n",
        "        df[f'gen_{sensor_nm}_std'] = df[tmp_lst].std(axis=1)\n",
        "        df[f'gen_{sensor_nm}_diff'] = df[tmp_lst].max(axis=1) - df[tmp_lst].min(axis=1) / df[tmp_lst].mean(axis=1)\n",
        "        df[f'gen_{sensor_nm}_mean'] = df[tmp_lst].mean(axis=1)\n",
        "        df[f'gen_{sensor_nm}_max'] = df[tmp_lst].max(axis=1)\n",
        "        df[f'gen_{sensor_nm}_min'] = df[tmp_lst].min(axis=1)\n",
        "        \n",
        "    return df\n",
        "\n",
        "df_eda = gen_stats_feats(df_eda, sensors_nm, lst_steps)"
      ],
      "id": "L9yzrXsX8Hz0"
    },
    {
      "cell_type": "code",
      "source": [
        "fig, axes = plt.subplots(nrows=2, ncols=2, sharey=True, figsize=(10,5))\n",
        "fig.subplots_adjust(hspace=.4, wspace=.1)\n",
        "\n",
        "sns.scatterplot(x='gen_hv_para3_std', y='y', data = df_eda, ax=axes[0,0], legend=False)\n",
        "sns.scatterplot(x='gen_hv_para45_std', y='y', data = df_eda, ax=axes[0,1], legend=False)\n",
        "sns.scatterplot(x='gen_pressure_para91_std', y='y',  data = df_eda, ax=axes[1,0], legend=False)\n",
        "sns.scatterplot(x='gen_time_para5_std', y='y', data = df_eda, ax=axes[1,1], legend=False)\n"
      ],
      "metadata": {
        "colab": {
          "base_uri": "https://localhost:8080/",
          "height": 353
        },
        "id": "0EhboncAQtgq",
        "outputId": "0613c0be-69c0-40e3-e4da-a531453b8018"
      },
      "id": "0EhboncAQtgq",
      "execution_count": 24,
      "outputs": [
        {
          "output_type": "execute_result",
          "data": {
            "text/plain": [
              "<matplotlib.axes._subplots.AxesSubplot at 0x7fa64e232190>"
            ]
          },
          "metadata": {},
          "execution_count": 24
        },
        {
          "output_type": "display_data",
          "data": {
            "text/plain": [
              "<Figure size 720x360 with 4 Axes>"
            ],
            "image/png": "[encoded data removed]"
          },
          "metadata": {
            "needs_background": "light"
          }
        }
      ]
    },
    {
      "cell_type": "code",
      "execution_count": 25,
      "metadata": {
        "id": "_j7xH20VB_8f"
      },
      "outputs": [],
      "source": [
        "# EDA를 위한 데이터 프레임 제거합니다.\n",
        "del df_eda"
      ],
      "id": "_j7xH20VB_8f"
    },
    {
      "cell_type": "markdown",
      "metadata": {
        "id": "2fcae3e0"
      },
      "source": [
        "<a name='04'></a>\n",
        "## 4. 데이터 전처리\n",
        "\n",
        "탐색적 데이터 분석을 통해 도출한 추가 변수를 생성(4.1절)합니다. \n",
        "\n",
        "이상치 확인(4.2절), 분산이 적은 특징 제거(4.3절), 수치형 변수의 표준화(4.4절) 그리고 범주형 변수의 원-핫 인코딩(4.5절) 변환을 하여 데이터를 전처리합니다."
      ],
      "id": "2fcae3e0"
    },
    {
      "cell_type": "markdown",
      "source": [
        "<a name='04-01'></a>\n",
        "### 4.1 내부 데이터를 통한 변수 생성 \n",
        "\n"
      ],
      "metadata": {
        "id": "L-QaF6M8YR5B"
      },
      "id": "L-QaF6M8YR5B"
    },
    {
      "cell_type": "code",
      "execution_count": 26,
      "metadata": {
        "id": "33cf1fa6"
      },
      "outputs": [],
      "source": [
        "# \b전처리를 위한 학습용 데이터와 평가용 데이터를 복사합니다.\n",
        "df_prep_train = train.copy()\n",
        "df_prep_predict = predict.copy()"
      ],
      "id": "33cf1fa6"
    },
    {
      "cell_type": "markdown",
      "source": [
        "탐색적 데이터 분석(3.3~3.5절)에서 분석한 결과를 활용해 새로운 특징을 생성합니다. \n",
        "\n",
        "\n",
        "*   모듈 이름의 상위 집계 단위를 나타내는 1개의 범주형 변수 (3.3절)\n",
        "*   전체 및 개별 공정 소요시간을 나타내는 7개의 변수(3.4절)\n",
        "*   센서 변수의 집약된 표준편차를 나타내는 95개의 변수 (3.5절)\n",
        "\n",
        "\n"
      ],
      "metadata": {
        "id": "XRZy3Q2bZXcA"
      },
      "id": "XRZy3Q2bZXcA"
    },
    {
      "cell_type": "code",
      "source": [
        "# 모듈 이름의 상위 집계 단위를 나타내는 1개의 범주형 변수를 생성합니다(3.3절)\n",
        "df_prep_train = gen_cate_feats(df_prep_train)\n",
        "df_prep_predict = gen_cate_feats(df_prep_predict)\n",
        "df_prep_train.filter(regex='module_name_eq').head(2)"
      ],
      "metadata": {
        "colab": {
          "base_uri": "https://localhost:8080/",
          "height": 112
        },
        "id": "z6peWNiIZYmN",
        "outputId": "f55ebada-c303-47c4-f67e-59c710fef37d"
      },
      "id": "z6peWNiIZYmN",
      "execution_count": 27,
      "outputs": [
        {
          "output_type": "execute_result",
          "data": {
            "text/plain": [
              "  module_name_eq\n",
              "0           EQ10\n",
              "1           EQ10"
            ],
            "text/html": [
              "\n",
              "  <div id=\"df-8b882293-f889-4a63-b2a2-b6aec45ad591\">\n",
              "    <div class=\"colab-df-container\">\n",
              "      <div>\n",
              "<style scoped>\n",
              "    .dataframe tbody tr th:only-of-type {\n",
              "        vertical-align: middle;\n",
              "    }\n",
              "\n",
              "    .dataframe tbody tr th {\n",
              "        vertical-align: top;\n",
              "    }\n",
              "\n",
              "    .dataframe thead th {\n",
              "        text-align: right;\n",
              "    }\n",
              "</style>\n",
              "<table border=\"1\" class=\"dataframe\">\n",
              "  <thead>\n",
              "    <tr style=\"text-align: right;\">\n",
              "      <th></th>\n",
              "      <th>module_name_eq</th>\n",
              "    </tr>\n",
              "  </thead>\n",
              "  <tbody>\n",
              "    <tr>\n",
              "      <th>0</th>\n",
              "      <td>EQ10</td>\n",
              "    </tr>\n",
              "    <tr>\n",
              "      <th>1</th>\n",
              "      <td>EQ10</td>\n",
              "    </tr>\n",
              "  </tbody>\n",
              "</table>\n",
              "</div>\n",
              "      <button class=\"colab-df-convert\" onclick=\"convertToInteractive('df-8b882293-f889-4a63-b2a2-b6aec45ad591')\"\n",
              "              title=\"Convert this dataframe to an interactive table.\"\n",
              "              style=\"display:none;\">\n",
              "        \n",
              "  <svg xmlns=\"http://www.w3.org/2000/svg\" height=\"24px\"viewBox=\"0 0 24 24\"\n",
              "       width=\"24px\">\n",
              "    <path d=\"M0 0h24v24H0V0z\" fill=\"none\"/>\n",
              "    <path d=\"M18.56 5.44l.94 2.06.94-2.06 2.06-.94-2.06-.94-.94-2.06-.94 2.06-2.06.94zm-11 1L8.5 8.5l.94-2.06 2.06-.94-2.06-.94L8.5 2.5l-.94 2.06-2.06.94zm10 10l.94 2.06.94-2.06 2.06-.94-2.06-.94-.94-2.06-.94 2.06-2.06.94z\"/><path d=\"M17.41 7.96l-1.37-1.37c-.4-.4-.92-.59-1.43-.59-.52 0-1.04.2-1.43.59L10.3 9.45l-7.72 7.72c-.78.78-.78 2.05 0 2.83L4 21.41c.39.39.9.59 1.41.59.51 0 1.02-.2 1.41-.59l7.78-7.78 2.81-2.81c.8-.78.8-2.07 0-2.86zM5.41 20L4 18.59l7.72-7.72 1.47 1.35L5.41 20z\"/>\n",
              "  </svg>\n",
              "      </button>\n",
              "      \n",
              "  <style>\n",
              "    .colab-df-container {\n",
              "      display:flex;\n",
              "      flex-wrap:wrap;\n",
              "      gap: 12px;\n",
              "    }\n",
              "\n",
              "    .colab-df-convert {\n",
              "      background-color: #E8F0FE;\n",
              "      border: none;\n",
              "      border-radius: 50%;\n",
              "      cursor: pointer;\n",
              "      display: none;\n",
              "      fill: #1967D2;\n",
              "      height: 32px;\n",
              "      padding: 0 0 0 0;\n",
              "      width: 32px;\n",
              "    }\n",
              "\n",
              "    .colab-df-convert:hover {\n",
              "      background-color: #E2EBFA;\n",
              "      box-shadow: 0px 1px 2px rgba(60, 64, 67, 0.3), 0px 1px 3px 1px rgba(60, 64, 67, 0.15);\n",
              "      fill: #174EA6;\n",
              "    }\n",
              "\n",
              "    [theme=dark] .colab-df-convert {\n",
              "      background-color: #3B4455;\n",
              "      fill: #D2E3FC;\n",
              "    }\n",
              "\n",
              "    [theme=dark] .colab-df-convert:hover {\n",
              "      background-color: #434B5C;\n",
              "      box-shadow: 0px 1px 3px 1px rgba(0, 0, 0, 0.15);\n",
              "      filter: drop-shadow(0px 1px 2px rgba(0, 0, 0, 0.3));\n",
              "      fill: #FFFFFF;\n",
              "    }\n",
              "  </style>\n",
              "\n",
              "      <script>\n",
              "        const buttonEl =\n",
              "          document.querySelector('#df-8b882293-f889-4a63-b2a2-b6aec45ad591 button.colab-df-convert');\n",
              "        buttonEl.style.display =\n",
              "          google.colab.kernel.accessAllowed ? 'block' : 'none';\n",
              "\n",
              "        async function convertToInteractive(key) {\n",
              "          const element = document.querySelector('#df-8b882293-f889-4a63-b2a2-b6aec45ad591');\n",
              "          const dataTable =\n",
              "            await google.colab.kernel.invokeFunction('convertToInteractive',\n",
              "                                                     [key], {});\n",
              "          if (!dataTable) return;\n",
              "\n",
              "          const docLinkHtml = 'Like what you see? Visit the ' +\n",
              "            '<a target=\"_blank\" href=https://colab.research.google.com/notebooks/data_table.ipynb>data table notebook</a>'\n",
              "            + ' to learn more about interactive tables.';\n",
              "          element.innerHTML = '';\n",
              "          dataTable['output_type'] = 'display_data';\n",
              "          await google.colab.output.renderOutput(dataTable, element);\n",
              "          const docLink = document.createElement('div');\n",
              "          docLink.innerHTML = docLinkHtml;\n",
              "          element.appendChild(docLink);\n",
              "        }\n",
              "      </script>\n",
              "    </div>\n",
              "  </div>\n",
              "  "
            ]
          },
          "metadata": {},
          "execution_count": 27
        }
      ]
    },
    {
      "cell_type": "code",
      "source": [
        "# 전체 및 개별 공정 소요시간 7개의 변수를 생성합니다(3.4절)\n",
        "df_prep_train = gen_duration_feats(df_prep_train, lst_stepsgap)\n",
        "df_prep_predict = gen_duration_feats(df_prep_predict, lst_stepsgap)\n",
        "df_prep_train.filter(regex='tmdiff').head(2)"
      ],
      "metadata": {
        "colab": {
          "base_uri": "https://localhost:8080/",
          "height": 112
        },
        "id": "VJIRV70daNzk",
        "outputId": "c85b6f25-31a0-4199-fa4e-efa0d3c016f4"
      },
      "id": "VJIRV70daNzk",
      "execution_count": 28,
      "outputs": [
        {
          "output_type": "execute_result",
          "data": {
            "text/plain": [
              "   gen_tmdiff  gen_tmdiff_0406  gen_tmdiff_0612  gen_tmdiff_1213  \\\n",
              "0      1912.0            146.0            846.0             16.0   \n",
              "1      1912.0            145.0            847.0             16.0   \n",
              "\n",
              "   gen_tmdiff_1317  gen_tmdiff_1718  gen_tmdiff_1820  \n",
              "0            477.0             16.0            411.0  \n",
              "1            477.0             16.0            411.0  "
            ],
            "text/html": [
              "\n",
              "  <div id=\"df-11d6dd78-866c-4807-935c-3fcdd592d525\">\n",
              "    <div class=\"colab-df-container\">\n",
              "      <div>\n",
              "<style scoped>\n",
              "    .dataframe tbody tr th:only-of-type {\n",
              "        vertical-align: middle;\n",
              "    }\n",
              "\n",
              "    .dataframe tbody tr th {\n",
              "        vertical-align: top;\n",
              "    }\n",
              "\n",
              "    .dataframe thead th {\n",
              "        text-align: right;\n",
              "    }\n",
              "</style>\n",
              "<table border=\"1\" class=\"dataframe\">\n",
              "  <thead>\n",
              "    <tr style=\"text-align: right;\">\n",
              "      <th></th>\n",
              "      <th>gen_tmdiff</th>\n",
              "      <th>gen_tmdiff_0406</th>\n",
              "      <th>gen_tmdiff_0612</th>\n",
              "      <th>gen_tmdiff_1213</th>\n",
              "      <th>gen_tmdiff_1317</th>\n",
              "      <th>gen_tmdiff_1718</th>\n",
              "      <th>gen_tmdiff_1820</th>\n",
              "    </tr>\n",
              "  </thead>\n",
              "  <tbody>\n",
              "    <tr>\n",
              "      <th>0</th>\n",
              "      <td>1912.0</td>\n",
              "      <td>146.0</td>\n",
              "      <td>846.0</td>\n",
              "      <td>16.0</td>\n",
              "      <td>477.0</td>\n",
              "      <td>16.0</td>\n",
              "      <td>411.0</td>\n",
              "    </tr>\n",
              "    <tr>\n",
              "      <th>1</th>\n",
              "      <td>1912.0</td>\n",
              "      <td>145.0</td>\n",
              "      <td>847.0</td>\n",
              "      <td>16.0</td>\n",
              "      <td>477.0</td>\n",
              "      <td>16.0</td>\n",
              "      <td>411.0</td>\n",
              "    </tr>\n",
              "  </tbody>\n",
              "</table>\n",
              "</div>\n",
              "      <button class=\"colab-df-convert\" onclick=\"convertToInteractive('df-11d6dd78-866c-4807-935c-3fcdd592d525')\"\n",
              "              title=\"Convert this dataframe to an interactive table.\"\n",
              "              style=\"display:none;\">\n",
              "        \n",
              "  <svg xmlns=\"http://www.w3.org/2000/svg\" height=\"24px\"viewBox=\"0 0 24 24\"\n",
              "       width=\"24px\">\n",
              "    <path d=\"M0 0h24v24H0V0z\" fill=\"none\"/>\n",
              "    <path d=\"M18.56 5.44l.94 2.06.94-2.06 2.06-.94-2.06-.94-.94-2.06-.94 2.06-2.06.94zm-11 1L8.5 8.5l.94-2.06 2.06-.94-2.06-.94L8.5 2.5l-.94 2.06-2.06.94zm10 10l.94 2.06.94-2.06 2.06-.94-2.06-.94-.94-2.06-.94 2.06-2.06.94z\"/><path d=\"M17.41 7.96l-1.37-1.37c-.4-.4-.92-.59-1.43-.59-.52 0-1.04.2-1.43.59L10.3 9.45l-7.72 7.72c-.78.78-.78 2.05 0 2.83L4 21.41c.39.39.9.59 1.41.59.51 0 1.02-.2 1.41-.59l7.78-7.78 2.81-2.81c.8-.78.8-2.07 0-2.86zM5.41 20L4 18.59l7.72-7.72 1.47 1.35L5.41 20z\"/>\n",
              "  </svg>\n",
              "      </button>\n",
              "      \n",
              "  <style>\n",
              "    .colab-df-container {\n",
              "      display:flex;\n",
              "      flex-wrap:wrap;\n",
              "      gap: 12px;\n",
              "    }\n",
              "\n",
              "    .colab-df-convert {\n",
              "      background-color: #E8F0FE;\n",
              "      border: none;\n",
              "      border-radius: 50%;\n",
              "      cursor: pointer;\n",
              "      display: none;\n",
              "      fill: #1967D2;\n",
              "      height: 32px;\n",
              "      padding: 0 0 0 0;\n",
              "      width: 32px;\n",
              "    }\n",
              "\n",
              "    .colab-df-convert:hover {\n",
              "      background-color: #E2EBFA;\n",
              "      box-shadow: 0px 1px 2px rgba(60, 64, 67, 0.3), 0px 1px 3px 1px rgba(60, 64, 67, 0.15);\n",
              "      fill: #174EA6;\n",
              "    }\n",
              "\n",
              "    [theme=dark] .colab-df-convert {\n",
              "      background-color: #3B4455;\n",
              "      fill: #D2E3FC;\n",
              "    }\n",
              "\n",
              "    [theme=dark] .colab-df-convert:hover {\n",
              "      background-color: #434B5C;\n",
              "      box-shadow: 0px 1px 3px 1px rgba(0, 0, 0, 0.15);\n",
              "      filter: drop-shadow(0px 1px 2px rgba(0, 0, 0, 0.3));\n",
              "      fill: #FFFFFF;\n",
              "    }\n",
              "  </style>\n",
              "\n",
              "      <script>\n",
              "        const buttonEl =\n",
              "          document.querySelector('#df-11d6dd78-866c-4807-935c-3fcdd592d525 button.colab-df-convert');\n",
              "        buttonEl.style.display =\n",
              "          google.colab.kernel.accessAllowed ? 'block' : 'none';\n",
              "\n",
              "        async function convertToInteractive(key) {\n",
              "          const element = document.querySelector('#df-11d6dd78-866c-4807-935c-3fcdd592d525');\n",
              "          const dataTable =\n",
              "            await google.colab.kernel.invokeFunction('convertToInteractive',\n",
              "                                                     [key], {});\n",
              "          if (!dataTable) return;\n",
              "\n",
              "          const docLinkHtml = 'Like what you see? Visit the ' +\n",
              "            '<a target=\"_blank\" href=https://colab.research.google.com/notebooks/data_table.ipynb>data table notebook</a>'\n",
              "            + ' to learn more about interactive tables.';\n",
              "          element.innerHTML = '';\n",
              "          dataTable['output_type'] = 'display_data';\n",
              "          await google.colab.output.renderOutput(dataTable, element);\n",
              "          const docLink = document.createElement('div');\n",
              "          docLink.innerHTML = docLinkHtml;\n",
              "          element.appendChild(docLink);\n",
              "        }\n",
              "      </script>\n",
              "    </div>\n",
              "  </div>\n",
              "  "
            ]
          },
          "metadata": {},
          "execution_count": 28
        }
      ]
    },
    {
      "cell_type": "code",
      "source": [
        "# 센서 변수의 집약된 95개의 표준편차 변수를 생성합니다(3.5절)\n",
        "df_prep_train = gen_stats_feats(df_prep_train, sensors_nm, lst_steps)\n",
        "df_prep_predict = gen_stats_feats(df_prep_predict, sensors_nm, lst_steps)\n",
        "df_prep_train.filter(regex='_std').head(2)"
      ],
      "metadata": {
        "colab": {
          "base_uri": "https://localhost:8080/",
          "height": 205
        },
        "id": "_RErio6aaN75",
        "outputId": "11f6f2d7-8e5c-401e-d2fc-c46e5578a93b"
      },
      "id": "_RErio6aaN75",
      "execution_count": 29,
      "outputs": [
        {
          "output_type": "execute_result",
          "data": {
            "text/plain": [
              "   gen_efem_para2_std  gen_efem_para25_std  gen_efem_para78_std  \\\n",
              "0            1.540604             1.487185             0.045480   \n",
              "1            1.313742             1.372572             0.045224   \n",
              "\n",
              "   gen_epd_para4_std  gen_epd_para40_std  gen_epd_para63_std  \\\n",
              "0         377.964435            0.382780                 0.0   \n",
              "1         377.964435            0.462813                 0.0   \n",
              "\n",
              "   gen_epd_para80_std  gen_esc_para84_std  gen_esc_para94_std  \\\n",
              "0                 0.0            0.000000                 0.0   \n",
              "1                 0.0            0.003024                 0.0   \n",
              "\n",
              "   gen_fr_para28_std  ...  gen_time_para7_std  gen_time_para75_std  \\\n",
              "0        2926.724319  ...            0.163207             0.163356   \n",
              "1        2926.724319  ...            0.163207             0.165981   \n",
              "\n",
              "   gen_time_para77_std  gen_time_para8_std  gen_time_para81_std  \\\n",
              "0             0.163356            0.163207             0.163356   \n",
              "1             0.165981            0.163211             0.165981   \n",
              "\n",
              "   gen_time_para83_std  gen_time_para89_std  gen_time_para9_std  \\\n",
              "0             0.163207             0.163356            0.163207   \n",
              "1             0.163207             0.165981            0.163207   \n",
              "\n",
              "   gen_time_para90_std  gen_tmp_para31_std  \n",
              "0             0.163356             0.54963  \n",
              "1             0.165981             0.55689  \n",
              "\n",
              "[2 rows x 95 columns]"
            ],
            "text/html": [
              "\n",
              "  <div id=\"df-22471c3c-b835-4441-ba79-d2fd92e42505\">\n",
              "    <div class=\"colab-df-container\">\n",
              "      <div>\n",
              "<style scoped>\n",
              "    .dataframe tbody tr th:only-of-type {\n",
              "        vertical-align: middle;\n",
              "    }\n",
              "\n",
              "    .dataframe tbody tr th {\n",
              "        vertical-align: top;\n",
              "    }\n",
              "\n",
              "    .dataframe thead th {\n",
              "        text-align: right;\n",
              "    }\n",
              "</style>\n",
              "<table border=\"1\" class=\"dataframe\">\n",
              "  <thead>\n",
              "    <tr style=\"text-align: right;\">\n",
              "      <th></th>\n",
              "      <th>gen_efem_para2_std</th>\n",
              "      <th>gen_efem_para25_std</th>\n",
              "      <th>gen_efem_para78_std</th>\n",
              "      <th>gen_epd_para4_std</th>\n",
              "      <th>gen_epd_para40_std</th>\n",
              "      <th>gen_epd_para63_std</th>\n",
              "      <th>gen_epd_para80_std</th>\n",
              "      <th>gen_esc_para84_std</th>\n",
              "      <th>gen_esc_para94_std</th>\n",
              "      <th>gen_fr_para28_std</th>\n",
              "      <th>...</th>\n",
              "      <th>gen_time_para7_std</th>\n",
              "      <th>gen_time_para75_std</th>\n",
              "      <th>gen_time_para77_std</th>\n",
              "      <th>gen_time_para8_std</th>\n",
              "      <th>gen_time_para81_std</th>\n",
              "      <th>gen_time_para83_std</th>\n",
              "      <th>gen_time_para89_std</th>\n",
              "      <th>gen_time_para9_std</th>\n",
              "      <th>gen_time_para90_std</th>\n",
              "      <th>gen_tmp_para31_std</th>\n",
              "    </tr>\n",
              "  </thead>\n",
              "  <tbody>\n",
              "    <tr>\n",
              "      <th>0</th>\n",
              "      <td>1.540604</td>\n",
              "      <td>1.487185</td>\n",
              "      <td>0.045480</td>\n",
              "      <td>377.964435</td>\n",
              "      <td>0.382780</td>\n",
              "      <td>0.0</td>\n",
              "      <td>0.0</td>\n",
              "      <td>0.000000</td>\n",
              "      <td>0.0</td>\n",
              "      <td>2926.724319</td>\n",
              "      <td>...</td>\n",
              "      <td>0.163207</td>\n",
              "      <td>0.163356</td>\n",
              "      <td>0.163356</td>\n",
              "      <td>0.163207</td>\n",
              "      <td>0.163356</td>\n",
              "      <td>0.163207</td>\n",
              "      <td>0.163356</td>\n",
              "      <td>0.163207</td>\n",
              "      <td>0.163356</td>\n",
              "      <td>0.54963</td>\n",
              "    </tr>\n",
              "    <tr>\n",
              "      <th>1</th>\n",
              "      <td>1.313742</td>\n",
              "      <td>1.372572</td>\n",
              "      <td>0.045224</td>\n",
              "      <td>377.964435</td>\n",
              "      <td>0.462813</td>\n",
              "      <td>0.0</td>\n",
              "      <td>0.0</td>\n",
              "      <td>0.003024</td>\n",
              "      <td>0.0</td>\n",
              "      <td>2926.724319</td>\n",
              "      <td>...</td>\n",
              "      <td>0.163207</td>\n",
              "      <td>0.165981</td>\n",
              "      <td>0.165981</td>\n",
              "      <td>0.163211</td>\n",
              "      <td>0.165981</td>\n",
              "      <td>0.163207</td>\n",
              "      <td>0.165981</td>\n",
              "      <td>0.163207</td>\n",
              "      <td>0.165981</td>\n",
              "      <td>0.55689</td>\n",
              "    </tr>\n",
              "  </tbody>\n",
              "</table>\n",
              "<p>2 rows × 95 columns</p>\n",
              "</div>\n",
              "      <button class=\"colab-df-convert\" onclick=\"convertToInteractive('df-22471c3c-b835-4441-ba79-d2fd92e42505')\"\n",
              "              title=\"Convert this dataframe to an interactive table.\"\n",
              "              style=\"display:none;\">\n",
              "        \n",
              "  <svg xmlns=\"http://www.w3.org/2000/svg\" height=\"24px\"viewBox=\"0 0 24 24\"\n",
              "       width=\"24px\">\n",
              "    <path d=\"M0 0h24v24H0V0z\" fill=\"none\"/>\n",
              "    <path d=\"M18.56 5.44l.94 2.06.94-2.06 2.06-.94-2.06-.94-.94-2.06-.94 2.06-2.06.94zm-11 1L8.5 8.5l.94-2.06 2.06-.94-2.06-.94L8.5 2.5l-.94 2.06-2.06.94zm10 10l.94 2.06.94-2.06 2.06-.94-2.06-.94-.94-2.06-.94 2.06-2.06.94z\"/><path d=\"M17.41 7.96l-1.37-1.37c-.4-.4-.92-.59-1.43-.59-.52 0-1.04.2-1.43.59L10.3 9.45l-7.72 7.72c-.78.78-.78 2.05 0 2.83L4 21.41c.39.39.9.59 1.41.59.51 0 1.02-.2 1.41-.59l7.78-7.78 2.81-2.81c.8-.78.8-2.07 0-2.86zM5.41 20L4 18.59l7.72-7.72 1.47 1.35L5.41 20z\"/>\n",
              "  </svg>\n",
              "      </button>\n",
              "      \n",
              "  <style>\n",
              "    .colab-df-container {\n",
              "      display:flex;\n",
              "      flex-wrap:wrap;\n",
              "      gap: 12px;\n",
              "    }\n",
              "\n",
              "    .colab-df-convert {\n",
              "      background-color: #E8F0FE;\n",
              "      border: none;\n",
              "      border-radius: 50%;\n",
              "      cursor: pointer;\n",
              "      display: none;\n",
              "      fill: #1967D2;\n",
              "      height: 32px;\n",
              "      padding: 0 0 0 0;\n",
              "      width: 32px;\n",
              "    }\n",
              "\n",
              "    .colab-df-convert:hover {\n",
              "      background-color: #E2EBFA;\n",
              "      box-shadow: 0px 1px 2px rgba(60, 64, 67, 0.3), 0px 1px 3px 1px rgba(60, 64, 67, 0.15);\n",
              "      fill: #174EA6;\n",
              "    }\n",
              "\n",
              "    [theme=dark] .colab-df-convert {\n",
              "      background-color: #3B4455;\n",
              "      fill: #D2E3FC;\n",
              "    }\n",
              "\n",
              "    [theme=dark] .colab-df-convert:hover {\n",
              "      background-color: #434B5C;\n",
              "      box-shadow: 0px 1px 3px 1px rgba(0, 0, 0, 0.15);\n",
              "      filter: drop-shadow(0px 1px 2px rgba(0, 0, 0, 0.3));\n",
              "      fill: #FFFFFF;\n",
              "    }\n",
              "  </style>\n",
              "\n",
              "      <script>\n",
              "        const buttonEl =\n",
              "          document.querySelector('#df-22471c3c-b835-4441-ba79-d2fd92e42505 button.colab-df-convert');\n",
              "        buttonEl.style.display =\n",
              "          google.colab.kernel.accessAllowed ? 'block' : 'none';\n",
              "\n",
              "        async function convertToInteractive(key) {\n",
              "          const element = document.querySelector('#df-22471c3c-b835-4441-ba79-d2fd92e42505');\n",
              "          const dataTable =\n",
              "            await google.colab.kernel.invokeFunction('convertToInteractive',\n",
              "                                                     [key], {});\n",
              "          if (!dataTable) return;\n",
              "\n",
              "          const docLinkHtml = 'Like what you see? Visit the ' +\n",
              "            '<a target=\"_blank\" href=https://colab.research.google.com/notebooks/data_table.ipynb>data table notebook</a>'\n",
              "            + ' to learn more about interactive tables.';\n",
              "          element.innerHTML = '';\n",
              "          dataTable['output_type'] = 'display_data';\n",
              "          await google.colab.output.renderOutput(dataTable, element);\n",
              "          const docLink = document.createElement('div');\n",
              "          docLink.innerHTML = docLinkHtml;\n",
              "          element.appendChild(docLink);\n",
              "        }\n",
              "      </script>\n",
              "    </div>\n",
              "  </div>\n",
              "  "
            ]
          },
          "metadata": {},
          "execution_count": 29
        }
      ]
    },
    {
      "cell_type": "markdown",
      "metadata": {
        "id": "931c5006"
      },
      "source": [
        "<a name='04-02'></a>\n",
        "### 4.2 (작업) 이상치 치환하기 \n",
        "\n",
        "분위점을 임계값으로 삼아 이상치를 치환합니다. \n",
        "\n",
        "학습 데이터의 1%점을 하한, 99%점을 상한으로 잡고 해당 범위를 벗어나는 값을 각각 **하한값과 상한값으로 치환**합니다. \n",
        "\n",
        "이상치 관련 내용 제거"
      ],
      "id": "931c5006"
    },
    {
      "cell_type": "code",
      "source": [
        "# 이상치 확인을 위한 데이터 복사 \n",
        "df_outlier = df_prep_train.copy()"
      ],
      "metadata": {
        "id": "xQy5tKXp6ZCP"
      },
      "id": "xQy5tKXp6ZCP",
      "execution_count": 30,
      "outputs": []
    },
    {
      "cell_type": "code",
      "source": [
        "def outlier(x, p01, p99):\n",
        "\n",
        "  if x < p01 or x > p99:\n",
        "    return 'Y'\n",
        "  else:\n",
        "    return 'N'\n",
        "\n",
        "# 특정 컬럼의 이상치를 확인해봅니다. \n",
        "tmp_lst = ['04_fr_para35', '04_gas_para36', '04_fr_para28', '04_temp_para66']\n",
        "\n",
        "# for col in tmp_lst:\n",
        "\n",
        "#     p01 = df_outlier[col].quantile(0.01) \n",
        "#     p99 = df_outlier[col].quantile(0.99) \n",
        "\n",
        "    # df_outlier[f'{col}_outlier'] = df_outlier[col].apply(outlier, args=(p01, p99))\n"
      ],
      "metadata": {
        "id": "wyyXXMix7cfx"
      },
      "id": "wyyXXMix7cfx",
      "execution_count": 31,
      "outputs": []
    },
    {
      "cell_type": "markdown",
      "source": [
        "상한값과 하한값을 벗어나는 데이터 포인트를 확인합니다."
      ],
      "metadata": {
        "id": "t4TnvrI6-gWd"
      },
      "id": "t4TnvrI6-gWd"
    },
    {
      "cell_type": "code",
      "source": [
        "# fig, axes = plt.subplots(nrows=2, ncols=2, sharey=True, figsize=(10,5))\n",
        "# fig.subplots_adjust(hspace=.4, wspace=.1)\n",
        "\n",
        "# sns.scatterplot(x='04_fr_para35', y='y', hue='04_fr_para35_outlier', data = df_outlier, ax=axes[0,0], legend=False)\n",
        "# sns.scatterplot(x='04_gas_para36', y='y', hue='04_gas_para36_outlier', data = df_outlier, ax=axes[0,1])\n",
        "# sns.scatterplot(x='04_fr_para28', y='y',  hue='04_fr_para28_outlier', data = df_outlier, ax=axes[1,0], legend=False)\n",
        "# sns.scatterplot(x='04_temp_para66', y='y', hue='04_temp_para66_outlier', data = df_outlier, ax=axes[1,1], legend=False)\n",
        "# axes[0,1].legend(loc='lower left', ncol=1, title='Outlier', bbox_to_anchor=(1.04, -0.5))"
      ],
      "metadata": {
        "id": "gTs7wrF28c_1"
      },
      "id": "gTs7wrF28c_1",
      "execution_count": 32,
      "outputs": []
    },
    {
      "cell_type": "code",
      "execution_count": 33,
      "metadata": {
        "id": "33be8c10"
      },
      "outputs": [],
      "source": [
        "# 기존 센서 변수(665개)와 생성 변수 중 수치형 변수(102개) 컬럼을 정의합니다. \n",
        "col_numerical = col_sensor + df_prep_train.filter(regex='^gen_').columns.tolist()"
      ],
      "id": "33be8c10"
    },
    {
      "cell_type": "code",
      "source": [
        "for col in col_numerical:\n",
        "    # 열마다 학습 데이터의 1%, 99% 지점을 확인합니다.\n",
        "    p01 = df_prep_train[col].quantile(0.01) \n",
        "    p99 = df_prep_train[col].quantile(0.99) \n",
        "\n",
        "    # 1%점 이하의 값은 1%점으로, 99%점 이상의 값은 99%점으로 클리핑합니다. \n",
        "    df_prep_train[col] = df_prep_train[col].clip(p01, p99)\n",
        "    df_prep_predict[col] = df_prep_predict[col].clip(p01, p99)\n",
        "\n"
      ],
      "metadata": {
        "id": "z7KZTqq-f3U7"
      },
      "id": "z7KZTqq-f3U7",
      "execution_count": 34,
      "outputs": []
    },
    {
      "cell_type": "markdown",
      "source": [
        "이상치 처리후 결과를 확인합니다."
      ],
      "metadata": {
        "id": "BsNY4_yJ_Gjn"
      },
      "id": "BsNY4_yJ_Gjn"
    },
    {
      "cell_type": "code",
      "source": [
        "fig, axes = plt.subplots(nrows=2, ncols=2, sharey=True, figsize=(10,5))\n",
        "fig.subplots_adjust(hspace=.4, wspace=.1)\n",
        "\n",
        "sns.scatterplot(x='04_fr_para35', y='y', data = df_prep_train, ax=axes[0,0])\n",
        "sns.scatterplot(x='04_gas_para36', y='y', data = df_prep_train, ax=axes[0,1])\n",
        "sns.scatterplot(x='04_fr_para28', y='y',  data = df_prep_train, ax=axes[1,0])\n",
        "sns.scatterplot(x='04_temp_para66', y='y', data = df_prep_train, ax=axes[1,1])"
      ],
      "metadata": {
        "colab": {
          "base_uri": "https://localhost:8080/",
          "height": 353
        },
        "id": "NEYCLhbtf9Tb",
        "outputId": "95624a42-8572-45fd-dcea-3b67bf1d52ca"
      },
      "id": "NEYCLhbtf9Tb",
      "execution_count": 35,
      "outputs": [
        {
          "output_type": "execute_result",
          "data": {
            "text/plain": [
              "<matplotlib.axes._subplots.AxesSubplot at 0x7fa64cbf9f10>"
            ]
          },
          "metadata": {},
          "execution_count": 35
        },
        {
          "output_type": "display_data",
          "data": {
            "text/plain": [
              "<Figure size 720x360 with 4 Axes>"
            ],
            "image/png": "[encoded data removed]"
          },
          "metadata": {
            "needs_background": "light"
          }
        }
      ]
    },
    {
      "cell_type": "markdown",
      "metadata": {
        "id": "76b7ca94"
      },
      "source": [
        "<a name='04-03'></a>\n",
        "### 4.3 (작업) 분산이 적은 변수 제거\n",
        "분산 기준 설정(Variance Thresholding)은 가장 기본적인 특성 선택 방법 중 하나입니다. \n",
        "\n",
        "분산이 0 인 특징은 정보가 없으므로 해당 특징을 삭제합니다.\n",
        "\n",
        "(작업) 분산 기준 0 --> 0.001 로 변경"
      ],
      "id": "76b7ca94"
    },
    {
      "cell_type": "code",
      "execution_count": 36,
      "metadata": {
        "colab": {
          "base_uri": "https://localhost:8080/"
        },
        "id": "affa633e",
        "outputId": "5d585401-7bad-443a-9a5d-ca152b055725"
      },
      "outputs": [
        {
          "output_type": "stream",
          "name": "stdout",
          "text": [
            "** 460 Features to Drop by Low Variance\n",
            "['04_epd_para4', '04_epd_para40', '04_epd_para63', '04_epd_para80', '04_esc_para84', '04_fr_para28', '04_fr_para35', '04_fr_para69', '04_gas_para10', '04_gas_para13', '04_gas_para15', '04_gas_para19', '04_gas_para26', '04_gas_para27', '04_gas_para39', '04_gas_para46', '04_gas_para48', '04_gas_para50', '04_gas_para52', '04_gas_para70', '04_gas_para71', '04_gas_para73', '04_gas_para74', '04_gas_para85', '04_he_para1', '04_he_para95', '04_power_para14', '04_power_para49', '04_power_para57', '04_power_para68', '04_power_para82', '04_pressure_para91', '04_temp_para11', '04_temp_para24', '04_temp_para32', '04_temp_para55', '04_temp_para66', '04_temp_para79', '04_time_para5', '06_epd_para80', '06_esc_para84', '06_fr_para28', '06_fr_para35', '06_fr_para69', '06_gas_para10', '06_gas_para13', '06_gas_para15', '06_gas_para19', '06_gas_para26', '06_gas_para27', '06_gas_para39', '06_gas_para46', '06_gas_para48', '06_gas_para50', '06_gas_para51', '06_gas_para52', '06_gas_para70', '06_gas_para73', '06_gas_para74', '06_gas_para85', '06_he_para1', '06_he_para95', '06_hv_para3', '06_hv_para45', '06_hv_para47', '06_hv_para56', '06_power_para14', '06_power_para68', '06_power_para82', '06_pressure_para91', '06_temp_para11', '06_temp_para24', '06_temp_para32', '06_temp_para53', '06_temp_para55', '06_temp_para66', '06_temp_para79', '06_temp_para92', '06_temp_para93', '06_time_para5', '12_epd_para4', '12_epd_para40', '12_epd_para63', '12_epd_para80', '12_esc_para84', '12_fr_para28', '12_fr_para69', '12_gas_para10', '12_gas_para13', '12_gas_para15', '12_gas_para19', '12_gas_para26', '12_gas_para27', '12_gas_para39', '12_gas_para46', '12_gas_para48', '12_gas_para50', '12_gas_para51', '12_gas_para52', '12_gas_para59', '12_gas_para70', '12_gas_para71', '12_gas_para85', '12_he_para1', '12_he_para95', '12_hv_para3', '12_power_para49', '12_power_para68', '12_pressure_para91', '12_temp_para11', '12_temp_para23', '12_temp_para32', '12_temp_para54', '12_temp_para55', '12_temp_para66', '12_temp_para79', '13_epd_para4', '13_epd_para40', '13_epd_para63', '13_epd_para80', '13_esc_para84', '13_fr_para28', '13_fr_para69', '13_gas_para10', '13_gas_para15', '13_gas_para19', '13_gas_para26', '13_gas_para27', '13_gas_para39', '13_gas_para48', '13_gas_para50', '13_gas_para52', '13_gas_para70', '13_gas_para71', '13_gas_para74', '13_gas_para85', '13_he_para1', '13_he_para95', '13_hv_para3', '13_hv_para56', '13_power_para49', '13_power_para68', '13_pressure_para91', '13_temp_para11', '13_temp_para23', '13_temp_para54', '13_temp_para55', '13_temp_para66', '13_temp_para79', '17_epd_para4', '17_epd_para40', '17_epd_para63', '17_epd_para80', '17_esc_para84', '17_fr_para28', '17_fr_para69', '17_gas_para10', '17_gas_para13', '17_gas_para15', '17_gas_para19', '17_gas_para26', '17_gas_para27', '17_gas_para39', '17_gas_para46', '17_gas_para48', '17_gas_para50', '17_gas_para51', '17_gas_para52', '17_gas_para59', '17_gas_para70', '17_gas_para71', '17_gas_para85', '17_he_para1', '17_he_para95', '17_hv_para3', '17_power_para49', '17_power_para68', '17_pressure_para91', '17_temp_para11', '17_temp_para23', '17_temp_para32', '17_temp_para54', '17_temp_para55', '17_temp_para66', '17_temp_para79', '18_epd_para4', '18_epd_para40', '18_epd_para63', '18_epd_para80', '18_esc_para84', '18_fr_para28', '18_fr_para69', '18_gas_para10', '18_gas_para13', '18_gas_para15', '18_gas_para19', '18_gas_para26', '18_gas_para27', '18_gas_para39', '18_gas_para48', '18_gas_para50', '18_gas_para70', '18_gas_para71', '18_gas_para74', '18_gas_para85', '18_he_para1', '18_he_para95', '18_hv_para3', '18_hv_para56', '18_power_para49', '18_power_para68', '18_pressure_para91', '18_temp_para11', '18_temp_para23', '18_temp_para54', '18_temp_para55', '18_temp_para66', '18_temp_para79', '20_epd_para40', '20_epd_para63', '20_epd_para80', '20_esc_para84', '20_fr_para28', '20_fr_para69', '20_gas_para10', '20_gas_para13', '20_gas_para15', '20_gas_para19', '20_gas_para26', '20_gas_para27', '20_gas_para33', '20_gas_para46', '20_gas_para48', '20_gas_para51', '20_gas_para52', '20_gas_para70', '20_gas_para71', '20_gas_para73', '20_gas_para74', '20_gas_para85', '20_he_para1', '20_he_para95', '20_hv_para3', '20_hv_para45', '20_hv_para47', '20_hv_para56', '20_power_para49', '20_power_para68', '20_pressure_para91', '20_temp_para11', '20_temp_para23', '20_temp_para32', '20_temp_para53', '20_temp_para54', '20_temp_para55', '20_temp_para66', '20_temp_para79', '20_temp_para87', '20_temp_para93', 'gen_tmdiff_1718', 'gen_epd_para4_min', 'gen_epd_para40_diff', 'gen_epd_para40_max', 'gen_epd_para63_std', 'gen_epd_para63_diff', 'gen_epd_para63_mean', 'gen_epd_para63_max', 'gen_epd_para80_std', 'gen_epd_para80_diff', 'gen_epd_para80_mean', 'gen_epd_para80_max', 'gen_epd_para80_min', 'gen_esc_para84_std', 'gen_esc_para84_diff', 'gen_esc_para84_mean', 'gen_esc_para84_max', 'gen_esc_para84_min', 'gen_fr_para28_std', 'gen_fr_para28_diff', 'gen_fr_para28_mean', 'gen_fr_para28_max', 'gen_fr_para28_min', 'gen_fr_para35_min', 'gen_fr_para69_std', 'gen_fr_para69_diff', 'gen_fr_para69_mean', 'gen_fr_para69_max', 'gen_fr_para69_min', 'gen_gas_para10_std', 'gen_gas_para10_mean', 'gen_gas_para10_max', 'gen_gas_para10_min', 'gen_gas_para13_std', 'gen_gas_para13_diff', 'gen_gas_para13_mean', 'gen_gas_para13_max', 'gen_gas_para13_min', 'gen_gas_para15_std', 'gen_gas_para15_diff', 'gen_gas_para15_mean', 'gen_gas_para15_max', 'gen_gas_para15_min', 'gen_gas_para19_std', 'gen_gas_para19_mean', 'gen_gas_para19_max', 'gen_gas_para19_min', 'gen_gas_para26_std', 'gen_gas_para26_diff', 'gen_gas_para26_mean', 'gen_gas_para26_max', 'gen_gas_para26_min', 'gen_gas_para27_std', 'gen_gas_para27_diff', 'gen_gas_para27_mean', 'gen_gas_para27_max', 'gen_gas_para27_min', 'gen_gas_para33_diff', 'gen_gas_para33_max', 'gen_gas_para36_std', 'gen_gas_para39_min', 'gen_gas_para46_std', 'gen_gas_para46_diff', 'gen_gas_para46_mean', 'gen_gas_para46_max', 'gen_gas_para46_min', 'gen_gas_para48_std', 'gen_gas_para48_diff', 'gen_gas_para48_mean', 'gen_gas_para48_max', 'gen_gas_para48_min', 'gen_gas_para50_std', 'gen_gas_para50_mean', 'gen_gas_para50_min', 'gen_gas_para51_min', 'gen_gas_para52_std', 'gen_gas_para52_diff', 'gen_gas_para52_mean', 'gen_gas_para52_max', 'gen_gas_para52_min', 'gen_gas_para59_std', 'gen_gas_para59_diff', 'gen_gas_para59_mean', 'gen_gas_para59_max', 'gen_gas_para70_std', 'gen_gas_para70_diff', 'gen_gas_para70_mean', 'gen_gas_para70_max', 'gen_gas_para70_min', 'gen_gas_para71_std', 'gen_gas_para71_mean', 'gen_gas_para71_min', 'gen_gas_para73_std', 'gen_gas_para73_diff', 'gen_gas_para73_mean', 'gen_gas_para73_max', 'gen_gas_para73_min', 'gen_gas_para74_std', 'gen_gas_para74_diff', 'gen_gas_para74_mean', 'gen_gas_para74_max', 'gen_gas_para74_min', 'gen_gas_para85_std', 'gen_gas_para85_diff', 'gen_gas_para85_mean', 'gen_gas_para85_max', 'gen_gas_para85_min', 'gen_he_para1_std', 'gen_he_para1_diff', 'gen_he_para1_mean', 'gen_he_para1_max', 'gen_he_para1_min', 'gen_he_para95_std', 'gen_he_para95_diff', 'gen_he_para95_mean', 'gen_he_para95_max', 'gen_he_para95_min', 'gen_hv_para3_std', 'gen_hv_para3_diff', 'gen_hv_para3_mean', 'gen_hv_para3_max', 'gen_hv_para3_min', 'gen_hv_para45_min', 'gen_hv_para47_min', 'gen_hv_para56_std', 'gen_hv_para56_diff', 'gen_hv_para56_mean', 'gen_hv_para56_max', 'gen_hv_para56_min', 'gen_power_para14_min', 'gen_power_para49_min', 'gen_power_para57_min', 'gen_power_para68_std', 'gen_power_para68_mean', 'gen_power_para68_max', 'gen_power_para68_min', 'gen_power_para82_min', 'gen_pressure_para91_std', 'gen_pressure_para91_diff', 'gen_pressure_para91_mean', 'gen_pressure_para91_max', 'gen_pressure_para91_min', 'gen_temp_para11_std', 'gen_temp_para11_diff', 'gen_temp_para11_mean', 'gen_temp_para11_max', 'gen_temp_para11_min', 'gen_temp_para23_std', 'gen_temp_para23_mean', 'gen_temp_para23_min', 'gen_temp_para24_min', 'gen_temp_para32_std', 'gen_temp_para32_diff', 'gen_temp_para32_mean', 'gen_temp_para32_max', 'gen_temp_para53_std', 'gen_temp_para53_mean', 'gen_temp_para53_min', 'gen_temp_para54_min', 'gen_temp_para55_std', 'gen_temp_para55_diff', 'gen_temp_para55_mean', 'gen_temp_para55_max', 'gen_temp_para55_min', 'gen_temp_para66_std', 'gen_temp_para66_diff', 'gen_temp_para66_mean', 'gen_temp_para66_max', 'gen_temp_para66_min', 'gen_temp_para79_std', 'gen_temp_para79_diff', 'gen_temp_para79_mean', 'gen_temp_para79_max', 'gen_temp_para79_min', 'gen_temp_para92_min', 'gen_temp_para93_std', 'gen_temp_para93_mean', 'gen_temp_para93_min', 'gen_time_para16_std', 'gen_time_para29_std', 'gen_time_para30_std', 'gen_time_para34_std', 'gen_time_para37_std', 'gen_time_para41_std', 'gen_time_para42_std', 'gen_time_para43_std', 'gen_time_para44_std', 'gen_time_para5_min', 'gen_time_para62_std', 'gen_time_para64_std', 'gen_time_para67_std', 'gen_time_para7_std', 'gen_time_para75_std', 'gen_time_para77_std', 'gen_time_para8_std', 'gen_time_para81_std', 'gen_time_para83_std', 'gen_time_para89_std', 'gen_time_para9_std', 'gen_time_para90_std', 'gen_tmp_para31_std']\n"
          ]
        }
      ],
      "source": [
        "# threshold 인자를 변경하여 분산의 기준값을 수동으로 선택할 수 있습니다.\n",
        "thresholder = VarianceThreshold(threshold=0.001)\n",
        "_ = thresholder.fit_transform(df_prep_train[col_numerical])\n",
        "\n",
        " # 분산이 0이면 True 이므로 제거할 컬럼을 추출합니다.  \n",
        "mask = ~thresholder.get_support()\n",
        "cols_var_drop = np.asarray(col_numerical)[mask].tolist()\n",
        "print(f'** {len(cols_var_drop)} Features to Drop by Low Variance')\n",
        "print(f'{cols_var_drop}')"
      ],
      "id": "affa633e"
    },
    {
      "cell_type": "markdown",
      "source": [
        "분산이 0인 특징에 대해 확인해보겠습니다."
      ],
      "metadata": {
        "id": "_hdJERrgowdK"
      },
      "id": "_hdJERrgowdK"
    },
    {
      "cell_type": "code",
      "source": [
        "sns.scatterplot(x=cols_var_drop[0], y='y', data=df_prep_train)"
      ],
      "metadata": {
        "colab": {
          "base_uri": "https://localhost:8080/",
          "height": 299
        },
        "id": "kYjfRuh2gNoz",
        "outputId": "53facaf8-dbad-454d-de5b-ddc4e2fc9b73"
      },
      "id": "kYjfRuh2gNoz",
      "execution_count": 37,
      "outputs": [
        {
          "output_type": "execute_result",
          "data": {
            "text/plain": [
              "<matplotlib.axes._subplots.AxesSubplot at 0x7fa64bf6dad0>"
            ]
          },
          "metadata": {},
          "execution_count": 37
        },
        {
          "output_type": "display_data",
          "data": {
            "text/plain": [
              "<Figure size 432x288 with 1 Axes>"
            ],
            "image/png": "[encoded data removed]"
          },
          "metadata": {
            "needs_background": "light"
          }
        }
      ]
    },
    {
      "cell_type": "markdown",
      "source": [
        "<a name='04-04'></a>\n",
        "### 4.4 표준화\n",
        "\n",
        "선형 모델에서는 값의 범위가 큰 변수일수록 회귀계수가 작아지므로 변수의 정규화가 어려워집니다. \n",
        "\n",
        "StandardScaler 클래스를 사용하여 수치형 독립 변수에 대해 평균 0, 표준편차 1로 표준화를 수행합니다.  \n",
        "\n",
        "먼저, 독립 변수의 평균과 표준편차를 확인해봅니다.\n",
        "\n"
      ],
      "metadata": {
        "id": "qguXsWxDlS5P"
      },
      "id": "qguXsWxDlS5P"
    },
    {
      "cell_type": "code",
      "source": [
        "# 각 변수의 평균을 확인합니다.\n",
        "sp.mean(df_prep_train[col_numerical], axis=0).head(3)"
      ],
      "metadata": {
        "colab": {
          "base_uri": "https://localhost:8080/"
        },
        "id": "qiQORz3ejNEF",
        "outputId": "791705fb-9dcc-4bdc-d454-9b4b1bba4c57"
      },
      "id": "qiQORz3ejNEF",
      "execution_count": 38,
      "outputs": [
        {
          "output_type": "execute_result",
          "data": {
            "text/plain": [
              "04_efem_para2     1568.802687\n",
              "04_efem_para25    1570.209268\n",
              "04_efem_para78       6.056739\n",
              "dtype: float64"
            ]
          },
          "metadata": {},
          "execution_count": 38
        }
      ]
    },
    {
      "cell_type": "code",
      "source": [
        "# 각 변수의 표준편차를 확인합니다.\n",
        "sp.std(df_prep_train[col_numerical], ddof =1, axis=0).head(3)"
      ],
      "metadata": {
        "colab": {
          "base_uri": "https://localhost:8080/"
        },
        "id": "Yn4PO2u_jOmx",
        "outputId": "64b5e286-7b33-4455-db97-5141e3cca7ab"
      },
      "id": "Yn4PO2u_jOmx",
      "execution_count": 39,
      "outputs": [
        {
          "output_type": "execute_result",
          "data": {
            "text/plain": [
              "04_efem_para2     80.318826\n",
              "04_efem_para25    85.396796\n",
              "04_efem_para78     1.221182\n",
              "dtype: float64"
            ]
          },
          "metadata": {},
          "execution_count": 39
        }
      ]
    },
    {
      "cell_type": "markdown",
      "source": [
        "표준화를 수행한 후 각 수치형 변수 컬럼을 치환합니다."
      ],
      "metadata": {
        "id": "LiU2FOyMmvpx"
      },
      "id": "LiU2FOyMmvpx"
    },
    {
      "cell_type": "code",
      "source": [
        "scaler = StandardScaler()\n",
        "# 학습 데이터 각 변수의 평균값과 표준편차를 저장한 후, 이를 사용하여 학습 및 평가용 데이터를 변환합니다.\n",
        "df_prep_train[col_numerical] = scaler.fit_transform(df_prep_train[col_numerical])\n",
        "df_prep_predict[col_numerical] = scaler.transform(df_prep_predict[col_numerical])"
      ],
      "metadata": {
        "id": "Biaf-Ct4lMfo"
      },
      "id": "Biaf-Ct4lMfo",
      "execution_count": 40,
      "outputs": []
    },
    {
      "cell_type": "markdown",
      "source": [
        "학습 데이터의 평균이 0, 표준편차가 1로 변환되었는지 확인합니다."
      ],
      "metadata": {
        "id": "oENATQSwmZtM"
      },
      "id": "oENATQSwmZtM"
    },
    {
      "cell_type": "code",
      "source": [
        "# 표준화된 변수의 평균을 확인합니다.\n",
        "sp.mean(df_prep_train[col_numerical], axis=0).head(3).round(3)"
      ],
      "metadata": {
        "colab": {
          "base_uri": "https://localhost:8080/"
        },
        "id": "Hdz_H3Zviura",
        "outputId": "7b1633ff-5df0-443b-f7c4-a62d87c85323"
      },
      "id": "Hdz_H3Zviura",
      "execution_count": 41,
      "outputs": [
        {
          "output_type": "execute_result",
          "data": {
            "text/plain": [
              "04_efem_para2    -0.0\n",
              "04_efem_para25    0.0\n",
              "04_efem_para78    0.0\n",
              "dtype: float64"
            ]
          },
          "metadata": {},
          "execution_count": 41
        }
      ]
    },
    {
      "cell_type": "code",
      "source": [
        "# 표준화된 변수의 표준편차를 확인합니다.\n",
        "sp.std(df_prep_train[col_numerical], axis=0).head(3)"
      ],
      "metadata": {
        "colab": {
          "base_uri": "https://localhost:8080/"
        },
        "id": "ZTaIJqzdjXzV",
        "outputId": "bc37107a-45b6-4a97-9d5f-4cc044e14717"
      },
      "id": "ZTaIJqzdjXzV",
      "execution_count": 42,
      "outputs": [
        {
          "output_type": "execute_result",
          "data": {
            "text/plain": [
              "04_efem_para2     1.0\n",
              "04_efem_para25    1.0\n",
              "04_efem_para78    1.0\n",
              "dtype: float64"
            ]
          },
          "metadata": {},
          "execution_count": 42
        }
      ]
    },
    {
      "cell_type": "markdown",
      "source": [
        "<a name='04-05'></a>\n",
        "### 4.5 원-핫 인코딩\n",
        "\n",
        "**module_name_eq** 는 문자열로 나타난 범주형 변수입니다.\n",
        "\n",
        "범주형 변수의 대표적인 변환 기법인 원-핫 인코딩을 사용하여 변환합니다. "
      ],
      "metadata": {
        "id": "uW6MtE37jVxX"
      },
      "id": "uW6MtE37jVxX"
    },
    {
      "cell_type": "code",
      "source": [
        "df_prep_train.filter(regex='module_name_eq').head(3)"
      ],
      "metadata": {
        "colab": {
          "base_uri": "https://localhost:8080/",
          "height": 143
        },
        "id": "aBZNZTxwntSA",
        "outputId": "4bbda93d-a6be-4b36-c94b-e027fd030761"
      },
      "id": "aBZNZTxwntSA",
      "execution_count": 43,
      "outputs": [
        {
          "output_type": "execute_result",
          "data": {
            "text/plain": [
              "  module_name_eq\n",
              "0           EQ10\n",
              "1           EQ10\n",
              "2           EQ10"
            ],
            "text/html": [
              "\n",
              "  <div id=\"df-bbc504c8-1f27-4c89-a630-544308340f3d\">\n",
              "    <div class=\"colab-df-container\">\n",
              "      <div>\n",
              "<style scoped>\n",
              "    .dataframe tbody tr th:only-of-type {\n",
              "        vertical-align: middle;\n",
              "    }\n",
              "\n",
              "    .dataframe tbody tr th {\n",
              "        vertical-align: top;\n",
              "    }\n",
              "\n",
              "    .dataframe thead th {\n",
              "        text-align: right;\n",
              "    }\n",
              "</style>\n",
              "<table border=\"1\" class=\"dataframe\">\n",
              "  <thead>\n",
              "    <tr style=\"text-align: right;\">\n",
              "      <th></th>\n",
              "      <th>module_name_eq</th>\n",
              "    </tr>\n",
              "  </thead>\n",
              "  <tbody>\n",
              "    <tr>\n",
              "      <th>0</th>\n",
              "      <td>EQ10</td>\n",
              "    </tr>\n",
              "    <tr>\n",
              "      <th>1</th>\n",
              "      <td>EQ10</td>\n",
              "    </tr>\n",
              "    <tr>\n",
              "      <th>2</th>\n",
              "      <td>EQ10</td>\n",
              "    </tr>\n",
              "  </tbody>\n",
              "</table>\n",
              "</div>\n",
              "      <button class=\"colab-df-convert\" onclick=\"convertToInteractive('df-bbc504c8-1f27-4c89-a630-544308340f3d')\"\n",
              "              title=\"Convert this dataframe to an interactive table.\"\n",
              "              style=\"display:none;\">\n",
              "        \n",
              "  <svg xmlns=\"http://www.w3.org/2000/svg\" height=\"24px\"viewBox=\"0 0 24 24\"\n",
              "       width=\"24px\">\n",
              "    <path d=\"M0 0h24v24H0V0z\" fill=\"none\"/>\n",
              "    <path d=\"M18.56 5.44l.94 2.06.94-2.06 2.06-.94-2.06-.94-.94-2.06-.94 2.06-2.06.94zm-11 1L8.5 8.5l.94-2.06 2.06-.94-2.06-.94L8.5 2.5l-.94 2.06-2.06.94zm10 10l.94 2.06.94-2.06 2.06-.94-2.06-.94-.94-2.06-.94 2.06-2.06.94z\"/><path d=\"M17.41 7.96l-1.37-1.37c-.4-.4-.92-.59-1.43-.59-.52 0-1.04.2-1.43.59L10.3 9.45l-7.72 7.72c-.78.78-.78 2.05 0 2.83L4 21.41c.39.39.9.59 1.41.59.51 0 1.02-.2 1.41-.59l7.78-7.78 2.81-2.81c.8-.78.8-2.07 0-2.86zM5.41 20L4 18.59l7.72-7.72 1.47 1.35L5.41 20z\"/>\n",
              "  </svg>\n",
              "      </button>\n",
              "      \n",
              "  <style>\n",
              "    .colab-df-container {\n",
              "      display:flex;\n",
              "      flex-wrap:wrap;\n",
              "      gap: 12px;\n",
              "    }\n",
              "\n",
              "    .colab-df-convert {\n",
              "      background-color: #E8F0FE;\n",
              "      border: none;\n",
              "      border-radius: 50%;\n",
              "      cursor: pointer;\n",
              "      display: none;\n",
              "      fill: #1967D2;\n",
              "      height: 32px;\n",
              "      padding: 0 0 0 0;\n",
              "      width: 32px;\n",
              "    }\n",
              "\n",
              "    .colab-df-convert:hover {\n",
              "      background-color: #E2EBFA;\n",
              "      box-shadow: 0px 1px 2px rgba(60, 64, 67, 0.3), 0px 1px 3px 1px rgba(60, 64, 67, 0.15);\n",
              "      fill: #174EA6;\n",
              "    }\n",
              "\n",
              "    [theme=dark] .colab-df-convert {\n",
              "      background-color: #3B4455;\n",
              "      fill: #D2E3FC;\n",
              "    }\n",
              "\n",
              "    [theme=dark] .colab-df-convert:hover {\n",
              "      background-color: #434B5C;\n",
              "      box-shadow: 0px 1px 3px 1px rgba(0, 0, 0, 0.15);\n",
              "      filter: drop-shadow(0px 1px 2px rgba(0, 0, 0, 0.3));\n",
              "      fill: #FFFFFF;\n",
              "    }\n",
              "  </style>\n",
              "\n",
              "      <script>\n",
              "        const buttonEl =\n",
              "          document.querySelector('#df-bbc504c8-1f27-4c89-a630-544308340f3d button.colab-df-convert');\n",
              "        buttonEl.style.display =\n",
              "          google.colab.kernel.accessAllowed ? 'block' : 'none';\n",
              "\n",
              "        async function convertToInteractive(key) {\n",
              "          const element = document.querySelector('#df-bbc504c8-1f27-4c89-a630-544308340f3d');\n",
              "          const dataTable =\n",
              "            await google.colab.kernel.invokeFunction('convertToInteractive',\n",
              "                                                     [key], {});\n",
              "          if (!dataTable) return;\n",
              "\n",
              "          const docLinkHtml = 'Like what you see? Visit the ' +\n",
              "            '<a target=\"_blank\" href=https://colab.research.google.com/notebooks/data_table.ipynb>data table notebook</a>'\n",
              "            + ' to learn more about interactive tables.';\n",
              "          element.innerHTML = '';\n",
              "          dataTable['output_type'] = 'display_data';\n",
              "          await google.colab.output.renderOutput(dataTable, element);\n",
              "          const docLink = document.createElement('div');\n",
              "          docLink.innerHTML = docLinkHtml;\n",
              "          element.appendChild(docLink);\n",
              "        }\n",
              "      </script>\n",
              "    </div>\n",
              "  </div>\n",
              "  "
            ]
          },
          "metadata": {},
          "execution_count": 43
        }
      ]
    },
    {
      "cell_type": "code",
      "execution_count": 44,
      "metadata": {
        "id": "OWv5YxrNZ1Dw"
      },
      "outputs": [],
      "source": [
        "def prep_cate_feats(df_tr, df_te, feat_nm):\n",
        "\n",
        "  df_merge = pd.concat([df_tr, df_te])\n",
        "\n",
        "  # 컬럼명과 범주형 변수의 레벨명을 이용한 새로운 컬럼명을 자동생성합니다. \n",
        "  # ex. module_name_eq -> module_name_eq_EQ01, module_name_eq_EQ02, etc.\n",
        "  df_merge = pd.get_dummies(df_merge, columns=[feat_nm])\n",
        "\n",
        "  df_tr = df_merge.iloc[:df_tr.shape[0], :].reset_index(drop=True)\n",
        "  df_te = df_merge.iloc[df_tr.shape[0]:, :].reset_index(drop=True)\n",
        "\n",
        "  return df_tr, df_te\n",
        "\n",
        "# module_name_eq 의 원-핫 인코딩 변수를 생성합니다.\n",
        "df_prep_train, df_prep_predict = prep_cate_feats(df_prep_train, df_prep_predict, 'module_name_eq')"
      ],
      "id": "OWv5YxrNZ1Dw"
    },
    {
      "cell_type": "code",
      "source": [
        "# 원-핫 인코딩 변환 후 결과를 확인합니다.\n",
        "df_prep_train.filter(regex='module_name_eq').head(3)"
      ],
      "metadata": {
        "colab": {
          "base_uri": "https://localhost:8080/",
          "height": 207
        },
        "id": "QsCnam0ynj6t",
        "outputId": "c9c91fd1-be2a-4009-d446-df214cccc153"
      },
      "id": "QsCnam0ynj6t",
      "execution_count": 45,
      "outputs": [
        {
          "output_type": "execute_result",
          "data": {
            "text/plain": [
              "   module_name_eq_EQ1  module_name_eq_EQ10  module_name_eq_EQ11  \\\n",
              "0                   0                    1                    0   \n",
              "1                   0                    1                    0   \n",
              "2                   0                    1                    0   \n",
              "\n",
              "   module_name_eq_EQ12  module_name_eq_EQ2  module_name_eq_EQ3  \\\n",
              "0                    0                   0                   0   \n",
              "1                    0                   0                   0   \n",
              "2                    0                   0                   0   \n",
              "\n",
              "   module_name_eq_EQ4  module_name_eq_EQ5  module_name_eq_EQ6  \\\n",
              "0                   0                   0                   0   \n",
              "1                   0                   0                   0   \n",
              "2                   0                   0                   0   \n",
              "\n",
              "   module_name_eq_EQ7  module_name_eq_EQ8  module_name_eq_EQ9  \n",
              "0                   0                   0                   0  \n",
              "1                   0                   0                   0  \n",
              "2                   0                   0                   0  "
            ],
            "text/html": [
              "\n",
              "  <div id=\"df-fe39b254-5914-4073-a92b-b82a1b0bdace\">\n",
              "    <div class=\"colab-df-container\">\n",
              "      <div>\n",
              "<style scoped>\n",
              "    .dataframe tbody tr th:only-of-type {\n",
              "        vertical-align: middle;\n",
              "    }\n",
              "\n",
              "    .dataframe tbody tr th {\n",
              "        vertical-align: top;\n",
              "    }\n",
              "\n",
              "    .dataframe thead th {\n",
              "        text-align: right;\n",
              "    }\n",
              "</style>\n",
              "<table border=\"1\" class=\"dataframe\">\n",
              "  <thead>\n",
              "    <tr style=\"text-align: right;\">\n",
              "      <th></th>\n",
              "      <th>module_name_eq_EQ1</th>\n",
              "      <th>module_name_eq_EQ10</th>\n",
              "      <th>module_name_eq_EQ11</th>\n",
              "      <th>module_name_eq_EQ12</th>\n",
              "      <th>module_name_eq_EQ2</th>\n",
              "      <th>module_name_eq_EQ3</th>\n",
              "      <th>module_name_eq_EQ4</th>\n",
              "      <th>module_name_eq_EQ5</th>\n",
              "      <th>module_name_eq_EQ6</th>\n",
              "      <th>module_name_eq_EQ7</th>\n",
              "      <th>module_name_eq_EQ8</th>\n",
              "      <th>module_name_eq_EQ9</th>\n",
              "    </tr>\n",
              "  </thead>\n",
              "  <tbody>\n",
              "    <tr>\n",
              "      <th>0</th>\n",
              "      <td>0</td>\n",
              "      <td>1</td>\n",
              "      <td>0</td>\n",
              "      <td>0</td>\n",
              "      <td>0</td>\n",
              "      <td>0</td>\n",
              "      <td>0</td>\n",
              "      <td>0</td>\n",
              "      <td>0</td>\n",
              "      <td>0</td>\n",
              "      <td>0</td>\n",
              "      <td>0</td>\n",
              "    </tr>\n",
              "    <tr>\n",
              "      <th>1</th>\n",
              "      <td>0</td>\n",
              "      <td>1</td>\n",
              "      <td>0</td>\n",
              "      <td>0</td>\n",
              "      <td>0</td>\n",
              "      <td>0</td>\n",
              "      <td>0</td>\n",
              "      <td>0</td>\n",
              "      <td>0</td>\n",
              "      <td>0</td>\n",
              "      <td>0</td>\n",
              "      <td>0</td>\n",
              "    </tr>\n",
              "    <tr>\n",
              "      <th>2</th>\n",
              "      <td>0</td>\n",
              "      <td>1</td>\n",
              "      <td>0</td>\n",
              "      <td>0</td>\n",
              "      <td>0</td>\n",
              "      <td>0</td>\n",
              "      <td>0</td>\n",
              "      <td>0</td>\n",
              "      <td>0</td>\n",
              "      <td>0</td>\n",
              "      <td>0</td>\n",
              "      <td>0</td>\n",
              "    </tr>\n",
              "  </tbody>\n",
              "</table>\n",
              "</div>\n",
              "      <button class=\"colab-df-convert\" onclick=\"convertToInteractive('df-fe39b254-5914-4073-a92b-b82a1b0bdace')\"\n",
              "              title=\"Convert this dataframe to an interactive table.\"\n",
              "              style=\"display:none;\">\n",
              "        \n",
              "  <svg xmlns=\"http://www.w3.org/2000/svg\" height=\"24px\"viewBox=\"0 0 24 24\"\n",
              "       width=\"24px\">\n",
              "    <path d=\"M0 0h24v24H0V0z\" fill=\"none\"/>\n",
              "    <path d=\"M18.56 5.44l.94 2.06.94-2.06 2.06-.94-2.06-.94-.94-2.06-.94 2.06-2.06.94zm-11 1L8.5 8.5l.94-2.06 2.06-.94-2.06-.94L8.5 2.5l-.94 2.06-2.06.94zm10 10l.94 2.06.94-2.06 2.06-.94-2.06-.94-.94-2.06-.94 2.06-2.06.94z\"/><path d=\"M17.41 7.96l-1.37-1.37c-.4-.4-.92-.59-1.43-.59-.52 0-1.04.2-1.43.59L10.3 9.45l-7.72 7.72c-.78.78-.78 2.05 0 2.83L4 21.41c.39.39.9.59 1.41.59.51 0 1.02-.2 1.41-.59l7.78-7.78 2.81-2.81c.8-.78.8-2.07 0-2.86zM5.41 20L4 18.59l7.72-7.72 1.47 1.35L5.41 20z\"/>\n",
              "  </svg>\n",
              "      </button>\n",
              "      \n",
              "  <style>\n",
              "    .colab-df-container {\n",
              "      display:flex;\n",
              "      flex-wrap:wrap;\n",
              "      gap: 12px;\n",
              "    }\n",
              "\n",
              "    .colab-df-convert {\n",
              "      background-color: #E8F0FE;\n",
              "      border: none;\n",
              "      border-radius: 50%;\n",
              "      cursor: pointer;\n",
              "      display: none;\n",
              "      fill: #1967D2;\n",
              "      height: 32px;\n",
              "      padding: 0 0 0 0;\n",
              "      width: 32px;\n",
              "    }\n",
              "\n",
              "    .colab-df-convert:hover {\n",
              "      background-color: #E2EBFA;\n",
              "      box-shadow: 0px 1px 2px rgba(60, 64, 67, 0.3), 0px 1px 3px 1px rgba(60, 64, 67, 0.15);\n",
              "      fill: #174EA6;\n",
              "    }\n",
              "\n",
              "    [theme=dark] .colab-df-convert {\n",
              "      background-color: #3B4455;\n",
              "      fill: #D2E3FC;\n",
              "    }\n",
              "\n",
              "    [theme=dark] .colab-df-convert:hover {\n",
              "      background-color: #434B5C;\n",
              "      box-shadow: 0px 1px 3px 1px rgba(0, 0, 0, 0.15);\n",
              "      filter: drop-shadow(0px 1px 2px rgba(0, 0, 0, 0.3));\n",
              "      fill: #FFFFFF;\n",
              "    }\n",
              "  </style>\n",
              "\n",
              "      <script>\n",
              "        const buttonEl =\n",
              "          document.querySelector('#df-fe39b254-5914-4073-a92b-b82a1b0bdace button.colab-df-convert');\n",
              "        buttonEl.style.display =\n",
              "          google.colab.kernel.accessAllowed ? 'block' : 'none';\n",
              "\n",
              "        async function convertToInteractive(key) {\n",
              "          const element = document.querySelector('#df-fe39b254-5914-4073-a92b-b82a1b0bdace');\n",
              "          const dataTable =\n",
              "            await google.colab.kernel.invokeFunction('convertToInteractive',\n",
              "                                                     [key], {});\n",
              "          if (!dataTable) return;\n",
              "\n",
              "          const docLinkHtml = 'Like what you see? Visit the ' +\n",
              "            '<a target=\"_blank\" href=https://colab.research.google.com/notebooks/data_table.ipynb>data table notebook</a>'\n",
              "            + ' to learn more about interactive tables.';\n",
              "          element.innerHTML = '';\n",
              "          dataTable['output_type'] = 'display_data';\n",
              "          await google.colab.output.renderOutput(dataTable, element);\n",
              "          const docLink = document.createElement('div');\n",
              "          docLink.innerHTML = docLinkHtml;\n",
              "          element.appendChild(docLink);\n",
              "        }\n",
              "      </script>\n",
              "    </div>\n",
              "  </div>\n",
              "  "
            ]
          },
          "metadata": {},
          "execution_count": 45
        }
      ]
    },
    {
      "cell_type": "markdown",
      "source": [
        "<a name='04-06'></a>\n",
        "### 4.6 변수 선택 \n",
        "\n",
        "변수 선택은 주어진 데이터의 변수 중에서 모델링의 가장 적절한 변수만 선택하는 과정입니다. \n",
        "\n",
        "변수 선택 방법은 필터 방법(Filter method), 래퍼 방법(Wrapper method), 임베디드 방법(Embeded method)이 있습니다. \n",
        "\n",
        "- **필터 방법** : 통계량(ex. 상관계수, 카이제곱, 상호정보량)을 구하여 가장 뛰어난 특성을 선택하는 기법 (ex. SelectKBest)\n",
        "- **래퍼 방법** : 시행착오를 통해 가장 높은 품질의 예측을 만드는 특성의 부분조합을 찾는 기법 (ex. RFE, RFECV)\n",
        "- **임베디드 방법** : 결정트리 모델로부터 생성된 특징 중요도를 이용하여 특성을 선택하는 기법 (ex. SelectFromModel)\n",
        "\n",
        "다음은 필터 방법중 상호정보량을 사용하여 중요 특성을 추출하는 예제코드입니다.\n",
        "\n",
        "참가자들은 자유롭게 분석하며, 변수 선택 중 한가지 방법으로 참고할 수 있습니다."
      ],
      "metadata": {
        "id": "zxMfd6WmGd4B"
      },
      "id": "zxMfd6WmGd4B"
    },
    {
      "cell_type": "code",
      "source": [
        "# skb = SelectKBest(score_func=mutual_info_regression, k=100) \n",
        "# skb.fit(df_prep_train[col_sensor], df_prep_train['y'])\n",
        "# select_features_kbest = skb.get_support()\n",
        "# col_featsIDX = pd.Index(df_prep_train[col_sensor].columns.tolist())\n",
        "# col_selected_mutual = col_featsIDX[select_features_kbest]"
      ],
      "metadata": {
        "id": "ewk5ZY2GG0UP"
      },
      "id": "ewk5ZY2GG0UP",
      "execution_count": 46,
      "outputs": []
    },
    {
      "cell_type": "markdown",
      "source": [
        "### (작업) Select From Model with RFE"
      ],
      "metadata": {
        "id": "A5BycIsBYlNE"
      },
      "id": "A5BycIsBYlNE"
    },
    {
      "cell_type": "code",
      "source": [
        "def MAE(y_test, y_pred):\n",
        "    return np.mean(np.abs(y_test-y_pred))\n",
        "def MAPE(y_test, y_pred):\n",
        "    return np.mean(np.abs((y_test - y_pred) / y_test)) * 100\n",
        "def MSE(y_test, y_pred):\n",
        "    return np.mean(np.square(y_test-y_pred))\n",
        "def RMSE(y_test, y_pred):\n",
        "    return np.sqrt(np.mean(np.square(y_test-y_pred))) \n",
        "def MPE(y_test, y_pred):\n",
        "    return np.mean((y_test-y_pred)/y_test)*100"
      ],
      "metadata": {
        "id": "qzRGScbCwqwI"
      },
      "id": "qzRGScbCwqwI",
      "execution_count": 47,
      "outputs": []
    },
    {
      "cell_type": "code",
      "source": [
        "from sklearn.feature_selection import RFE, RFECV\n",
        "from sklearn.model_selection import KFold\n",
        "\n",
        "\n",
        "# 학습에 사용할 수치형 변수 컬럼을 정의합니다. \n",
        "# 앞서 정의한 col_numerical 에서 분산이 0 인 컬럼을 제거합니다.\n",
        "col_numerical = [col for col in col_numerical if col not in cols_var_drop]\n",
        "col_numerical = [col for col in col_numerical if col not in cols_corr_drop]\n",
        "\n",
        "# 학습에 사용할 원-핫 인코딩된 범주형 변수 컬럼을 정의합니다. \n",
        "col_cate_module_name_eq = df_prep_train.filter(regex='^module_name_eq').columns.tolist()\n",
        "col_cate = col_cate_module_name_eq\n",
        "\n",
        "# 모델에 입력으로 사용될 최종 컬럼을 정의합니다.\n",
        "col_X = col_numerical + col_cate\n",
        "col_y = 'y'\n",
        "\n",
        "# 학습용 데이터를 정의합니다.\n",
        "x_train_raw = df_prep_train[col_X]\n",
        "y_train_raw = df_prep_train[col_y]\n",
        "\n",
        "# 학습 데이터 중 일부를 검증 데이터 셋으로 분할합니다. \n",
        "x_train, x_valid, y_train, y_valid = train_test_split(x_train_raw, y_train_raw, test_size=0.1, shuffle=True, random_state=71)\n",
        "\n",
        "rfe_model = RandomForestRegressor(max_features = 5, n_estimators = 120)\n",
        "\n",
        "#################################################################\n",
        "min_features_to_select = 5  # Minimum number of features to consider\n",
        "rfecv = RFECV(\n",
        "    estimator=rfe_model,\n",
        "    step=1,\n",
        "    cv=5,\n",
        "    min_features_to_select=min_features_to_select\n",
        ")\n",
        "rfecv.fit(x_train,y_train)\n",
        "plt.figure()\n",
        "plt.xlabel(\"Number of features selected\")\n",
        "plt.ylabel(\"Cross validation score (accuracy)\")\n",
        "plt.plot(\n",
        "    range(min_features_to_select, len(rfecv.grid_scores_) + min_features_to_select),\n",
        "    rfecv.grid_scores_,\n",
        ")\n",
        "plt.show()\n",
        "#################################################################\n",
        "\n",
        "# rfe = RFE(rfe_model)\n",
        "# rfe.fit(x_train, y_train) # rfe 학습\n",
        "# X_RFE = rfe.transform(x_train) # X_train_select 적용\n",
        "# X_RFE_t = rfe.transform(x_valid) # X_test_select 적용\n",
        "X_RFE = rfecv.transform(x_train) # X_train_select 적용\n",
        "X_RFE_t = rfecv.transform(x_valid) # X_test_select 적용\n",
        "\n",
        "test_model = RandomForestRegressor(max_features = 5, n_estimators = 120)\n",
        "test_model.fit(X_RFE, y_train)\n",
        "test_predict = test_model.predict(X_RFE_t)\n",
        "import matplotlib.pyplot as plt\n",
        "plt.scatter(y_valid, test_predict, alpha=0.4)\n",
        "X1 = [6,10]\n",
        "Y1 = [6,10]\n",
        "plt.plot(X1, Y1, color=\"r\", linestyle=\"dashed\")\n",
        "plt.xlabel(\"Actual\")\n",
        "plt.ylabel(\"Predicted\")\n",
        "plt.title(\"MULTIPLE LINEAR REGRESSION\")\n",
        "plt.show()\n",
        "print(\"훈련 세트의 정확도 : {:.2f}\".format(test_model.score(X_RFE,y_train)))\n",
        "print(\"테스트 세트의 정확도 : {:.2f}\".format(test_model.score(X_RFE_t,y_valid)))\n",
        "print(\"MAE : {:.2f}\".format(MAE(test_predict,y_valid)))\n",
        "print(\"MAPE : {:.2f}\".format(MAPE(test_predict,y_valid)))\n",
        "print(\"MSE : {:.2f}\".format(MSE(test_predict,y_valid)))\n",
        "print(\"RMSE : {:.2f}\".format(RMSE(test_predict,y_valid)))\n",
        "print(\"MPE : {:.2f}\".format(MPE(test_predict,y_valid)))"
      ],
      "metadata": {
        "id": "kDIxDGezVqwc",
        "colab": {
          "base_uri": "https://localhost:8080/",
          "height": 400
        },
        "outputId": "1c8522a9-05f9-492d-85db-05b4e8d9cf19"
      },
      "id": "kDIxDGezVqwc",
      "execution_count": 64,
      "outputs": [
        {
          "output_type": "error",
          "ename": "ValueError",
          "evalue": "ignored",
          "traceback": [
            "\u001b[0;31m---------------------------------------------------------------------------\u001b[0m",
            "\u001b[0;31mValueError\u001b[0m                                Traceback (most recent call last)",
            "\u001b[0;32m<ipython-input-64-31d2fce52f36>\u001b[0m in \u001b[0;36m<module>\u001b[0;34m()\u001b[0m\n\u001b[1;32m     33\u001b[0m     \u001b[0mmin_features_to_select\u001b[0m\u001b[0;34m=\u001b[0m\u001b[0mmin_features_to_select\u001b[0m\u001b[0;34m\u001b[0m\u001b[0;34m\u001b[0m\u001b[0m\n\u001b[1;32m     34\u001b[0m )\n\u001b[0;32m---> 35\u001b[0;31m \u001b[0mrfecv\u001b[0m\u001b[0;34m.\u001b[0m\u001b[0mfit\u001b[0m\u001b[0;34m(\u001b[0m\u001b[0mx_train\u001b[0m\u001b[0;34m,\u001b[0m\u001b[0my_train\u001b[0m\u001b[0;34m)\u001b[0m\u001b[0;34m\u001b[0m\u001b[0;34m\u001b[0m\u001b[0m\n\u001b[0m\u001b[1;32m     36\u001b[0m \u001b[0mplt\u001b[0m\u001b[0;34m.\u001b[0m\u001b[0mfigure\u001b[0m\u001b[0;34m(\u001b[0m\u001b[0;34m)\u001b[0m\u001b[0;34m\u001b[0m\u001b[0;34m\u001b[0m\u001b[0m\n\u001b[1;32m     37\u001b[0m \u001b[0mplt\u001b[0m\u001b[0;34m.\u001b[0m\u001b[0mxlabel\u001b[0m\u001b[0;34m(\u001b[0m\u001b[0;34m\"Number of features selected\"\u001b[0m\u001b[0;34m)\u001b[0m\u001b[0;34m\u001b[0m\u001b[0;34m\u001b[0m\u001b[0m\n",
            "\u001b[0;32m/usr/local/lib/python3.7/dist-packages/sklearn/feature_selection/_rfe.py\u001b[0m in \u001b[0;36mfit\u001b[0;34m(self, X, y, groups)\u001b[0m\n\u001b[1;32m    665\u001b[0m             \u001b[0mensure_min_features\u001b[0m\u001b[0;34m=\u001b[0m\u001b[0;36m2\u001b[0m\u001b[0;34m,\u001b[0m\u001b[0;34m\u001b[0m\u001b[0;34m\u001b[0m\u001b[0m\n\u001b[1;32m    666\u001b[0m             \u001b[0mforce_all_finite\u001b[0m\u001b[0;34m=\u001b[0m\u001b[0;32mnot\u001b[0m \u001b[0mtags\u001b[0m\u001b[0;34m.\u001b[0m\u001b[0mget\u001b[0m\u001b[0;34m(\u001b[0m\u001b[0;34m\"allow_nan\"\u001b[0m\u001b[0;34m,\u001b[0m \u001b[0;32mTrue\u001b[0m\u001b[0;34m)\u001b[0m\u001b[0;34m,\u001b[0m\u001b[0;34m\u001b[0m\u001b[0;34m\u001b[0m\u001b[0m\n\u001b[0;32m--> 667\u001b[0;31m             \u001b[0mmulti_output\u001b[0m\u001b[0;34m=\u001b[0m\u001b[0;32mTrue\u001b[0m\u001b[0;34m,\u001b[0m\u001b[0;34m\u001b[0m\u001b[0;34m\u001b[0m\u001b[0m\n\u001b[0m\u001b[1;32m    668\u001b[0m         )\n\u001b[1;32m    669\u001b[0m \u001b[0;34m\u001b[0m\u001b[0m\n",
            "\u001b[0;32m/usr/local/lib/python3.7/dist-packages/sklearn/base.py\u001b[0m in \u001b[0;36m_validate_data\u001b[0;34m(self, X, y, reset, validate_separately, **check_params)\u001b[0m\n\u001b[1;32m    579\u001b[0m                 \u001b[0my\u001b[0m \u001b[0;34m=\u001b[0m \u001b[0mcheck_array\u001b[0m\u001b[0;34m(\u001b[0m\u001b[0my\u001b[0m\u001b[0;34m,\u001b[0m \u001b[0;34m**\u001b[0m\u001b[0mcheck_y_params\u001b[0m\u001b[0;34m)\u001b[0m\u001b[0;34m\u001b[0m\u001b[0;34m\u001b[0m\u001b[0m\n\u001b[1;32m    580\u001b[0m             \u001b[0;32melse\u001b[0m\u001b[0;34m:\u001b[0m\u001b[0;34m\u001b[0m\u001b[0;34m\u001b[0m\u001b[0m\n\u001b[0;32m--> 581\u001b[0;31m                 \u001b[0mX\u001b[0m\u001b[0;34m,\u001b[0m \u001b[0my\u001b[0m \u001b[0;34m=\u001b[0m \u001b[0mcheck_X_y\u001b[0m\u001b[0;34m(\u001b[0m\u001b[0mX\u001b[0m\u001b[0;34m,\u001b[0m \u001b[0my\u001b[0m\u001b[0;34m,\u001b[0m \u001b[0;34m**\u001b[0m\u001b[0mcheck_params\u001b[0m\u001b[0;34m)\u001b[0m\u001b[0;34m\u001b[0m\u001b[0;34m\u001b[0m\u001b[0m\n\u001b[0m\u001b[1;32m    582\u001b[0m             \u001b[0mout\u001b[0m \u001b[0;34m=\u001b[0m \u001b[0mX\u001b[0m\u001b[0;34m,\u001b[0m \u001b[0my\u001b[0m\u001b[0;34m\u001b[0m\u001b[0;34m\u001b[0m\u001b[0m\n\u001b[1;32m    583\u001b[0m \u001b[0;34m\u001b[0m\u001b[0m\n",
            "\u001b[0;32m/usr/local/lib/python3.7/dist-packages/sklearn/utils/validation.py\u001b[0m in \u001b[0;36mcheck_X_y\u001b[0;34m(X, y, accept_sparse, accept_large_sparse, dtype, order, copy, force_all_finite, ensure_2d, allow_nd, multi_output, ensure_min_samples, ensure_min_features, y_numeric, estimator)\u001b[0m\n\u001b[1;32m    974\u001b[0m         \u001b[0mensure_min_samples\u001b[0m\u001b[0;34m=\u001b[0m\u001b[0mensure_min_samples\u001b[0m\u001b[0;34m,\u001b[0m\u001b[0;34m\u001b[0m\u001b[0;34m\u001b[0m\u001b[0m\n\u001b[1;32m    975\u001b[0m         \u001b[0mensure_min_features\u001b[0m\u001b[0;34m=\u001b[0m\u001b[0mensure_min_features\u001b[0m\u001b[0;34m,\u001b[0m\u001b[0;34m\u001b[0m\u001b[0;34m\u001b[0m\u001b[0m\n\u001b[0;32m--> 976\u001b[0;31m         \u001b[0mestimator\u001b[0m\u001b[0;34m=\u001b[0m\u001b[0mestimator\u001b[0m\u001b[0;34m,\u001b[0m\u001b[0;34m\u001b[0m\u001b[0;34m\u001b[0m\u001b[0m\n\u001b[0m\u001b[1;32m    977\u001b[0m     )\n\u001b[1;32m    978\u001b[0m \u001b[0;34m\u001b[0m\u001b[0m\n",
            "\u001b[0;32m/usr/local/lib/python3.7/dist-packages/sklearn/utils/validation.py\u001b[0m in \u001b[0;36mcheck_array\u001b[0;34m(array, accept_sparse, accept_large_sparse, dtype, order, copy, force_all_finite, ensure_2d, allow_nd, ensure_min_samples, ensure_min_features, estimator)\u001b[0m\n\u001b[1;32m    798\u001b[0m \u001b[0;34m\u001b[0m\u001b[0m\n\u001b[1;32m    799\u001b[0m         \u001b[0;32mif\u001b[0m \u001b[0mforce_all_finite\u001b[0m\u001b[0;34m:\u001b[0m\u001b[0;34m\u001b[0m\u001b[0;34m\u001b[0m\u001b[0m\n\u001b[0;32m--> 800\u001b[0;31m             \u001b[0m_assert_all_finite\u001b[0m\u001b[0;34m(\u001b[0m\u001b[0marray\u001b[0m\u001b[0;34m,\u001b[0m \u001b[0mallow_nan\u001b[0m\u001b[0;34m=\u001b[0m\u001b[0mforce_all_finite\u001b[0m \u001b[0;34m==\u001b[0m \u001b[0;34m\"allow-nan\"\u001b[0m\u001b[0;34m)\u001b[0m\u001b[0;34m\u001b[0m\u001b[0;34m\u001b[0m\u001b[0m\n\u001b[0m\u001b[1;32m    801\u001b[0m \u001b[0;34m\u001b[0m\u001b[0m\n\u001b[1;32m    802\u001b[0m     \u001b[0;32mif\u001b[0m \u001b[0mensure_min_samples\u001b[0m \u001b[0;34m>\u001b[0m \u001b[0;36m0\u001b[0m\u001b[0;34m:\u001b[0m\u001b[0;34m\u001b[0m\u001b[0;34m\u001b[0m\u001b[0m\n",
            "\u001b[0;32m/usr/local/lib/python3.7/dist-packages/sklearn/utils/validation.py\u001b[0m in \u001b[0;36m_assert_all_finite\u001b[0;34m(X, allow_nan, msg_dtype)\u001b[0m\n\u001b[1;32m    114\u001b[0m             raise ValueError(\n\u001b[1;32m    115\u001b[0m                 msg_err.format(\n\u001b[0;32m--> 116\u001b[0;31m                     \u001b[0mtype_err\u001b[0m\u001b[0;34m,\u001b[0m \u001b[0mmsg_dtype\u001b[0m \u001b[0;32mif\u001b[0m \u001b[0mmsg_dtype\u001b[0m \u001b[0;32mis\u001b[0m \u001b[0;32mnot\u001b[0m \u001b[0;32mNone\u001b[0m \u001b[0;32melse\u001b[0m \u001b[0mX\u001b[0m\u001b[0;34m.\u001b[0m\u001b[0mdtype\u001b[0m\u001b[0;34m\u001b[0m\u001b[0;34m\u001b[0m\u001b[0m\n\u001b[0m\u001b[1;32m    117\u001b[0m                 )\n\u001b[1;32m    118\u001b[0m             )\n",
            "\u001b[0;31mValueError\u001b[0m: Input contains NaN, infinity or a value too large for dtype('float64')."
          ]
        }
      ]
    },
    {
      "cell_type": "code",
      "source": [
        "# 학습 데이터 중 일부를 검증 데이터 셋으로 분할합니다. \n",
        "x_train, x_valid, y_train, y_valid = train_test_split(x_train_raw, y_train_raw, test_size=0.1, shuffle=True, random_state=71)\n",
        "\n",
        "x_train.isna().sum(1)"
      ],
      "metadata": {
        "colab": {
          "base_uri": "https://localhost:8080/"
        },
        "id": "BhraCXIXcUvQ",
        "outputId": "94c48daa-70d2-47b0-dbbd-bcd125b03388"
      },
      "id": "BhraCXIXcUvQ",
      "execution_count": 68,
      "outputs": [
        {
          "output_type": "execute_result",
          "data": {
            "text/plain": [
              "259    3\n",
              "486    7\n",
              "472    4\n",
              "46     4\n",
              "69     4\n",
              "      ..\n",
              "296    4\n",
              "552    5\n",
              "55     6\n",
              "11     6\n",
              "107    3\n",
              "Length: 549, dtype: int64"
            ]
          },
          "metadata": {},
          "execution_count": 68
        }
      ]
    },
    {
      "cell_type": "code",
      "source": [
        "y_train.shape"
      ],
      "metadata": {
        "colab": {
          "base_uri": "https://localhost:8080/"
        },
        "id": "dxZz1VGldCYv",
        "outputId": "201afa16-dd9f-4b68-8090-2f23c74388ba"
      },
      "id": "dxZz1VGldCYv",
      "execution_count": 58,
      "outputs": [
        {
          "output_type": "execute_result",
          "data": {
            "text/plain": [
              "(549,)"
            ]
          },
          "metadata": {},
          "execution_count": 58
        }
      ]
    },
    {
      "cell_type": "code",
      "source": [
        "rfecv.ranking_"
      ],
      "metadata": {
        "id": "l0cpP1_r-loD"
      },
      "id": "l0cpP1_r-loD",
      "execution_count": null,
      "outputs": []
    },
    {
      "cell_type": "code",
      "source": [
        "# X_RFE"
      ],
      "metadata": {
        "id": "xS50MKkDxbW3"
      },
      "id": "xS50MKkDxbW3",
      "execution_count": null,
      "outputs": []
    },
    {
      "cell_type": "markdown",
      "metadata": {
        "id": "99dc3a22"
      },
      "source": [
        "<a name='05'></a>\n",
        "## 5. 모델링"
      ],
      "id": "99dc3a22"
    },
    {
      "cell_type": "markdown",
      "metadata": {
        "id": "-7zQXRQfzCQ0"
      },
      "source": [
        "<a name='05-01'></a>\n",
        "### 5.1 데이터 분할\n",
        "\n",
        "모델의 일반화 성능을 평가하기 위해 학습 데이터 중 일부를 검증용 데이터로 분할합니다. \n",
        "\n",
        "train_test_split 함수를 이용하여 학습용 데이터 중 10% 데이터를 검증 데이터로 분류합니다."
      ],
      "id": "-7zQXRQfzCQ0"
    },
    {
      "cell_type": "code",
      "execution_count": null,
      "metadata": {
        "id": "ff33df35"
      },
      "outputs": [],
      "source": [
        "# 학습에 사용할 수치형 변수 컬럼을 정의합니다. \n",
        "# 앞서 정의한 col_numerical 에서 분산이 0 인 컬럼을 제거합니다.\n",
        "col_numerical = [col for col in col_numerical if col not in cols_var_drop]\n",
        "col_numerical = [col for col in col_numerical if col not in cols_corr_drop]\n",
        "\n",
        "# 학습에 사용할 원-핫 인코딩된 범주형 변수 컬럼을 정의합니다. \n",
        "col_cate_module_name_eq = df_prep_train.filter(regex='^module_name_eq').columns.tolist()\n",
        "col_cate = col_cate_module_name_eq\n",
        "\n",
        "# 모델에 입력으로 사용될 최종 컬럼을 정의합니다.\n",
        "col_X = col_numerical + col_cate\n",
        "col_y = 'y'\n",
        "\n",
        "# 학습용 데이터를 정의합니다.\n",
        "x_train_raw = df_prep_train[col_X]\n",
        "y_train_raw = df_prep_train[col_y]\n",
        "\n",
        "# 평가용 데이터를 정의합니다.\n",
        "x_predict = df_prep_predict[col_X]\n",
        "\n",
        "# 학습 데이터 중 일부를 검증 데이터 셋으로 분할합니다. \n",
        "x_train, x_valid, y_train, y_valid = train_test_split(x_train_raw, y_train_raw, test_size=0.1, shuffle=True, random_state=71)"
      ],
      "id": "ff33df35"
    },
    {
      "cell_type": "code",
      "source": [
        "# # 학습 데이터 중 일부를 검증 데이터 셋으로 분할합니다. \n",
        "x_train, x_valid, y_train, y_valid = train_test_split(x_train_raw, y_train_raw, test_size=0.1, shuffle=True, random_state=71)\n",
        "\n",
        "# RFE 적용 변수선택\n",
        "x_train_br = x_train\n",
        "x_train = rfecv.transform(x_train_br) # X_train_select 적용\n",
        "\n",
        "x_valid_br = x_valid\n",
        "x_valid = rfecv.transform(x_valid_br) # X_train_select 적용\n",
        "\n",
        "x_predict_br = x_predict\n",
        "x_predict = rfecv.transform(x_predict_br) # X_train_select 적용\n"
      ],
      "metadata": {
        "id": "etmPyWOds0vR"
      },
      "id": "etmPyWOds0vR",
      "execution_count": null,
      "outputs": []
    },
    {
      "cell_type": "markdown",
      "source": [
        "모델의 성능 평가를 위해 제곱근평균제곱오차(RMSE)를 반환하는 함수를 작성합니다. "
      ],
      "metadata": {
        "id": "ns1Ofgfyfbqv"
      },
      "id": "ns1Ofgfyfbqv"
    },
    {
      "cell_type": "code",
      "source": [
        "# mean_squared_error 의 매개변수 squared 가 False 이면 RMSE 를 반환합니다.\n",
        "def rmse(y_true, y_pred):\n",
        "  return round(mean_squared_error(y_true, y_pred, squared=False), 4)"
      ],
      "metadata": {
        "id": "GfCmw1CbkhG1"
      },
      "id": "GfCmw1CbkhG1",
      "execution_count": null,
      "outputs": []
    },
    {
      "cell_type": "markdown",
      "metadata": {
        "id": "6f6d13a0"
      },
      "source": [
        "<a name='05-02'></a>\n",
        "### 5.2 릿지 회귀 모델\n",
        "선형 모델 중 하나인 릿지 모델을 사용\b합니다. 릿지 모델은 계수의 제곱에 비례하여 벌칙을 부여하는 **L2 정규화**를 사용합니다. \n",
        "\n",
        "릿지 회귀 모델에서 튜닝해야할 매개변수는 정규화의 세기를 나타내는 **alpha** 입니다.  \n"
      ],
      "id": "6f6d13a0"
    },
    {
      "cell_type": "code",
      "source": [
        "# log 단위(1e+01)로 1.e-02 ~ 1.e+01 구간에 대해 매개변수를 탐색합니다.\n",
        "ridge_params = {'alpha': [8,9,10]}"
      ],
      "metadata": {
        "id": "mm9V81SLFECV"
      },
      "id": "mm9V81SLFECV",
      "execution_count": null,
      "outputs": []
    },
    {
      "cell_type": "markdown",
      "source": [
        "매개변수 탐색을 위해 그리드 서치 기법을 사용합니다. \n",
        "\n",
        "GridSearchCV는 매개변수 각 조합에 대해 모델을 훈련하고, K-폴드 교차검증으로 평가합니다. cv의 디폴트는 5 입니다. \n",
        "\n",
        "refit=True 로 설정할 경우, 매개변수 탐색 후, 전체 데이터셋에서 최적의 하이퍼파라미터를 사용하여 모델을 재학습시킵니다."
      ],
      "metadata": {
        "id": "hRPEWxK1Fo5x"
      },
      "id": "hRPEWxK1Fo5x"
    },
    {
      "cell_type": "code",
      "execution_count": null,
      "metadata": {
        "id": "7bf4e87d"
      },
      "outputs": [],
      "source": [
        "# GridSearchCV를 이용하여 Ridge 모델을 저장합니다.\n",
        "ridge_model = GridSearchCV(Ridge(), param_grid=ridge_params, refit=True, scoring='neg_root_mean_squared_error')\n",
        "ridge_model.fit(x_train, y_train)"
      ],
      "id": "7bf4e87d"
    },
    {
      "cell_type": "code",
      "source": [
        "x_train"
      ],
      "metadata": {
        "id": "1ThA6IIEcYRf"
      },
      "id": "1ThA6IIEcYRf",
      "execution_count": null,
      "outputs": []
    },
    {
      "cell_type": "markdown",
      "source": [
        "alpha 가 10인 경우, 모델의 성능이 가장 우수하였습니다."
      ],
      "metadata": {
        "id": "lmOG0YrImSSz"
      },
      "id": "lmOG0YrImSSz"
    },
    {
      "cell_type": "code",
      "source": [
        "col_cv_results = ['params', 'mean_test_score', 'rank_test_score']\n",
        "pd.DataFrame(ridge_model.cv_results_)[col_cv_results]"
      ],
      "metadata": {
        "id": "cqDQZ9M740uj"
      },
      "id": "cqDQZ9M740uj",
      "execution_count": null,
      "outputs": []
    },
    {
      "cell_type": "markdown",
      "source": [
        "### (작업) 라소"
      ],
      "metadata": {
        "id": "VHFr1M-GMYN-"
      },
      "id": "VHFr1M-GMYN-"
    },
    {
      "cell_type": "code",
      "source": [
        "lasso_param = {'alpha': [0.1, 0.5]}\n",
        "lasso_model = Lasso()\n",
        "\n",
        "lasso_model = GridSearchCV(Lasso(), param_grid=lasso_param, refit=True, scoring='neg_root_mean_squared_error')\n",
        "lasso_model.fit(x_train, y_train)\n",
        "\n",
        "col_cv_results = ['params', 'mean_test_score', 'rank_test_score']\n",
        "pd.DataFrame(lasso_model.cv_results_)[col_cv_results]"
      ],
      "metadata": {
        "id": "Q2tYZpoNMaC9"
      },
      "id": "Q2tYZpoNMaC9",
      "execution_count": null,
      "outputs": []
    },
    {
      "cell_type": "markdown",
      "source": [
        "<a name=\"05-03\"></a>\n",
        "### 5.3 랜덤 포레스트 모델 \n",
        "랜덤 포레스트는 행 데이터를 샘플링한 후, 병렬로 수행된 다수의 결정 트리로부터 예측한 평균값을 출력합니다. \n",
        "\n",
        "랜덤 포레스트에서 튜닝해야할 변수는 다음과 같습니다.\n",
        "\n",
        "*  n_estimators : 결정 트리 갯수 ( default : 100 )\n",
        "*  max_depth : 트리의 최대 깊이 ( default : \bNone ) \n",
        "*  min_samples_split : 노드를 분할하기 위한 최소 샘플 갯수 ( default : 2 )\n",
        "*  min_samples_leaf : 리프 노드가 되기 위한 최소 샘플 갯수 ( default : 1 )\n",
        "*  max_features : 각 노드에서 분기시 사용할 최대 특성 갯수 ( default : 1.0 - 전체 특성 갯수 )\n",
        "*  bootstrap : 중복을 허용한 샘플링 여부 ( default : True ) \n",
        "\n",
        "\n",
        "결정 트리의 갯수가 커질수록 계산시간이 증가하므로, 시간과 성능의 트레이드 오프로 결정합니다. "
      ],
      "metadata": {
        "id": "NazERQf16PD9"
      },
      "id": "NazERQf16PD9"
    },
    {
      "cell_type": "code",
      "execution_count": null,
      "metadata": {
        "id": "VY8oXLOXqisg"
      },
      "outputs": [],
      "source": [
        "rf_params = {'n_estimators': [120, 200], 'max_features' : [5, 6]} \n",
        "\n",
        "# GridSearchCV를 이용하여 Randomforest 모델을 저장합니다.\n",
        "rf_model = GridSearchCV(RandomForestRegressor(), param_grid=rf_params, scoring='neg_root_mean_squared_error')\n",
        "rf_model.fit(x_train, y_train)"
      ],
      "id": "VY8oXLOXqisg"
    },
    {
      "cell_type": "code",
      "source": [
        "pd.DataFrame(rf_model.cv_results_)[col_cv_results]"
      ],
      "metadata": {
        "id": "mrWqpoCF7ByT"
      },
      "id": "mrWqpoCF7ByT",
      "execution_count": null,
      "outputs": []
    },
    {
      "cell_type": "markdown",
      "source": [
        "<a name='05-04'></a>\n",
        "### 5.4 최종 모델 구축 \n",
        "\n",
        "릿지 모델과 랜덤 포레스트 모델을 평가하고, 이 둘의 조합인 앙상블 모델을 구축합니다.\n"
      ],
      "metadata": {
        "id": "2PcYeQBInymH"
      },
      "id": "2PcYeQBInymH"
    },
    {
      "cell_type": "code",
      "source": [
        "# 최적의 하이퍼파라미터로 학습된 릿지 회귀 모델을 저장합니다. \n",
        "best_ridge = ridge_model.best_estimator_\n",
        "\n",
        "# 최적의 하이퍼파라미터로 학습된 랜덤포레스트 모델을 저장합니다. \n",
        "best_rf = rf_model.best_estimator_\n",
        "\n",
        "# 최적의 하이퍼파라미터로 학습된 랜덤포레스트 모델을 저장합니다. \n",
        "best_lasso = lasso_model.best_estimator_\n",
        "\n",
        "# 학습용 데이터셋의 타깃 변수 예측 \n",
        "y_pred_tr_ridge = best_ridge.predict(x_train)\n",
        "y_pred_tr_rf = best_rf.predict(x_train)\n",
        "y_pred_tr_lasso = best_lasso.predict(x_train)\n",
        "\n",
        "\n",
        "# 검증용 데이터셋의 타깃 변수 예측 \n",
        "y_pred_va_ridge = best_ridge.predict(x_valid)\n",
        "y_pred_va_rf = best_rf.predict(x_valid)\n",
        "y_pred_va_lasso = best_lasso.predict(x_valid)\n",
        "\n",
        "\n",
        "# 평가용 데이터셋의 타깃 변수 예측 \n",
        "y_pred_te_ridge = best_ridge.predict(x_predict)\n",
        "y_pred_te_rf = best_rf.predict(x_predict)\n",
        "y_pred_te_lasso = best_lasso.predict(x_predict)\n",
        "\n",
        "# 앙상블 모형의 학습 및 검증 데이터에 대한 타깃 변수 예측 \n",
        "y_pred_tr_en= np.mean([y_pred_tr_ridge, y_pred_tr_rf], axis=0)\n",
        "y_pred_va_en= np.mean([y_pred_va_ridge, y_pred_va_rf], axis=0)\n",
        "y_pred_te_en= np.mean([y_pred_te_ridge, y_pred_te_rf], axis=0)\n",
        "\n",
        "y_pred_tr_en1= np.mean([y_pred_tr_lasso, y_pred_tr_rf], axis=0)\n",
        "y_pred_va_en1= np.mean([y_pred_va_lasso, y_pred_va_rf], axis=0)\n",
        "y_pred_te_en1= np.mean([y_pred_te_lasso, y_pred_te_rf], axis=0)\n",
        "\n",
        "y_pred_tr_en2= np.mean([y_pred_tr_ridge, y_pred_tr_lasso, y_pred_tr_rf], axis=0)\n",
        "y_pred_va_en2= np.mean([y_pred_va_ridge, y_pred_va_lasso, y_pred_va_rf], axis=0)\n",
        "y_pred_te_en2= np.mean([y_pred_te_ridge, y_pred_te_lasso, y_pred_te_rf], axis=0)\n",
        "\n",
        "\n",
        "# 학습 데이터셋의 RMSE 계산 \n",
        "rmse_tr_ridge = rmse(y_train, y_pred_tr_ridge)\n",
        "rmse_tr_rf = rmse(y_train, y_pred_tr_rf)\n",
        "rmse_tr_en = rmse(y_train, y_pred_tr_en)\n",
        "rmse_tr_en1 = rmse(y_train, y_pred_tr_en1)\n",
        "rmse_tr_en2 = rmse(y_train, y_pred_tr_en2)\n",
        "\n",
        "# 검증 데이터셋의 RMSE 계산 \n",
        "rmse_va_ridge = rmse(y_valid, y_pred_va_ridge)\n",
        "rmse_va_rf = rmse(y_valid, y_pred_va_rf)\n",
        "rmse_va_en = rmse(y_valid, y_pred_va_en)\n",
        "rmse_va_en1 = rmse(y_valid, y_pred_va_en1)\n",
        "rmse_va_en2 = rmse(y_valid, y_pred_va_en2)\n",
        "\n",
        "print(f'\\n**** RIDGE\\n')\n",
        "print(f'Train RMSE: {round(rmse_tr_ridge, 4)}\\n')\n",
        "print(f'\bValid RMSE: {round(rmse_va_ridge, 4)}')\n",
        "\n",
        "print(f'\\n**** Random Forest\\n')\n",
        "print(f'Train RMSE: {round(rmse_tr_rf, 4)}\\n')\n",
        "print(f'\bValid RMSE: {round(rmse_va_rf, 4)}')\n",
        "\n",
        "print(f'\\n**** Ensemble\\n\\n')\n",
        "print(f'\bTrain RMSE: {round(rmse_tr_en, 4)}\\n')\n",
        "print(f'\bValid RMSE: {round(rmse_va_en, 4)}')\n",
        "\n",
        "print(f'\\n**** Ensemble1\\n\\n')\n",
        "print(f'\bTrain RMSE: {round(rmse_tr_en1, 4)}\\n')\n",
        "print(f'\bValid RMSE: {round(rmse_va_en1, 4)}')\n",
        "\n",
        "print(f'\\n**** Ensemble2\\n\\n')\n",
        "print(f'\bTrain RMSE: {round(rmse_tr_en2, 4)}\\n')\n",
        "print(f'\bValid RMSE: {round(rmse_va_en2, 4)}')\n"
      ],
      "metadata": {
        "id": "Ceof_g8Um_Tv"
      },
      "id": "Ceof_g8Um_Tv",
      "execution_count": null,
      "outputs": []
    },
    {
      "cell_type": "markdown",
      "source": [
        "검증용 데이터로 세가지 모델에 대한 성능을 비교합니다."
      ],
      "metadata": {
        "id": "kNTiZkBar4Ti"
      },
      "id": "kNTiZkBar4Ti"
    },
    {
      "cell_type": "code",
      "source": [
        "rmse_valid = [rmse_va_ridge, rmse_va_rf, rmse_va_en]\n",
        "recap_model = ['RIDGE', 'RF', 'Ensemble']\n",
        "df_recap = pd.DataFrame({'Model': recap_model, 'Valid_RMSE' : rmse_valid})\n",
        "ax = sns.barplot(x='Model', y='Valid_RMSE', data=df_recap, palette=\"Blues_d\")\n",
        "ax.set_ylim([5, 9]) "
      ],
      "metadata": {
        "id": "fp2tYvMbJRTv"
      },
      "id": "fp2tYvMbJRTv",
      "execution_count": null,
      "outputs": []
    },
    {
      "cell_type": "markdown",
      "source": [
        "검증 데이터에 대한 앙상블 모델 예측 결과를 시각화합니다. "
      ],
      "metadata": {
        "id": "80_8WZ2yr7o4"
      },
      "id": "80_8WZ2yr7o4"
    },
    {
      "cell_type": "code",
      "execution_count": null,
      "metadata": {
        "id": "ceaR1xmO1KWb"
      },
      "outputs": [],
      "source": [
        "df_train = pd.DataFrame({'y_true': y_train.values, 'y_pred': y_pred_tr_en})\n",
        "df_valid = pd.DataFrame({'y_true': y_valid.values, 'y_pred': y_pred_va_en})\n",
        "\n",
        "fig, axes = plt.subplots(nrows=1, ncols=2, sharey=True, figsize=(18,4))\n",
        "fig.subplots_adjust(hspace=.4, wspace=.1)\n",
        "\n",
        "sns.lineplot(data = df_train, ax=axes[0])\n",
        "sns.lineplot(data = df_valid, ax=axes[1])\n",
        "\n",
        "axes[0].set_title('Train Dataset')\n",
        "axes[1].set_title('Validation Dataset')\n",
        "\n",
        "axes[0].legend(loc='lower right', ncol=2)\n",
        "axes[1].legend(loc='lower right', ncol=2)\n",
        "\n",
        "plt.show()\n",
        "plt.clf() "
      ],
      "id": "ceaR1xmO1KWb"
    },
    {
      "cell_type": "markdown",
      "metadata": {
        "id": "LrNKtoZcCM5a"
      },
      "source": [
        "<a name='05-05'></a>\n",
        "### 5.5 결과 해석 \n"
      ],
      "id": "LrNKtoZcCM5a"
    },
    {
      "cell_type": "markdown",
      "source": [
        "릿지 회귀 모델에서의 계수(coefficient)는 각 변수의 곱해지는 가중치를 의미합니다."
      ],
      "metadata": {
        "id": "hpZkW3HRHTwI"
      },
      "id": "hpZkW3HRHTwI"
    },
    {
      "cell_type": "code",
      "execution_count": null,
      "metadata": {
        "id": "z6fx9L9BwiNp"
      },
      "outputs": [],
      "source": [
        "# # Ridge 에서 GridSearchCV로 탐색한 최적의 alpha값 출력합니다. \n",
        "# print(f'Alpha : {best_ridge.alpha}')\n",
        "# _ = pd.DataFrame(best_ridge.coef_.reshape(-1, df_prep_train[col_X].columns.shape[0]), columns=df_prep_train[col_X].columns, index=['coefficient'])\n",
        "# _"
      ],
      "id": "z6fx9L9BwiNp"
    },
    {
      "cell_type": "markdown",
      "source": [
        "랜덤 포레스트와 같은 트리 기반 모델에서는 각 변수의 중요도 정보를 함께 제공합니다. \n",
        "\n",
        "특정 변수로 분기되었을 시 제곱오차(squared_error)가 크게 감소한 변수일수록 중요도가 높아집니다.\n",
        "\n",
        "분류 문제일 경우에는, 불순도(Gini, entropy)가 크게 감소할수록 해당 특성의 중요도가 높아집니다.\n",
        "\n",
        "전체 변수의 중요도 합은 1이며, 이는 상대적 의미를 가집니다.  \n",
        "\n"
      ],
      "metadata": {
        "id": "VxaSYzmwsWeW"
      },
      "id": "VxaSYzmwsWeW"
    },
    {
      "cell_type": "code",
      "execution_count": null,
      "metadata": {
        "id": "JkNz25d24t8B"
      },
      "outputs": [],
      "source": [
        "# feat_importances = pd.Series(best_rf.feature_importances_, index=df_prep_train[col_X].columns)\n",
        "# feat_importances.nlargest(15).plot(kind='barh')"
      ],
      "id": "JkNz25d24t8B"
    },
    {
      "cell_type": "markdown",
      "metadata": {
        "id": "7bc5e184"
      },
      "source": [
        "<a name='05-06'></a>\n",
        "### 5.6 예측 결과 파일 제출 "
      ],
      "id": "7bc5e184"
    },
    {
      "cell_type": "code",
      "execution_count": null,
      "metadata": {
        "id": "faU2PsDDz3nf"
      },
      "outputs": [],
      "source": [
        "predict['msure_val'] = list(y_pred_te_en)\n",
        "df_submission = predict[['key_val', 'msure_val']] \n",
        "df_submission.head()"
      ],
      "id": "faU2PsDDz3nf"
    },
    {
      "cell_type": "code",
      "source": [
        "# 예측값에 결측치가 포함되어 있는지 확인합니다.\n",
        "df_submission.isnull().sum()"
      ],
      "metadata": {
        "id": "t_Dmq76OawcM"
      },
      "id": "t_Dmq76OawcM",
      "execution_count": null,
      "outputs": []
    },
    {
      "cell_type": "code",
      "source": [
        "# 예측값의 갯수가 평가용 데이터의 갯수와 동일한지 확인합니다.\n",
        "assert len(df_submission) == len(predict)\n",
        "print(f'No. of Predict DataSet : {len(predict)}\\nNo. of Submission DataSet : {len(df_submission)}')"
      ],
      "metadata": {
        "id": "VafErHfrbK4T"
      },
      "id": "VafErHfrbK4T",
      "execution_count": null,
      "outputs": []
    },
    {
      "cell_type": "code",
      "execution_count": null,
      "metadata": {
        "id": "Sm2fMII4iwJR"
      },
      "outputs": [],
      "source": [
        "# 예측 파일을 저장합니다. \n",
        "# 제출용 파일 이름은 cds_submission_팀명_차수.csv 형태로 제출합니다.\n",
        "df_submission.set_index('key_val', inplace=True)\n",
        "df_submission.to_csv(f'{path}cds_submission_MyTeam_1.csv')"
      ],
      "id": "Sm2fMII4iwJR"
    },
    {
      "cell_type": "code",
      "source": [
        ""
      ],
      "metadata": {
        "id": "zmgSLBBRm8s_"
      },
      "id": "zmgSLBBRm8s_",
      "execution_count": null,
      "outputs": []
    }
  ],
  "metadata": {
    "accelerator": "GPU",
    "colab": {
      "collapsed_sections": [],
      "name": "CDS_Baseline_20220731_1차시도.ipynb",
      "provenance": [],
      "toc_visible": true,
      "include_colab_link": true
    },
    "kernelspec": {
      "display_name": "Python 3",
      "name": "python3"
    },
    "language_info": {
      "name": "python"
    },
    "gpuClass": "standard"
  },
  "nbformat": 4,
  "nbformat_minor": 5
}