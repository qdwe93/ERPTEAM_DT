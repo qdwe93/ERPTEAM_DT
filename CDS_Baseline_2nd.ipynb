{
  "cells": [
    {
      "cell_type": "markdown",
      "metadata": {
        "id": "view-in-github",
        "colab_type": "text"
      },
      "source": [
        "<a href=\"https://colab.research.google.com/github/qdwe93/ERPTEAM_DT/blob/main/CDS_Baseline_2nd.ipynb\" target=\"_parent\"><img src=\"https://colab.research.google.com/assets/colab-badge.svg\" alt=\"Open In Colab\"/></a>"
      ]
    },
    {
      "cell_type": "markdown",
      "metadata": {
        "id": "ddf5cd88"
      },
      "source": [
        "##  Baseline 제공 목적 \n",
        "- 제공한 데이터세트를 활용한 머신러닝 Pipeline(분석절차)이 올바르게 동작하는지를 확인\n",
        "- 제공한 데이터세트를 활용하여 분석 대상 기준 정의 및 제출 결과 파일 생성 방법 등에 참고\n",
        "\n",
        "※ 주어진 베이스라인 모델은 예시이며, 참가자들은 자유롭게 분석 방법 및 항목 변경 가능\n",
        "\n",
        "---------------\n",
        "\n",
        "## Baseline 목차 \n",
        "\n",
        "\n",
        "- [1. 분석환경 구축](#01)\n",
        "    - [1.1  Colab 구글드라이브 연동](#01-01)\n",
        "    - [1.2  라이브러리 임포트](#01-02)\n",
        "- [2. 데이터 읽기](#02)\n",
        "    - [2.1 데이터 통합](#02-01)\n",
        "    - [2.2 데이터 설명](#02-02)  \n",
        "- [3. 탐색적 데이터 분석](#03)\n",
        "\n",
        "    - [3.1 타깃 변수 분포 확인하기](#03-01)\n",
        "    - [3.2 센서 변수와 타깃 변수의 상관관계 파악](#03-02)\n",
        "    - [3.3 범주형 변수에 따른 타깃 변수의 변화](#03-03)\n",
        "    - [3.4 전체 공정 소요시간에 따른 타깃 변수의 변화](#03-04)\n",
        "    - [3.5 센서의 집약된 통계량에 따른 타깃 변수의 변화](#03-05)\n",
        "\n",
        "- [4. 데이터 전처리](#04)\n",
        "    - [4.1 내부 데이터를 통한 변수 생성](#04-01)\n",
        "    - [4.2 이상치 치환하기](#04-02)\n",
        "    - [4.3 분산이 적은 변수 제거](#04-03)\n",
        "    - [4.4 표준화](#04-04)\n",
        "    - [4.5 원-핫 인코딩](#04-05)\n",
        "    - [4.6 변수 선택](#04-06)\n",
        "\n",
        "- [5. 모델링](#05)\n",
        "    - [5.1 데이터 분할](#05-01)\n",
        "    - [5.2 릿지 회귀 모델](#05-02)\n",
        "    - [5.3 랜덤 포레스트 모델](#05-03)\n",
        "    - [5.4 최종 모델 구축](#05-04)\n",
        "    - [5.5 결과 해석](#05-05)\n",
        "    - [5.6 예측 결과 파일 제출](#05-06)\n",
        "\n",
        "\n",
        "\n",
        "\n"
      ],
      "id": "ddf5cd88"
    },
    {
      "cell_type": "markdown",
      "metadata": {
        "id": "7f70174a"
      },
      "source": [
        "<a name='01'></a>\n",
        "## 1. 분석환경 구축 "
      ],
      "id": "7f70174a"
    },
    {
      "cell_type": "markdown",
      "metadata": {
        "id": "54777026"
      },
      "source": [
        "<a name='01-01'></a>\n",
        "### 1.1 Colab 구글 드라이브 연동 "
      ],
      "id": "54777026"
    },
    {
      "cell_type": "code",
      "execution_count": null,
      "metadata": {
        "colab": {
          "base_uri": "https://localhost:8080/"
        },
        "id": "0129b0eb",
        "outputId": "9130c115-6f40-4a83-a72d-00cc8a6c833d"
      },
      "outputs": [
        {
          "output_type": "stream",
          "name": "stdout",
          "text": [
            "Drive already mounted at /content/drive; to attempt to forcibly remount, call drive.mount(\"/content/drive\", force_remount=True).\n"
          ]
        }
      ],
      "source": [
        "# 구글 Colaboratory 를 사용하기 위해 구글 계정으로 로그인합니다. \n",
        "from google.colab import drive\n",
        "drive.mount('/content/drive')\n"
      ],
      "id": "0129b0eb"
    },
    {
      "cell_type": "markdown",
      "metadata": {
        "id": "d3016eeb"
      },
      "source": [
        "<a name='01-02'></a>\n",
        "### 1.2 라이브러리 임포트"
      ],
      "id": "d3016eeb"
    },
    {
      "cell_type": "code",
      "execution_count": null,
      "metadata": {
        "id": "ce2d12a0"
      },
      "outputs": [],
      "source": [
        "import warnings\n",
        "warnings.filterwarnings('ignore')\n",
        "\n",
        "# 데이터 읽기를 위한 라이브러리\n",
        "import numpy as np\n",
        "np.random.seed(0)\n",
        "import pandas as pd\n",
        "import gc, os, time\n",
        "import scipy as sp\n",
        "import statsmodels.api as sm\n",
        "from pandas import DataFrame, Series\n",
        "from datetime import datetime, date, timedelta\n",
        "from sklearn.preprocessing import StandardScaler, LabelEncoder\n",
        "\n",
        "# 탐색적 데이터 분석을 위한 라이브러리\n",
        "import seaborn as sns\n",
        "import matplotlib.pyplot as plt\n",
        "from scipy.stats import skew, norm, probplot, boxcox\n",
        "\n",
        "# 모델링을 위한 라이브러리\n",
        "from sklearn.linear_model import LinearRegression, Ridge, Lasso\n",
        "from sklearn.neighbors import KNeighborsRegressor\n",
        "from sklearn.tree import DecisionTreeRegressor\n",
        "from sklearn.ensemble import (RandomForestRegressor, GradientBoostingRegressor, \n",
        "                              AdaBoostRegressor)\n",
        "\n",
        "from sklearn.metrics import mean_squared_error\n",
        "from sklearn.model_selection import train_test_split, GridSearchCV\n",
        "from sklearn.feature_selection import SelectKBest, mutual_info_regression, VarianceThreshold"
      ],
      "id": "ce2d12a0"
    },
    {
      "cell_type": "markdown",
      "metadata": {
        "id": "32ab1be0"
      },
      "source": [
        "<a name='02'></a>\n",
        "## 2. 데이터 읽기\n",
        "\n",
        "데이터 파일을 불러옵니다."
      ],
      "id": "32ab1be0"
    },
    {
      "cell_type": "code",
      "execution_count": null,
      "metadata": {
        "id": "b752d71e"
      },
      "outputs": [],
      "source": [
        "# 구글 드라이브 내 데이터가 위치한 경로를 설정합니다.\n",
        "path = 'drive/MyDrive/SK 2회 AI대회/'\n",
        "\n",
        "# 학습용 데이터 \n",
        "train_sensor = pd.read_csv(f'{path}train_sensor.csv')\n",
        "train_quality = pd.read_csv(f'{path}train_quality.csv')\n",
        "\n",
        "# 평가용 데이터 \n",
        "predict_sensor = pd.read_csv(f'{path}predict_sensor.csv')"
      ],
      "id": "b752d71e"
    },
    {
      "cell_type": "code",
      "execution_count": null,
      "metadata": {
        "colab": {
          "base_uri": "https://localhost:8080/",
          "height": 143
        },
        "id": "9bb55898",
        "outputId": "fb5f4283-ab5b-4e27-8649-27c8b1633118"
      },
      "outputs": [
        {
          "output_type": "execute_result",
          "data": {
            "text/plain": [
              "  module_name    key_val param_alias   mean_val             end_time  step_id\n",
              "0     EQ4_PM6   LOT64_18   EPD_para4     0.0000  2021-10-11 01:59:49       17\n",
              "1     EQ7_PM2  LOT102_18  TIME_para7  1401.1833  2021-10-04 06:37:59       13\n",
              "2     EQ8_PM2    LOT8_18    HV_para3     0.0000  2021-10-09 01:31:39        4"
            ],
            "text/html": [
              "\n",
              "  <div id=\"df-04464594-2bc6-4f64-9584-e571b70139b9\">\n",
              "    <div class=\"colab-df-container\">\n",
              "      <div>\n",
              "<style scoped>\n",
              "    .dataframe tbody tr th:only-of-type {\n",
              "        vertical-align: middle;\n",
              "    }\n",
              "\n",
              "    .dataframe tbody tr th {\n",
              "        vertical-align: top;\n",
              "    }\n",
              "\n",
              "    .dataframe thead th {\n",
              "        text-align: right;\n",
              "    }\n",
              "</style>\n",
              "<table border=\"1\" class=\"dataframe\">\n",
              "  <thead>\n",
              "    <tr style=\"text-align: right;\">\n",
              "      <th></th>\n",
              "      <th>module_name</th>\n",
              "      <th>key_val</th>\n",
              "      <th>param_alias</th>\n",
              "      <th>mean_val</th>\n",
              "      <th>end_time</th>\n",
              "      <th>step_id</th>\n",
              "    </tr>\n",
              "  </thead>\n",
              "  <tbody>\n",
              "    <tr>\n",
              "      <th>0</th>\n",
              "      <td>EQ4_PM6</td>\n",
              "      <td>LOT64_18</td>\n",
              "      <td>EPD_para4</td>\n",
              "      <td>0.0000</td>\n",
              "      <td>2021-10-11 01:59:49</td>\n",
              "      <td>17</td>\n",
              "    </tr>\n",
              "    <tr>\n",
              "      <th>1</th>\n",
              "      <td>EQ7_PM2</td>\n",
              "      <td>LOT102_18</td>\n",
              "      <td>TIME_para7</td>\n",
              "      <td>1401.1833</td>\n",
              "      <td>2021-10-04 06:37:59</td>\n",
              "      <td>13</td>\n",
              "    </tr>\n",
              "    <tr>\n",
              "      <th>2</th>\n",
              "      <td>EQ8_PM2</td>\n",
              "      <td>LOT8_18</td>\n",
              "      <td>HV_para3</td>\n",
              "      <td>0.0000</td>\n",
              "      <td>2021-10-09 01:31:39</td>\n",
              "      <td>4</td>\n",
              "    </tr>\n",
              "  </tbody>\n",
              "</table>\n",
              "</div>\n",
              "      <button class=\"colab-df-convert\" onclick=\"convertToInteractive('df-04464594-2bc6-4f64-9584-e571b70139b9')\"\n",
              "              title=\"Convert this dataframe to an interactive table.\"\n",
              "              style=\"display:none;\">\n",
              "        \n",
              "  <svg xmlns=\"http://www.w3.org/2000/svg\" height=\"24px\"viewBox=\"0 0 24 24\"\n",
              "       width=\"24px\">\n",
              "    <path d=\"M0 0h24v24H0V0z\" fill=\"none\"/>\n",
              "    <path d=\"M18.56 5.44l.94 2.06.94-2.06 2.06-.94-2.06-.94-.94-2.06-.94 2.06-2.06.94zm-11 1L8.5 8.5l.94-2.06 2.06-.94-2.06-.94L8.5 2.5l-.94 2.06-2.06.94zm10 10l.94 2.06.94-2.06 2.06-.94-2.06-.94-.94-2.06-.94 2.06-2.06.94z\"/><path d=\"M17.41 7.96l-1.37-1.37c-.4-.4-.92-.59-1.43-.59-.52 0-1.04.2-1.43.59L10.3 9.45l-7.72 7.72c-.78.78-.78 2.05 0 2.83L4 21.41c.39.39.9.59 1.41.59.51 0 1.02-.2 1.41-.59l7.78-7.78 2.81-2.81c.8-.78.8-2.07 0-2.86zM5.41 20L4 18.59l7.72-7.72 1.47 1.35L5.41 20z\"/>\n",
              "  </svg>\n",
              "      </button>\n",
              "      \n",
              "  <style>\n",
              "    .colab-df-container {\n",
              "      display:flex;\n",
              "      flex-wrap:wrap;\n",
              "      gap: 12px;\n",
              "    }\n",
              "\n",
              "    .colab-df-convert {\n",
              "      background-color: #E8F0FE;\n",
              "      border: none;\n",
              "      border-radius: 50%;\n",
              "      cursor: pointer;\n",
              "      display: none;\n",
              "      fill: #1967D2;\n",
              "      height: 32px;\n",
              "      padding: 0 0 0 0;\n",
              "      width: 32px;\n",
              "    }\n",
              "\n",
              "    .colab-df-convert:hover {\n",
              "      background-color: #E2EBFA;\n",
              "      box-shadow: 0px 1px 2px rgba(60, 64, 67, 0.3), 0px 1px 3px 1px rgba(60, 64, 67, 0.15);\n",
              "      fill: #174EA6;\n",
              "    }\n",
              "\n",
              "    [theme=dark] .colab-df-convert {\n",
              "      background-color: #3B4455;\n",
              "      fill: #D2E3FC;\n",
              "    }\n",
              "\n",
              "    [theme=dark] .colab-df-convert:hover {\n",
              "      background-color: #434B5C;\n",
              "      box-shadow: 0px 1px 3px 1px rgba(0, 0, 0, 0.15);\n",
              "      filter: drop-shadow(0px 1px 2px rgba(0, 0, 0, 0.3));\n",
              "      fill: #FFFFFF;\n",
              "    }\n",
              "  </style>\n",
              "\n",
              "      <script>\n",
              "        const buttonEl =\n",
              "          document.querySelector('#df-04464594-2bc6-4f64-9584-e571b70139b9 button.colab-df-convert');\n",
              "        buttonEl.style.display =\n",
              "          google.colab.kernel.accessAllowed ? 'block' : 'none';\n",
              "\n",
              "        async function convertToInteractive(key) {\n",
              "          const element = document.querySelector('#df-04464594-2bc6-4f64-9584-e571b70139b9');\n",
              "          const dataTable =\n",
              "            await google.colab.kernel.invokeFunction('convertToInteractive',\n",
              "                                                     [key], {});\n",
              "          if (!dataTable) return;\n",
              "\n",
              "          const docLinkHtml = 'Like what you see? Visit the ' +\n",
              "            '<a target=\"_blank\" href=https://colab.research.google.com/notebooks/data_table.ipynb>data table notebook</a>'\n",
              "            + ' to learn more about interactive tables.';\n",
              "          element.innerHTML = '';\n",
              "          dataTable['output_type'] = 'display_data';\n",
              "          await google.colab.output.renderOutput(dataTable, element);\n",
              "          const docLink = document.createElement('div');\n",
              "          docLink.innerHTML = docLinkHtml;\n",
              "          element.appendChild(docLink);\n",
              "        }\n",
              "      </script>\n",
              "    </div>\n",
              "  </div>\n",
              "  "
            ]
          },
          "metadata": {},
          "execution_count": 83
        }
      ],
      "source": [
        "# 센서 변수 데이터프레임의 상위 3개 행을 출력합니다. \n",
        "train_sensor.head(3)"
      ],
      "id": "9bb55898"
    },
    {
      "cell_type": "code",
      "execution_count": null,
      "metadata": {
        "colab": {
          "base_uri": "https://localhost:8080/",
          "height": 143
        },
        "id": "2d272248",
        "outputId": "0c0ed425-0d4d-4922-a8b1-883a565abfd2"
      },
      "outputs": [
        {
          "output_type": "execute_result",
          "data": {
            "text/plain": [
              "   key_val   msure_val            end_dt_tm\n",
              "0  LOT1_21  1281.14148  2021-10-11 21:00:17\n",
              "1  LOT2_04  1271.26772  2021-10-12 01:23:50\n",
              "2  LOT3_18  1252.67080  2021-10-16 10:35:24"
            ],
            "text/html": [
              "\n",
              "  <div id=\"df-0383c588-2fab-4a0c-81d9-1ab94454e1fe\">\n",
              "    <div class=\"colab-df-container\">\n",
              "      <div>\n",
              "<style scoped>\n",
              "    .dataframe tbody tr th:only-of-type {\n",
              "        vertical-align: middle;\n",
              "    }\n",
              "\n",
              "    .dataframe tbody tr th {\n",
              "        vertical-align: top;\n",
              "    }\n",
              "\n",
              "    .dataframe thead th {\n",
              "        text-align: right;\n",
              "    }\n",
              "</style>\n",
              "<table border=\"1\" class=\"dataframe\">\n",
              "  <thead>\n",
              "    <tr style=\"text-align: right;\">\n",
              "      <th></th>\n",
              "      <th>key_val</th>\n",
              "      <th>msure_val</th>\n",
              "      <th>end_dt_tm</th>\n",
              "    </tr>\n",
              "  </thead>\n",
              "  <tbody>\n",
              "    <tr>\n",
              "      <th>0</th>\n",
              "      <td>LOT1_21</td>\n",
              "      <td>1281.14148</td>\n",
              "      <td>2021-10-11 21:00:17</td>\n",
              "    </tr>\n",
              "    <tr>\n",
              "      <th>1</th>\n",
              "      <td>LOT2_04</td>\n",
              "      <td>1271.26772</td>\n",
              "      <td>2021-10-12 01:23:50</td>\n",
              "    </tr>\n",
              "    <tr>\n",
              "      <th>2</th>\n",
              "      <td>LOT3_18</td>\n",
              "      <td>1252.67080</td>\n",
              "      <td>2021-10-16 10:35:24</td>\n",
              "    </tr>\n",
              "  </tbody>\n",
              "</table>\n",
              "</div>\n",
              "      <button class=\"colab-df-convert\" onclick=\"convertToInteractive('df-0383c588-2fab-4a0c-81d9-1ab94454e1fe')\"\n",
              "              title=\"Convert this dataframe to an interactive table.\"\n",
              "              style=\"display:none;\">\n",
              "        \n",
              "  <svg xmlns=\"http://www.w3.org/2000/svg\" height=\"24px\"viewBox=\"0 0 24 24\"\n",
              "       width=\"24px\">\n",
              "    <path d=\"M0 0h24v24H0V0z\" fill=\"none\"/>\n",
              "    <path d=\"M18.56 5.44l.94 2.06.94-2.06 2.06-.94-2.06-.94-.94-2.06-.94 2.06-2.06.94zm-11 1L8.5 8.5l.94-2.06 2.06-.94-2.06-.94L8.5 2.5l-.94 2.06-2.06.94zm10 10l.94 2.06.94-2.06 2.06-.94-2.06-.94-.94-2.06-.94 2.06-2.06.94z\"/><path d=\"M17.41 7.96l-1.37-1.37c-.4-.4-.92-.59-1.43-.59-.52 0-1.04.2-1.43.59L10.3 9.45l-7.72 7.72c-.78.78-.78 2.05 0 2.83L4 21.41c.39.39.9.59 1.41.59.51 0 1.02-.2 1.41-.59l7.78-7.78 2.81-2.81c.8-.78.8-2.07 0-2.86zM5.41 20L4 18.59l7.72-7.72 1.47 1.35L5.41 20z\"/>\n",
              "  </svg>\n",
              "      </button>\n",
              "      \n",
              "  <style>\n",
              "    .colab-df-container {\n",
              "      display:flex;\n",
              "      flex-wrap:wrap;\n",
              "      gap: 12px;\n",
              "    }\n",
              "\n",
              "    .colab-df-convert {\n",
              "      background-color: #E8F0FE;\n",
              "      border: none;\n",
              "      border-radius: 50%;\n",
              "      cursor: pointer;\n",
              "      display: none;\n",
              "      fill: #1967D2;\n",
              "      height: 32px;\n",
              "      padding: 0 0 0 0;\n",
              "      width: 32px;\n",
              "    }\n",
              "\n",
              "    .colab-df-convert:hover {\n",
              "      background-color: #E2EBFA;\n",
              "      box-shadow: 0px 1px 2px rgba(60, 64, 67, 0.3), 0px 1px 3px 1px rgba(60, 64, 67, 0.15);\n",
              "      fill: #174EA6;\n",
              "    }\n",
              "\n",
              "    [theme=dark] .colab-df-convert {\n",
              "      background-color: #3B4455;\n",
              "      fill: #D2E3FC;\n",
              "    }\n",
              "\n",
              "    [theme=dark] .colab-df-convert:hover {\n",
              "      background-color: #434B5C;\n",
              "      box-shadow: 0px 1px 3px 1px rgba(0, 0, 0, 0.15);\n",
              "      filter: drop-shadow(0px 1px 2px rgba(0, 0, 0, 0.3));\n",
              "      fill: #FFFFFF;\n",
              "    }\n",
              "  </style>\n",
              "\n",
              "      <script>\n",
              "        const buttonEl =\n",
              "          document.querySelector('#df-0383c588-2fab-4a0c-81d9-1ab94454e1fe button.colab-df-convert');\n",
              "        buttonEl.style.display =\n",
              "          google.colab.kernel.accessAllowed ? 'block' : 'none';\n",
              "\n",
              "        async function convertToInteractive(key) {\n",
              "          const element = document.querySelector('#df-0383c588-2fab-4a0c-81d9-1ab94454e1fe');\n",
              "          const dataTable =\n",
              "            await google.colab.kernel.invokeFunction('convertToInteractive',\n",
              "                                                     [key], {});\n",
              "          if (!dataTable) return;\n",
              "\n",
              "          const docLinkHtml = 'Like what you see? Visit the ' +\n",
              "            '<a target=\"_blank\" href=https://colab.research.google.com/notebooks/data_table.ipynb>data table notebook</a>'\n",
              "            + ' to learn more about interactive tables.';\n",
              "          element.innerHTML = '';\n",
              "          dataTable['output_type'] = 'display_data';\n",
              "          await google.colab.output.renderOutput(dataTable, element);\n",
              "          const docLink = document.createElement('div');\n",
              "          docLink.innerHTML = docLinkHtml;\n",
              "          element.appendChild(docLink);\n",
              "        }\n",
              "      </script>\n",
              "    </div>\n",
              "  </div>\n",
              "  "
            ]
          },
          "metadata": {},
          "execution_count": 84
        }
      ],
      "source": [
        "# 타깃 변수 데이터프레임의 상위 3개 행을 출력합니다.\n",
        "train_quality.head(3)"
      ],
      "id": "2d272248"
    },
    {
      "cell_type": "markdown",
      "metadata": {
        "id": "1613901b"
      },
      "source": [
        "<a name='02-01'></a>\n",
        "### 2.1 데이터 통합 \n",
        "\n",
        "학습 데이터의 특징과 타깃 변수가 다른 파일에 존재하므로, 이를 통합하기 위한 작업을 수행합니다. \n",
        "\n",
        "key_val 을 기준으로 train_sensor (X인자)와 train_quality (y인자)의 데이터프레임을 통합합니다.\n",
        "\n",
        "key_val 별 665개의 센서값 컬럼을 생성하기 위해 pandas의 pivot_table 함수를 사용합니다. \n",
        "\n",
        "pivot_table 의 주요 인자는 **index, agg_func, columns** 입니다.\n",
        "\n",
        "1. **index** : key_val 을 기준으로 그룹핑을 하고자 하므로, index 에 key_val 과 그의 상위 그룹인 module_name 을 입력합니다.  \n",
        "2. **agg_func** : values 에 mean_val 을 입력하고, 해당 값에 대한 산식을 sum으로 설정합니다. \n",
        "3. **columns** : step_param 을 columns 인자로 주어, key_val 별 665개의 스텝 단위의 센서 특징을 생성합니다. "
      ],
      "id": "1613901b"
    },
    {
      "cell_type": "code",
      "execution_count": null,
      "metadata": {
        "id": "d7bc0916"
      },
      "outputs": [],
      "source": [
        "def make_dataset(X, y=None):\n",
        "    \n",
        "    # -----------------------------------\n",
        "    # train_sensor (X 인자)\n",
        "    # -----------------------------------\n",
        "    df_X = X.copy()\n",
        "    df_X['step_id'] = df_X['step_id'].apply(lambda x: str(x).zfill(2))\n",
        "    # step_id 와 param_alias 를 결합한 임시 컬럼 step_param 을 생성합니다. ex. 17_EPD_para4\n",
        "    df_X['step_param'] = df_X[['step_id', 'param_alias']].apply(lambda x: '_'.join(x), axis=1)\n",
        "    df_X_tmp = df_X.pivot_table(index = ['module_name','key_val'], columns = 'step_param', values='mean_val', aggfunc='sum')\n",
        "    # 데이터 통합을 위해 인덱스를 key_val 로 재설정합니다. \n",
        "    df_X_tmp = df_X_tmp.reset_index(level=[0, 1])\n",
        "    df_X_tmp.set_index('key_val', inplace=True)\n",
        "\n",
        "    # -----------------------------------\n",
        "    # 시간 데이터 \n",
        "    # -----------------------------------\n",
        "    df_X['end_time_tmp'] = df_X.apply(lambda x: x['step_id'] + '_end_time', axis=1)\n",
        "    df_X['end_time'] = pd.to_datetime(df_X['end_time'])\n",
        "    # end_time 은 센서 데이터가 서버에 도달한 시간으로 스텝 내 오차가 발생할 수 있습니다. 동일 스텝 구간내 공정 완료 시간이 다른 경우, max 함수를 사용하여 가장 최근에 \n",
        "    # 수집된 시간을 가져옵니다. \n",
        "    df_time_tmp = df_X.pivot_table(index = ['key_val'], columns = 'end_time_tmp', values='end_time', aggfunc=lambda x : max(x.unique()))\n",
        "    df_time_tmp = df_time_tmp.reset_index()\n",
        "    df_time_tmp.set_index('key_val', inplace=True)\n",
        "\n",
        "    # -----------------------------------\n",
        "    # train_quality (y 인자)\n",
        "    # -----------------------------------\n",
        "\n",
        "    if y is None : # 평가용 데이터 \n",
        "      \n",
        "      col_target = []\n",
        "      col_idx = ['module_name', 'key_val']\n",
        "      df_complete = pd.concat([df_X_tmp, df_time_tmp], axis=1).reset_index()\n",
        "    \n",
        "    else : # 학습용 데이터 \n",
        "      df_y = y.copy()\n",
        "      df_y.set_index('key_val', inplace=True)\n",
        "      \n",
        "      col_target = ['y']\n",
        "      col_idx = ['module_name', 'key_val', 'end_dt_tm']\n",
        "      \n",
        "      # 센서 데이터, 시간데이터, 품질지표에 대하여 인덱스(key_val)기준으로 데이터프레임을 통합합니다.\n",
        "      df_complete = pd.concat([df_X_tmp, df_time_tmp, df_y], axis=1).reset_index()\n",
        "\n",
        "      # 컬럼 이름을 변경합니다.  \n",
        "      df_complete.rename(columns={'msure_val':'y'}, inplace=True)\n",
        "\n",
        "\n",
        "    # 컬럼 순서를 정렬합니다. \n",
        "    col_feats = df_X['step_param'].unique().tolist()\n",
        "    col_feats.sort()\n",
        "    col_time = [s for s in df_complete.columns.tolist() if \"_end_time\" in s]\n",
        "    col_all = col_idx + col_target + col_feats + col_time\n",
        "    df_complete = df_complete[col_all]\n",
        "    \n",
        "    # 컬럼을 소문자로 변경합니다. \n",
        "    df_complete.columns = df_complete.columns.str.lower()\n",
        "\n",
        "    return df_complete"
      ],
      "id": "d7bc0916"
    },
    {
      "cell_type": "code",
      "execution_count": null,
      "metadata": {
        "id": "73fd4a6b"
      },
      "outputs": [],
      "source": [
        "# 학습용 데이터 \n",
        "train = make_dataset(train_sensor, train_quality)\n",
        "# 평가용 데이터 \n",
        "predict = make_dataset(predict_sensor)"
      ],
      "id": "73fd4a6b"
    },
    {
      "cell_type": "code",
      "source": [
        "train.head(3)"
      ],
      "metadata": {
        "colab": {
          "base_uri": "https://localhost:8080/",
          "height": 341
        },
        "id": "SIauyDrLJ5KX",
        "outputId": "32714950-cbb7-4289-d88c-34dba27f015f"
      },
      "id": "SIauyDrLJ5KX",
      "execution_count": null,
      "outputs": [
        {
          "output_type": "execute_result",
          "data": {
            "text/plain": [
              "  module_name    key_val            end_dt_tm           y  04_efem_para2  \\\n",
              "0    EQ10_PM1  LOT124_21  2021-10-18 18:12:50  1257.84920       1627.636   \n",
              "1    EQ10_PM1  LOT126_21  2021-10-04 23:34:27  1253.30152       1627.971   \n",
              "2    EQ10_PM1  LOT191_17  2021-10-22 11:59:52  1265.93544       1627.182   \n",
              "\n",
              "   04_efem_para25  04_efem_para78  04_epd_para4  04_epd_para40  04_epd_para63  \\\n",
              "0        1638.818        5.140073           0.0            0.0            0.0   \n",
              "1        1641.118        5.023404           0.0            0.0            0.0   \n",
              "2        1637.000        5.042702           0.0            0.0            0.0   \n",
              "\n",
              "   ...  20_time_para9  20_time_para90  20_tmp_para31         04_end_time  \\\n",
              "0  ...       458.3667        2786.450       3.432500 2021-10-18 11:00:06   \n",
              "1  ...       166.2667        2494.350       3.411500 2021-10-04 11:09:20   \n",
              "2  ...       515.9500        2844.033       3.436816 2021-10-21 08:25:57   \n",
              "\n",
              "          06_end_time         12_end_time         13_end_time  \\\n",
              "0 2021-10-18 11:02:32 2021-10-18 11:16:38 2021-10-18 11:16:54   \n",
              "1 2021-10-04 11:11:45 2021-10-04 11:25:52 2021-10-04 11:26:08   \n",
              "2 2021-10-21 08:28:23 2021-10-21 08:42:29 2021-10-21 08:42:45   \n",
              "\n",
              "          17_end_time         18_end_time         20_end_time  \n",
              "0 2021-10-18 11:24:51 2021-10-18 11:25:07 2021-10-18 11:31:58  \n",
              "1 2021-10-04 11:34:05 2021-10-04 11:34:21 2021-10-04 11:41:12  \n",
              "2 2021-10-21 08:50:41 2021-10-21 08:50:57 2021-10-21 08:57:48  \n",
              "\n",
              "[3 rows x 676 columns]"
            ],
            "text/html": [
              "\n",
              "  <div id=\"df-0ab97ce4-c7df-487d-8d52-37c0c020fd09\">\n",
              "    <div class=\"colab-df-container\">\n",
              "      <div>\n",
              "<style scoped>\n",
              "    .dataframe tbody tr th:only-of-type {\n",
              "        vertical-align: middle;\n",
              "    }\n",
              "\n",
              "    .dataframe tbody tr th {\n",
              "        vertical-align: top;\n",
              "    }\n",
              "\n",
              "    .dataframe thead th {\n",
              "        text-align: right;\n",
              "    }\n",
              "</style>\n",
              "<table border=\"1\" class=\"dataframe\">\n",
              "  <thead>\n",
              "    <tr style=\"text-align: right;\">\n",
              "      <th></th>\n",
              "      <th>module_name</th>\n",
              "      <th>key_val</th>\n",
              "      <th>end_dt_tm</th>\n",
              "      <th>y</th>\n",
              "      <th>04_efem_para2</th>\n",
              "      <th>04_efem_para25</th>\n",
              "      <th>04_efem_para78</th>\n",
              "      <th>04_epd_para4</th>\n",
              "      <th>04_epd_para40</th>\n",
              "      <th>04_epd_para63</th>\n",
              "      <th>...</th>\n",
              "      <th>20_time_para9</th>\n",
              "      <th>20_time_para90</th>\n",
              "      <th>20_tmp_para31</th>\n",
              "      <th>04_end_time</th>\n",
              "      <th>06_end_time</th>\n",
              "      <th>12_end_time</th>\n",
              "      <th>13_end_time</th>\n",
              "      <th>17_end_time</th>\n",
              "      <th>18_end_time</th>\n",
              "      <th>20_end_time</th>\n",
              "    </tr>\n",
              "  </thead>\n",
              "  <tbody>\n",
              "    <tr>\n",
              "      <th>0</th>\n",
              "      <td>EQ10_PM1</td>\n",
              "      <td>LOT124_21</td>\n",
              "      <td>2021-10-18 18:12:50</td>\n",
              "      <td>1257.84920</td>\n",
              "      <td>1627.636</td>\n",
              "      <td>1638.818</td>\n",
              "      <td>5.140073</td>\n",
              "      <td>0.0</td>\n",
              "      <td>0.0</td>\n",
              "      <td>0.0</td>\n",
              "      <td>...</td>\n",
              "      <td>458.3667</td>\n",
              "      <td>2786.450</td>\n",
              "      <td>3.432500</td>\n",
              "      <td>2021-10-18 11:00:06</td>\n",
              "      <td>2021-10-18 11:02:32</td>\n",
              "      <td>2021-10-18 11:16:38</td>\n",
              "      <td>2021-10-18 11:16:54</td>\n",
              "      <td>2021-10-18 11:24:51</td>\n",
              "      <td>2021-10-18 11:25:07</td>\n",
              "      <td>2021-10-18 11:31:58</td>\n",
              "    </tr>\n",
              "    <tr>\n",
              "      <th>1</th>\n",
              "      <td>EQ10_PM1</td>\n",
              "      <td>LOT126_21</td>\n",
              "      <td>2021-10-04 23:34:27</td>\n",
              "      <td>1253.30152</td>\n",
              "      <td>1627.971</td>\n",
              "      <td>1641.118</td>\n",
              "      <td>5.023404</td>\n",
              "      <td>0.0</td>\n",
              "      <td>0.0</td>\n",
              "      <td>0.0</td>\n",
              "      <td>...</td>\n",
              "      <td>166.2667</td>\n",
              "      <td>2494.350</td>\n",
              "      <td>3.411500</td>\n",
              "      <td>2021-10-04 11:09:20</td>\n",
              "      <td>2021-10-04 11:11:45</td>\n",
              "      <td>2021-10-04 11:25:52</td>\n",
              "      <td>2021-10-04 11:26:08</td>\n",
              "      <td>2021-10-04 11:34:05</td>\n",
              "      <td>2021-10-04 11:34:21</td>\n",
              "      <td>2021-10-04 11:41:12</td>\n",
              "    </tr>\n",
              "    <tr>\n",
              "      <th>2</th>\n",
              "      <td>EQ10_PM1</td>\n",
              "      <td>LOT191_17</td>\n",
              "      <td>2021-10-22 11:59:52</td>\n",
              "      <td>1265.93544</td>\n",
              "      <td>1627.182</td>\n",
              "      <td>1637.000</td>\n",
              "      <td>5.042702</td>\n",
              "      <td>0.0</td>\n",
              "      <td>0.0</td>\n",
              "      <td>0.0</td>\n",
              "      <td>...</td>\n",
              "      <td>515.9500</td>\n",
              "      <td>2844.033</td>\n",
              "      <td>3.436816</td>\n",
              "      <td>2021-10-21 08:25:57</td>\n",
              "      <td>2021-10-21 08:28:23</td>\n",
              "      <td>2021-10-21 08:42:29</td>\n",
              "      <td>2021-10-21 08:42:45</td>\n",
              "      <td>2021-10-21 08:50:41</td>\n",
              "      <td>2021-10-21 08:50:57</td>\n",
              "      <td>2021-10-21 08:57:48</td>\n",
              "    </tr>\n",
              "  </tbody>\n",
              "</table>\n",
              "<p>3 rows × 676 columns</p>\n",
              "</div>\n",
              "      <button class=\"colab-df-convert\" onclick=\"convertToInteractive('df-0ab97ce4-c7df-487d-8d52-37c0c020fd09')\"\n",
              "              title=\"Convert this dataframe to an interactive table.\"\n",
              "              style=\"display:none;\">\n",
              "        \n",
              "  <svg xmlns=\"http://www.w3.org/2000/svg\" height=\"24px\"viewBox=\"0 0 24 24\"\n",
              "       width=\"24px\">\n",
              "    <path d=\"M0 0h24v24H0V0z\" fill=\"none\"/>\n",
              "    <path d=\"M18.56 5.44l.94 2.06.94-2.06 2.06-.94-2.06-.94-.94-2.06-.94 2.06-2.06.94zm-11 1L8.5 8.5l.94-2.06 2.06-.94-2.06-.94L8.5 2.5l-.94 2.06-2.06.94zm10 10l.94 2.06.94-2.06 2.06-.94-2.06-.94-.94-2.06-.94 2.06-2.06.94z\"/><path d=\"M17.41 7.96l-1.37-1.37c-.4-.4-.92-.59-1.43-.59-.52 0-1.04.2-1.43.59L10.3 9.45l-7.72 7.72c-.78.78-.78 2.05 0 2.83L4 21.41c.39.39.9.59 1.41.59.51 0 1.02-.2 1.41-.59l7.78-7.78 2.81-2.81c.8-.78.8-2.07 0-2.86zM5.41 20L4 18.59l7.72-7.72 1.47 1.35L5.41 20z\"/>\n",
              "  </svg>\n",
              "      </button>\n",
              "      \n",
              "  <style>\n",
              "    .colab-df-container {\n",
              "      display:flex;\n",
              "      flex-wrap:wrap;\n",
              "      gap: 12px;\n",
              "    }\n",
              "\n",
              "    .colab-df-convert {\n",
              "      background-color: #E8F0FE;\n",
              "      border: none;\n",
              "      border-radius: 50%;\n",
              "      cursor: pointer;\n",
              "      display: none;\n",
              "      fill: #1967D2;\n",
              "      height: 32px;\n",
              "      padding: 0 0 0 0;\n",
              "      width: 32px;\n",
              "    }\n",
              "\n",
              "    .colab-df-convert:hover {\n",
              "      background-color: #E2EBFA;\n",
              "      box-shadow: 0px 1px 2px rgba(60, 64, 67, 0.3), 0px 1px 3px 1px rgba(60, 64, 67, 0.15);\n",
              "      fill: #174EA6;\n",
              "    }\n",
              "\n",
              "    [theme=dark] .colab-df-convert {\n",
              "      background-color: #3B4455;\n",
              "      fill: #D2E3FC;\n",
              "    }\n",
              "\n",
              "    [theme=dark] .colab-df-convert:hover {\n",
              "      background-color: #434B5C;\n",
              "      box-shadow: 0px 1px 3px 1px rgba(0, 0, 0, 0.15);\n",
              "      filter: drop-shadow(0px 1px 2px rgba(0, 0, 0, 0.3));\n",
              "      fill: #FFFFFF;\n",
              "    }\n",
              "  </style>\n",
              "\n",
              "      <script>\n",
              "        const buttonEl =\n",
              "          document.querySelector('#df-0ab97ce4-c7df-487d-8d52-37c0c020fd09 button.colab-df-convert');\n",
              "        buttonEl.style.display =\n",
              "          google.colab.kernel.accessAllowed ? 'block' : 'none';\n",
              "\n",
              "        async function convertToInteractive(key) {\n",
              "          const element = document.querySelector('#df-0ab97ce4-c7df-487d-8d52-37c0c020fd09');\n",
              "          const dataTable =\n",
              "            await google.colab.kernel.invokeFunction('convertToInteractive',\n",
              "                                                     [key], {});\n",
              "          if (!dataTable) return;\n",
              "\n",
              "          const docLinkHtml = 'Like what you see? Visit the ' +\n",
              "            '<a target=\"_blank\" href=https://colab.research.google.com/notebooks/data_table.ipynb>data table notebook</a>'\n",
              "            + ' to learn more about interactive tables.';\n",
              "          element.innerHTML = '';\n",
              "          dataTable['output_type'] = 'display_data';\n",
              "          await google.colab.output.renderOutput(dataTable, element);\n",
              "          const docLink = document.createElement('div');\n",
              "          docLink.innerHTML = docLinkHtml;\n",
              "          element.appendChild(docLink);\n",
              "        }\n",
              "      </script>\n",
              "    </div>\n",
              "  </div>\n",
              "  "
            ]
          },
          "metadata": {},
          "execution_count": 87
        }
      ]
    },
    {
      "cell_type": "code",
      "source": [
        "predict.head(3)"
      ],
      "metadata": {
        "colab": {
          "base_uri": "https://localhost:8080/",
          "height": 289
        },
        "id": "87VgfyZSJ726",
        "outputId": "031d6375-c6dc-4333-c9b8-b3b3b813e8d1"
      },
      "id": "87VgfyZSJ726",
      "execution_count": null,
      "outputs": [
        {
          "output_type": "execute_result",
          "data": {
            "text/plain": [
              "  module_name    key_val  04_efem_para2  04_efem_para25  04_efem_para78  \\\n",
              "0    EQ10_PM1  LOT122_18      1630.2900       1637.1610        5.254062   \n",
              "1    EQ10_PM1  LOT313_18      1627.2812       1637.3125        5.147371   \n",
              "2    EQ10_PM1  LOT380_17      1626.8125       1635.9062        5.141955   \n",
              "\n",
              "   04_epd_para4  04_epd_para40  04_epd_para63  04_epd_para80  04_esc_para84  \\\n",
              "0           0.0            0.0            0.0            0.0         2999.0   \n",
              "1           0.0            0.0            0.0            0.0         2999.0   \n",
              "2           0.0            0.0            0.0            0.0         2999.0   \n",
              "\n",
              "   ...  20_time_para9  20_time_para90  20_tmp_para31         04_end_time  \\\n",
              "0  ...       63.63334        63.63334       3.395025 2021-10-29 11:49:11   \n",
              "1  ...       74.03333        74.03333       3.398507 2021-10-29 23:05:49   \n",
              "2  ...       38.20000        38.20000       3.393516 2021-10-28 08:15:36   \n",
              "\n",
              "          06_end_time         12_end_time         13_end_time  \\\n",
              "0 2021-10-29 11:51:12 2021-10-29 12:04:28 2021-10-29 12:04:44   \n",
              "1 2021-10-29 23:07:51 2021-10-29 23:21:08 2021-10-29 23:21:24   \n",
              "2 2021-10-28 08:17:39 2021-10-28 08:30:54 2021-10-28 08:31:10   \n",
              "\n",
              "          17_end_time         18_end_time         20_end_time  \n",
              "0 2021-10-29 12:12:41 2021-10-29 12:12:57 2021-10-29 12:19:48  \n",
              "1 2021-10-29 23:29:20 2021-10-29 23:29:36 2021-10-29 23:36:27  \n",
              "2 2021-10-28 08:39:07 2021-10-28 08:39:23 2021-10-28 08:46:13  \n",
              "\n",
              "[3 rows x 674 columns]"
            ],
            "text/html": [
              "\n",
              "  <div id=\"df-6763a1be-dfc0-4603-b89e-23b7d9c06c65\">\n",
              "    <div class=\"colab-df-container\">\n",
              "      <div>\n",
              "<style scoped>\n",
              "    .dataframe tbody tr th:only-of-type {\n",
              "        vertical-align: middle;\n",
              "    }\n",
              "\n",
              "    .dataframe tbody tr th {\n",
              "        vertical-align: top;\n",
              "    }\n",
              "\n",
              "    .dataframe thead th {\n",
              "        text-align: right;\n",
              "    }\n",
              "</style>\n",
              "<table border=\"1\" class=\"dataframe\">\n",
              "  <thead>\n",
              "    <tr style=\"text-align: right;\">\n",
              "      <th></th>\n",
              "      <th>module_name</th>\n",
              "      <th>key_val</th>\n",
              "      <th>04_efem_para2</th>\n",
              "      <th>04_efem_para25</th>\n",
              "      <th>04_efem_para78</th>\n",
              "      <th>04_epd_para4</th>\n",
              "      <th>04_epd_para40</th>\n",
              "      <th>04_epd_para63</th>\n",
              "      <th>04_epd_para80</th>\n",
              "      <th>04_esc_para84</th>\n",
              "      <th>...</th>\n",
              "      <th>20_time_para9</th>\n",
              "      <th>20_time_para90</th>\n",
              "      <th>20_tmp_para31</th>\n",
              "      <th>04_end_time</th>\n",
              "      <th>06_end_time</th>\n",
              "      <th>12_end_time</th>\n",
              "      <th>13_end_time</th>\n",
              "      <th>17_end_time</th>\n",
              "      <th>18_end_time</th>\n",
              "      <th>20_end_time</th>\n",
              "    </tr>\n",
              "  </thead>\n",
              "  <tbody>\n",
              "    <tr>\n",
              "      <th>0</th>\n",
              "      <td>EQ10_PM1</td>\n",
              "      <td>LOT122_18</td>\n",
              "      <td>1630.2900</td>\n",
              "      <td>1637.1610</td>\n",
              "      <td>5.254062</td>\n",
              "      <td>0.0</td>\n",
              "      <td>0.0</td>\n",
              "      <td>0.0</td>\n",
              "      <td>0.0</td>\n",
              "      <td>2999.0</td>\n",
              "      <td>...</td>\n",
              "      <td>63.63334</td>\n",
              "      <td>63.63334</td>\n",
              "      <td>3.395025</td>\n",
              "      <td>2021-10-29 11:49:11</td>\n",
              "      <td>2021-10-29 11:51:12</td>\n",
              "      <td>2021-10-29 12:04:28</td>\n",
              "      <td>2021-10-29 12:04:44</td>\n",
              "      <td>2021-10-29 12:12:41</td>\n",
              "      <td>2021-10-29 12:12:57</td>\n",
              "      <td>2021-10-29 12:19:48</td>\n",
              "    </tr>\n",
              "    <tr>\n",
              "      <th>1</th>\n",
              "      <td>EQ10_PM1</td>\n",
              "      <td>LOT313_18</td>\n",
              "      <td>1627.2812</td>\n",
              "      <td>1637.3125</td>\n",
              "      <td>5.147371</td>\n",
              "      <td>0.0</td>\n",
              "      <td>0.0</td>\n",
              "      <td>0.0</td>\n",
              "      <td>0.0</td>\n",
              "      <td>2999.0</td>\n",
              "      <td>...</td>\n",
              "      <td>74.03333</td>\n",
              "      <td>74.03333</td>\n",
              "      <td>3.398507</td>\n",
              "      <td>2021-10-29 23:05:49</td>\n",
              "      <td>2021-10-29 23:07:51</td>\n",
              "      <td>2021-10-29 23:21:08</td>\n",
              "      <td>2021-10-29 23:21:24</td>\n",
              "      <td>2021-10-29 23:29:20</td>\n",
              "      <td>2021-10-29 23:29:36</td>\n",
              "      <td>2021-10-29 23:36:27</td>\n",
              "    </tr>\n",
              "    <tr>\n",
              "      <th>2</th>\n",
              "      <td>EQ10_PM1</td>\n",
              "      <td>LOT380_17</td>\n",
              "      <td>1626.8125</td>\n",
              "      <td>1635.9062</td>\n",
              "      <td>5.141955</td>\n",
              "      <td>0.0</td>\n",
              "      <td>0.0</td>\n",
              "      <td>0.0</td>\n",
              "      <td>0.0</td>\n",
              "      <td>2999.0</td>\n",
              "      <td>...</td>\n",
              "      <td>38.20000</td>\n",
              "      <td>38.20000</td>\n",
              "      <td>3.393516</td>\n",
              "      <td>2021-10-28 08:15:36</td>\n",
              "      <td>2021-10-28 08:17:39</td>\n",
              "      <td>2021-10-28 08:30:54</td>\n",
              "      <td>2021-10-28 08:31:10</td>\n",
              "      <td>2021-10-28 08:39:07</td>\n",
              "      <td>2021-10-28 08:39:23</td>\n",
              "      <td>2021-10-28 08:46:13</td>\n",
              "    </tr>\n",
              "  </tbody>\n",
              "</table>\n",
              "<p>3 rows × 674 columns</p>\n",
              "</div>\n",
              "      <button class=\"colab-df-convert\" onclick=\"convertToInteractive('df-6763a1be-dfc0-4603-b89e-23b7d9c06c65')\"\n",
              "              title=\"Convert this dataframe to an interactive table.\"\n",
              "              style=\"display:none;\">\n",
              "        \n",
              "  <svg xmlns=\"http://www.w3.org/2000/svg\" height=\"24px\"viewBox=\"0 0 24 24\"\n",
              "       width=\"24px\">\n",
              "    <path d=\"M0 0h24v24H0V0z\" fill=\"none\"/>\n",
              "    <path d=\"M18.56 5.44l.94 2.06.94-2.06 2.06-.94-2.06-.94-.94-2.06-.94 2.06-2.06.94zm-11 1L8.5 8.5l.94-2.06 2.06-.94-2.06-.94L8.5 2.5l-.94 2.06-2.06.94zm10 10l.94 2.06.94-2.06 2.06-.94-2.06-.94-.94-2.06-.94 2.06-2.06.94z\"/><path d=\"M17.41 7.96l-1.37-1.37c-.4-.4-.92-.59-1.43-.59-.52 0-1.04.2-1.43.59L10.3 9.45l-7.72 7.72c-.78.78-.78 2.05 0 2.83L4 21.41c.39.39.9.59 1.41.59.51 0 1.02-.2 1.41-.59l7.78-7.78 2.81-2.81c.8-.78.8-2.07 0-2.86zM5.41 20L4 18.59l7.72-7.72 1.47 1.35L5.41 20z\"/>\n",
              "  </svg>\n",
              "      </button>\n",
              "      \n",
              "  <style>\n",
              "    .colab-df-container {\n",
              "      display:flex;\n",
              "      flex-wrap:wrap;\n",
              "      gap: 12px;\n",
              "    }\n",
              "\n",
              "    .colab-df-convert {\n",
              "      background-color: #E8F0FE;\n",
              "      border: none;\n",
              "      border-radius: 50%;\n",
              "      cursor: pointer;\n",
              "      display: none;\n",
              "      fill: #1967D2;\n",
              "      height: 32px;\n",
              "      padding: 0 0 0 0;\n",
              "      width: 32px;\n",
              "    }\n",
              "\n",
              "    .colab-df-convert:hover {\n",
              "      background-color: #E2EBFA;\n",
              "      box-shadow: 0px 1px 2px rgba(60, 64, 67, 0.3), 0px 1px 3px 1px rgba(60, 64, 67, 0.15);\n",
              "      fill: #174EA6;\n",
              "    }\n",
              "\n",
              "    [theme=dark] .colab-df-convert {\n",
              "      background-color: #3B4455;\n",
              "      fill: #D2E3FC;\n",
              "    }\n",
              "\n",
              "    [theme=dark] .colab-df-convert:hover {\n",
              "      background-color: #434B5C;\n",
              "      box-shadow: 0px 1px 3px 1px rgba(0, 0, 0, 0.15);\n",
              "      filter: drop-shadow(0px 1px 2px rgba(0, 0, 0, 0.3));\n",
              "      fill: #FFFFFF;\n",
              "    }\n",
              "  </style>\n",
              "\n",
              "      <script>\n",
              "        const buttonEl =\n",
              "          document.querySelector('#df-6763a1be-dfc0-4603-b89e-23b7d9c06c65 button.colab-df-convert');\n",
              "        buttonEl.style.display =\n",
              "          google.colab.kernel.accessAllowed ? 'block' : 'none';\n",
              "\n",
              "        async function convertToInteractive(key) {\n",
              "          const element = document.querySelector('#df-6763a1be-dfc0-4603-b89e-23b7d9c06c65');\n",
              "          const dataTable =\n",
              "            await google.colab.kernel.invokeFunction('convertToInteractive',\n",
              "                                                     [key], {});\n",
              "          if (!dataTable) return;\n",
              "\n",
              "          const docLinkHtml = 'Like what you see? Visit the ' +\n",
              "            '<a target=\"_blank\" href=https://colab.research.google.com/notebooks/data_table.ipynb>data table notebook</a>'\n",
              "            + ' to learn more about interactive tables.';\n",
              "          element.innerHTML = '';\n",
              "          dataTable['output_type'] = 'display_data';\n",
              "          await google.colab.output.renderOutput(dataTable, element);\n",
              "          const docLink = document.createElement('div');\n",
              "          docLink.innerHTML = docLinkHtml;\n",
              "          element.appendChild(docLink);\n",
              "        }\n",
              "      </script>\n",
              "    </div>\n",
              "  </div>\n",
              "  "
            ]
          },
          "metadata": {},
          "execution_count": 88
        }
      ]
    },
    {
      "cell_type": "markdown",
      "metadata": {
        "id": "ab164e3b"
      },
      "source": [
        "<a name='02-02'></a>\n",
        "### 2.2 데이터 설명"
      ],
      "id": "ab164e3b"
    },
    {
      "cell_type": "code",
      "execution_count": null,
      "metadata": {
        "id": "3f0e9e3e"
      },
      "outputs": [],
      "source": [
        "def rstr(df, pred=None): \n",
        "    \n",
        "    obs = df.shape[0]\n",
        "    types = df.dtypes # 자료형 \n",
        "    counts = df.apply(lambda x: x.count()) # 값의 갯수 \n",
        "    uniques = df.apply(lambda x: x.unique()) # 고유값 \n",
        "    distincts = df.apply(lambda x: x.unique().shape[0]) # 고유값의 갯수 \n",
        "    nulls = df.apply(lambda x: x.isnull().sum()) # 결측치의 갯수  \n",
        "    nulls_ratio = (df.isnull().sum()/ obs) * 100 # 결측 비율 \n",
        "    skewness = df.skew() # 왜도  \n",
        "    kurtosis = df.kurt() # 첨도  \n",
        "    \n",
        "    print('Data shape:', df.shape)\n",
        "    \n",
        "    if pred is None:\n",
        "        cols = ['types', 'counts', 'distincts', 'nulls', 'nulls_ratio', 'uniques', 'skewness', 'kurtosis']\n",
        "        str = pd.concat([types, counts, distincts, nulls, nulls_ratio, uniques, skewness, kurtosis], axis = 1)\n",
        "\n",
        "    else:\n",
        "        corr = df.corr()[pred]\n",
        "        str = pd.concat([types, counts, distincts, nulls, nulls_ratio, uniques, skewness, kurtosis, corr], axis = 1, sort=False)\n",
        "        corr_col = 'corr '  + pred\n",
        "        cols = ['types', 'counts', 'distincts', 'nulls', 'nulls_ratio', 'uniques', 'skewness', 'kurtosis', corr_col ]\n",
        "\n",
        "    str.columns = cols\n",
        "    dtypes = str.types.value_counts()\n",
        "    print('___________________________\\nData types:\\n',str.types.value_counts())\n",
        "    print('___________________________')\n",
        "    \n",
        "    return str"
      ],
      "id": "3f0e9e3e"
    },
    {
      "cell_type": "markdown",
      "metadata": {
        "id": "31fdd142"
      },
      "source": [
        "학습 데이터의 수는 611건이며, 665개의 센서 데이터와 7개의 시간 데이터의 특성을 가지고 있습니다. "
      ],
      "id": "31fdd142"
    },
    {
      "cell_type": "code",
      "execution_count": null,
      "metadata": {
        "colab": {
          "base_uri": "https://localhost:8080/",
          "height": 571
        },
        "id": "8ea6bcd2",
        "outputId": "d87497ea-1c44-45ea-f43a-72365352531f"
      },
      "outputs": [
        {
          "output_type": "stream",
          "name": "stdout",
          "text": [
            "Data shape: (611, 676)\n",
            "___________________________\n",
            "Data types:\n",
            " float64           666\n",
            "datetime64[ns]      7\n",
            "object              3\n",
            "Name: types, dtype: int64\n",
            "___________________________\n"
          ]
        },
        {
          "output_type": "display_data",
          "data": {
            "text/plain": [
              "                         types  counts  distincts  nulls  nulls_ratio  \\\n",
              "y                      float64     611        591      0          0.0   \n",
              "20_temp_para24         float64     611        575      0          0.0   \n",
              "13_temp_para24         float64     611        189      0          0.0   \n",
              "12_temp_para24         float64     611        425      0          0.0   \n",
              "17_temp_para24         float64     611        419      0          0.0   \n",
              "...                        ...     ...        ...    ...          ...   \n",
              "12_end_time     datetime64[ns]     611        611      0          0.0   \n",
              "13_end_time     datetime64[ns]     611        611      0          0.0   \n",
              "17_end_time     datetime64[ns]     611        611      0          0.0   \n",
              "18_end_time     datetime64[ns]     611        611      0          0.0   \n",
              "20_end_time     datetime64[ns]     611        611      0          0.0   \n",
              "\n",
              "                                                          uniques  skewness  \\\n",
              "y               [1257.8492, 1253.30152, 1265.93544, 1248.5508,... -0.059197   \n",
              "20_temp_para24  [50.28713, 51.87376, 49.72592, 51.89357, 49.61... -0.438729   \n",
              "13_temp_para24  [69.5625, 72.6875, 68.3125, 71.125, 66.125, 72... -0.309862   \n",
              "12_temp_para24  [68.45, 70.56667, 67.43333, 70.66666, 66.55932... -0.340203   \n",
              "17_temp_para24  [69.63333, 72.21667, 69.96667, 71.73333, 69.35... -0.439029   \n",
              "...                                                           ...       ...   \n",
              "12_end_time     [2021-10-18T11:16:38.000000000, 2021-10-04T11:...       NaN   \n",
              "13_end_time     [2021-10-18T11:16:54.000000000, 2021-10-04T11:...       NaN   \n",
              "17_end_time     [2021-10-18T11:24:51.000000000, 2021-10-04T11:...       NaN   \n",
              "18_end_time     [2021-10-18T11:25:07.000000000, 2021-10-04T11:...       NaN   \n",
              "20_end_time     [2021-10-18T11:31:58.000000000, 2021-10-04T11:...       NaN   \n",
              "\n",
              "                kurtosis    corr y  \n",
              "y               0.342927  1.000000  \n",
              "20_temp_para24  0.090808  0.196888  \n",
              "13_temp_para24 -0.110704  0.194742  \n",
              "12_temp_para24 -0.064225  0.189035  \n",
              "17_temp_para24  0.009083  0.183320  \n",
              "...                  ...       ...  \n",
              "12_end_time          NaN       NaN  \n",
              "13_end_time          NaN       NaN  \n",
              "17_end_time          NaN       NaN  \n",
              "18_end_time          NaN       NaN  \n",
              "20_end_time          NaN       NaN  \n",
              "\n",
              "[676 rows x 9 columns]"
            ],
            "text/html": [
              "\n",
              "  <div id=\"df-3e0ef698-0590-4efc-ab4b-4ea0d5b05aa2\">\n",
              "    <div class=\"colab-df-container\">\n",
              "      <div>\n",
              "<style scoped>\n",
              "    .dataframe tbody tr th:only-of-type {\n",
              "        vertical-align: middle;\n",
              "    }\n",
              "\n",
              "    .dataframe tbody tr th {\n",
              "        vertical-align: top;\n",
              "    }\n",
              "\n",
              "    .dataframe thead th {\n",
              "        text-align: right;\n",
              "    }\n",
              "</style>\n",
              "<table border=\"1\" class=\"dataframe\">\n",
              "  <thead>\n",
              "    <tr style=\"text-align: right;\">\n",
              "      <th></th>\n",
              "      <th>types</th>\n",
              "      <th>counts</th>\n",
              "      <th>distincts</th>\n",
              "      <th>nulls</th>\n",
              "      <th>nulls_ratio</th>\n",
              "      <th>uniques</th>\n",
              "      <th>skewness</th>\n",
              "      <th>kurtosis</th>\n",
              "      <th>corr y</th>\n",
              "    </tr>\n",
              "  </thead>\n",
              "  <tbody>\n",
              "    <tr>\n",
              "      <th>y</th>\n",
              "      <td>float64</td>\n",
              "      <td>611</td>\n",
              "      <td>591</td>\n",
              "      <td>0</td>\n",
              "      <td>0.0</td>\n",
              "      <td>[1257.8492, 1253.30152, 1265.93544, 1248.5508,...</td>\n",
              "      <td>-0.059197</td>\n",
              "      <td>0.342927</td>\n",
              "      <td>1.000000</td>\n",
              "    </tr>\n",
              "    <tr>\n",
              "      <th>20_temp_para24</th>\n",
              "      <td>float64</td>\n",
              "      <td>611</td>\n",
              "      <td>575</td>\n",
              "      <td>0</td>\n",
              "      <td>0.0</td>\n",
              "      <td>[50.28713, 51.87376, 49.72592, 51.89357, 49.61...</td>\n",
              "      <td>-0.438729</td>\n",
              "      <td>0.090808</td>\n",
              "      <td>0.196888</td>\n",
              "    </tr>\n",
              "    <tr>\n",
              "      <th>13_temp_para24</th>\n",
              "      <td>float64</td>\n",
              "      <td>611</td>\n",
              "      <td>189</td>\n",
              "      <td>0</td>\n",
              "      <td>0.0</td>\n",
              "      <td>[69.5625, 72.6875, 68.3125, 71.125, 66.125, 72...</td>\n",
              "      <td>-0.309862</td>\n",
              "      <td>-0.110704</td>\n",
              "      <td>0.194742</td>\n",
              "    </tr>\n",
              "    <tr>\n",
              "      <th>12_temp_para24</th>\n",
              "      <td>float64</td>\n",
              "      <td>611</td>\n",
              "      <td>425</td>\n",
              "      <td>0</td>\n",
              "      <td>0.0</td>\n",
              "      <td>[68.45, 70.56667, 67.43333, 70.66666, 66.55932...</td>\n",
              "      <td>-0.340203</td>\n",
              "      <td>-0.064225</td>\n",
              "      <td>0.189035</td>\n",
              "    </tr>\n",
              "    <tr>\n",
              "      <th>17_temp_para24</th>\n",
              "      <td>float64</td>\n",
              "      <td>611</td>\n",
              "      <td>419</td>\n",
              "      <td>0</td>\n",
              "      <td>0.0</td>\n",
              "      <td>[69.63333, 72.21667, 69.96667, 71.73333, 69.35...</td>\n",
              "      <td>-0.439029</td>\n",
              "      <td>0.009083</td>\n",
              "      <td>0.183320</td>\n",
              "    </tr>\n",
              "    <tr>\n",
              "      <th>...</th>\n",
              "      <td>...</td>\n",
              "      <td>...</td>\n",
              "      <td>...</td>\n",
              "      <td>...</td>\n",
              "      <td>...</td>\n",
              "      <td>...</td>\n",
              "      <td>...</td>\n",
              "      <td>...</td>\n",
              "      <td>...</td>\n",
              "    </tr>\n",
              "    <tr>\n",
              "      <th>12_end_time</th>\n",
              "      <td>datetime64[ns]</td>\n",
              "      <td>611</td>\n",
              "      <td>611</td>\n",
              "      <td>0</td>\n",
              "      <td>0.0</td>\n",
              "      <td>[2021-10-18T11:16:38.000000000, 2021-10-04T11:...</td>\n",
              "      <td>NaN</td>\n",
              "      <td>NaN</td>\n",
              "      <td>NaN</td>\n",
              "    </tr>\n",
              "    <tr>\n",
              "      <th>13_end_time</th>\n",
              "      <td>datetime64[ns]</td>\n",
              "      <td>611</td>\n",
              "      <td>611</td>\n",
              "      <td>0</td>\n",
              "      <td>0.0</td>\n",
              "      <td>[2021-10-18T11:16:54.000000000, 2021-10-04T11:...</td>\n",
              "      <td>NaN</td>\n",
              "      <td>NaN</td>\n",
              "      <td>NaN</td>\n",
              "    </tr>\n",
              "    <tr>\n",
              "      <th>17_end_time</th>\n",
              "      <td>datetime64[ns]</td>\n",
              "      <td>611</td>\n",
              "      <td>611</td>\n",
              "      <td>0</td>\n",
              "      <td>0.0</td>\n",
              "      <td>[2021-10-18T11:24:51.000000000, 2021-10-04T11:...</td>\n",
              "      <td>NaN</td>\n",
              "      <td>NaN</td>\n",
              "      <td>NaN</td>\n",
              "    </tr>\n",
              "    <tr>\n",
              "      <th>18_end_time</th>\n",
              "      <td>datetime64[ns]</td>\n",
              "      <td>611</td>\n",
              "      <td>611</td>\n",
              "      <td>0</td>\n",
              "      <td>0.0</td>\n",
              "      <td>[2021-10-18T11:25:07.000000000, 2021-10-04T11:...</td>\n",
              "      <td>NaN</td>\n",
              "      <td>NaN</td>\n",
              "      <td>NaN</td>\n",
              "    </tr>\n",
              "    <tr>\n",
              "      <th>20_end_time</th>\n",
              "      <td>datetime64[ns]</td>\n",
              "      <td>611</td>\n",
              "      <td>611</td>\n",
              "      <td>0</td>\n",
              "      <td>0.0</td>\n",
              "      <td>[2021-10-18T11:31:58.000000000, 2021-10-04T11:...</td>\n",
              "      <td>NaN</td>\n",
              "      <td>NaN</td>\n",
              "      <td>NaN</td>\n",
              "    </tr>\n",
              "  </tbody>\n",
              "</table>\n",
              "<p>676 rows × 9 columns</p>\n",
              "</div>\n",
              "      <button class=\"colab-df-convert\" onclick=\"convertToInteractive('df-3e0ef698-0590-4efc-ab4b-4ea0d5b05aa2')\"\n",
              "              title=\"Convert this dataframe to an interactive table.\"\n",
              "              style=\"display:none;\">\n",
              "        \n",
              "  <svg xmlns=\"http://www.w3.org/2000/svg\" height=\"24px\"viewBox=\"0 0 24 24\"\n",
              "       width=\"24px\">\n",
              "    <path d=\"M0 0h24v24H0V0z\" fill=\"none\"/>\n",
              "    <path d=\"M18.56 5.44l.94 2.06.94-2.06 2.06-.94-2.06-.94-.94-2.06-.94 2.06-2.06.94zm-11 1L8.5 8.5l.94-2.06 2.06-.94-2.06-.94L8.5 2.5l-.94 2.06-2.06.94zm10 10l.94 2.06.94-2.06 2.06-.94-2.06-.94-.94-2.06-.94 2.06-2.06.94z\"/><path d=\"M17.41 7.96l-1.37-1.37c-.4-.4-.92-.59-1.43-.59-.52 0-1.04.2-1.43.59L10.3 9.45l-7.72 7.72c-.78.78-.78 2.05 0 2.83L4 21.41c.39.39.9.59 1.41.59.51 0 1.02-.2 1.41-.59l7.78-7.78 2.81-2.81c.8-.78.8-2.07 0-2.86zM5.41 20L4 18.59l7.72-7.72 1.47 1.35L5.41 20z\"/>\n",
              "  </svg>\n",
              "      </button>\n",
              "      \n",
              "  <style>\n",
              "    .colab-df-container {\n",
              "      display:flex;\n",
              "      flex-wrap:wrap;\n",
              "      gap: 12px;\n",
              "    }\n",
              "\n",
              "    .colab-df-convert {\n",
              "      background-color: #E8F0FE;\n",
              "      border: none;\n",
              "      border-radius: 50%;\n",
              "      cursor: pointer;\n",
              "      display: none;\n",
              "      fill: #1967D2;\n",
              "      height: 32px;\n",
              "      padding: 0 0 0 0;\n",
              "      width: 32px;\n",
              "    }\n",
              "\n",
              "    .colab-df-convert:hover {\n",
              "      background-color: #E2EBFA;\n",
              "      box-shadow: 0px 1px 2px rgba(60, 64, 67, 0.3), 0px 1px 3px 1px rgba(60, 64, 67, 0.15);\n",
              "      fill: #174EA6;\n",
              "    }\n",
              "\n",
              "    [theme=dark] .colab-df-convert {\n",
              "      background-color: #3B4455;\n",
              "      fill: #D2E3FC;\n",
              "    }\n",
              "\n",
              "    [theme=dark] .colab-df-convert:hover {\n",
              "      background-color: #434B5C;\n",
              "      box-shadow: 0px 1px 3px 1px rgba(0, 0, 0, 0.15);\n",
              "      filter: drop-shadow(0px 1px 2px rgba(0, 0, 0, 0.3));\n",
              "      fill: #FFFFFF;\n",
              "    }\n",
              "  </style>\n",
              "\n",
              "      <script>\n",
              "        const buttonEl =\n",
              "          document.querySelector('#df-3e0ef698-0590-4efc-ab4b-4ea0d5b05aa2 button.colab-df-convert');\n",
              "        buttonEl.style.display =\n",
              "          google.colab.kernel.accessAllowed ? 'block' : 'none';\n",
              "\n",
              "        async function convertToInteractive(key) {\n",
              "          const element = document.querySelector('#df-3e0ef698-0590-4efc-ab4b-4ea0d5b05aa2');\n",
              "          const dataTable =\n",
              "            await google.colab.kernel.invokeFunction('convertToInteractive',\n",
              "                                                     [key], {});\n",
              "          if (!dataTable) return;\n",
              "\n",
              "          const docLinkHtml = 'Like what you see? Visit the ' +\n",
              "            '<a target=\"_blank\" href=https://colab.research.google.com/notebooks/data_table.ipynb>data table notebook</a>'\n",
              "            + ' to learn more about interactive tables.';\n",
              "          element.innerHTML = '';\n",
              "          dataTable['output_type'] = 'display_data';\n",
              "          await google.colab.output.renderOutput(dataTable, element);\n",
              "          const docLink = document.createElement('div');\n",
              "          docLink.innerHTML = docLinkHtml;\n",
              "          element.appendChild(docLink);\n",
              "        }\n",
              "      </script>\n",
              "    </div>\n",
              "  </div>\n",
              "  "
            ]
          },
          "metadata": {}
        }
      ],
      "source": [
        "details = rstr(train, 'y')\n",
        "display(details.sort_values(by='corr y', ascending=False))"
      ],
      "id": "8ea6bcd2"
    },
    {
      "cell_type": "markdown",
      "metadata": {
        "id": "008a0e3b"
      },
      "source": [
        "<a name='03'></a>\n",
        "## 3. 탐색적 데이터 분석 \n",
        "\n",
        "탐색적 데이터 분석을 통해 **데이터를 이해**하고, 모델에 유용한 **특징을 생성**할 수 있습니다. \n",
        "\n",
        "- 데이터에 대한 이해를 높이기 위해 타깃 변수의 분포 (3.1절) , 각 센서 변수와 타깃 변수와의 상관 관계 (3.2절)를 파악합니다. \n",
        "\n",
        "- 새로운 특징을 도출하기 위해 범주형 변수에 따른 타깃 변수의 변화 (3.3절) , 전체 공정 소요시간에 따른 타깃 변수의 변화 (3.4절) , 센서 변수의 집약된 통계량 (3.5절) 을 확인해봅니다."
      ],
      "id": "008a0e3b"
    },
    {
      "cell_type": "code",
      "source": [
        "# -----------------------------------\n",
        "# 3 장 EDA 분석에 필요한 변수를 선언합니다.\n",
        "# -----------------------------------\n",
        "\n",
        "# \bEDA를 위한 학습 데이터를 복사합니다.\n",
        "df_eda = train.copy()\n",
        "\n",
        "# 센서 컬럼과 날짜 컬럼을 정의합니다. \n",
        "col_sensor = df_eda.iloc[:, 4:-7].columns.tolist() \n",
        "col_time = df_eda.filter(regex='end').columns.tolist() \n",
        "\n",
        "assert len(col_sensor) == 665\n",
        "assert len(col_time) == 8 \n",
        "\n",
        "# \b3.4절 공정 소요시간 분석에 필요한 변수를 정의합니다. \n",
        "lst_steps = ['04','06','12','13','17','18', '20']\n",
        "lst_stepsgap = ['0406','0612','1213','1317','1718','1820']\n",
        "\n",
        "lst_sensors = []\n",
        "for step in lst_steps:\n",
        "    _ = [col for col in col_sensor if col[:2] == step]\n",
        "    lst_sensors.append(_)\n",
        "\n",
        "sensors_nm = list(map(lambda x: x[3:], lst_sensors[0]))\n",
        "\n",
        "# 시간과 관련한 분석을 진행하기 위하여 날짜형으로 변환합니다. \n",
        "df_eda[col_time] = df_eda[col_time].apply(pd.to_datetime)"
      ],
      "metadata": {
        "id": "fokGIM4gWb53"
      },
      "id": "fokGIM4gWb53",
      "execution_count": null,
      "outputs": []
    },
    {
      "cell_type": "markdown",
      "metadata": {
        "id": "8a6093bb"
      },
      "source": [
        "<a name='03-01'></a>\n",
        "### 3.1 타깃 변수 분포 확인하기 \n",
        "\n",
        "학습 데이터를 이용해 타깃 변수의 분포를 살펴보겠습니다. \n",
        "\n",
        "Seaborn 의 **distplot** 과 **probplot** 을 사용하여 타깃 변수의 분포 범위와 해당 값이 특정 구간에 치우쳐 있는지를 확인합니다."
      ],
      "id": "8a6093bb"
    },
    {
      "cell_type": "code",
      "execution_count": null,
      "metadata": {
        "id": "1a3a5733"
      },
      "outputs": [],
      "source": [
        "def QQ_plot(data, measure):\n",
        "    \n",
        "    # 그래프의 크기를 지정합니다.\n",
        "    fig = plt.figure(figsize=(10,4))\n",
        "    \n",
        "    # 1행 2열의 첫번째 히스토그램 그래프입니다.\n",
        "    fig1 = fig.add_subplot(121)\n",
        "    (mu, sigma) = norm.fit(data)\n",
        "    # distplot 으로 타깃 변수의 분포를 확인합니다. kde = True를 입력하면 커널밀도추정 결과를 함께 표기할 수 있습니다.\n",
        "    sns.distplot(data, kde=True, fit=norm)\n",
        "    fig1.legend(['KDE', f'N({round(mu, 2)},{round(sigma**2, 2)})'], loc='upper right')\n",
        "    fig1.set_title(f'{measure} Distribution', loc='center')\n",
        "    fig1.set_xlabel(f'{measure}')\n",
        "\n",
        "    # 1행 2열의 두번째 QQ Plot 그래프입니다.\n",
        "    fig2 = fig.add_subplot(122)\n",
        "    # 정규분포와 타깃변수의 분포를 비교합니다.\n",
        "    res = probplot(data, plot=fig2)\n",
        "    fig2.set_title(f'{measure} Probability Plot', loc='center')\n",
        "\n",
        "    plt.tight_layout()\n",
        "    plt.show()\n"
      ],
      "id": "1a3a5733"
    },
    {
      "cell_type": "markdown",
      "metadata": {
        "id": "12acea32"
      },
      "source": [
        "타깃은 평균 1263.41, 분산 67.16 인 정규분포를 거의 따른다고 볼 수 있습니다."
      ],
      "id": "12acea32"
    },
    {
      "cell_type": "code",
      "execution_count": null,
      "metadata": {
        "colab": {
          "base_uri": "https://localhost:8080/",
          "height": 297
        },
        "id": "f186ad43",
        "outputId": "4d89e519-2aca-4bb2-ed41-b5e53575cb4b"
      },
      "outputs": [
        {
          "output_type": "display_data",
          "data": {
            "text/plain": [
              "<Figure size 720x288 with 2 Axes>"
            ],
            "image/png": "[encoded data removed]"
          },
          "metadata": {
            "needs_background": "light"
          }
        }
      ],
      "source": [
        "QQ_plot(df_eda['y'], 'y')"
      ],
      "id": "f186ad43"
    },
    {
      "cell_type": "markdown",
      "metadata": {
        "id": "4cc729ac"
      },
      "source": [
        "<a name='03-02'></a>\n",
        "### 3.2 센서 변수와 타깃 변수의 상관관계 파악\n",
        "총 665개의 센서 변수와 타깃 변수 y 간의 관련성이 있는지 확인해보겠습니다. \n",
        "\n",
        "95개의 센서 변수는 총 7개의 공정 스텝 (4, 6, 12, 13, 17, 18, 20) 단위로 수집됩니다. "
      ],
      "id": "4cc729ac"
    },
    {
      "cell_type": "code",
      "execution_count": null,
      "metadata": {
        "id": "7afd4406"
      },
      "outputs": [],
      "source": [
        "def regplots(cols, data):\n",
        "    \n",
        "    # 각 센서별 7개의 스텝을 가지므로 행이 2개이고, 열이 4개인 서브 플롯을 생성합니다.\n",
        "    fig, axes = plt.subplots(nrows=2, ncols=4, sharey=True, figsize=(15,8))\n",
        "    \n",
        "    # 서브 플롯 간의 세로 간격(hspace) 가로 간격(wspace)을 설정합니다. \n",
        "    fig.subplots_adjust(hspace=.4, wspace=.1)\n",
        "    \n",
        "    for i, ax in zip(range(len(cols)), axes.flat):\n",
        "\n",
        "        sns.regplot(x=cols[i], y='y', data=data, ax=ax)\n",
        "        ax.set_title(f'{cols[i].upper()}')\n",
        "        ax.set_xlabel('')\n",
        "        ax.set_ylabel('')\n",
        "    \n",
        "    # 8번째 서브 플롯은 필요 없으므로 표기하지 않습니다. \n",
        "    axes.flat[-1].set_visible(False)\n",
        "    plt.tight_layout()\n",
        "    plt.show()"
      ],
      "id": "7afd4406"
    },
    {
      "cell_type": "markdown",
      "source": [
        "수치형 변수 X 수치형 변수 조합 시각화에 유용한 산점도 그래프 scatter plot 를 작성합니다. \n",
        "\n",
        "**regplot** 을 사용하여 산점도와 함께 데이터의 경향성을 나타내는 추세선까지 함께 표시합니다."
      ],
      "metadata": {
        "id": "9wW-V4UdZoow"
      },
      "id": "9wW-V4UdZoow"
    },
    {
      "cell_type": "code",
      "execution_count": null,
      "metadata": {
        "id": "38f8b9d1",
        "scrolled": true,
        "colab": {
          "base_uri": "https://localhost:8080/",
          "height": 603
        },
        "outputId": "278180f1-1468-4aab-8f2f-e4e66fa14436"
      },
      "outputs": [
        {
          "output_type": "stream",
          "name": "stdout",
          "text": [
            "*****['efem_para2']\n"
          ]
        },
        {
          "output_type": "display_data",
          "data": {
            "text/plain": [
              "<Figure size 1080x576 with 8 Axes>"
            ],
            "image/png": "[encoded data removed]"
          },
          "metadata": {
            "needs_background": "light"
          }
        }
      ],
      "source": [
        "for ix, sensor_nm in enumerate(sensors_nm):\n",
        "    print(f'*****{[sensor_nm]}')\n",
        "\n",
        "    # tmp_lst 는 {스텝}_{센서명} 형식으로 센서의 총 7개의 스텝 컬럼 리스트를 생성합니다.\n",
        "    # ex. 04_efem_para2, 06_efem_para2, ..., 20_efem_para2\n",
        "    tmp_lst = list(map(lambda x: f'{x}_{sensor_nm}', lst_steps))\n",
        "    regplots(tmp_lst, df_eda)\n",
        "    \n",
        "    # 총 95개의 센서를 시각화를 할 경우 아래 코드를 주석 처리 합니다.\n",
        "    if ix == 0:\n",
        "        break"
      ],
      "id": "38f8b9d1"
    },
    {
      "cell_type": "markdown",
      "source": [
        "<a name='03-03'></a>\n",
        "### 3.3 범주형 변수에 따른 타깃 변수의 변화\n",
        "\n",
        "총 모듈(module_name)의 고유값의 갯수는 47개입니다. 모듈 이름은 _ 를 기준으로 EQ와 PM 식별자로 조합되어 있습니다."
      ],
      "metadata": {
        "id": "3rYgrRocaLZW"
      },
      "id": "3rYgrRocaLZW"
    },
    {
      "cell_type": "code",
      "source": [
        "idx = 'module_name'\n",
        "# 모듈의 고유값과 고유값의 갯수를 구합니다.\n",
        "module_unq = df_eda[idx].unique()\n",
        "module_nunq = df_eda[idx].nunique()\n",
        "\n",
        "print(f'***')\n",
        "print(f'\bNo. of Module : {module_nunq}')\n",
        "print(f'{module_unq}')"
      ],
      "metadata": {
        "colab": {
          "base_uri": "https://localhost:8080/"
        },
        "id": "QOlA9HjZl-ri",
        "outputId": "103f2ae2-054b-45c7-a363-fa5c743112f4"
      },
      "id": "QOlA9HjZl-ri",
      "execution_count": null,
      "outputs": [
        {
          "output_type": "stream",
          "name": "stdout",
          "text": [
            "***\n",
            "\bNo. of Module : 47\n",
            "['EQ10_PM1' 'EQ10_PM2' 'EQ10_PM5' 'EQ10_PM6' 'EQ11_PM1' 'EQ11_PM2'\n",
            " 'EQ11_PM5' 'EQ11_PM6' 'EQ12_PM1' 'EQ12_PM2' 'EQ12_PM5' 'EQ12_PM6'\n",
            " 'EQ1_PM1' 'EQ1_PM2' 'EQ1_PM5' 'EQ1_PM6' 'EQ2_PM1' 'EQ2_PM2' 'EQ2_PM5'\n",
            " 'EQ2_PM6' 'EQ3_PM1' 'EQ3_PM2' 'EQ3_PM5' 'EQ3_PM6' 'EQ4_PM1' 'EQ4_PM2'\n",
            " 'EQ4_PM5' 'EQ4_PM6' 'EQ5_PM1' 'EQ5_PM2' 'EQ5_PM5' 'EQ5_PM6' 'EQ6_PM1'\n",
            " 'EQ6_PM2' 'EQ6_PM5' 'EQ6_PM6' 'EQ7_PM1' 'EQ7_PM2' 'EQ7_PM5' 'EQ7_PM6'\n",
            " 'EQ8_PM1' 'EQ8_PM2' 'EQ8_PM5' 'EQ8_PM6' 'EQ9_PM1' 'EQ9_PM2' 'EQ9_PM5']\n"
          ]
        }
      ]
    },
    {
      "cell_type": "markdown",
      "source": [
        "범주의 정도를 상위 레벨에서 보기 위하여 EQ를 기준으로 재범주화 해보겠습니다.\n",
        "\n",
        "apply 를 사용하여 모듈 이름의 EQ 식별자 부분만 추출하여 module_name_eq 컬럼에 값을 저장합니다."
      ],
      "metadata": {
        "id": "J0ZIuJpGkLfO"
      },
      "id": "J0ZIuJpGkLfO"
    },
    {
      "cell_type": "code",
      "source": [
        "# 모듈 이름의 상위 집계단위를 나타내는 module_name_eq 범주형 변수를 생성하는 함수입니다.\n",
        "def gen_cate_feats(df):\n",
        "  df['module_name_eq'] = df['module_name'].apply(lambda x : x.split('_')[0])\n",
        "  return df \n",
        "   \n",
        "df_eda = gen_cate_feats(df_eda)\n",
        "sns.boxplot(x='module_name_eq', y='y', data=df_eda)"
      ],
      "metadata": {
        "colab": {
          "base_uri": "https://localhost:8080/",
          "height": 299
        },
        "id": "HLEQHcKumxr0",
        "outputId": "00d20f1c-3dcd-41c9-f141-ba7e482e3b64"
      },
      "id": "HLEQHcKumxr0",
      "execution_count": null,
      "outputs": [
        {
          "output_type": "execute_result",
          "data": {
            "text/plain": [
              "<matplotlib.axes._subplots.AxesSubplot at 0x7fd852446b50>"
            ]
          },
          "metadata": {},
          "execution_count": 97
        },
        {
          "output_type": "display_data",
          "data": {
            "text/plain": [
              "<Figure size 432x288 with 1 Axes>"
            ],
            "image/png": "[encoded data removed]"
          },
          "metadata": {
            "needs_background": "light"
          }
        }
      ]
    },
    {
      "cell_type": "markdown",
      "metadata": {
        "id": "23d0981e"
      },
      "source": [
        "<a name='03-04'></a>\n",
        "### 3.4 전체 공정 소요시간에 따른 타깃 변수의 변화 \n",
        "\n",
        "전체 및 개별 공정 소요시간 변수를 생성하는 함수를 작성합니다. \n",
        "\n",
        "전체 공정 소요시간은 마지막 공정 완료시간 ***20_end_time*** 과 첫번째 공정 완료시간 **04_end_time** 의 차이(초)를 계산한 값입니다."
      ],
      "id": "23d0981e"
    },
    {
      "cell_type": "code",
      "execution_count": null,
      "metadata": {
        "id": "a5524cee"
      },
      "outputs": [],
      "source": [
        "# 전체 및 개별 공정 소요시간 변수를 생성하는 함수입니다.\n",
        "def gen_duration_feats(df, lst_stepsgap):\n",
        "    \n",
        "    # 전체 공정 소요시간(초) 변수를 생성합니다. \n",
        "    df['gen_tmdiff'] = (df['20_end_time'] - df['04_end_time']).dt.total_seconds()\n",
        "    \n",
        "    # 개별 스텝간 공정 소요시간(초) 변수를 생성합니다. \n",
        "    # ex. gen_\btmdiff_0406 : 04 스텝 공정 완료 시간과 06 스텝 공정 완료 시간의 차이 \n",
        "    for stepgap in lst_stepsgap:\n",
        "        df[f'gen_tmdiff_{stepgap}'] = (df[f'{stepgap[2:]}_end_time'] - df[f'{stepgap[:2]}_end_time']).dt.total_seconds()\n",
        "\n",
        "    return df\n",
        "\n",
        "df_eda = gen_duration_feats(df_eda, lst_stepsgap)"
      ],
      "id": "a5524cee"
    },
    {
      "cell_type": "markdown",
      "metadata": {
        "id": "0cb07d84"
      },
      "source": [
        "전체 공정 소요시간은 최소 30.6분에서 최대 31.9분입니다. \n",
        "\n",
        "개별 스텝간 공정 소요시간도 확인하였을 시, 6번째 스텝에서 12번째 스텝 간 소요시간이 가장 길었습니다. "
      ],
      "id": "0cb07d84"
    },
    {
      "cell_type": "code",
      "source": [
        "# 전체 공정 소요시간 및 개별 공정 소요시간 컬럼을 리스트 형태로 추출합니다. \n",
        "col_tmdiff = df_eda.filter(regex='gen_tmdiff($|_\\d)').columns.tolist()\n",
        "\n",
        "# 공정 소요시간의 통계값(최소, 최대, 평균)을 추출하는 함수입니다.\n",
        "def tmdiff_stats(x):\n",
        "  return [round(x.min()/60,1), round(x.max()/60,1), round(x.mean()/60,1)]\n",
        "\n",
        "df_tmp = df_eda[col_tmdiff].apply(tmdiff_stats).T\n",
        "df_tmp.columns = ['MIN', 'MAX', 'MEAN']\n",
        "df_tmp"
      ],
      "metadata": {
        "colab": {
          "base_uri": "https://localhost:8080/",
          "height": 269
        },
        "id": "F3jmUKbu_vtd",
        "outputId": "9a4b4f2f-35df-452f-87a3-3864ccada73a"
      },
      "id": "F3jmUKbu_vtd",
      "execution_count": null,
      "outputs": [
        {
          "output_type": "execute_result",
          "data": {
            "text/plain": [
              "                  MIN   MAX  MEAN\n",
              "gen_tmdiff       30.6  31.9  31.5\n",
              "gen_tmdiff_0406   2.0   2.5   2.3\n",
              "gen_tmdiff_0612  13.3  14.2  13.9\n",
              "gen_tmdiff_1213   0.3   0.3   0.3\n",
              "gen_tmdiff_1317   7.9   8.0   7.9\n",
              "gen_tmdiff_1718   0.3   0.3   0.3\n",
              "gen_tmdiff_1820   6.8   6.9   6.8"
            ],
            "text/html": [
              "\n",
              "  <div id=\"df-e2e5f47b-d50e-4657-84a9-bd0f235256ad\">\n",
              "    <div class=\"colab-df-container\">\n",
              "      <div>\n",
              "<style scoped>\n",
              "    .dataframe tbody tr th:only-of-type {\n",
              "        vertical-align: middle;\n",
              "    }\n",
              "\n",
              "    .dataframe tbody tr th {\n",
              "        vertical-align: top;\n",
              "    }\n",
              "\n",
              "    .dataframe thead th {\n",
              "        text-align: right;\n",
              "    }\n",
              "</style>\n",
              "<table border=\"1\" class=\"dataframe\">\n",
              "  <thead>\n",
              "    <tr style=\"text-align: right;\">\n",
              "      <th></th>\n",
              "      <th>MIN</th>\n",
              "      <th>MAX</th>\n",
              "      <th>MEAN</th>\n",
              "    </tr>\n",
              "  </thead>\n",
              "  <tbody>\n",
              "    <tr>\n",
              "      <th>gen_tmdiff</th>\n",
              "      <td>30.6</td>\n",
              "      <td>31.9</td>\n",
              "      <td>31.5</td>\n",
              "    </tr>\n",
              "    <tr>\n",
              "      <th>gen_tmdiff_0406</th>\n",
              "      <td>2.0</td>\n",
              "      <td>2.5</td>\n",
              "      <td>2.3</td>\n",
              "    </tr>\n",
              "    <tr>\n",
              "      <th>gen_tmdiff_0612</th>\n",
              "      <td>13.3</td>\n",
              "      <td>14.2</td>\n",
              "      <td>13.9</td>\n",
              "    </tr>\n",
              "    <tr>\n",
              "      <th>gen_tmdiff_1213</th>\n",
              "      <td>0.3</td>\n",
              "      <td>0.3</td>\n",
              "      <td>0.3</td>\n",
              "    </tr>\n",
              "    <tr>\n",
              "      <th>gen_tmdiff_1317</th>\n",
              "      <td>7.9</td>\n",
              "      <td>8.0</td>\n",
              "      <td>7.9</td>\n",
              "    </tr>\n",
              "    <tr>\n",
              "      <th>gen_tmdiff_1718</th>\n",
              "      <td>0.3</td>\n",
              "      <td>0.3</td>\n",
              "      <td>0.3</td>\n",
              "    </tr>\n",
              "    <tr>\n",
              "      <th>gen_tmdiff_1820</th>\n",
              "      <td>6.8</td>\n",
              "      <td>6.9</td>\n",
              "      <td>6.8</td>\n",
              "    </tr>\n",
              "  </tbody>\n",
              "</table>\n",
              "</div>\n",
              "      <button class=\"colab-df-convert\" onclick=\"convertToInteractive('df-e2e5f47b-d50e-4657-84a9-bd0f235256ad')\"\n",
              "              title=\"Convert this dataframe to an interactive table.\"\n",
              "              style=\"display:none;\">\n",
              "        \n",
              "  <svg xmlns=\"http://www.w3.org/2000/svg\" height=\"24px\"viewBox=\"0 0 24 24\"\n",
              "       width=\"24px\">\n",
              "    <path d=\"M0 0h24v24H0V0z\" fill=\"none\"/>\n",
              "    <path d=\"M18.56 5.44l.94 2.06.94-2.06 2.06-.94-2.06-.94-.94-2.06-.94 2.06-2.06.94zm-11 1L8.5 8.5l.94-2.06 2.06-.94-2.06-.94L8.5 2.5l-.94 2.06-2.06.94zm10 10l.94 2.06.94-2.06 2.06-.94-2.06-.94-.94-2.06-.94 2.06-2.06.94z\"/><path d=\"M17.41 7.96l-1.37-1.37c-.4-.4-.92-.59-1.43-.59-.52 0-1.04.2-1.43.59L10.3 9.45l-7.72 7.72c-.78.78-.78 2.05 0 2.83L4 21.41c.39.39.9.59 1.41.59.51 0 1.02-.2 1.41-.59l7.78-7.78 2.81-2.81c.8-.78.8-2.07 0-2.86zM5.41 20L4 18.59l7.72-7.72 1.47 1.35L5.41 20z\"/>\n",
              "  </svg>\n",
              "      </button>\n",
              "      \n",
              "  <style>\n",
              "    .colab-df-container {\n",
              "      display:flex;\n",
              "      flex-wrap:wrap;\n",
              "      gap: 12px;\n",
              "    }\n",
              "\n",
              "    .colab-df-convert {\n",
              "      background-color: #E8F0FE;\n",
              "      border: none;\n",
              "      border-radius: 50%;\n",
              "      cursor: pointer;\n",
              "      display: none;\n",
              "      fill: #1967D2;\n",
              "      height: 32px;\n",
              "      padding: 0 0 0 0;\n",
              "      width: 32px;\n",
              "    }\n",
              "\n",
              "    .colab-df-convert:hover {\n",
              "      background-color: #E2EBFA;\n",
              "      box-shadow: 0px 1px 2px rgba(60, 64, 67, 0.3), 0px 1px 3px 1px rgba(60, 64, 67, 0.15);\n",
              "      fill: #174EA6;\n",
              "    }\n",
              "\n",
              "    [theme=dark] .colab-df-convert {\n",
              "      background-color: #3B4455;\n",
              "      fill: #D2E3FC;\n",
              "    }\n",
              "\n",
              "    [theme=dark] .colab-df-convert:hover {\n",
              "      background-color: #434B5C;\n",
              "      box-shadow: 0px 1px 3px 1px rgba(0, 0, 0, 0.15);\n",
              "      filter: drop-shadow(0px 1px 2px rgba(0, 0, 0, 0.3));\n",
              "      fill: #FFFFFF;\n",
              "    }\n",
              "  </style>\n",
              "\n",
              "      <script>\n",
              "        const buttonEl =\n",
              "          document.querySelector('#df-e2e5f47b-d50e-4657-84a9-bd0f235256ad button.colab-df-convert');\n",
              "        buttonEl.style.display =\n",
              "          google.colab.kernel.accessAllowed ? 'block' : 'none';\n",
              "\n",
              "        async function convertToInteractive(key) {\n",
              "          const element = document.querySelector('#df-e2e5f47b-d50e-4657-84a9-bd0f235256ad');\n",
              "          const dataTable =\n",
              "            await google.colab.kernel.invokeFunction('convertToInteractive',\n",
              "                                                     [key], {});\n",
              "          if (!dataTable) return;\n",
              "\n",
              "          const docLinkHtml = 'Like what you see? Visit the ' +\n",
              "            '<a target=\"_blank\" href=https://colab.research.google.com/notebooks/data_table.ipynb>data table notebook</a>'\n",
              "            + ' to learn more about interactive tables.';\n",
              "          element.innerHTML = '';\n",
              "          dataTable['output_type'] = 'display_data';\n",
              "          await google.colab.output.renderOutput(dataTable, element);\n",
              "          const docLink = document.createElement('div');\n",
              "          docLink.innerHTML = docLinkHtml;\n",
              "          element.appendChild(docLink);\n",
              "        }\n",
              "      </script>\n",
              "    </div>\n",
              "  </div>\n",
              "  "
            ]
          },
          "metadata": {},
          "execution_count": 99
        }
      ]
    },
    {
      "cell_type": "markdown",
      "source": [
        "전체 공정 소요시간은 30분대 공정이 완료된 장비와 31분대에 공정이 완료된 장비로 뚜렷이 구분됩니다. \n",
        "\n",
        "대부분의 장비는 31분대에 완료되었으며, 일찍 공정을 마친 장비는 주로 EQ7, EQ8 모듈입니다.\n"
      ],
      "metadata": {
        "id": "1U9R-Jwa74S1"
      },
      "id": "1U9R-Jwa74S1"
    },
    {
      "cell_type": "code",
      "execution_count": null,
      "metadata": {
        "colab": {
          "base_uri": "https://localhost:8080/",
          "height": 353
        },
        "id": "7d92739c",
        "outputId": "8291937a-cb73-4644-8148-c0003ad0d9bc"
      },
      "outputs": [
        {
          "output_type": "execute_result",
          "data": {
            "text/plain": [
              "<matplotlib.legend.Legend at 0x7fd855ef9fd0>"
            ]
          },
          "metadata": {},
          "execution_count": 100
        },
        {
          "output_type": "display_data",
          "data": {
            "text/plain": [
              "<Figure size 720x360 with 2 Axes>"
            ],
            "image/png": "[encoded data removed]"
          },
          "metadata": {
            "needs_background": "light"
          }
        }
      ],
      "source": [
        "# 시각화를 위하여 1870초를 기준으로 일찍 마친 장비와 늦께 마친 장비를 구분합니다.\n",
        "df_eda.loc[df_eda['gen_tmdiff'] < 1870, 'tmdiff_speed'] = 'E' # Early \n",
        "df_eda.loc[df_eda['gen_tmdiff'] > 1870, 'tmdiff_speed'] = 'L' # Late\n",
        "\n",
        "fig, axes = plt.subplots(nrows=1, ncols=2, sharey=True, figsize=(10,5))\n",
        "sns.scatterplot(x='gen_tmdiff', y='y', hue='tmdiff_speed', data = df_eda, ax=axes[0])\n",
        "sns.scatterplot(x='gen_tmdiff', y='y', hue='module_name_eq', data = df_eda, ax=axes[1])\n",
        "axes[0].legend(loc='lower left', ncol=2, title='tmdiff_speed')\n",
        "axes[1].legend(loc='lower left', ncol=1, title='module_name_eq', bbox_to_anchor=(1.04, 0))"
      ],
      "id": "7d92739c"
    },
    {
      "cell_type": "markdown",
      "metadata": {
        "id": "D7eUhu-s8CgI"
      },
      "source": [
        "<a name='03-05'></a>\n",
        "### 3.5 센서의 집약된 통계량에 따른 타깃 변수의 변화\n",
        "\n",
        "센서 측정치에 대해 총 7개의 스텝을 집약한 표준편차를 확인해보겠습니다. 전 구간에서 센서 측정치의 흩어진 정도를 알 수 있습니다. "
      ],
      "id": "D7eUhu-s8CgI"
    },
    {
      "cell_type": "code",
      "execution_count": null,
      "metadata": {
        "id": "L9yzrXsX8Hz0"
      },
      "outputs": [],
      "source": [
        "# 센서의 집약된 표준편차 변수를 생성하는 함수입니다.\n",
        "def gen_stats_feats(df, sensors_nm, lst_steps):\n",
        "    \n",
        "    for sensor_nm in sensors_nm:\n",
        "\n",
        "        # 센서별 총 7개의 스텝 컬럼 리스트를 생성합니다.\n",
        "        # ex. 04_efem_para2, 06_efem_para2, ..., 20_efem_para2\n",
        "        tmp_lst = list(map(lambda x: f'{x}_{sensor_nm}', lst_steps))\n",
        "\n",
        "        # 전 스텝을 집약하여 센서의 표준편차 변수를 생성합니다. \n",
        "        df[f'gen_{sensor_nm}_std'] = df[tmp_lst].std(axis=1)\n",
        "        \n",
        "    return df\n",
        "\n",
        "df_eda = gen_stats_feats(df_eda, sensors_nm, lst_steps)"
      ],
      "id": "L9yzrXsX8Hz0"
    },
    {
      "cell_type": "code",
      "source": [
        "fig, axes = plt.subplots(nrows=2, ncols=2, sharey=True, figsize=(10,5))\n",
        "fig.subplots_adjust(hspace=.4, wspace=.1)\n",
        "\n",
        "sns.scatterplot(x='gen_hv_para3_std', y='y', data = df_eda, ax=axes[0,0], legend=False)\n",
        "sns.scatterplot(x='gen_hv_para45_std', y='y', data = df_eda, ax=axes[0,1], legend=False)\n",
        "sns.scatterplot(x='gen_pressure_para91_std', y='y',  data = df_eda, ax=axes[1,0], legend=False)\n",
        "sns.scatterplot(x='gen_time_para5_std', y='y', data = df_eda, ax=axes[1,1], legend=False)\n"
      ],
      "metadata": {
        "colab": {
          "base_uri": "https://localhost:8080/",
          "height": 353
        },
        "id": "0EhboncAQtgq",
        "outputId": "02e0aac7-7a99-4320-fdad-baab9e07fb26"
      },
      "id": "0EhboncAQtgq",
      "execution_count": null,
      "outputs": [
        {
          "output_type": "execute_result",
          "data": {
            "text/plain": [
              "<matplotlib.axes._subplots.AxesSubplot at 0x7fd855d23950>"
            ]
          },
          "metadata": {},
          "execution_count": 102
        },
        {
          "output_type": "display_data",
          "data": {
            "text/plain": [
              "<Figure size 720x360 with 4 Axes>"
            ],
            "image/png": "[encoded data removed]"
          },
          "metadata": {
            "needs_background": "light"
          }
        }
      ]
    },
    {
      "cell_type": "code",
      "execution_count": null,
      "metadata": {
        "id": "_j7xH20VB_8f"
      },
      "outputs": [],
      "source": [
        "# EDA를 위한 데이터 프레임 제거합니다.\n",
        "del df_eda"
      ],
      "id": "_j7xH20VB_8f"
    },
    {
      "cell_type": "markdown",
      "metadata": {
        "id": "2fcae3e0"
      },
      "source": [
        "<a name='04'></a>\n",
        "## 4. 데이터 전처리\n",
        "\n",
        "탐색적 데이터 분석을 통해 도출한 추가 변수를 생성(4.1절)합니다. \n",
        "\n",
        "이상치 확인(4.2절), 분산이 적은 특징 제거(4.3절), 수치형 변수의 표준화(4.4절) 그리고 범주형 변수의 원-핫 인코딩(4.5절) 변환을 하여 데이터를 전처리합니다."
      ],
      "id": "2fcae3e0"
    },
    {
      "cell_type": "markdown",
      "source": [
        "<a name='04-01'></a>\n",
        "### 4.1 내부 데이터를 통한 변수 생성 \n",
        "\n"
      ],
      "metadata": {
        "id": "L-QaF6M8YR5B"
      },
      "id": "L-QaF6M8YR5B"
    },
    {
      "cell_type": "code",
      "execution_count": null,
      "metadata": {
        "id": "33cf1fa6"
      },
      "outputs": [],
      "source": [
        "# \b전처리를 위한 학습용 데이터와 평가용 데이터를 복사합니다.\n",
        "df_prep_train = train.copy()\n",
        "df_prep_predict = predict.copy()"
      ],
      "id": "33cf1fa6"
    },
    {
      "cell_type": "markdown",
      "source": [
        "탐색적 데이터 분석(3.3~3.5절)에서 분석한 결과를 활용해 새로운 특징을 생성합니다. \n",
        "\n",
        "\n",
        "*   모듈 이름의 상위 집계 단위를 나타내는 1개의 범주형 변수 (3.3절)\n",
        "*   전체 및 개별 공정 소요시간을 나타내는 7개의 변수(3.4절)\n",
        "*   센서 변수의 집약된 표준편차를 나타내는 95개의 변수 (3.5절)\n",
        "\n",
        "\n"
      ],
      "metadata": {
        "id": "XRZy3Q2bZXcA"
      },
      "id": "XRZy3Q2bZXcA"
    },
    {
      "cell_type": "code",
      "source": [
        "# 모듈 이름의 상위 집계 단위를 나타내는 1개의 범주형 변수를 생성합니다(3.3절)\n",
        "df_prep_train = gen_cate_feats(df_prep_train)\n",
        "df_prep_predict = gen_cate_feats(df_prep_predict)\n",
        "df_prep_train.filter(regex='module_name_eq').head(2)"
      ],
      "metadata": {
        "colab": {
          "base_uri": "https://localhost:8080/",
          "height": 112
        },
        "id": "z6peWNiIZYmN",
        "outputId": "36d2a45b-2e60-432b-db7d-f4eb8253f216"
      },
      "id": "z6peWNiIZYmN",
      "execution_count": null,
      "outputs": [
        {
          "output_type": "execute_result",
          "data": {
            "text/plain": [
              "  module_name_eq\n",
              "0           EQ10\n",
              "1           EQ10"
            ],
            "text/html": [
              "\n",
              "  <div id=\"df-583c0acc-855b-4e83-981e-67e627fffed3\">\n",
              "    <div class=\"colab-df-container\">\n",
              "      <div>\n",
              "<style scoped>\n",
              "    .dataframe tbody tr th:only-of-type {\n",
              "        vertical-align: middle;\n",
              "    }\n",
              "\n",
              "    .dataframe tbody tr th {\n",
              "        vertical-align: top;\n",
              "    }\n",
              "\n",
              "    .dataframe thead th {\n",
              "        text-align: right;\n",
              "    }\n",
              "</style>\n",
              "<table border=\"1\" class=\"dataframe\">\n",
              "  <thead>\n",
              "    <tr style=\"text-align: right;\">\n",
              "      <th></th>\n",
              "      <th>module_name_eq</th>\n",
              "    </tr>\n",
              "  </thead>\n",
              "  <tbody>\n",
              "    <tr>\n",
              "      <th>0</th>\n",
              "      <td>EQ10</td>\n",
              "    </tr>\n",
              "    <tr>\n",
              "      <th>1</th>\n",
              "      <td>EQ10</td>\n",
              "    </tr>\n",
              "  </tbody>\n",
              "</table>\n",
              "</div>\n",
              "      <button class=\"colab-df-convert\" onclick=\"convertToInteractive('df-583c0acc-855b-4e83-981e-67e627fffed3')\"\n",
              "              title=\"Convert this dataframe to an interactive table.\"\n",
              "              style=\"display:none;\">\n",
              "        \n",
              "  <svg xmlns=\"http://www.w3.org/2000/svg\" height=\"24px\"viewBox=\"0 0 24 24\"\n",
              "       width=\"24px\">\n",
              "    <path d=\"M0 0h24v24H0V0z\" fill=\"none\"/>\n",
              "    <path d=\"M18.56 5.44l.94 2.06.94-2.06 2.06-.94-2.06-.94-.94-2.06-.94 2.06-2.06.94zm-11 1L8.5 8.5l.94-2.06 2.06-.94-2.06-.94L8.5 2.5l-.94 2.06-2.06.94zm10 10l.94 2.06.94-2.06 2.06-.94-2.06-.94-.94-2.06-.94 2.06-2.06.94z\"/><path d=\"M17.41 7.96l-1.37-1.37c-.4-.4-.92-.59-1.43-.59-.52 0-1.04.2-1.43.59L10.3 9.45l-7.72 7.72c-.78.78-.78 2.05 0 2.83L4 21.41c.39.39.9.59 1.41.59.51 0 1.02-.2 1.41-.59l7.78-7.78 2.81-2.81c.8-.78.8-2.07 0-2.86zM5.41 20L4 18.59l7.72-7.72 1.47 1.35L5.41 20z\"/>\n",
              "  </svg>\n",
              "      </button>\n",
              "      \n",
              "  <style>\n",
              "    .colab-df-container {\n",
              "      display:flex;\n",
              "      flex-wrap:wrap;\n",
              "      gap: 12px;\n",
              "    }\n",
              "\n",
              "    .colab-df-convert {\n",
              "      background-color: #E8F0FE;\n",
              "      border: none;\n",
              "      border-radius: 50%;\n",
              "      cursor: pointer;\n",
              "      display: none;\n",
              "      fill: #1967D2;\n",
              "      height: 32px;\n",
              "      padding: 0 0 0 0;\n",
              "      width: 32px;\n",
              "    }\n",
              "\n",
              "    .colab-df-convert:hover {\n",
              "      background-color: #E2EBFA;\n",
              "      box-shadow: 0px 1px 2px rgba(60, 64, 67, 0.3), 0px 1px 3px 1px rgba(60, 64, 67, 0.15);\n",
              "      fill: #174EA6;\n",
              "    }\n",
              "\n",
              "    [theme=dark] .colab-df-convert {\n",
              "      background-color: #3B4455;\n",
              "      fill: #D2E3FC;\n",
              "    }\n",
              "\n",
              "    [theme=dark] .colab-df-convert:hover {\n",
              "      background-color: #434B5C;\n",
              "      box-shadow: 0px 1px 3px 1px rgba(0, 0, 0, 0.15);\n",
              "      filter: drop-shadow(0px 1px 2px rgba(0, 0, 0, 0.3));\n",
              "      fill: #FFFFFF;\n",
              "    }\n",
              "  </style>\n",
              "\n",
              "      <script>\n",
              "        const buttonEl =\n",
              "          document.querySelector('#df-583c0acc-855b-4e83-981e-67e627fffed3 button.colab-df-convert');\n",
              "        buttonEl.style.display =\n",
              "          google.colab.kernel.accessAllowed ? 'block' : 'none';\n",
              "\n",
              "        async function convertToInteractive(key) {\n",
              "          const element = document.querySelector('#df-583c0acc-855b-4e83-981e-67e627fffed3');\n",
              "          const dataTable =\n",
              "            await google.colab.kernel.invokeFunction('convertToInteractive',\n",
              "                                                     [key], {});\n",
              "          if (!dataTable) return;\n",
              "\n",
              "          const docLinkHtml = 'Like what you see? Visit the ' +\n",
              "            '<a target=\"_blank\" href=https://colab.research.google.com/notebooks/data_table.ipynb>data table notebook</a>'\n",
              "            + ' to learn more about interactive tables.';\n",
              "          element.innerHTML = '';\n",
              "          dataTable['output_type'] = 'display_data';\n",
              "          await google.colab.output.renderOutput(dataTable, element);\n",
              "          const docLink = document.createElement('div');\n",
              "          docLink.innerHTML = docLinkHtml;\n",
              "          element.appendChild(docLink);\n",
              "        }\n",
              "      </script>\n",
              "    </div>\n",
              "  </div>\n",
              "  "
            ]
          },
          "metadata": {},
          "execution_count": 105
        }
      ]
    },
    {
      "cell_type": "code",
      "source": [
        "# 전체 및 개별 공정 소요시간 7개의 변수를 생성합니다(3.4절)\n",
        "df_prep_train = gen_duration_feats(df_prep_train, lst_stepsgap)\n",
        "df_prep_predict = gen_duration_feats(df_prep_predict, lst_stepsgap)\n",
        "df_prep_train.filter(regex='tmdiff').head(2)"
      ],
      "metadata": {
        "colab": {
          "base_uri": "https://localhost:8080/",
          "height": 112
        },
        "id": "VJIRV70daNzk",
        "outputId": "97546da1-f820-405e-db2b-b21eeb5396ab"
      },
      "id": "VJIRV70daNzk",
      "execution_count": null,
      "outputs": [
        {
          "output_type": "execute_result",
          "data": {
            "text/plain": [
              "   gen_tmdiff  gen_tmdiff_0406  gen_tmdiff_0612  gen_tmdiff_1213  \\\n",
              "0      1912.0            146.0            846.0             16.0   \n",
              "1      1912.0            145.0            847.0             16.0   \n",
              "\n",
              "   gen_tmdiff_1317  gen_tmdiff_1718  gen_tmdiff_1820  \n",
              "0            477.0             16.0            411.0  \n",
              "1            477.0             16.0            411.0  "
            ],
            "text/html": [
              "\n",
              "  <div id=\"df-2bee0fee-5edb-422e-9cf4-baf89251e7a0\">\n",
              "    <div class=\"colab-df-container\">\n",
              "      <div>\n",
              "<style scoped>\n",
              "    .dataframe tbody tr th:only-of-type {\n",
              "        vertical-align: middle;\n",
              "    }\n",
              "\n",
              "    .dataframe tbody tr th {\n",
              "        vertical-align: top;\n",
              "    }\n",
              "\n",
              "    .dataframe thead th {\n",
              "        text-align: right;\n",
              "    }\n",
              "</style>\n",
              "<table border=\"1\" class=\"dataframe\">\n",
              "  <thead>\n",
              "    <tr style=\"text-align: right;\">\n",
              "      <th></th>\n",
              "      <th>gen_tmdiff</th>\n",
              "      <th>gen_tmdiff_0406</th>\n",
              "      <th>gen_tmdiff_0612</th>\n",
              "      <th>gen_tmdiff_1213</th>\n",
              "      <th>gen_tmdiff_1317</th>\n",
              "      <th>gen_tmdiff_1718</th>\n",
              "      <th>gen_tmdiff_1820</th>\n",
              "    </tr>\n",
              "  </thead>\n",
              "  <tbody>\n",
              "    <tr>\n",
              "      <th>0</th>\n",
              "      <td>1912.0</td>\n",
              "      <td>146.0</td>\n",
              "      <td>846.0</td>\n",
              "      <td>16.0</td>\n",
              "      <td>477.0</td>\n",
              "      <td>16.0</td>\n",
              "      <td>411.0</td>\n",
              "    </tr>\n",
              "    <tr>\n",
              "      <th>1</th>\n",
              "      <td>1912.0</td>\n",
              "      <td>145.0</td>\n",
              "      <td>847.0</td>\n",
              "      <td>16.0</td>\n",
              "      <td>477.0</td>\n",
              "      <td>16.0</td>\n",
              "      <td>411.0</td>\n",
              "    </tr>\n",
              "  </tbody>\n",
              "</table>\n",
              "</div>\n",
              "      <button class=\"colab-df-convert\" onclick=\"convertToInteractive('df-2bee0fee-5edb-422e-9cf4-baf89251e7a0')\"\n",
              "              title=\"Convert this dataframe to an interactive table.\"\n",
              "              style=\"display:none;\">\n",
              "        \n",
              "  <svg xmlns=\"http://www.w3.org/2000/svg\" height=\"24px\"viewBox=\"0 0 24 24\"\n",
              "       width=\"24px\">\n",
              "    <path d=\"M0 0h24v24H0V0z\" fill=\"none\"/>\n",
              "    <path d=\"M18.56 5.44l.94 2.06.94-2.06 2.06-.94-2.06-.94-.94-2.06-.94 2.06-2.06.94zm-11 1L8.5 8.5l.94-2.06 2.06-.94-2.06-.94L8.5 2.5l-.94 2.06-2.06.94zm10 10l.94 2.06.94-2.06 2.06-.94-2.06-.94-.94-2.06-.94 2.06-2.06.94z\"/><path d=\"M17.41 7.96l-1.37-1.37c-.4-.4-.92-.59-1.43-.59-.52 0-1.04.2-1.43.59L10.3 9.45l-7.72 7.72c-.78.78-.78 2.05 0 2.83L4 21.41c.39.39.9.59 1.41.59.51 0 1.02-.2 1.41-.59l7.78-7.78 2.81-2.81c.8-.78.8-2.07 0-2.86zM5.41 20L4 18.59l7.72-7.72 1.47 1.35L5.41 20z\"/>\n",
              "  </svg>\n",
              "      </button>\n",
              "      \n",
              "  <style>\n",
              "    .colab-df-container {\n",
              "      display:flex;\n",
              "      flex-wrap:wrap;\n",
              "      gap: 12px;\n",
              "    }\n",
              "\n",
              "    .colab-df-convert {\n",
              "      background-color: #E8F0FE;\n",
              "      border: none;\n",
              "      border-radius: 50%;\n",
              "      cursor: pointer;\n",
              "      display: none;\n",
              "      fill: #1967D2;\n",
              "      height: 32px;\n",
              "      padding: 0 0 0 0;\n",
              "      width: 32px;\n",
              "    }\n",
              "\n",
              "    .colab-df-convert:hover {\n",
              "      background-color: #E2EBFA;\n",
              "      box-shadow: 0px 1px 2px rgba(60, 64, 67, 0.3), 0px 1px 3px 1px rgba(60, 64, 67, 0.15);\n",
              "      fill: #174EA6;\n",
              "    }\n",
              "\n",
              "    [theme=dark] .colab-df-convert {\n",
              "      background-color: #3B4455;\n",
              "      fill: #D2E3FC;\n",
              "    }\n",
              "\n",
              "    [theme=dark] .colab-df-convert:hover {\n",
              "      background-color: #434B5C;\n",
              "      box-shadow: 0px 1px 3px 1px rgba(0, 0, 0, 0.15);\n",
              "      filter: drop-shadow(0px 1px 2px rgba(0, 0, 0, 0.3));\n",
              "      fill: #FFFFFF;\n",
              "    }\n",
              "  </style>\n",
              "\n",
              "      <script>\n",
              "        const buttonEl =\n",
              "          document.querySelector('#df-2bee0fee-5edb-422e-9cf4-baf89251e7a0 button.colab-df-convert');\n",
              "        buttonEl.style.display =\n",
              "          google.colab.kernel.accessAllowed ? 'block' : 'none';\n",
              "\n",
              "        async function convertToInteractive(key) {\n",
              "          const element = document.querySelector('#df-2bee0fee-5edb-422e-9cf4-baf89251e7a0');\n",
              "          const dataTable =\n",
              "            await google.colab.kernel.invokeFunction('convertToInteractive',\n",
              "                                                     [key], {});\n",
              "          if (!dataTable) return;\n",
              "\n",
              "          const docLinkHtml = 'Like what you see? Visit the ' +\n",
              "            '<a target=\"_blank\" href=https://colab.research.google.com/notebooks/data_table.ipynb>data table notebook</a>'\n",
              "            + ' to learn more about interactive tables.';\n",
              "          element.innerHTML = '';\n",
              "          dataTable['output_type'] = 'display_data';\n",
              "          await google.colab.output.renderOutput(dataTable, element);\n",
              "          const docLink = document.createElement('div');\n",
              "          docLink.innerHTML = docLinkHtml;\n",
              "          element.appendChild(docLink);\n",
              "        }\n",
              "      </script>\n",
              "    </div>\n",
              "  </div>\n",
              "  "
            ]
          },
          "metadata": {},
          "execution_count": 106
        }
      ]
    },
    {
      "cell_type": "code",
      "source": [
        "# 센서 변수의 집약된 95개의 표준편차 변수를 생성합니다(3.5절)\n",
        "df_prep_train = gen_stats_feats(df_prep_train, sensors_nm, lst_steps)\n",
        "df_prep_predict = gen_stats_feats(df_prep_predict, sensors_nm, lst_steps)\n",
        "df_prep_train.filter(regex='_std').head(2)"
      ],
      "metadata": {
        "colab": {
          "base_uri": "https://localhost:8080/",
          "height": 205
        },
        "id": "_RErio6aaN75",
        "outputId": "785e39bc-2865-4e96-afa1-8f617ee079fb"
      },
      "id": "_RErio6aaN75",
      "execution_count": null,
      "outputs": [
        {
          "output_type": "execute_result",
          "data": {
            "text/plain": [
              "   gen_efem_para2_std  gen_efem_para25_std  gen_efem_para78_std  \\\n",
              "0            1.540604             1.487185             0.045480   \n",
              "1            1.313742             1.372572             0.045224   \n",
              "\n",
              "   gen_epd_para4_std  gen_epd_para40_std  gen_epd_para63_std  \\\n",
              "0         377.964435            0.382780                 0.0   \n",
              "1         377.964435            0.462813                 0.0   \n",
              "\n",
              "   gen_epd_para80_std  gen_esc_para84_std  gen_esc_para94_std  \\\n",
              "0                 0.0            0.000000                 0.0   \n",
              "1                 0.0            0.003024                 0.0   \n",
              "\n",
              "   gen_fr_para28_std  ...  gen_time_para7_std  gen_time_para75_std  \\\n",
              "0        2926.724319  ...            0.163207             0.163356   \n",
              "1        2926.724319  ...            0.163207             0.165981   \n",
              "\n",
              "   gen_time_para77_std  gen_time_para8_std  gen_time_para81_std  \\\n",
              "0             0.163356            0.163207             0.163356   \n",
              "1             0.165981            0.163211             0.165981   \n",
              "\n",
              "   gen_time_para83_std  gen_time_para89_std  gen_time_para9_std  \\\n",
              "0             0.163207             0.163356            0.163207   \n",
              "1             0.163207             0.165981            0.163207   \n",
              "\n",
              "   gen_time_para90_std  gen_tmp_para31_std  \n",
              "0             0.163356             0.54963  \n",
              "1             0.165981             0.55689  \n",
              "\n",
              "[2 rows x 95 columns]"
            ],
            "text/html": [
              "\n",
              "  <div id=\"df-97f44db0-4886-42ee-a2d5-6cdd1487bb6a\">\n",
              "    <div class=\"colab-df-container\">\n",
              "      <div>\n",
              "<style scoped>\n",
              "    .dataframe tbody tr th:only-of-type {\n",
              "        vertical-align: middle;\n",
              "    }\n",
              "\n",
              "    .dataframe tbody tr th {\n",
              "        vertical-align: top;\n",
              "    }\n",
              "\n",
              "    .dataframe thead th {\n",
              "        text-align: right;\n",
              "    }\n",
              "</style>\n",
              "<table border=\"1\" class=\"dataframe\">\n",
              "  <thead>\n",
              "    <tr style=\"text-align: right;\">\n",
              "      <th></th>\n",
              "      <th>gen_efem_para2_std</th>\n",
              "      <th>gen_efem_para25_std</th>\n",
              "      <th>gen_efem_para78_std</th>\n",
              "      <th>gen_epd_para4_std</th>\n",
              "      <th>gen_epd_para40_std</th>\n",
              "      <th>gen_epd_para63_std</th>\n",
              "      <th>gen_epd_para80_std</th>\n",
              "      <th>gen_esc_para84_std</th>\n",
              "      <th>gen_esc_para94_std</th>\n",
              "      <th>gen_fr_para28_std</th>\n",
              "      <th>...</th>\n",
              "      <th>gen_time_para7_std</th>\n",
              "      <th>gen_time_para75_std</th>\n",
              "      <th>gen_time_para77_std</th>\n",
              "      <th>gen_time_para8_std</th>\n",
              "      <th>gen_time_para81_std</th>\n",
              "      <th>gen_time_para83_std</th>\n",
              "      <th>gen_time_para89_std</th>\n",
              "      <th>gen_time_para9_std</th>\n",
              "      <th>gen_time_para90_std</th>\n",
              "      <th>gen_tmp_para31_std</th>\n",
              "    </tr>\n",
              "  </thead>\n",
              "  <tbody>\n",
              "    <tr>\n",
              "      <th>0</th>\n",
              "      <td>1.540604</td>\n",
              "      <td>1.487185</td>\n",
              "      <td>0.045480</td>\n",
              "      <td>377.964435</td>\n",
              "      <td>0.382780</td>\n",
              "      <td>0.0</td>\n",
              "      <td>0.0</td>\n",
              "      <td>0.000000</td>\n",
              "      <td>0.0</td>\n",
              "      <td>2926.724319</td>\n",
              "      <td>...</td>\n",
              "      <td>0.163207</td>\n",
              "      <td>0.163356</td>\n",
              "      <td>0.163356</td>\n",
              "      <td>0.163207</td>\n",
              "      <td>0.163356</td>\n",
              "      <td>0.163207</td>\n",
              "      <td>0.163356</td>\n",
              "      <td>0.163207</td>\n",
              "      <td>0.163356</td>\n",
              "      <td>0.54963</td>\n",
              "    </tr>\n",
              "    <tr>\n",
              "      <th>1</th>\n",
              "      <td>1.313742</td>\n",
              "      <td>1.372572</td>\n",
              "      <td>0.045224</td>\n",
              "      <td>377.964435</td>\n",
              "      <td>0.462813</td>\n",
              "      <td>0.0</td>\n",
              "      <td>0.0</td>\n",
              "      <td>0.003024</td>\n",
              "      <td>0.0</td>\n",
              "      <td>2926.724319</td>\n",
              "      <td>...</td>\n",
              "      <td>0.163207</td>\n",
              "      <td>0.165981</td>\n",
              "      <td>0.165981</td>\n",
              "      <td>0.163211</td>\n",
              "      <td>0.165981</td>\n",
              "      <td>0.163207</td>\n",
              "      <td>0.165981</td>\n",
              "      <td>0.163207</td>\n",
              "      <td>0.165981</td>\n",
              "      <td>0.55689</td>\n",
              "    </tr>\n",
              "  </tbody>\n",
              "</table>\n",
              "<p>2 rows × 95 columns</p>\n",
              "</div>\n",
              "      <button class=\"colab-df-convert\" onclick=\"convertToInteractive('df-97f44db0-4886-42ee-a2d5-6cdd1487bb6a')\"\n",
              "              title=\"Convert this dataframe to an interactive table.\"\n",
              "              style=\"display:none;\">\n",
              "        \n",
              "  <svg xmlns=\"http://www.w3.org/2000/svg\" height=\"24px\"viewBox=\"0 0 24 24\"\n",
              "       width=\"24px\">\n",
              "    <path d=\"M0 0h24v24H0V0z\" fill=\"none\"/>\n",
              "    <path d=\"M18.56 5.44l.94 2.06.94-2.06 2.06-.94-2.06-.94-.94-2.06-.94 2.06-2.06.94zm-11 1L8.5 8.5l.94-2.06 2.06-.94-2.06-.94L8.5 2.5l-.94 2.06-2.06.94zm10 10l.94 2.06.94-2.06 2.06-.94-2.06-.94-.94-2.06-.94 2.06-2.06.94z\"/><path d=\"M17.41 7.96l-1.37-1.37c-.4-.4-.92-.59-1.43-.59-.52 0-1.04.2-1.43.59L10.3 9.45l-7.72 7.72c-.78.78-.78 2.05 0 2.83L4 21.41c.39.39.9.59 1.41.59.51 0 1.02-.2 1.41-.59l7.78-7.78 2.81-2.81c.8-.78.8-2.07 0-2.86zM5.41 20L4 18.59l7.72-7.72 1.47 1.35L5.41 20z\"/>\n",
              "  </svg>\n",
              "      </button>\n",
              "      \n",
              "  <style>\n",
              "    .colab-df-container {\n",
              "      display:flex;\n",
              "      flex-wrap:wrap;\n",
              "      gap: 12px;\n",
              "    }\n",
              "\n",
              "    .colab-df-convert {\n",
              "      background-color: #E8F0FE;\n",
              "      border: none;\n",
              "      border-radius: 50%;\n",
              "      cursor: pointer;\n",
              "      display: none;\n",
              "      fill: #1967D2;\n",
              "      height: 32px;\n",
              "      padding: 0 0 0 0;\n",
              "      width: 32px;\n",
              "    }\n",
              "\n",
              "    .colab-df-convert:hover {\n",
              "      background-color: #E2EBFA;\n",
              "      box-shadow: 0px 1px 2px rgba(60, 64, 67, 0.3), 0px 1px 3px 1px rgba(60, 64, 67, 0.15);\n",
              "      fill: #174EA6;\n",
              "    }\n",
              "\n",
              "    [theme=dark] .colab-df-convert {\n",
              "      background-color: #3B4455;\n",
              "      fill: #D2E3FC;\n",
              "    }\n",
              "\n",
              "    [theme=dark] .colab-df-convert:hover {\n",
              "      background-color: #434B5C;\n",
              "      box-shadow: 0px 1px 3px 1px rgba(0, 0, 0, 0.15);\n",
              "      filter: drop-shadow(0px 1px 2px rgba(0, 0, 0, 0.3));\n",
              "      fill: #FFFFFF;\n",
              "    }\n",
              "  </style>\n",
              "\n",
              "      <script>\n",
              "        const buttonEl =\n",
              "          document.querySelector('#df-97f44db0-4886-42ee-a2d5-6cdd1487bb6a button.colab-df-convert');\n",
              "        buttonEl.style.display =\n",
              "          google.colab.kernel.accessAllowed ? 'block' : 'none';\n",
              "\n",
              "        async function convertToInteractive(key) {\n",
              "          const element = document.querySelector('#df-97f44db0-4886-42ee-a2d5-6cdd1487bb6a');\n",
              "          const dataTable =\n",
              "            await google.colab.kernel.invokeFunction('convertToInteractive',\n",
              "                                                     [key], {});\n",
              "          if (!dataTable) return;\n",
              "\n",
              "          const docLinkHtml = 'Like what you see? Visit the ' +\n",
              "            '<a target=\"_blank\" href=https://colab.research.google.com/notebooks/data_table.ipynb>data table notebook</a>'\n",
              "            + ' to learn more about interactive tables.';\n",
              "          element.innerHTML = '';\n",
              "          dataTable['output_type'] = 'display_data';\n",
              "          await google.colab.output.renderOutput(dataTable, element);\n",
              "          const docLink = document.createElement('div');\n",
              "          docLink.innerHTML = docLinkHtml;\n",
              "          element.appendChild(docLink);\n",
              "        }\n",
              "      </script>\n",
              "    </div>\n",
              "  </div>\n",
              "  "
            ]
          },
          "metadata": {},
          "execution_count": 107
        }
      ]
    },
    {
      "cell_type": "markdown",
      "metadata": {
        "id": "931c5006"
      },
      "source": [
        "<a name='04-02'></a>\n",
        "### 4.2 이상치 치환하기 \n",
        "\n",
        "분위점을 임계값으로 삼아 이상치를 치환합니다. \n",
        "\n",
        "학습 데이터의 1%점을 하한, 99%점을 상한으로 잡고 해당 범위를 벗어나는 값을 각각 **하한값과 상한값으로 치환**합니다. \n"
      ],
      "id": "931c5006"
    },
    {
      "cell_type": "code",
      "source": [
        "# 이상치 확인을 위한 데이터 복사 \n",
        "df_outlier = df_prep_train.copy()"
      ],
      "metadata": {
        "id": "xQy5tKXp6ZCP"
      },
      "id": "xQy5tKXp6ZCP",
      "execution_count": null,
      "outputs": []
    },
    {
      "cell_type": "code",
      "source": [
        "def outlier(x, p01, p99):\n",
        "\n",
        "  if x < p01 or x > p99:\n",
        "    return 'Y'\n",
        "  else:\n",
        "    return 'N'\n",
        "\n",
        "# 특정 컬럼의 이상치를 확인해봅니다. \n",
        "tmp_lst = ['04_fr_para35', '04_gas_para36', '04_fr_para28', '04_temp_para66']\n",
        "\n",
        "for col in tmp_lst:\n",
        "\n",
        "    p01 = df_outlier[col].quantile(0.01) \n",
        "    p99 = df_outlier[col].quantile(0.99) \n",
        "\n",
        "    df_outlier[f'{col}_outlier'] = df_outlier[col].apply(outlier, args=(p01, p99))\n"
      ],
      "metadata": {
        "id": "wyyXXMix7cfx"
      },
      "id": "wyyXXMix7cfx",
      "execution_count": null,
      "outputs": []
    },
    {
      "cell_type": "markdown",
      "source": [
        "상한값과 하한값을 벗어나는 데이터 포인트를 확인합니다."
      ],
      "metadata": {
        "id": "t4TnvrI6-gWd"
      },
      "id": "t4TnvrI6-gWd"
    },
    {
      "cell_type": "code",
      "source": [
        "fig, axes = plt.subplots(nrows=2, ncols=2, sharey=True, figsize=(10,5))\n",
        "fig.subplots_adjust(hspace=.4, wspace=.1)\n",
        "\n",
        "sns.scatterplot(x='04_fr_para35', y='y', hue='04_fr_para35_outlier', data = df_outlier, ax=axes[0,0], legend=False)\n",
        "sns.scatterplot(x='04_gas_para36', y='y', hue='04_gas_para36_outlier', data = df_outlier, ax=axes[0,1])\n",
        "sns.scatterplot(x='04_fr_para28', y='y',  hue='04_fr_para28_outlier', data = df_outlier, ax=axes[1,0], legend=False)\n",
        "sns.scatterplot(x='04_temp_para66', y='y', hue='04_temp_para66_outlier', data = df_outlier, ax=axes[1,1], legend=False)\n",
        "axes[0,1].legend(loc='lower left', ncol=1, title='Outlier', bbox_to_anchor=(1.04, -0.5))"
      ],
      "metadata": {
        "colab": {
          "base_uri": "https://localhost:8080/",
          "height": 353
        },
        "id": "gTs7wrF28c_1",
        "outputId": "0c3aba4f-b77f-4489-80e0-ec4467ecb54a"
      },
      "id": "gTs7wrF28c_1",
      "execution_count": null,
      "outputs": [
        {
          "output_type": "execute_result",
          "data": {
            "text/plain": [
              "<matplotlib.legend.Legend at 0x7fd8e012d910>"
            ]
          },
          "metadata": {},
          "execution_count": 110
        },
        {
          "output_type": "display_data",
          "data": {
            "text/plain": [
              "<Figure size 720x360 with 4 Axes>"
            ],
            "image/png": "[encoded data removed]"
          },
          "metadata": {
            "needs_background": "light"
          }
        }
      ]
    },
    {
      "cell_type": "code",
      "execution_count": null,
      "metadata": {
        "id": "33be8c10"
      },
      "outputs": [],
      "source": [
        "# 기존 센서 변수(665개)와 생성 변수 중 수치형 변수(102개) 컬럼을 정의합니다. \n",
        "col_numerical = col_sensor + df_prep_train.filter(regex='^gen_').columns.tolist()"
      ],
      "id": "33be8c10"
    },
    {
      "cell_type": "code",
      "source": [
        "for col in col_numerical:\n",
        "    # 열마다 학습 데이터의 1%, 99% 지점을 확인합니다.\n",
        "    p01 = df_prep_train[col].quantile(0.01) \n",
        "    p99 = df_prep_train[col].quantile(0.99) \n",
        "\n",
        "    # 1%점 이하의 값은 1%점으로, 99%점 이상의 값은 99%점으로 클리핑합니다. \n",
        "    df_prep_train[col] = df_prep_train[col].clip(p01, p99)\n",
        "    df_prep_predict[col] = df_prep_predict[col].clip(p01, p99)\n",
        "\n"
      ],
      "metadata": {
        "id": "z7KZTqq-f3U7"
      },
      "id": "z7KZTqq-f3U7",
      "execution_count": null,
      "outputs": []
    },
    {
      "cell_type": "markdown",
      "source": [
        "이상치 처리후 결과를 확인합니다."
      ],
      "metadata": {
        "id": "BsNY4_yJ_Gjn"
      },
      "id": "BsNY4_yJ_Gjn"
    },
    {
      "cell_type": "code",
      "source": [
        "fig, axes = plt.subplots(nrows=2, ncols=2, sharey=True, figsize=(10,5))\n",
        "fig.subplots_adjust(hspace=.4, wspace=.1)\n",
        "\n",
        "sns.scatterplot(x='04_fr_para35', y='y', data = df_prep_train, ax=axes[0,0])\n",
        "sns.scatterplot(x='04_gas_para36', y='y', data = df_prep_train, ax=axes[0,1])\n",
        "sns.scatterplot(x='04_fr_para28', y='y',  data = df_prep_train, ax=axes[1,0])\n",
        "sns.scatterplot(x='04_temp_para66', y='y', data = df_prep_train, ax=axes[1,1])"
      ],
      "metadata": {
        "colab": {
          "base_uri": "https://localhost:8080/",
          "height": 353
        },
        "id": "NEYCLhbtf9Tb",
        "outputId": "5dd72856-0265-4fca-9a30-8c1c1a49f1d0"
      },
      "id": "NEYCLhbtf9Tb",
      "execution_count": null,
      "outputs": [
        {
          "output_type": "execute_result",
          "data": {
            "text/plain": [
              "<matplotlib.axes._subplots.AxesSubplot at 0x7fd8e03fb650>"
            ]
          },
          "metadata": {},
          "execution_count": 113
        },
        {
          "output_type": "display_data",
          "data": {
            "text/plain": [
              "<Figure size 720x360 with 4 Axes>"
            ],
            "image/png": "[encoded data removed]"
          },
          "metadata": {
            "needs_background": "light"
          }
        }
      ]
    },
    {
      "cell_type": "markdown",
      "metadata": {
        "id": "76b7ca94"
      },
      "source": [
        "<a name='04-03'></a>\n",
        "### 4.3 분산이 적은 변수 제거\n",
        "분산 기준 설정(Variance Thresholding)은 가장 기본적인 특성 선택 방법 중 하나입니다. \n",
        "\n",
        "분산이 0 인 특징은 정보가 없으므로 해당 특징을 삭제합니다."
      ],
      "id": "76b7ca94"
    },
    {
      "cell_type": "code",
      "execution_count": null,
      "metadata": {
        "colab": {
          "base_uri": "https://localhost:8080/"
        },
        "id": "affa633e",
        "outputId": "d70e74f2-4f21-427c-e611-4c61640b1d93"
      },
      "outputs": [
        {
          "output_type": "stream",
          "name": "stdout",
          "text": [
            "** 86 Features to Drop by Low Variance\n",
            "['04_epd_para4', '04_epd_para40', '04_epd_para63', '04_epd_para80', '04_esc_para84', '04_fr_para35', '04_fr_para69', '04_he_para1', '04_he_para95', '04_power_para14', '04_power_para49', '04_power_para68', '04_power_para82', '04_temp_para24', '04_time_para5', '06_epd_para80', '06_fr_para35', '06_he_para1', '06_he_para95', '06_hv_para3', '06_hv_para45', '06_hv_para47', '06_hv_para56', '06_power_para14', '06_power_para68', '06_power_para82', '06_temp_para24', '06_time_para5', '12_epd_para4', '12_epd_para40', '12_epd_para63', '12_epd_para80', '12_he_para1', '12_he_para95', '12_power_para49', '12_power_para68', '12_temp_para54', '13_epd_para4', '13_epd_para40', '13_epd_para63', '13_epd_para80', '13_esc_para84', '13_fr_para28', '13_fr_para69', '13_he_para1', '13_he_para95', '13_power_para49', '13_power_para68', '13_temp_para54', '17_epd_para4', '17_epd_para40', '17_epd_para63', '17_epd_para80', '17_esc_para84', '17_fr_para28', '17_he_para1', '17_he_para95', '17_power_para49', '17_power_para68', '17_temp_para54', '18_epd_para4', '18_epd_para40', '18_epd_para63', '18_epd_para80', '18_esc_para84', '18_fr_para28', '18_fr_para69', '18_he_para1', '18_he_para95', '18_power_para49', '18_power_para68', '18_temp_para23', '18_temp_para54', '20_epd_para40', '20_epd_para63', '20_epd_para80', '20_he_para1', '20_he_para95', '20_hv_para45', '20_hv_para47', '20_power_para49', '20_temp_para54', 'gen_tmdiff_1718', 'gen_epd_para80_std', 'gen_he_para1_std', 'gen_he_para95_std']\n"
          ]
        }
      ],
      "source": [
        "# threshold 인자를 변경하여 분산의 기준값을 수동으로 선택할 수 있습니다.\n",
        "thresholder = VarianceThreshold(threshold=0)\n",
        "_ = thresholder.fit_transform(df_prep_train[col_numerical])\n",
        "\n",
        " # 분산이 0이면 True 이므로 제거할 컬럼을 추출합니다.  \n",
        "mask = ~thresholder.get_support()\n",
        "cols_var_drop = np.asarray(col_numerical)[mask].tolist()\n",
        "print(f'** {len(cols_var_drop)} Features to Drop by Low Variance')\n",
        "print(f'{cols_var_drop}')"
      ],
      "id": "affa633e"
    },
    {
      "cell_type": "markdown",
      "source": [
        "분산이 0인 특징에 대해 확인해보겠습니다."
      ],
      "metadata": {
        "id": "_hdJERrgowdK"
      },
      "id": "_hdJERrgowdK"
    },
    {
      "cell_type": "code",
      "source": [
        "sns.scatterplot(x=cols_var_drop[0], y='y', data=df_prep_train)"
      ],
      "metadata": {
        "colab": {
          "base_uri": "https://localhost:8080/",
          "height": 299
        },
        "id": "kYjfRuh2gNoz",
        "outputId": "4846f258-a197-42dc-a924-e05e4d9ebb4c"
      },
      "id": "kYjfRuh2gNoz",
      "execution_count": null,
      "outputs": [
        {
          "output_type": "execute_result",
          "data": {
            "text/plain": [
              "<matplotlib.axes._subplots.AxesSubplot at 0x7fd8e03a0190>"
            ]
          },
          "metadata": {},
          "execution_count": 115
        },
        {
          "output_type": "display_data",
          "data": {
            "text/plain": [
              "<Figure size 432x288 with 1 Axes>"
            ],
            "image/png": "[encoded data removed]"
          },
          "metadata": {
            "needs_background": "light"
          }
        }
      ]
    },
    {
      "cell_type": "markdown",
      "source": [
        "<a name='04-04'></a>\n",
        "### 4.4 표준화\n",
        "\n",
        "선형 모델에서는 값의 범위가 큰 변수일수록 회귀계수가 작아지므로 변수의 정규화가 어려워집니다. \n",
        "\n",
        "StandardScaler 클래스를 사용하여 수치형 독립 변수에 대해 평균 0, 표준편차 1로 표준화를 수행합니다.  \n",
        "\n",
        "먼저, 독립 변수의 평균과 표준편차를 확인해봅니다.\n",
        "\n"
      ],
      "metadata": {
        "id": "qguXsWxDlS5P"
      },
      "id": "qguXsWxDlS5P"
    },
    {
      "cell_type": "code",
      "source": [
        "# 각 변수의 평균을 확인합니다.\n",
        "sp.mean(df_prep_train[col_numerical], axis=0).head(3)"
      ],
      "metadata": {
        "colab": {
          "base_uri": "https://localhost:8080/"
        },
        "id": "qiQORz3ejNEF",
        "outputId": "e92d0394-675e-4c1d-b2e0-2c4d0d4e0cb6"
      },
      "id": "qiQORz3ejNEF",
      "execution_count": null,
      "outputs": [
        {
          "output_type": "execute_result",
          "data": {
            "text/plain": [
              "04_efem_para2     1568.802687\n",
              "04_efem_para25    1570.209268\n",
              "04_efem_para78       6.056739\n",
              "dtype: float64"
            ]
          },
          "metadata": {},
          "execution_count": 116
        }
      ]
    },
    {
      "cell_type": "code",
      "source": [
        "# 각 변수의 표준편차를 확인합니다.\n",
        "sp.std(df_prep_train[col_numerical], ddof =1, axis=0).head(3)"
      ],
      "metadata": {
        "colab": {
          "base_uri": "https://localhost:8080/"
        },
        "id": "Yn4PO2u_jOmx",
        "outputId": "49c7764f-db8b-47b6-b238-11375209522d"
      },
      "id": "Yn4PO2u_jOmx",
      "execution_count": null,
      "outputs": [
        {
          "output_type": "execute_result",
          "data": {
            "text/plain": [
              "04_efem_para2     80.318826\n",
              "04_efem_para25    85.396796\n",
              "04_efem_para78     1.221182\n",
              "dtype: float64"
            ]
          },
          "metadata": {},
          "execution_count": 117
        }
      ]
    },
    {
      "cell_type": "markdown",
      "source": [
        "표준화를 수행한 후 각 수치형 변수 컬럼을 치환합니다."
      ],
      "metadata": {
        "id": "LiU2FOyMmvpx"
      },
      "id": "LiU2FOyMmvpx"
    },
    {
      "cell_type": "code",
      "source": [
        "scaler = StandardScaler()\n",
        "# 학습 데이터 각 변수의 평균값과 표준편차를 저장한 후, 이를 사용하여 학습 및 평가용 데이터를 변환합니다.\n",
        "df_prep_train[col_numerical] = scaler.fit_transform(df_prep_train[col_numerical])\n",
        "df_prep_predict[col_numerical] = scaler.transform(df_prep_predict[col_numerical])"
      ],
      "metadata": {
        "id": "Biaf-Ct4lMfo"
      },
      "id": "Biaf-Ct4lMfo",
      "execution_count": null,
      "outputs": []
    },
    {
      "cell_type": "markdown",
      "source": [
        "학습 데이터의 평균이 0, 표준편차가 1로 변환되었는지 확인합니다."
      ],
      "metadata": {
        "id": "oENATQSwmZtM"
      },
      "id": "oENATQSwmZtM"
    },
    {
      "cell_type": "code",
      "source": [
        "# 표준화된 변수의 평균을 확인합니다.\n",
        "sp.mean(df_prep_train[col_numerical], axis=0).head(3).round(3)"
      ],
      "metadata": {
        "colab": {
          "base_uri": "https://localhost:8080/"
        },
        "id": "Hdz_H3Zviura",
        "outputId": "d3df9436-acfd-4614-f958-1f584a8eea46"
      },
      "id": "Hdz_H3Zviura",
      "execution_count": null,
      "outputs": [
        {
          "output_type": "execute_result",
          "data": {
            "text/plain": [
              "04_efem_para2    -0.0\n",
              "04_efem_para25    0.0\n",
              "04_efem_para78    0.0\n",
              "dtype: float64"
            ]
          },
          "metadata": {},
          "execution_count": 119
        }
      ]
    },
    {
      "cell_type": "code",
      "source": [
        "# 표준화된 변수의 표준편차를 확인합니다.\n",
        "sp.std(df_prep_train[col_numerical], axis=0).head(3)"
      ],
      "metadata": {
        "colab": {
          "base_uri": "https://localhost:8080/"
        },
        "id": "ZTaIJqzdjXzV",
        "outputId": "daf28497-69b5-4904-93ad-47c3c6ea6fa6"
      },
      "id": "ZTaIJqzdjXzV",
      "execution_count": null,
      "outputs": [
        {
          "output_type": "execute_result",
          "data": {
            "text/plain": [
              "04_efem_para2     1.0\n",
              "04_efem_para25    1.0\n",
              "04_efem_para78    1.0\n",
              "dtype: float64"
            ]
          },
          "metadata": {},
          "execution_count": 120
        }
      ]
    },
    {
      "cell_type": "markdown",
      "source": [
        "<a name='04-05'></a>\n",
        "### 4.5 원-핫 인코딩\n",
        "\n",
        "**module_name_eq** 는 문자열로 나타난 범주형 변수입니다.\n",
        "\n",
        "범주형 변수의 대표적인 변환 기법인 원-핫 인코딩을 사용하여 변환합니다. "
      ],
      "metadata": {
        "id": "uW6MtE37jVxX"
      },
      "id": "uW6MtE37jVxX"
    },
    {
      "cell_type": "code",
      "source": [
        "df_prep_train.filter(regex='module_name_eq').head(3)"
      ],
      "metadata": {
        "colab": {
          "base_uri": "https://localhost:8080/",
          "height": 143
        },
        "id": "aBZNZTxwntSA",
        "outputId": "bc1dadb2-bcca-4f45-8ead-fd60eded80f8"
      },
      "id": "aBZNZTxwntSA",
      "execution_count": null,
      "outputs": [
        {
          "output_type": "execute_result",
          "data": {
            "text/plain": [
              "  module_name_eq\n",
              "0           EQ10\n",
              "1           EQ10\n",
              "2           EQ10"
            ],
            "text/html": [
              "\n",
              "  <div id=\"df-aa7be562-9f75-4b66-9a10-0afba8b97726\">\n",
              "    <div class=\"colab-df-container\">\n",
              "      <div>\n",
              "<style scoped>\n",
              "    .dataframe tbody tr th:only-of-type {\n",
              "        vertical-align: middle;\n",
              "    }\n",
              "\n",
              "    .dataframe tbody tr th {\n",
              "        vertical-align: top;\n",
              "    }\n",
              "\n",
              "    .dataframe thead th {\n",
              "        text-align: right;\n",
              "    }\n",
              "</style>\n",
              "<table border=\"1\" class=\"dataframe\">\n",
              "  <thead>\n",
              "    <tr style=\"text-align: right;\">\n",
              "      <th></th>\n",
              "      <th>module_name_eq</th>\n",
              "    </tr>\n",
              "  </thead>\n",
              "  <tbody>\n",
              "    <tr>\n",
              "      <th>0</th>\n",
              "      <td>EQ10</td>\n",
              "    </tr>\n",
              "    <tr>\n",
              "      <th>1</th>\n",
              "      <td>EQ10</td>\n",
              "    </tr>\n",
              "    <tr>\n",
              "      <th>2</th>\n",
              "      <td>EQ10</td>\n",
              "    </tr>\n",
              "  </tbody>\n",
              "</table>\n",
              "</div>\n",
              "      <button class=\"colab-df-convert\" onclick=\"convertToInteractive('df-aa7be562-9f75-4b66-9a10-0afba8b97726')\"\n",
              "              title=\"Convert this dataframe to an interactive table.\"\n",
              "              style=\"display:none;\">\n",
              "        \n",
              "  <svg xmlns=\"http://www.w3.org/2000/svg\" height=\"24px\"viewBox=\"0 0 24 24\"\n",
              "       width=\"24px\">\n",
              "    <path d=\"M0 0h24v24H0V0z\" fill=\"none\"/>\n",
              "    <path d=\"M18.56 5.44l.94 2.06.94-2.06 2.06-.94-2.06-.94-.94-2.06-.94 2.06-2.06.94zm-11 1L8.5 8.5l.94-2.06 2.06-.94-2.06-.94L8.5 2.5l-.94 2.06-2.06.94zm10 10l.94 2.06.94-2.06 2.06-.94-2.06-.94-.94-2.06-.94 2.06-2.06.94z\"/><path d=\"M17.41 7.96l-1.37-1.37c-.4-.4-.92-.59-1.43-.59-.52 0-1.04.2-1.43.59L10.3 9.45l-7.72 7.72c-.78.78-.78 2.05 0 2.83L4 21.41c.39.39.9.59 1.41.59.51 0 1.02-.2 1.41-.59l7.78-7.78 2.81-2.81c.8-.78.8-2.07 0-2.86zM5.41 20L4 18.59l7.72-7.72 1.47 1.35L5.41 20z\"/>\n",
              "  </svg>\n",
              "      </button>\n",
              "      \n",
              "  <style>\n",
              "    .colab-df-container {\n",
              "      display:flex;\n",
              "      flex-wrap:wrap;\n",
              "      gap: 12px;\n",
              "    }\n",
              "\n",
              "    .colab-df-convert {\n",
              "      background-color: #E8F0FE;\n",
              "      border: none;\n",
              "      border-radius: 50%;\n",
              "      cursor: pointer;\n",
              "      display: none;\n",
              "      fill: #1967D2;\n",
              "      height: 32px;\n",
              "      padding: 0 0 0 0;\n",
              "      width: 32px;\n",
              "    }\n",
              "\n",
              "    .colab-df-convert:hover {\n",
              "      background-color: #E2EBFA;\n",
              "      box-shadow: 0px 1px 2px rgba(60, 64, 67, 0.3), 0px 1px 3px 1px rgba(60, 64, 67, 0.15);\n",
              "      fill: #174EA6;\n",
              "    }\n",
              "\n",
              "    [theme=dark] .colab-df-convert {\n",
              "      background-color: #3B4455;\n",
              "      fill: #D2E3FC;\n",
              "    }\n",
              "\n",
              "    [theme=dark] .colab-df-convert:hover {\n",
              "      background-color: #434B5C;\n",
              "      box-shadow: 0px 1px 3px 1px rgba(0, 0, 0, 0.15);\n",
              "      filter: drop-shadow(0px 1px 2px rgba(0, 0, 0, 0.3));\n",
              "      fill: #FFFFFF;\n",
              "    }\n",
              "  </style>\n",
              "\n",
              "      <script>\n",
              "        const buttonEl =\n",
              "          document.querySelector('#df-aa7be562-9f75-4b66-9a10-0afba8b97726 button.colab-df-convert');\n",
              "        buttonEl.style.display =\n",
              "          google.colab.kernel.accessAllowed ? 'block' : 'none';\n",
              "\n",
              "        async function convertToInteractive(key) {\n",
              "          const element = document.querySelector('#df-aa7be562-9f75-4b66-9a10-0afba8b97726');\n",
              "          const dataTable =\n",
              "            await google.colab.kernel.invokeFunction('convertToInteractive',\n",
              "                                                     [key], {});\n",
              "          if (!dataTable) return;\n",
              "\n",
              "          const docLinkHtml = 'Like what you see? Visit the ' +\n",
              "            '<a target=\"_blank\" href=https://colab.research.google.com/notebooks/data_table.ipynb>data table notebook</a>'\n",
              "            + ' to learn more about interactive tables.';\n",
              "          element.innerHTML = '';\n",
              "          dataTable['output_type'] = 'display_data';\n",
              "          await google.colab.output.renderOutput(dataTable, element);\n",
              "          const docLink = document.createElement('div');\n",
              "          docLink.innerHTML = docLinkHtml;\n",
              "          element.appendChild(docLink);\n",
              "        }\n",
              "      </script>\n",
              "    </div>\n",
              "  </div>\n",
              "  "
            ]
          },
          "metadata": {},
          "execution_count": 121
        }
      ]
    },
    {
      "cell_type": "code",
      "execution_count": null,
      "metadata": {
        "id": "OWv5YxrNZ1Dw"
      },
      "outputs": [],
      "source": [
        "def prep_cate_feats(df_tr, df_te, feat_nm):\n",
        "\n",
        "  df_merge = pd.concat([df_tr, df_te])\n",
        "\n",
        "  # 컬럼명과 범주형 변수의 레벨명을 이용한 새로운 컬럼명을 자동생성합니다. \n",
        "  # ex. module_name_eq -> module_name_eq_EQ01, module_name_eq_EQ02, etc.\n",
        "  df_merge = pd.get_dummies(df_merge, columns=[feat_nm])\n",
        "\n",
        "  df_tr = df_merge.iloc[:df_tr.shape[0], :].reset_index(drop=True)\n",
        "  df_te = df_merge.iloc[df_tr.shape[0]:, :].reset_index(drop=True)\n",
        "\n",
        "  return df_tr, df_te\n",
        "\n",
        "# module_name_eq 의 원-핫 인코딩 변수를 생성합니다.\n",
        "df_prep_train, df_prep_predict = prep_cate_feats(df_prep_train, df_prep_predict, 'module_name_eq')"
      ],
      "id": "OWv5YxrNZ1Dw"
    },
    {
      "cell_type": "code",
      "source": [
        "# 원-핫 인코딩 변환 후 결과를 확인합니다.\n",
        "df_prep_train.filter(regex='module_name_eq').head(3)"
      ],
      "metadata": {
        "colab": {
          "base_uri": "https://localhost:8080/",
          "height": 207
        },
        "id": "QsCnam0ynj6t",
        "outputId": "3f852574-7e14-4f28-a24b-7fa0bf316988"
      },
      "id": "QsCnam0ynj6t",
      "execution_count": null,
      "outputs": [
        {
          "output_type": "execute_result",
          "data": {
            "text/plain": [
              "   module_name_eq_EQ1  module_name_eq_EQ10  module_name_eq_EQ11  \\\n",
              "0                   0                    1                    0   \n",
              "1                   0                    1                    0   \n",
              "2                   0                    1                    0   \n",
              "\n",
              "   module_name_eq_EQ12  module_name_eq_EQ2  module_name_eq_EQ3  \\\n",
              "0                    0                   0                   0   \n",
              "1                    0                   0                   0   \n",
              "2                    0                   0                   0   \n",
              "\n",
              "   module_name_eq_EQ4  module_name_eq_EQ5  module_name_eq_EQ6  \\\n",
              "0                   0                   0                   0   \n",
              "1                   0                   0                   0   \n",
              "2                   0                   0                   0   \n",
              "\n",
              "   module_name_eq_EQ7  module_name_eq_EQ8  module_name_eq_EQ9  \n",
              "0                   0                   0                   0  \n",
              "1                   0                   0                   0  \n",
              "2                   0                   0                   0  "
            ],
            "text/html": [
              "\n",
              "  <div id=\"df-c82a8dce-922a-4d90-b8b9-a3369989f7cc\">\n",
              "    <div class=\"colab-df-container\">\n",
              "      <div>\n",
              "<style scoped>\n",
              "    .dataframe tbody tr th:only-of-type {\n",
              "        vertical-align: middle;\n",
              "    }\n",
              "\n",
              "    .dataframe tbody tr th {\n",
              "        vertical-align: top;\n",
              "    }\n",
              "\n",
              "    .dataframe thead th {\n",
              "        text-align: right;\n",
              "    }\n",
              "</style>\n",
              "<table border=\"1\" class=\"dataframe\">\n",
              "  <thead>\n",
              "    <tr style=\"text-align: right;\">\n",
              "      <th></th>\n",
              "      <th>module_name_eq_EQ1</th>\n",
              "      <th>module_name_eq_EQ10</th>\n",
              "      <th>module_name_eq_EQ11</th>\n",
              "      <th>module_name_eq_EQ12</th>\n",
              "      <th>module_name_eq_EQ2</th>\n",
              "      <th>module_name_eq_EQ3</th>\n",
              "      <th>module_name_eq_EQ4</th>\n",
              "      <th>module_name_eq_EQ5</th>\n",
              "      <th>module_name_eq_EQ6</th>\n",
              "      <th>module_name_eq_EQ7</th>\n",
              "      <th>module_name_eq_EQ8</th>\n",
              "      <th>module_name_eq_EQ9</th>\n",
              "    </tr>\n",
              "  </thead>\n",
              "  <tbody>\n",
              "    <tr>\n",
              "      <th>0</th>\n",
              "      <td>0</td>\n",
              "      <td>1</td>\n",
              "      <td>0</td>\n",
              "      <td>0</td>\n",
              "      <td>0</td>\n",
              "      <td>0</td>\n",
              "      <td>0</td>\n",
              "      <td>0</td>\n",
              "      <td>0</td>\n",
              "      <td>0</td>\n",
              "      <td>0</td>\n",
              "      <td>0</td>\n",
              "    </tr>\n",
              "    <tr>\n",
              "      <th>1</th>\n",
              "      <td>0</td>\n",
              "      <td>1</td>\n",
              "      <td>0</td>\n",
              "      <td>0</td>\n",
              "      <td>0</td>\n",
              "      <td>0</td>\n",
              "      <td>0</td>\n",
              "      <td>0</td>\n",
              "      <td>0</td>\n",
              "      <td>0</td>\n",
              "      <td>0</td>\n",
              "      <td>0</td>\n",
              "    </tr>\n",
              "    <tr>\n",
              "      <th>2</th>\n",
              "      <td>0</td>\n",
              "      <td>1</td>\n",
              "      <td>0</td>\n",
              "      <td>0</td>\n",
              "      <td>0</td>\n",
              "      <td>0</td>\n",
              "      <td>0</td>\n",
              "      <td>0</td>\n",
              "      <td>0</td>\n",
              "      <td>0</td>\n",
              "      <td>0</td>\n",
              "      <td>0</td>\n",
              "    </tr>\n",
              "  </tbody>\n",
              "</table>\n",
              "</div>\n",
              "      <button class=\"colab-df-convert\" onclick=\"convertToInteractive('df-c82a8dce-922a-4d90-b8b9-a3369989f7cc')\"\n",
              "              title=\"Convert this dataframe to an interactive table.\"\n",
              "              style=\"display:none;\">\n",
              "        \n",
              "  <svg xmlns=\"http://www.w3.org/2000/svg\" height=\"24px\"viewBox=\"0 0 24 24\"\n",
              "       width=\"24px\">\n",
              "    <path d=\"M0 0h24v24H0V0z\" fill=\"none\"/>\n",
              "    <path d=\"M18.56 5.44l.94 2.06.94-2.06 2.06-.94-2.06-.94-.94-2.06-.94 2.06-2.06.94zm-11 1L8.5 8.5l.94-2.06 2.06-.94-2.06-.94L8.5 2.5l-.94 2.06-2.06.94zm10 10l.94 2.06.94-2.06 2.06-.94-2.06-.94-.94-2.06-.94 2.06-2.06.94z\"/><path d=\"M17.41 7.96l-1.37-1.37c-.4-.4-.92-.59-1.43-.59-.52 0-1.04.2-1.43.59L10.3 9.45l-7.72 7.72c-.78.78-.78 2.05 0 2.83L4 21.41c.39.39.9.59 1.41.59.51 0 1.02-.2 1.41-.59l7.78-7.78 2.81-2.81c.8-.78.8-2.07 0-2.86zM5.41 20L4 18.59l7.72-7.72 1.47 1.35L5.41 20z\"/>\n",
              "  </svg>\n",
              "      </button>\n",
              "      \n",
              "  <style>\n",
              "    .colab-df-container {\n",
              "      display:flex;\n",
              "      flex-wrap:wrap;\n",
              "      gap: 12px;\n",
              "    }\n",
              "\n",
              "    .colab-df-convert {\n",
              "      background-color: #E8F0FE;\n",
              "      border: none;\n",
              "      border-radius: 50%;\n",
              "      cursor: pointer;\n",
              "      display: none;\n",
              "      fill: #1967D2;\n",
              "      height: 32px;\n",
              "      padding: 0 0 0 0;\n",
              "      width: 32px;\n",
              "    }\n",
              "\n",
              "    .colab-df-convert:hover {\n",
              "      background-color: #E2EBFA;\n",
              "      box-shadow: 0px 1px 2px rgba(60, 64, 67, 0.3), 0px 1px 3px 1px rgba(60, 64, 67, 0.15);\n",
              "      fill: #174EA6;\n",
              "    }\n",
              "\n",
              "    [theme=dark] .colab-df-convert {\n",
              "      background-color: #3B4455;\n",
              "      fill: #D2E3FC;\n",
              "    }\n",
              "\n",
              "    [theme=dark] .colab-df-convert:hover {\n",
              "      background-color: #434B5C;\n",
              "      box-shadow: 0px 1px 3px 1px rgba(0, 0, 0, 0.15);\n",
              "      filter: drop-shadow(0px 1px 2px rgba(0, 0, 0, 0.3));\n",
              "      fill: #FFFFFF;\n",
              "    }\n",
              "  </style>\n",
              "\n",
              "      <script>\n",
              "        const buttonEl =\n",
              "          document.querySelector('#df-c82a8dce-922a-4d90-b8b9-a3369989f7cc button.colab-df-convert');\n",
              "        buttonEl.style.display =\n",
              "          google.colab.kernel.accessAllowed ? 'block' : 'none';\n",
              "\n",
              "        async function convertToInteractive(key) {\n",
              "          const element = document.querySelector('#df-c82a8dce-922a-4d90-b8b9-a3369989f7cc');\n",
              "          const dataTable =\n",
              "            await google.colab.kernel.invokeFunction('convertToInteractive',\n",
              "                                                     [key], {});\n",
              "          if (!dataTable) return;\n",
              "\n",
              "          const docLinkHtml = 'Like what you see? Visit the ' +\n",
              "            '<a target=\"_blank\" href=https://colab.research.google.com/notebooks/data_table.ipynb>data table notebook</a>'\n",
              "            + ' to learn more about interactive tables.';\n",
              "          element.innerHTML = '';\n",
              "          dataTable['output_type'] = 'display_data';\n",
              "          await google.colab.output.renderOutput(dataTable, element);\n",
              "          const docLink = document.createElement('div');\n",
              "          docLink.innerHTML = docLinkHtml;\n",
              "          element.appendChild(docLink);\n",
              "        }\n",
              "      </script>\n",
              "    </div>\n",
              "  </div>\n",
              "  "
            ]
          },
          "metadata": {},
          "execution_count": 123
        }
      ]
    },
    {
      "cell_type": "markdown",
      "source": [
        "<a name='04-06'></a>\n",
        "### 4.6 변수 선택 \n",
        "\n",
        "변수 선택은 주어진 데이터의 변수 중에서 모델링의 가장 적절한 변수만 선택하는 과정입니다. \n",
        "\n",
        "변수 선택 방법은 필터 방법(Filter method), 래퍼 방법(Wrapper method), 임베디드 방법(Embeded method)이 있습니다. \n",
        "\n",
        "- **필터 방법** : 통계량(ex. 상관계수, 카이제곱, 상호정보량)을 구하여 가장 뛰어난 특성을 선택하는 기법 (ex. SelectKBest)\n",
        "- **래퍼 방법** : 시행착오를 통해 가장 높은 품질의 예측을 만드는 특성의 부분조합을 찾는 기법 (ex. RFE, RFECV)\n",
        "- **임베디드 방법** : 결정트리 모델로부터 생성된 특징 중요도를 이용하여 특성을 선택하는 기법 (ex. SelectFromModel)\n",
        "\n",
        "다음은 필터 방법중 상호정보량을 사용하여 중요 특성을 추출하는 예제코드입니다.\n",
        "\n",
        "참가자들은 자유롭게 분석하며, 변수 선택 중 한가지 방법으로 참고할 수 있습니다."
      ],
      "metadata": {
        "id": "zxMfd6WmGd4B"
      },
      "id": "zxMfd6WmGd4B"
    },
    {
      "cell_type": "code",
      "source": [
        "# skb = SelectKBest(score_func=mutual_info_regression, k=100) \n",
        "# skb.fit(df_prep_train[col_sensor], df_prep_train['y'])\n",
        "# select_features_kbest = skb.get_support()\n",
        "# col_featsIDX = pd.Index(df_prep_train[col_sensor].columns.tolist())\n",
        "# col_selected_mutual = col_featsIDX[select_features_kbest]"
      ],
      "metadata": {
        "id": "ewk5ZY2GG0UP"
      },
      "id": "ewk5ZY2GG0UP",
      "execution_count": null,
      "outputs": []
    },
    {
      "cell_type": "markdown",
      "metadata": {
        "id": "99dc3a22"
      },
      "source": [
        "<a name='05'></a>\n",
        "## 5. 모델링"
      ],
      "id": "99dc3a22"
    },
    {
      "cell_type": "markdown",
      "metadata": {
        "id": "-7zQXRQfzCQ0"
      },
      "source": [
        "<a name='05-01'></a>\n",
        "### 5.1 데이터 분할\n",
        "\n",
        "모델의 일반화 성능을 평가하기 위해 학습 데이터 중 일부를 검증용 데이터로 분할합니다. \n",
        "\n",
        "train_test_split 함수를 이용하여 학습용 데이터 중 10% 데이터를 검증 데이터로 분류합니다."
      ],
      "id": "-7zQXRQfzCQ0"
    },
    {
      "cell_type": "code",
      "execution_count": null,
      "metadata": {
        "id": "ff33df35"
      },
      "outputs": [],
      "source": [
        "# 학습에 사용할 수치형 변수 컬럼을 정의합니다. \n",
        "# 앞서 정의한 col_numerical 에서 분산이 0 인 컬럼을 제거합니다.\n",
        "col_numerical = [col for col in col_numerical if col not in cols_var_drop]\n",
        "\n",
        "# 학습에 사용할 원-핫 인코딩된 범주형 변수 컬럼을 정의합니다. \n",
        "col_cate_module_name_eq = df_prep_train.filter(regex='^module_name_eq').columns.tolist()\n",
        "col_cate = col_cate_module_name_eq\n",
        "\n",
        "# 모델에 입력으로 사용될 최종 컬럼을 정의합니다.\n",
        "col_X = col_numerical + col_cate\n",
        "col_y = 'y'\n",
        "\n",
        "# 학습용 데이터를 정의합니다.\n",
        "x_train_raw = df_prep_train[col_X]\n",
        "y_train_raw = df_prep_train[col_y]\n",
        "\n",
        "# 평가용 데이터를 정의합니다.\n",
        "x_predict = df_prep_predict[col_X]\n",
        "\n",
        "# 학습 데이터 중 일부를 검증 데이터 셋으로 분할합니다. \n",
        "x_train, x_valid, y_train, y_valid = train_test_split(x_train_raw, y_train_raw, test_size=0.1, shuffle=True, random_state=71)"
      ],
      "id": "ff33df35"
    },
    {
      "cell_type": "markdown",
      "source": [
        "모델의 성능 평가를 위해 제곱근평균제곱오차(RMSE)를 반환하는 함수를 작성합니다. "
      ],
      "metadata": {
        "id": "ns1Ofgfyfbqv"
      },
      "id": "ns1Ofgfyfbqv"
    },
    {
      "cell_type": "code",
      "source": [
        "# mean_squared_error 의 매개변수 squared 가 False 이면 RMSE 를 반환합니다.\n",
        "def rmse(y_true, y_pred):\n",
        "  return round(mean_squared_error(y_true, y_pred, squared=False), 4)"
      ],
      "metadata": {
        "id": "GfCmw1CbkhG1"
      },
      "id": "GfCmw1CbkhG1",
      "execution_count": null,
      "outputs": []
    },
    {
      "cell_type": "markdown",
      "metadata": {
        "id": "6f6d13a0"
      },
      "source": [
        "<a name='05-02'></a>\n",
        "### 5.2 릿지 회귀 모델\n",
        "선형 모델 중 하나인 릿지 모델을 사용\b합니다. 릿지 모델은 계수의 제곱에 비례하여 벌칙을 부여하는 **L2 정규화**를 사용합니다. \n",
        "\n",
        "릿지 회귀 모델에서 튜닝해야할 매개변수는 정규화의 세기를 나타내는 **alpha** 입니다.  \n"
      ],
      "id": "6f6d13a0"
    },
    {
      "cell_type": "code",
      "source": [
        "# log 단위(1e+01)로 1.e-02 ~ 1.e+01 구간에 대해 매개변수를 탐색합니다.\n",
        "ridge_params = {'alpha': np.logspace(-2,1,6)}"
      ],
      "metadata": {
        "id": "mm9V81SLFECV"
      },
      "id": "mm9V81SLFECV",
      "execution_count": null,
      "outputs": []
    },
    {
      "cell_type": "markdown",
      "source": [
        "매개변수 탐색을 위해 그리드 서치 기법을 사용합니다. \n",
        "\n",
        "GridSearchCV는 매개변수 각 조합에 대해 모델을 훈련하고, K-폴드 교차검증으로 평가합니다. cv의 디폴트는 5 입니다. \n",
        "\n",
        "refit=True 로 설정할 경우, 매개변수 탐색 후, 전체 데이터셋에서 최적의 하이퍼파라미터를 사용하여 모델을 재학습시킵니다."
      ],
      "metadata": {
        "id": "hRPEWxK1Fo5x"
      },
      "id": "hRPEWxK1Fo5x"
    },
    {
      "cell_type": "code",
      "execution_count": null,
      "metadata": {
        "colab": {
          "base_uri": "https://localhost:8080/"
        },
        "id": "7bf4e87d",
        "outputId": "44da4841-b8d3-4136-e8e5-126c1d256718"
      },
      "outputs": [
        {
          "output_type": "execute_result",
          "data": {
            "text/plain": [
              "GridSearchCV(estimator=Ridge(),\n",
              "             param_grid={'alpha': array([ 0.01      ,  0.03981072,  0.15848932,  0.63095734,  2.51188643,\n",
              "       10.        ])},\n",
              "             scoring='neg_root_mean_squared_error')"
            ]
          },
          "metadata": {},
          "execution_count": 128
        }
      ],
      "source": [
        "# GridSearchCV를 이용하여 Ridge 모델을 저장합니다.\n",
        "ridge_model = GridSearchCV(Ridge(), param_grid=ridge_params, refit=True, scoring='neg_root_mean_squared_error')\n",
        "ridge_model.fit(x_train, y_train)"
      ],
      "id": "7bf4e87d"
    },
    {
      "cell_type": "markdown",
      "source": [
        "alpha 가 10인 경우, 모델의 성능이 가장 우수하였습니다."
      ],
      "metadata": {
        "id": "lmOG0YrImSSz"
      },
      "id": "lmOG0YrImSSz"
    },
    {
      "cell_type": "code",
      "source": [
        "col_cv_results = ['params', 'mean_test_score', 'rank_test_score']\n",
        "pd.DataFrame(ridge_model.cv_results_)[col_cv_results]"
      ],
      "metadata": {
        "colab": {
          "base_uri": "https://localhost:8080/",
          "height": 238
        },
        "id": "cqDQZ9M740uj",
        "outputId": "8e8ef74c-862e-47c0-d802-fc729765c853"
      },
      "id": "cqDQZ9M740uj",
      "execution_count": null,
      "outputs": [
        {
          "output_type": "execute_result",
          "data": {
            "text/plain": [
              "                            params  mean_test_score  rank_test_score\n",
              "0                  {'alpha': 0.01}       -20.287627                6\n",
              "1  {'alpha': 0.039810717055349734}       -16.410759                5\n",
              "2   {'alpha': 0.15848931924611134}       -12.788945                4\n",
              "3     {'alpha': 0.630957344480193}       -10.298752                3\n",
              "4    {'alpha': 2.5118864315095797}        -9.043420                2\n",
              "5                  {'alpha': 10.0}        -8.540584                1"
            ],
            "text/html": [
              "\n",
              "  <div id=\"df-9363e95f-675a-4776-b312-9712b539d62a\">\n",
              "    <div class=\"colab-df-container\">\n",
              "      <div>\n",
              "<style scoped>\n",
              "    .dataframe tbody tr th:only-of-type {\n",
              "        vertical-align: middle;\n",
              "    }\n",
              "\n",
              "    .dataframe tbody tr th {\n",
              "        vertical-align: top;\n",
              "    }\n",
              "\n",
              "    .dataframe thead th {\n",
              "        text-align: right;\n",
              "    }\n",
              "</style>\n",
              "<table border=\"1\" class=\"dataframe\">\n",
              "  <thead>\n",
              "    <tr style=\"text-align: right;\">\n",
              "      <th></th>\n",
              "      <th>params</th>\n",
              "      <th>mean_test_score</th>\n",
              "      <th>rank_test_score</th>\n",
              "    </tr>\n",
              "  </thead>\n",
              "  <tbody>\n",
              "    <tr>\n",
              "      <th>0</th>\n",
              "      <td>{'alpha': 0.01}</td>\n",
              "      <td>-20.287627</td>\n",
              "      <td>6</td>\n",
              "    </tr>\n",
              "    <tr>\n",
              "      <th>1</th>\n",
              "      <td>{'alpha': 0.039810717055349734}</td>\n",
              "      <td>-16.410759</td>\n",
              "      <td>5</td>\n",
              "    </tr>\n",
              "    <tr>\n",
              "      <th>2</th>\n",
              "      <td>{'alpha': 0.15848931924611134}</td>\n",
              "      <td>-12.788945</td>\n",
              "      <td>4</td>\n",
              "    </tr>\n",
              "    <tr>\n",
              "      <th>3</th>\n",
              "      <td>{'alpha': 0.630957344480193}</td>\n",
              "      <td>-10.298752</td>\n",
              "      <td>3</td>\n",
              "    </tr>\n",
              "    <tr>\n",
              "      <th>4</th>\n",
              "      <td>{'alpha': 2.5118864315095797}</td>\n",
              "      <td>-9.043420</td>\n",
              "      <td>2</td>\n",
              "    </tr>\n",
              "    <tr>\n",
              "      <th>5</th>\n",
              "      <td>{'alpha': 10.0}</td>\n",
              "      <td>-8.540584</td>\n",
              "      <td>1</td>\n",
              "    </tr>\n",
              "  </tbody>\n",
              "</table>\n",
              "</div>\n",
              "      <button class=\"colab-df-convert\" onclick=\"convertToInteractive('df-9363e95f-675a-4776-b312-9712b539d62a')\"\n",
              "              title=\"Convert this dataframe to an interactive table.\"\n",
              "              style=\"display:none;\">\n",
              "        \n",
              "  <svg xmlns=\"http://www.w3.org/2000/svg\" height=\"24px\"viewBox=\"0 0 24 24\"\n",
              "       width=\"24px\">\n",
              "    <path d=\"M0 0h24v24H0V0z\" fill=\"none\"/>\n",
              "    <path d=\"M18.56 5.44l.94 2.06.94-2.06 2.06-.94-2.06-.94-.94-2.06-.94 2.06-2.06.94zm-11 1L8.5 8.5l.94-2.06 2.06-.94-2.06-.94L8.5 2.5l-.94 2.06-2.06.94zm10 10l.94 2.06.94-2.06 2.06-.94-2.06-.94-.94-2.06-.94 2.06-2.06.94z\"/><path d=\"M17.41 7.96l-1.37-1.37c-.4-.4-.92-.59-1.43-.59-.52 0-1.04.2-1.43.59L10.3 9.45l-7.72 7.72c-.78.78-.78 2.05 0 2.83L4 21.41c.39.39.9.59 1.41.59.51 0 1.02-.2 1.41-.59l7.78-7.78 2.81-2.81c.8-.78.8-2.07 0-2.86zM5.41 20L4 18.59l7.72-7.72 1.47 1.35L5.41 20z\"/>\n",
              "  </svg>\n",
              "      </button>\n",
              "      \n",
              "  <style>\n",
              "    .colab-df-container {\n",
              "      display:flex;\n",
              "      flex-wrap:wrap;\n",
              "      gap: 12px;\n",
              "    }\n",
              "\n",
              "    .colab-df-convert {\n",
              "      background-color: #E8F0FE;\n",
              "      border: none;\n",
              "      border-radius: 50%;\n",
              "      cursor: pointer;\n",
              "      display: none;\n",
              "      fill: #1967D2;\n",
              "      height: 32px;\n",
              "      padding: 0 0 0 0;\n",
              "      width: 32px;\n",
              "    }\n",
              "\n",
              "    .colab-df-convert:hover {\n",
              "      background-color: #E2EBFA;\n",
              "      box-shadow: 0px 1px 2px rgba(60, 64, 67, 0.3), 0px 1px 3px 1px rgba(60, 64, 67, 0.15);\n",
              "      fill: #174EA6;\n",
              "    }\n",
              "\n",
              "    [theme=dark] .colab-df-convert {\n",
              "      background-color: #3B4455;\n",
              "      fill: #D2E3FC;\n",
              "    }\n",
              "\n",
              "    [theme=dark] .colab-df-convert:hover {\n",
              "      background-color: #434B5C;\n",
              "      box-shadow: 0px 1px 3px 1px rgba(0, 0, 0, 0.15);\n",
              "      filter: drop-shadow(0px 1px 2px rgba(0, 0, 0, 0.3));\n",
              "      fill: #FFFFFF;\n",
              "    }\n",
              "  </style>\n",
              "\n",
              "      <script>\n",
              "        const buttonEl =\n",
              "          document.querySelector('#df-9363e95f-675a-4776-b312-9712b539d62a button.colab-df-convert');\n",
              "        buttonEl.style.display =\n",
              "          google.colab.kernel.accessAllowed ? 'block' : 'none';\n",
              "\n",
              "        async function convertToInteractive(key) {\n",
              "          const element = document.querySelector('#df-9363e95f-675a-4776-b312-9712b539d62a');\n",
              "          const dataTable =\n",
              "            await google.colab.kernel.invokeFunction('convertToInteractive',\n",
              "                                                     [key], {});\n",
              "          if (!dataTable) return;\n",
              "\n",
              "          const docLinkHtml = 'Like what you see? Visit the ' +\n",
              "            '<a target=\"_blank\" href=https://colab.research.google.com/notebooks/data_table.ipynb>data table notebook</a>'\n",
              "            + ' to learn more about interactive tables.';\n",
              "          element.innerHTML = '';\n",
              "          dataTable['output_type'] = 'display_data';\n",
              "          await google.colab.output.renderOutput(dataTable, element);\n",
              "          const docLink = document.createElement('div');\n",
              "          docLink.innerHTML = docLinkHtml;\n",
              "          element.appendChild(docLink);\n",
              "        }\n",
              "      </script>\n",
              "    </div>\n",
              "  </div>\n",
              "  "
            ]
          },
          "metadata": {},
          "execution_count": 129
        }
      ]
    },
    {
      "cell_type": "markdown",
      "source": [
        "<a name=\"05-03\"></a>\n",
        "### 5.3 랜덤 포레스트 모델 \n",
        "랜덤 포레스트는 행 데이터를 샘플링한 후, 병렬로 수행된 다수의 결정 트리로부터 예측한 평균값을 출력합니다. \n",
        "\n",
        "랜덤 포레스트에서 튜닝해야할 변수는 다음과 같습니다.\n",
        "\n",
        "*  n_estimators : 결정 트리 갯수 ( default : 100 )\n",
        "*  max_depth : 트리의 최대 깊이 ( default : \bNone ) \n",
        "*  min_samples_split : 노드를 분할하기 위한 최소 샘플 갯수 ( default : 2 )\n",
        "*  min_samples_leaf : 리프 노드가 되기 위한 최소 샘플 갯수 ( default : 1 )\n",
        "*  max_features : 각 노드에서 분기시 사용할 최대 특성 갯수 ( default : 1.0 - 전체 특성 갯수 )\n",
        "*  bootstrap : 중복을 허용한 샘플링 여부 ( default : True ) \n",
        "\n",
        "\n",
        "결정 트리의 갯수가 커질수록 계산시간이 증가하므로, 시간과 성능의 트레이드 오프로 결정합니다. "
      ],
      "metadata": {
        "id": "NazERQf16PD9"
      },
      "id": "NazERQf16PD9"
    },
    {
      "cell_type": "code",
      "execution_count": null,
      "metadata": {
        "colab": {
          "base_uri": "https://localhost:8080/"
        },
        "id": "VY8oXLOXqisg",
        "outputId": "b9889174-c49f-4975-bca8-a31ad6b235c3"
      },
      "outputs": [
        {
          "output_type": "execute_result",
          "data": {
            "text/plain": [
              "GridSearchCV(estimator=RandomForestRegressor(),\n",
              "             param_grid={'max_features': [5, 6], 'n_estimators': [120, 200]},\n",
              "             scoring='neg_root_mean_squared_error')"
            ]
          },
          "metadata": {},
          "execution_count": 130
        }
      ],
      "source": [
        "rf_params = {'n_estimators': [120, 200], 'max_features' : [5, 6]} \n",
        "\n",
        "# GridSearchCV를 이용하여 Randomforest 모델을 저장합니다.\n",
        "rf_model = GridSearchCV(RandomForestRegressor(), param_grid=rf_params, scoring='neg_root_mean_squared_error')\n",
        "rf_model.fit(x_train, y_train)"
      ],
      "id": "VY8oXLOXqisg"
    },
    {
      "cell_type": "code",
      "source": [
        "pd.DataFrame(rf_model.cv_results_)[col_cv_results]"
      ],
      "metadata": {
        "colab": {
          "base_uri": "https://localhost:8080/",
          "height": 175
        },
        "id": "mrWqpoCF7ByT",
        "outputId": "b6865612-7ea5-4b82-835b-3957b0b055ac"
      },
      "id": "mrWqpoCF7ByT",
      "execution_count": null,
      "outputs": [
        {
          "output_type": "execute_result",
          "data": {
            "text/plain": [
              "                                     params  mean_test_score  rank_test_score\n",
              "0  {'max_features': 5, 'n_estimators': 120}        -7.459335                3\n",
              "1  {'max_features': 5, 'n_estimators': 200}        -7.405403                1\n",
              "2  {'max_features': 6, 'n_estimators': 120}        -7.425194                2\n",
              "3  {'max_features': 6, 'n_estimators': 200}        -7.468703                4"
            ],
            "text/html": [
              "\n",
              "  <div id=\"df-32929d0b-9c28-4b5a-83a2-90776eefa0a3\">\n",
              "    <div class=\"colab-df-container\">\n",
              "      <div>\n",
              "<style scoped>\n",
              "    .dataframe tbody tr th:only-of-type {\n",
              "        vertical-align: middle;\n",
              "    }\n",
              "\n",
              "    .dataframe tbody tr th {\n",
              "        vertical-align: top;\n",
              "    }\n",
              "\n",
              "    .dataframe thead th {\n",
              "        text-align: right;\n",
              "    }\n",
              "</style>\n",
              "<table border=\"1\" class=\"dataframe\">\n",
              "  <thead>\n",
              "    <tr style=\"text-align: right;\">\n",
              "      <th></th>\n",
              "      <th>params</th>\n",
              "      <th>mean_test_score</th>\n",
              "      <th>rank_test_score</th>\n",
              "    </tr>\n",
              "  </thead>\n",
              "  <tbody>\n",
              "    <tr>\n",
              "      <th>0</th>\n",
              "      <td>{'max_features': 5, 'n_estimators': 120}</td>\n",
              "      <td>-7.459335</td>\n",
              "      <td>3</td>\n",
              "    </tr>\n",
              "    <tr>\n",
              "      <th>1</th>\n",
              "      <td>{'max_features': 5, 'n_estimators': 200}</td>\n",
              "      <td>-7.405403</td>\n",
              "      <td>1</td>\n",
              "    </tr>\n",
              "    <tr>\n",
              "      <th>2</th>\n",
              "      <td>{'max_features': 6, 'n_estimators': 120}</td>\n",
              "      <td>-7.425194</td>\n",
              "      <td>2</td>\n",
              "    </tr>\n",
              "    <tr>\n",
              "      <th>3</th>\n",
              "      <td>{'max_features': 6, 'n_estimators': 200}</td>\n",
              "      <td>-7.468703</td>\n",
              "      <td>4</td>\n",
              "    </tr>\n",
              "  </tbody>\n",
              "</table>\n",
              "</div>\n",
              "      <button class=\"colab-df-convert\" onclick=\"convertToInteractive('df-32929d0b-9c28-4b5a-83a2-90776eefa0a3')\"\n",
              "              title=\"Convert this dataframe to an interactive table.\"\n",
              "              style=\"display:none;\">\n",
              "        \n",
              "  <svg xmlns=\"http://www.w3.org/2000/svg\" height=\"24px\"viewBox=\"0 0 24 24\"\n",
              "       width=\"24px\">\n",
              "    <path d=\"M0 0h24v24H0V0z\" fill=\"none\"/>\n",
              "    <path d=\"M18.56 5.44l.94 2.06.94-2.06 2.06-.94-2.06-.94-.94-2.06-.94 2.06-2.06.94zm-11 1L8.5 8.5l.94-2.06 2.06-.94-2.06-.94L8.5 2.5l-.94 2.06-2.06.94zm10 10l.94 2.06.94-2.06 2.06-.94-2.06-.94-.94-2.06-.94 2.06-2.06.94z\"/><path d=\"M17.41 7.96l-1.37-1.37c-.4-.4-.92-.59-1.43-.59-.52 0-1.04.2-1.43.59L10.3 9.45l-7.72 7.72c-.78.78-.78 2.05 0 2.83L4 21.41c.39.39.9.59 1.41.59.51 0 1.02-.2 1.41-.59l7.78-7.78 2.81-2.81c.8-.78.8-2.07 0-2.86zM5.41 20L4 18.59l7.72-7.72 1.47 1.35L5.41 20z\"/>\n",
              "  </svg>\n",
              "      </button>\n",
              "      \n",
              "  <style>\n",
              "    .colab-df-container {\n",
              "      display:flex;\n",
              "      flex-wrap:wrap;\n",
              "      gap: 12px;\n",
              "    }\n",
              "\n",
              "    .colab-df-convert {\n",
              "      background-color: #E8F0FE;\n",
              "      border: none;\n",
              "      border-radius: 50%;\n",
              "      cursor: pointer;\n",
              "      display: none;\n",
              "      fill: #1967D2;\n",
              "      height: 32px;\n",
              "      padding: 0 0 0 0;\n",
              "      width: 32px;\n",
              "    }\n",
              "\n",
              "    .colab-df-convert:hover {\n",
              "      background-color: #E2EBFA;\n",
              "      box-shadow: 0px 1px 2px rgba(60, 64, 67, 0.3), 0px 1px 3px 1px rgba(60, 64, 67, 0.15);\n",
              "      fill: #174EA6;\n",
              "    }\n",
              "\n",
              "    [theme=dark] .colab-df-convert {\n",
              "      background-color: #3B4455;\n",
              "      fill: #D2E3FC;\n",
              "    }\n",
              "\n",
              "    [theme=dark] .colab-df-convert:hover {\n",
              "      background-color: #434B5C;\n",
              "      box-shadow: 0px 1px 3px 1px rgba(0, 0, 0, 0.15);\n",
              "      filter: drop-shadow(0px 1px 2px rgba(0, 0, 0, 0.3));\n",
              "      fill: #FFFFFF;\n",
              "    }\n",
              "  </style>\n",
              "\n",
              "      <script>\n",
              "        const buttonEl =\n",
              "          document.querySelector('#df-32929d0b-9c28-4b5a-83a2-90776eefa0a3 button.colab-df-convert');\n",
              "        buttonEl.style.display =\n",
              "          google.colab.kernel.accessAllowed ? 'block' : 'none';\n",
              "\n",
              "        async function convertToInteractive(key) {\n",
              "          const element = document.querySelector('#df-32929d0b-9c28-4b5a-83a2-90776eefa0a3');\n",
              "          const dataTable =\n",
              "            await google.colab.kernel.invokeFunction('convertToInteractive',\n",
              "                                                     [key], {});\n",
              "          if (!dataTable) return;\n",
              "\n",
              "          const docLinkHtml = 'Like what you see? Visit the ' +\n",
              "            '<a target=\"_blank\" href=https://colab.research.google.com/notebooks/data_table.ipynb>data table notebook</a>'\n",
              "            + ' to learn more about interactive tables.';\n",
              "          element.innerHTML = '';\n",
              "          dataTable['output_type'] = 'display_data';\n",
              "          await google.colab.output.renderOutput(dataTable, element);\n",
              "          const docLink = document.createElement('div');\n",
              "          docLink.innerHTML = docLinkHtml;\n",
              "          element.appendChild(docLink);\n",
              "        }\n",
              "      </script>\n",
              "    </div>\n",
              "  </div>\n",
              "  "
            ]
          },
          "metadata": {},
          "execution_count": 131
        }
      ]
    },
    {
      "cell_type": "markdown",
      "source": [
        "### (작업) 튜닝없이 알고리즘 성능 비교\n",
        "source: https://www.kaggle.com/code/swatisinghalmav/best-of-8-regression-models-to-predict-strength"
      ],
      "metadata": {
        "id": "zQEUxQ4QM-az"
      },
      "id": "zQEUxQ4QM-az"
    },
    {
      "cell_type": "code",
      "source": [
        "#We will save the model performance metrics in a DataFrame\n",
        "from sklearn.metrics import r2_score\n",
        "from sklearn.model_selection import KFold, cross_val_score\n",
        "\n",
        "Model = []\n",
        "RMSE = []\n",
        "R_sq = []\n",
        "cv = KFold(5)\n",
        "# cv = KFold(5, random_state = 1)\n",
        "\n",
        "#Creating a Function to append the cross validation scores of the algorithms\n",
        "def input_scores(name, model, x, y):\n",
        "    Model.append(name)\n",
        "    RMSE.append(np.sqrt((-1) * cross_val_score(model, x, y, cv=cv, \n",
        "                                               scoring='neg_mean_squared_error').mean()))\n",
        "    R_sq.append(cross_val_score(model, x, y, cv=cv, scoring='r2').mean())"
      ],
      "metadata": {
        "id": "jGnxm0XON8FP"
      },
      "id": "jGnxm0XON8FP",
      "execution_count": null,
      "outputs": []
    },
    {
      "cell_type": "code",
      "source": [
        "names = ['Linear Regression', 'Ridge Regression', 'Lasso Regression',\n",
        "         'K Neighbors Regressor', 'Decision Tree Regressor', \n",
        "         'Random Forest Regressor', 'Gradient Boosting Regressor',\n",
        "         'Adaboost Regressor']\n",
        "models = [LinearRegression(), Ridge(), Lasso(),\n",
        "          KNeighborsRegressor(), DecisionTreeRegressor(),\n",
        "          RandomForestRegressor(), GradientBoostingRegressor(), \n",
        "          AdaBoostRegressor()]\n",
        "\n",
        "#Running all algorithms\n",
        "for name, model in zip(names, models):\n",
        "    input_scores(name, model, x_train, y_train)"
      ],
      "metadata": {
        "id": "DZ373p_7NJVg"
      },
      "id": "DZ373p_7NJVg",
      "execution_count": null,
      "outputs": []
    },
    {
      "cell_type": "code",
      "source": [
        "evaluation = pd.DataFrame({'Model': Model,\n",
        "                           'RMSE': RMSE,\n",
        "                           'R Squared': R_sq})\n",
        "print(\"FOLLOWING ARE THE TRAINING SCORES: \")\n",
        "evaluation"
      ],
      "metadata": {
        "colab": {
          "base_uri": "https://localhost:8080/",
          "height": 319
        },
        "id": "bj5jUsEsOVId",
        "outputId": "1630a585-9497-4cfe-8c69-3a267870c789"
      },
      "id": "bj5jUsEsOVId",
      "execution_count": null,
      "outputs": [
        {
          "output_type": "stream",
          "name": "stdout",
          "text": [
            "FOLLOWING ARE THE TRAINING SCORES: \n"
          ]
        },
        {
          "output_type": "execute_result",
          "data": {
            "text/plain": [
              "                         Model       RMSE  R Squared\n",
              "0            Linear Regression  24.557594  -8.253969\n",
              "1             Ridge Regression   9.776738  -0.462336\n",
              "2             Lasso Regression   8.042346   0.029490\n",
              "3        K Neighbors Regressor   8.278885  -0.027280\n",
              "4      Decision Tree Regressor  11.397168  -0.997756\n",
              "5      Random Forest Regressor   7.686284   0.116975\n",
              "6  Gradient Boosting Regressor   7.797231   0.088682\n",
              "7           Adaboost Regressor   7.780430   0.088737"
            ],
            "text/html": [
              "\n",
              "  <div id=\"df-93120252-343a-4c74-b9ff-11b89106ffc2\">\n",
              "    <div class=\"colab-df-container\">\n",
              "      <div>\n",
              "<style scoped>\n",
              "    .dataframe tbody tr th:only-of-type {\n",
              "        vertical-align: middle;\n",
              "    }\n",
              "\n",
              "    .dataframe tbody tr th {\n",
              "        vertical-align: top;\n",
              "    }\n",
              "\n",
              "    .dataframe thead th {\n",
              "        text-align: right;\n",
              "    }\n",
              "</style>\n",
              "<table border=\"1\" class=\"dataframe\">\n",
              "  <thead>\n",
              "    <tr style=\"text-align: right;\">\n",
              "      <th></th>\n",
              "      <th>Model</th>\n",
              "      <th>RMSE</th>\n",
              "      <th>R Squared</th>\n",
              "    </tr>\n",
              "  </thead>\n",
              "  <tbody>\n",
              "    <tr>\n",
              "      <th>0</th>\n",
              "      <td>Linear Regression</td>\n",
              "      <td>24.557594</td>\n",
              "      <td>-8.253969</td>\n",
              "    </tr>\n",
              "    <tr>\n",
              "      <th>1</th>\n",
              "      <td>Ridge Regression</td>\n",
              "      <td>9.776738</td>\n",
              "      <td>-0.462336</td>\n",
              "    </tr>\n",
              "    <tr>\n",
              "      <th>2</th>\n",
              "      <td>Lasso Regression</td>\n",
              "      <td>8.042346</td>\n",
              "      <td>0.029490</td>\n",
              "    </tr>\n",
              "    <tr>\n",
              "      <th>3</th>\n",
              "      <td>K Neighbors Regressor</td>\n",
              "      <td>8.278885</td>\n",
              "      <td>-0.027280</td>\n",
              "    </tr>\n",
              "    <tr>\n",
              "      <th>4</th>\n",
              "      <td>Decision Tree Regressor</td>\n",
              "      <td>11.397168</td>\n",
              "      <td>-0.997756</td>\n",
              "    </tr>\n",
              "    <tr>\n",
              "      <th>5</th>\n",
              "      <td>Random Forest Regressor</td>\n",
              "      <td>7.686284</td>\n",
              "      <td>0.116975</td>\n",
              "    </tr>\n",
              "    <tr>\n",
              "      <th>6</th>\n",
              "      <td>Gradient Boosting Regressor</td>\n",
              "      <td>7.797231</td>\n",
              "      <td>0.088682</td>\n",
              "    </tr>\n",
              "    <tr>\n",
              "      <th>7</th>\n",
              "      <td>Adaboost Regressor</td>\n",
              "      <td>7.780430</td>\n",
              "      <td>0.088737</td>\n",
              "    </tr>\n",
              "  </tbody>\n",
              "</table>\n",
              "</div>\n",
              "      <button class=\"colab-df-convert\" onclick=\"convertToInteractive('df-93120252-343a-4c74-b9ff-11b89106ffc2')\"\n",
              "              title=\"Convert this dataframe to an interactive table.\"\n",
              "              style=\"display:none;\">\n",
              "        \n",
              "  <svg xmlns=\"http://www.w3.org/2000/svg\" height=\"24px\"viewBox=\"0 0 24 24\"\n",
              "       width=\"24px\">\n",
              "    <path d=\"M0 0h24v24H0V0z\" fill=\"none\"/>\n",
              "    <path d=\"M18.56 5.44l.94 2.06.94-2.06 2.06-.94-2.06-.94-.94-2.06-.94 2.06-2.06.94zm-11 1L8.5 8.5l.94-2.06 2.06-.94-2.06-.94L8.5 2.5l-.94 2.06-2.06.94zm10 10l.94 2.06.94-2.06 2.06-.94-2.06-.94-.94-2.06-.94 2.06-2.06.94z\"/><path d=\"M17.41 7.96l-1.37-1.37c-.4-.4-.92-.59-1.43-.59-.52 0-1.04.2-1.43.59L10.3 9.45l-7.72 7.72c-.78.78-.78 2.05 0 2.83L4 21.41c.39.39.9.59 1.41.59.51 0 1.02-.2 1.41-.59l7.78-7.78 2.81-2.81c.8-.78.8-2.07 0-2.86zM5.41 20L4 18.59l7.72-7.72 1.47 1.35L5.41 20z\"/>\n",
              "  </svg>\n",
              "      </button>\n",
              "      \n",
              "  <style>\n",
              "    .colab-df-container {\n",
              "      display:flex;\n",
              "      flex-wrap:wrap;\n",
              "      gap: 12px;\n",
              "    }\n",
              "\n",
              "    .colab-df-convert {\n",
              "      background-color: #E8F0FE;\n",
              "      border: none;\n",
              "      border-radius: 50%;\n",
              "      cursor: pointer;\n",
              "      display: none;\n",
              "      fill: #1967D2;\n",
              "      height: 32px;\n",
              "      padding: 0 0 0 0;\n",
              "      width: 32px;\n",
              "    }\n",
              "\n",
              "    .colab-df-convert:hover {\n",
              "      background-color: #E2EBFA;\n",
              "      box-shadow: 0px 1px 2px rgba(60, 64, 67, 0.3), 0px 1px 3px 1px rgba(60, 64, 67, 0.15);\n",
              "      fill: #174EA6;\n",
              "    }\n",
              "\n",
              "    [theme=dark] .colab-df-convert {\n",
              "      background-color: #3B4455;\n",
              "      fill: #D2E3FC;\n",
              "    }\n",
              "\n",
              "    [theme=dark] .colab-df-convert:hover {\n",
              "      background-color: #434B5C;\n",
              "      box-shadow: 0px 1px 3px 1px rgba(0, 0, 0, 0.15);\n",
              "      filter: drop-shadow(0px 1px 2px rgba(0, 0, 0, 0.3));\n",
              "      fill: #FFFFFF;\n",
              "    }\n",
              "  </style>\n",
              "\n",
              "      <script>\n",
              "        const buttonEl =\n",
              "          document.querySelector('#df-93120252-343a-4c74-b9ff-11b89106ffc2 button.colab-df-convert');\n",
              "        buttonEl.style.display =\n",
              "          google.colab.kernel.accessAllowed ? 'block' : 'none';\n",
              "\n",
              "        async function convertToInteractive(key) {\n",
              "          const element = document.querySelector('#df-93120252-343a-4c74-b9ff-11b89106ffc2');\n",
              "          const dataTable =\n",
              "            await google.colab.kernel.invokeFunction('convertToInteractive',\n",
              "                                                     [key], {});\n",
              "          if (!dataTable) return;\n",
              "\n",
              "          const docLinkHtml = 'Like what you see? Visit the ' +\n",
              "            '<a target=\"_blank\" href=https://colab.research.google.com/notebooks/data_table.ipynb>data table notebook</a>'\n",
              "            + ' to learn more about interactive tables.';\n",
              "          element.innerHTML = '';\n",
              "          dataTable['output_type'] = 'display_data';\n",
              "          await google.colab.output.renderOutput(dataTable, element);\n",
              "          const docLink = document.createElement('div');\n",
              "          docLink.innerHTML = docLinkHtml;\n",
              "          element.appendChild(docLink);\n",
              "        }\n",
              "      </script>\n",
              "    </div>\n",
              "  </div>\n",
              "  "
            ]
          },
          "metadata": {},
          "execution_count": 134
        }
      ]
    },
    {
      "cell_type": "markdown",
      "source": [
        "### (작업) tensorflow.keras Regression\n",
        "source:\n",
        "https://www.tensorflow.org/tutorials/keras/regression?hl=ko#auto_mpg_%EB%8D%B0%EC%9D%B4%ED%84%B0%EC%85%8B\n",
        "\n",
        "똥같은데ㅋ"
      ],
      "metadata": {
        "id": "n0H9UPo1TPxj"
      },
      "id": "n0H9UPo1TPxj"
    },
    {
      "cell_type": "code",
      "source": [
        "import tensorflow as tf\n",
        "from tensorflow import keras\n",
        "from tensorflow.keras import layers"
      ],
      "metadata": {
        "id": "OpIFvbX_X69t"
      },
      "id": "OpIFvbX_X69t",
      "execution_count": null,
      "outputs": []
    },
    {
      "cell_type": "code",
      "source": [
        "def build_model():\n",
        "  model = keras.Sequential([\n",
        "    layers.Dense(64, activation='relu', input_shape=[len(x_train.keys())]),\n",
        "    layers.Dense(64, activation='relu'),\n",
        "    layers.Dense(1)\n",
        "  ])\n",
        "\n",
        "  optimizer = tf.keras.optimizers.RMSprop(0.001)\n",
        "\n",
        "  model.compile(loss='mse',\n",
        "                optimizer=optimizer,\n",
        "                metrics=['mae', 'mse'])\n",
        "  return model"
      ],
      "metadata": {
        "id": "ES7m0saBTjFK"
      },
      "id": "ES7m0saBTjFK",
      "execution_count": null,
      "outputs": []
    },
    {
      "cell_type": "code",
      "source": [
        "keras_model = build_model()"
      ],
      "metadata": {
        "id": "2_y64UAyT5wy"
      },
      "id": "2_y64UAyT5wy",
      "execution_count": null,
      "outputs": []
    },
    {
      "cell_type": "code",
      "source": [
        "keras_model.summary()"
      ],
      "metadata": {
        "colab": {
          "base_uri": "https://localhost:8080/"
        },
        "id": "V3dWwsObUGth",
        "outputId": "e4cbb45b-6da2-42c7-b70d-5d8e1e7c5c28"
      },
      "id": "V3dWwsObUGth",
      "execution_count": null,
      "outputs": [
        {
          "output_type": "stream",
          "name": "stdout",
          "text": [
            "Model: \"sequential_1\"\n",
            "_________________________________________________________________\n",
            " Layer (type)                Output Shape              Param #   \n",
            "=================================================================\n",
            " dense_3 (Dense)             (None, 64)                44416     \n",
            "                                                                 \n",
            " dense_4 (Dense)             (None, 64)                4160      \n",
            "                                                                 \n",
            " dense_5 (Dense)             (None, 1)                 65        \n",
            "                                                                 \n",
            "=================================================================\n",
            "Total params: 48,641\n",
            "Trainable params: 48,641\n",
            "Non-trainable params: 0\n",
            "_________________________________________________________________\n"
          ]
        }
      ]
    },
    {
      "cell_type": "code",
      "source": [
        "# 에포크가 끝날 때마다 점(.)을 출력해 훈련 진행 과정을 표시합니다\n",
        "class PrintDot(keras.callbacks.Callback):\n",
        "  def on_epoch_end(self, epoch, logs):\n",
        "    if epoch % 100 == 0: print('')\n",
        "    print('.', end='')\n",
        "\n",
        "EPOCHS = 1000\n",
        "\n",
        "history = keras_model.fit(\n",
        "  x_train, y_train,\n",
        "  epochs=EPOCHS, validation_split = 0.2, verbose=0,\n",
        "  callbacks=[PrintDot()])"
      ],
      "metadata": {
        "colab": {
          "base_uri": "https://localhost:8080/"
        },
        "id": "n2IcZA5rXpjd",
        "outputId": "ee39ac30-9be0-4894-aa54-356843a5c86f"
      },
      "id": "n2IcZA5rXpjd",
      "execution_count": null,
      "outputs": [
        {
          "output_type": "stream",
          "name": "stdout",
          "text": [
            "\n",
            "....................................................................................................\n",
            "....................................................................................................\n",
            "....................................................................................................\n",
            "....................................................................................................\n",
            "....................................................................................................\n",
            "....................................................................................................\n",
            "....................................................................................................\n",
            "....................................................................................................\n",
            "....................................................................................................\n",
            "...................................................................................................."
          ]
        }
      ]
    },
    {
      "cell_type": "code",
      "source": [
        "hist = pd.DataFrame(history.history)\n",
        "hist['epoch'] = history.epoch\n",
        "hist['rmse'] = np.sqrt(hist['mse'])\n",
        "hist['val_rmse'] = np.sqrt(hist['val_mse'])\n",
        "hist.head()"
      ],
      "metadata": {
        "colab": {
          "base_uri": "https://localhost:8080/",
          "height": 206
        },
        "id": "ynnMk9AGZbcC",
        "outputId": "4be29ec4-fc9e-4f2a-868c-9015efd1a971"
      },
      "id": "ynnMk9AGZbcC",
      "execution_count": null,
      "outputs": [
        {
          "output_type": "execute_result",
          "data": {
            "text/plain": [
              "          loss          mae          mse     val_loss      val_mae  \\\n",
              "0  1582344.750  1257.876831  1582344.750  1556946.125  1247.732666   \n",
              "1  1525076.250  1234.826904  1525076.250  1484240.375  1218.097168   \n",
              "2  1429608.375  1195.254639  1429608.375  1375447.125  1172.056152   \n",
              "3  1293830.250  1136.210693  1293830.250  1229557.000  1106.671753   \n",
              "4  1123056.375  1056.346191  1123056.375  1055883.375  1022.132629   \n",
              "\n",
              "       val_mse  epoch         rmse  \n",
              "0  1556946.125      0  1257.912855  \n",
              "1  1484240.375      1  1234.939776  \n",
              "2  1375447.125      2  1195.662316  \n",
              "3  1229557.000      3  1137.466593  \n",
              "4  1055883.375      4  1059.743542  "
            ],
            "text/html": [
              "\n",
              "  <div id=\"df-72beaa3c-13cd-4c67-ac01-e83f13e5aadb\">\n",
              "    <div class=\"colab-df-container\">\n",
              "      <div>\n",
              "<style scoped>\n",
              "    .dataframe tbody tr th:only-of-type {\n",
              "        vertical-align: middle;\n",
              "    }\n",
              "\n",
              "    .dataframe tbody tr th {\n",
              "        vertical-align: top;\n",
              "    }\n",
              "\n",
              "    .dataframe thead th {\n",
              "        text-align: right;\n",
              "    }\n",
              "</style>\n",
              "<table border=\"1\" class=\"dataframe\">\n",
              "  <thead>\n",
              "    <tr style=\"text-align: right;\">\n",
              "      <th></th>\n",
              "      <th>loss</th>\n",
              "      <th>mae</th>\n",
              "      <th>mse</th>\n",
              "      <th>val_loss</th>\n",
              "      <th>val_mae</th>\n",
              "      <th>val_mse</th>\n",
              "      <th>epoch</th>\n",
              "      <th>rmse</th>\n",
              "    </tr>\n",
              "  </thead>\n",
              "  <tbody>\n",
              "    <tr>\n",
              "      <th>0</th>\n",
              "      <td>1582344.750</td>\n",
              "      <td>1257.876831</td>\n",
              "      <td>1582344.750</td>\n",
              "      <td>1556946.125</td>\n",
              "      <td>1247.732666</td>\n",
              "      <td>1556946.125</td>\n",
              "      <td>0</td>\n",
              "      <td>1257.912855</td>\n",
              "    </tr>\n",
              "    <tr>\n",
              "      <th>1</th>\n",
              "      <td>1525076.250</td>\n",
              "      <td>1234.826904</td>\n",
              "      <td>1525076.250</td>\n",
              "      <td>1484240.375</td>\n",
              "      <td>1218.097168</td>\n",
              "      <td>1484240.375</td>\n",
              "      <td>1</td>\n",
              "      <td>1234.939776</td>\n",
              "    </tr>\n",
              "    <tr>\n",
              "      <th>2</th>\n",
              "      <td>1429608.375</td>\n",
              "      <td>1195.254639</td>\n",
              "      <td>1429608.375</td>\n",
              "      <td>1375447.125</td>\n",
              "      <td>1172.056152</td>\n",
              "      <td>1375447.125</td>\n",
              "      <td>2</td>\n",
              "      <td>1195.662316</td>\n",
              "    </tr>\n",
              "    <tr>\n",
              "      <th>3</th>\n",
              "      <td>1293830.250</td>\n",
              "      <td>1136.210693</td>\n",
              "      <td>1293830.250</td>\n",
              "      <td>1229557.000</td>\n",
              "      <td>1106.671753</td>\n",
              "      <td>1229557.000</td>\n",
              "      <td>3</td>\n",
              "      <td>1137.466593</td>\n",
              "    </tr>\n",
              "    <tr>\n",
              "      <th>4</th>\n",
              "      <td>1123056.375</td>\n",
              "      <td>1056.346191</td>\n",
              "      <td>1123056.375</td>\n",
              "      <td>1055883.375</td>\n",
              "      <td>1022.132629</td>\n",
              "      <td>1055883.375</td>\n",
              "      <td>4</td>\n",
              "      <td>1059.743542</td>\n",
              "    </tr>\n",
              "  </tbody>\n",
              "</table>\n",
              "</div>\n",
              "      <button class=\"colab-df-convert\" onclick=\"convertToInteractive('df-72beaa3c-13cd-4c67-ac01-e83f13e5aadb')\"\n",
              "              title=\"Convert this dataframe to an interactive table.\"\n",
              "              style=\"display:none;\">\n",
              "        \n",
              "  <svg xmlns=\"http://www.w3.org/2000/svg\" height=\"24px\"viewBox=\"0 0 24 24\"\n",
              "       width=\"24px\">\n",
              "    <path d=\"M0 0h24v24H0V0z\" fill=\"none\"/>\n",
              "    <path d=\"M18.56 5.44l.94 2.06.94-2.06 2.06-.94-2.06-.94-.94-2.06-.94 2.06-2.06.94zm-11 1L8.5 8.5l.94-2.06 2.06-.94-2.06-.94L8.5 2.5l-.94 2.06-2.06.94zm10 10l.94 2.06.94-2.06 2.06-.94-2.06-.94-.94-2.06-.94 2.06-2.06.94z\"/><path d=\"M17.41 7.96l-1.37-1.37c-.4-.4-.92-.59-1.43-.59-.52 0-1.04.2-1.43.59L10.3 9.45l-7.72 7.72c-.78.78-.78 2.05 0 2.83L4 21.41c.39.39.9.59 1.41.59.51 0 1.02-.2 1.41-.59l7.78-7.78 2.81-2.81c.8-.78.8-2.07 0-2.86zM5.41 20L4 18.59l7.72-7.72 1.47 1.35L5.41 20z\"/>\n",
              "  </svg>\n",
              "      </button>\n",
              "      \n",
              "  <style>\n",
              "    .colab-df-container {\n",
              "      display:flex;\n",
              "      flex-wrap:wrap;\n",
              "      gap: 12px;\n",
              "    }\n",
              "\n",
              "    .colab-df-convert {\n",
              "      background-color: #E8F0FE;\n",
              "      border: none;\n",
              "      border-radius: 50%;\n",
              "      cursor: pointer;\n",
              "      display: none;\n",
              "      fill: #1967D2;\n",
              "      height: 32px;\n",
              "      padding: 0 0 0 0;\n",
              "      width: 32px;\n",
              "    }\n",
              "\n",
              "    .colab-df-convert:hover {\n",
              "      background-color: #E2EBFA;\n",
              "      box-shadow: 0px 1px 2px rgba(60, 64, 67, 0.3), 0px 1px 3px 1px rgba(60, 64, 67, 0.15);\n",
              "      fill: #174EA6;\n",
              "    }\n",
              "\n",
              "    [theme=dark] .colab-df-convert {\n",
              "      background-color: #3B4455;\n",
              "      fill: #D2E3FC;\n",
              "    }\n",
              "\n",
              "    [theme=dark] .colab-df-convert:hover {\n",
              "      background-color: #434B5C;\n",
              "      box-shadow: 0px 1px 3px 1px rgba(0, 0, 0, 0.15);\n",
              "      filter: drop-shadow(0px 1px 2px rgba(0, 0, 0, 0.3));\n",
              "      fill: #FFFFFF;\n",
              "    }\n",
              "  </style>\n",
              "\n",
              "      <script>\n",
              "        const buttonEl =\n",
              "          document.querySelector('#df-72beaa3c-13cd-4c67-ac01-e83f13e5aadb button.colab-df-convert');\n",
              "        buttonEl.style.display =\n",
              "          google.colab.kernel.accessAllowed ? 'block' : 'none';\n",
              "\n",
              "        async function convertToInteractive(key) {\n",
              "          const element = document.querySelector('#df-72beaa3c-13cd-4c67-ac01-e83f13e5aadb');\n",
              "          const dataTable =\n",
              "            await google.colab.kernel.invokeFunction('convertToInteractive',\n",
              "                                                     [key], {});\n",
              "          if (!dataTable) return;\n",
              "\n",
              "          const docLinkHtml = 'Like what you see? Visit the ' +\n",
              "            '<a target=\"_blank\" href=https://colab.research.google.com/notebooks/data_table.ipynb>data table notebook</a>'\n",
              "            + ' to learn more about interactive tables.';\n",
              "          element.innerHTML = '';\n",
              "          dataTable['output_type'] = 'display_data';\n",
              "          await google.colab.output.renderOutput(dataTable, element);\n",
              "          const docLink = document.createElement('div');\n",
              "          docLink.innerHTML = docLinkHtml;\n",
              "          element.appendChild(docLink);\n",
              "        }\n",
              "      </script>\n",
              "    </div>\n",
              "  </div>\n",
              "  "
            ]
          },
          "metadata": {},
          "execution_count": 145
        }
      ]
    },
    {
      "cell_type": "code",
      "source": [
        "hist.tail()"
      ],
      "metadata": {
        "colab": {
          "base_uri": "https://localhost:8080/",
          "height": 206
        },
        "id": "pzxGSldmafGK",
        "outputId": "806ac74d-ce3e-420d-f64b-f75a2b885da0"
      },
      "id": "pzxGSldmafGK",
      "execution_count": null,
      "outputs": [
        {
          "output_type": "execute_result",
          "data": {
            "text/plain": [
              "           loss       mae         mse     val_loss    val_mae      val_mse  \\\n",
              "995  136.904724  9.295905  136.904724  4035.056885  48.460102  4035.056885   \n",
              "996  116.771545  7.907084  116.771545  4178.875000  49.643383  4178.875000   \n",
              "997   95.869751  7.826827   95.869751  4012.257324  48.186451  4012.257324   \n",
              "998   96.429199  6.709483   96.429199  4008.463867  48.047771  4008.463867   \n",
              "999  116.408936  8.298475  116.408936  4205.003418  51.162243  4205.003418   \n",
              "\n",
              "     epoch       rmse  \n",
              "995    995  11.700629  \n",
              "996    996  10.806088  \n",
              "997    997   9.791310  \n",
              "998    998   9.819837  \n",
              "999    999  10.789297  "
            ],
            "text/html": [
              "\n",
              "  <div id=\"df-ef0f7dbc-917c-4e7b-9c76-e10886a6f94a\">\n",
              "    <div class=\"colab-df-container\">\n",
              "      <div>\n",
              "<style scoped>\n",
              "    .dataframe tbody tr th:only-of-type {\n",
              "        vertical-align: middle;\n",
              "    }\n",
              "\n",
              "    .dataframe tbody tr th {\n",
              "        vertical-align: top;\n",
              "    }\n",
              "\n",
              "    .dataframe thead th {\n",
              "        text-align: right;\n",
              "    }\n",
              "</style>\n",
              "<table border=\"1\" class=\"dataframe\">\n",
              "  <thead>\n",
              "    <tr style=\"text-align: right;\">\n",
              "      <th></th>\n",
              "      <th>loss</th>\n",
              "      <th>mae</th>\n",
              "      <th>mse</th>\n",
              "      <th>val_loss</th>\n",
              "      <th>val_mae</th>\n",
              "      <th>val_mse</th>\n",
              "      <th>epoch</th>\n",
              "      <th>rmse</th>\n",
              "    </tr>\n",
              "  </thead>\n",
              "  <tbody>\n",
              "    <tr>\n",
              "      <th>995</th>\n",
              "      <td>136.904724</td>\n",
              "      <td>9.295905</td>\n",
              "      <td>136.904724</td>\n",
              "      <td>4035.056885</td>\n",
              "      <td>48.460102</td>\n",
              "      <td>4035.056885</td>\n",
              "      <td>995</td>\n",
              "      <td>11.700629</td>\n",
              "    </tr>\n",
              "    <tr>\n",
              "      <th>996</th>\n",
              "      <td>116.771545</td>\n",
              "      <td>7.907084</td>\n",
              "      <td>116.771545</td>\n",
              "      <td>4178.875000</td>\n",
              "      <td>49.643383</td>\n",
              "      <td>4178.875000</td>\n",
              "      <td>996</td>\n",
              "      <td>10.806088</td>\n",
              "    </tr>\n",
              "    <tr>\n",
              "      <th>997</th>\n",
              "      <td>95.869751</td>\n",
              "      <td>7.826827</td>\n",
              "      <td>95.869751</td>\n",
              "      <td>4012.257324</td>\n",
              "      <td>48.186451</td>\n",
              "      <td>4012.257324</td>\n",
              "      <td>997</td>\n",
              "      <td>9.791310</td>\n",
              "    </tr>\n",
              "    <tr>\n",
              "      <th>998</th>\n",
              "      <td>96.429199</td>\n",
              "      <td>6.709483</td>\n",
              "      <td>96.429199</td>\n",
              "      <td>4008.463867</td>\n",
              "      <td>48.047771</td>\n",
              "      <td>4008.463867</td>\n",
              "      <td>998</td>\n",
              "      <td>9.819837</td>\n",
              "    </tr>\n",
              "    <tr>\n",
              "      <th>999</th>\n",
              "      <td>116.408936</td>\n",
              "      <td>8.298475</td>\n",
              "      <td>116.408936</td>\n",
              "      <td>4205.003418</td>\n",
              "      <td>51.162243</td>\n",
              "      <td>4205.003418</td>\n",
              "      <td>999</td>\n",
              "      <td>10.789297</td>\n",
              "    </tr>\n",
              "  </tbody>\n",
              "</table>\n",
              "</div>\n",
              "      <button class=\"colab-df-convert\" onclick=\"convertToInteractive('df-ef0f7dbc-917c-4e7b-9c76-e10886a6f94a')\"\n",
              "              title=\"Convert this dataframe to an interactive table.\"\n",
              "              style=\"display:none;\">\n",
              "        \n",
              "  <svg xmlns=\"http://www.w3.org/2000/svg\" height=\"24px\"viewBox=\"0 0 24 24\"\n",
              "       width=\"24px\">\n",
              "    <path d=\"M0 0h24v24H0V0z\" fill=\"none\"/>\n",
              "    <path d=\"M18.56 5.44l.94 2.06.94-2.06 2.06-.94-2.06-.94-.94-2.06-.94 2.06-2.06.94zm-11 1L8.5 8.5l.94-2.06 2.06-.94-2.06-.94L8.5 2.5l-.94 2.06-2.06.94zm10 10l.94 2.06.94-2.06 2.06-.94-2.06-.94-.94-2.06-.94 2.06-2.06.94z\"/><path d=\"M17.41 7.96l-1.37-1.37c-.4-.4-.92-.59-1.43-.59-.52 0-1.04.2-1.43.59L10.3 9.45l-7.72 7.72c-.78.78-.78 2.05 0 2.83L4 21.41c.39.39.9.59 1.41.59.51 0 1.02-.2 1.41-.59l7.78-7.78 2.81-2.81c.8-.78.8-2.07 0-2.86zM5.41 20L4 18.59l7.72-7.72 1.47 1.35L5.41 20z\"/>\n",
              "  </svg>\n",
              "      </button>\n",
              "      \n",
              "  <style>\n",
              "    .colab-df-container {\n",
              "      display:flex;\n",
              "      flex-wrap:wrap;\n",
              "      gap: 12px;\n",
              "    }\n",
              "\n",
              "    .colab-df-convert {\n",
              "      background-color: #E8F0FE;\n",
              "      border: none;\n",
              "      border-radius: 50%;\n",
              "      cursor: pointer;\n",
              "      display: none;\n",
              "      fill: #1967D2;\n",
              "      height: 32px;\n",
              "      padding: 0 0 0 0;\n",
              "      width: 32px;\n",
              "    }\n",
              "\n",
              "    .colab-df-convert:hover {\n",
              "      background-color: #E2EBFA;\n",
              "      box-shadow: 0px 1px 2px rgba(60, 64, 67, 0.3), 0px 1px 3px 1px rgba(60, 64, 67, 0.15);\n",
              "      fill: #174EA6;\n",
              "    }\n",
              "\n",
              "    [theme=dark] .colab-df-convert {\n",
              "      background-color: #3B4455;\n",
              "      fill: #D2E3FC;\n",
              "    }\n",
              "\n",
              "    [theme=dark] .colab-df-convert:hover {\n",
              "      background-color: #434B5C;\n",
              "      box-shadow: 0px 1px 3px 1px rgba(0, 0, 0, 0.15);\n",
              "      filter: drop-shadow(0px 1px 2px rgba(0, 0, 0, 0.3));\n",
              "      fill: #FFFFFF;\n",
              "    }\n",
              "  </style>\n",
              "\n",
              "      <script>\n",
              "        const buttonEl =\n",
              "          document.querySelector('#df-ef0f7dbc-917c-4e7b-9c76-e10886a6f94a button.colab-df-convert');\n",
              "        buttonEl.style.display =\n",
              "          google.colab.kernel.accessAllowed ? 'block' : 'none';\n",
              "\n",
              "        async function convertToInteractive(key) {\n",
              "          const element = document.querySelector('#df-ef0f7dbc-917c-4e7b-9c76-e10886a6f94a');\n",
              "          const dataTable =\n",
              "            await google.colab.kernel.invokeFunction('convertToInteractive',\n",
              "                                                     [key], {});\n",
              "          if (!dataTable) return;\n",
              "\n",
              "          const docLinkHtml = 'Like what you see? Visit the ' +\n",
              "            '<a target=\"_blank\" href=https://colab.research.google.com/notebooks/data_table.ipynb>data table notebook</a>'\n",
              "            + ' to learn more about interactive tables.';\n",
              "          element.innerHTML = '';\n",
              "          dataTable['output_type'] = 'display_data';\n",
              "          await google.colab.output.renderOutput(dataTable, element);\n",
              "          const docLink = document.createElement('div');\n",
              "          docLink.innerHTML = docLinkHtml;\n",
              "          element.appendChild(docLink);\n",
              "        }\n",
              "      </script>\n",
              "    </div>\n",
              "  </div>\n",
              "  "
            ]
          },
          "metadata": {},
          "execution_count": 163
        }
      ]
    },
    {
      "cell_type": "code",
      "source": [
        "import matplotlib.pyplot as plt\n",
        "\n",
        "def plot_history(history):\n",
        "  hist = pd.DataFrame(history.history)\n",
        "  hist['epoch'] = history.epoch\n",
        "  hist['rmse'] = np.sqrt(hist['mse'])\n",
        "  hist['val_rmse'] = np.sqrt(hist['val_mse'])\n",
        "\n",
        "  plt.figure(figsize=(8,12))\n",
        "\n",
        "  plt.subplot(3,1,1)\n",
        "  plt.xlabel('Epoch')\n",
        "  plt.ylabel('Mean Abs Error')\n",
        "  plt.plot(hist['epoch'], hist['mae'],\n",
        "           label='Train Error')\n",
        "  plt.plot(hist['epoch'], hist['val_mae'],\n",
        "           label = 'Val Error')\n",
        "  # plt.ylim([0,5])\n",
        "  plt.legend()\n",
        "\n",
        "  plt.subplot(3,1,2)\n",
        "  plt.xlabel('Epoch')\n",
        "  plt.ylabel('Mean Square Error')\n",
        "  plt.plot(hist['epoch'], hist['mse'],\n",
        "           label='Train Error')\n",
        "  plt.plot(hist['epoch'], hist['val_mse'],\n",
        "           label = 'Val Error')\n",
        "  # plt.ylim([0,20])\n",
        "  plt.legend()\n",
        "\n",
        "  plt.subplot(3,1,3)\n",
        "  plt.xlabel('Epoch')\n",
        "  plt.ylabel('Root Mean Square Error')\n",
        "  plt.plot(hist['epoch'], hist['rmse'],\n",
        "           label='Train Error')\n",
        "  plt.plot(hist['epoch'], hist['val_rmse'],\n",
        "           label = 'Val Error')\n",
        "  # plt.ylim([0,20])\n",
        "  plt.legend()\n",
        "\n",
        "  plt.show()\n",
        "\n",
        "plot_history(history)"
      ],
      "metadata": {
        "colab": {
          "base_uri": "https://localhost:8080/",
          "height": 714
        },
        "id": "peS9pK7SYrDl",
        "outputId": "0e35912a-ce88-4c99-ba70-6fc9bfec0ca2"
      },
      "id": "peS9pK7SYrDl",
      "execution_count": null,
      "outputs": [
        {
          "output_type": "display_data",
          "data": {
            "text/plain": [
              "<Figure size 576x864 with 3 Axes>"
            ],
            "image/png": "[encoded data removed]"
          },
          "metadata": {
            "needs_background": "light"
          }
        }
      ]
    },
    {
      "cell_type": "markdown",
      "source": [
        "### (작업) xgboost, lightgbm\n",
        "https://www.kaggle.com/code/serigne/stacked-regressions-top-4-on-leaderboard"
      ],
      "metadata": {
        "id": "gKanny28fNbt"
      },
      "id": "gKanny28fNbt"
    },
    {
      "cell_type": "code",
      "source": [
        "import xgboost as xgb\n",
        "import lightgbm as lgb"
      ],
      "metadata": {
        "id": "GXIZb6c3Y69x"
      },
      "id": "GXIZb6c3Y69x",
      "execution_count": null,
      "outputs": []
    },
    {
      "cell_type": "code",
      "source": [
        "#Validation function\n",
        "n_folds = 5\n",
        "\n",
        "def rmsle_cv(model):\n",
        "    kf = KFold(n_folds, shuffle=True, random_state=42).get_n_splits(x_train.values)\n",
        "    rmse= np.sqrt(-cross_val_score(model, x_train.values, y_train, scoring=\"neg_mean_squared_error\", cv = kf))\n",
        "    return(rmse)"
      ],
      "metadata": {
        "id": "GL1C_SR_ggTs"
      },
      "id": "GL1C_SR_ggTs",
      "execution_count": null,
      "outputs": []
    },
    {
      "cell_type": "code",
      "source": [
        "xgb_model = xgb.XGBRegressor()\n",
        "\n",
        "xgb_score = rmsle_cv(xgb_model)\n",
        "print(\"Xgboost score: {:.4f} ({:.4f})\\n\".format(xgb_score.mean(), xgb_score.std()))"
      ],
      "metadata": {
        "colab": {
          "base_uri": "https://localhost:8080/"
        },
        "id": "arJPcOTgguWc",
        "outputId": "4983722f-d6a3-4378-8fea-23465f5645f5"
      },
      "id": "arJPcOTgguWc",
      "execution_count": null,
      "outputs": [
        {
          "output_type": "stream",
          "name": "stdout",
          "text": [
            "[16:11:42] WARNING: /workspace/src/objective/regression_obj.cu:152: reg:linear is now deprecated in favor of reg:squarederror.\n",
            "[16:11:45] WARNING: /workspace/src/objective/regression_obj.cu:152: reg:linear is now deprecated in favor of reg:squarederror.\n",
            "[16:11:47] WARNING: /workspace/src/objective/regression_obj.cu:152: reg:linear is now deprecated in favor of reg:squarederror.\n",
            "[16:11:48] WARNING: /workspace/src/objective/regression_obj.cu:152: reg:linear is now deprecated in favor of reg:squarederror.\n",
            "[16:11:49] WARNING: /workspace/src/objective/regression_obj.cu:152: reg:linear is now deprecated in favor of reg:squarederror.\n",
            "Xgboost score: 7.7699 (0.6675)\n",
            "\n"
          ]
        }
      ]
    },
    {
      "cell_type": "code",
      "source": [
        "lgb_model = lgb.LGBMRegressor(objective='rmse')\n",
        "\n",
        "lgb_score = rmsle_cv(lgb_model)\n",
        "print(\"LGBM score: {:.4f} ({:.4f})\\n\" .format(lgb_score.mean(), lgb_score.std()))"
      ],
      "metadata": {
        "colab": {
          "base_uri": "https://localhost:8080/"
        },
        "id": "64r5CpAtg4qK",
        "outputId": "d3636c79-2da5-42ff-b0fd-8b0921e76117"
      },
      "id": "64r5CpAtg4qK",
      "execution_count": null,
      "outputs": [
        {
          "output_type": "stream",
          "name": "stdout",
          "text": [
            "LGBM score: 7.6263 (0.7200)\n",
            "\n"
          ]
        }
      ]
    },
    {
      "cell_type": "markdown",
      "source": [
        "<a name='05-04'></a>\n",
        "### 5.4 최종 모델 구축 \n",
        "\n",
        "릿지 모델과 랜덤 포레스트 모델을 평가하고, 이 둘의 조합인 앙상블 모델을 구축합니다.\n"
      ],
      "metadata": {
        "id": "2PcYeQBInymH"
      },
      "id": "2PcYeQBInymH"
    },
    {
      "cell_type": "code",
      "source": [
        "# 최적의 하이퍼파라미터로 학습된 릿지 회귀 모델을 저장합니다. \n",
        "best_ridge = ridge_model.best_estimator_\n",
        "\n",
        "# 최적의 하이퍼파라미터로 학습된 랜덤포레스트 모델을 저장합니다. \n",
        "best_rf = rf_model.best_estimator_\n",
        "\n",
        "# 학습용 데이터셋의 타깃 변수 예측 \n",
        "y_pred_tr_ridge = best_ridge.predict(x_train)\n",
        "y_pred_tr_rf = best_rf.predict(x_train)\n",
        "\n",
        "# 검증용 데이터셋의 타깃 변수 예측 \n",
        "y_pred_va_ridge = best_ridge.predict(x_valid)\n",
        "y_pred_va_rf = best_rf.predict(x_valid)\n",
        "\n",
        "# 평가용 데이터셋의 타깃 변수 예측 \n",
        "y_pred_te_ridge = best_ridge.predict(x_predict)\n",
        "y_pred_te_rf = best_rf.predict(x_predict)\n",
        "\n",
        "# 앙상블 모형의 학습 및 검증 데이터에 대한 타깃 변수 예측 \n",
        "y_pred_tr_en= np.mean([y_pred_tr_ridge, y_pred_tr_rf], axis=0)\n",
        "y_pred_va_en= np.mean([y_pred_va_ridge, y_pred_va_rf], axis=0)\n",
        "y_pred_te_en= np.mean([y_pred_te_ridge, y_pred_te_rf], axis=0)\n",
        "\n",
        "# 학습 데이터셋의 RMSE 계산 \n",
        "rmse_tr_ridge = rmse(y_train, y_pred_tr_ridge)\n",
        "rmse_tr_rf = rmse(y_train, y_pred_tr_rf)\n",
        "rmse_tr_en = rmse(y_train, y_pred_tr_en)\n",
        "\n",
        "# 검증 데이터셋의 RMSE 계산 \n",
        "rmse_va_ridge = rmse(y_valid, y_pred_va_ridge)\n",
        "rmse_va_rf = rmse(y_valid, y_pred_va_rf)\n",
        "rmse_va_en = rmse(y_valid, y_pred_va_en)\n",
        "\n",
        "print(f'\\n**** RIDGE\\n')\n",
        "print(f'Train RMSE: {round(rmse_tr_ridge, 4)}\\n')\n",
        "print(f'\bValid RMSE: {round(rmse_va_ridge, 4)}')\n",
        "\n",
        "print(f'\\n**** Random Forest\\n')\n",
        "print(f'Train RMSE: {round(rmse_tr_rf, 4)}\\n')\n",
        "print(f'\bValid RMSE: {round(rmse_va_rf, 4)}')\n",
        "\n",
        "print(f'\\n**** Ensemble\\n\\n')\n",
        "print(f'\bTrain RMSE: {round(rmse_tr_en, 4)}\\n')\n",
        "print(f'\bValid RMSE: {round(rmse_va_en, 4)}')"
      ],
      "metadata": {
        "colab": {
          "base_uri": "https://localhost:8080/"
        },
        "id": "Ceof_g8Um_Tv",
        "outputId": "d65be6d5-04f6-4b90-8a68-27b02cb53b00"
      },
      "id": "Ceof_g8Um_Tv",
      "execution_count": null,
      "outputs": [
        {
          "output_type": "stream",
          "name": "stdout",
          "text": [
            "\n",
            "**** RIDGE\n",
            "\n",
            "Train RMSE: 4.4085\n",
            "\n",
            "\bValid RMSE: 8.5523\n",
            "\n",
            "**** Random Forest\n",
            "\n",
            "Train RMSE: 2.7155\n",
            "\n",
            "\bValid RMSE: 7.6214\n",
            "\n",
            "**** Ensemble\n",
            "\n",
            "\n",
            "\bTrain RMSE: 3.3539\n",
            "\n",
            "\bValid RMSE: 7.5195\n"
          ]
        }
      ]
    },
    {
      "cell_type": "markdown",
      "source": [
        "검증용 데이터로 세가지 모델에 대한 성능을 비교합니다."
      ],
      "metadata": {
        "id": "kNTiZkBar4Ti"
      },
      "id": "kNTiZkBar4Ti"
    },
    {
      "cell_type": "code",
      "source": [
        "rmse_valid = [rmse_va_ridge, rmse_va_rf, rmse_va_en]\n",
        "recap_model = ['RIDGE', 'RF', 'Ensemble']\n",
        "df_recap = pd.DataFrame({'Model': recap_model, 'Valid_RMSE' : rmse_valid})\n",
        "ax = sns.barplot(x='Model', y='Valid_RMSE', data=df_recap, palette=\"Blues_d\")\n",
        "ax.set_ylim([5, 9]) "
      ],
      "metadata": {
        "id": "fp2tYvMbJRTv",
        "colab": {
          "base_uri": "https://localhost:8080/",
          "height": 301
        },
        "outputId": "acb2abf1-9c32-4eff-f8d4-a947751064b5"
      },
      "id": "fp2tYvMbJRTv",
      "execution_count": null,
      "outputs": [
        {
          "output_type": "execute_result",
          "data": {
            "text/plain": [
              "(5.0, 9.0)"
            ]
          },
          "metadata": {},
          "execution_count": 165
        },
        {
          "output_type": "display_data",
          "data": {
            "text/plain": [
              "<Figure size 432x288 with 1 Axes>"
            ],
            "image/png": "[encoded data removed]"
          },
          "metadata": {
            "needs_background": "light"
          }
        }
      ]
    },
    {
      "cell_type": "markdown",
      "source": [
        "검증 데이터에 대한 앙상블 모델 예측 결과를 시각화합니다. "
      ],
      "metadata": {
        "id": "80_8WZ2yr7o4"
      },
      "id": "80_8WZ2yr7o4"
    },
    {
      "cell_type": "code",
      "execution_count": null,
      "metadata": {
        "colab": {
          "base_uri": "https://localhost:8080/",
          "height": 299
        },
        "id": "ceaR1xmO1KWb",
        "outputId": "0652c3fb-101e-4e83-b9cb-57e515f86389"
      },
      "outputs": [
        {
          "output_type": "display_data",
          "data": {
            "text/plain": [
              "<Figure size 1296x288 with 2 Axes>"
            ],
            "image/png": "[encoded data removed]"
          },
          "metadata": {
            "needs_background": "light"
          }
        },
        {
          "output_type": "display_data",
          "data": {
            "text/plain": [
              "<Figure size 432x288 with 0 Axes>"
            ]
          },
          "metadata": {}
        }
      ],
      "source": [
        "df_train = pd.DataFrame({'y_true': y_train.values, 'y_pred': y_pred_tr_en})\n",
        "df_valid = pd.DataFrame({'y_true': y_valid.values, 'y_pred': y_pred_va_en})\n",
        "\n",
        "fig, axes = plt.subplots(nrows=1, ncols=2, sharey=True, figsize=(18,4))\n",
        "fig.subplots_adjust(hspace=.4, wspace=.1)\n",
        "\n",
        "sns.lineplot(data = df_train, ax=axes[0])\n",
        "sns.lineplot(data = df_valid, ax=axes[1])\n",
        "\n",
        "axes[0].set_title('Train Dataset')\n",
        "axes[1].set_title('Validation Dataset')\n",
        "\n",
        "axes[0].legend(loc='lower right', ncol=2)\n",
        "axes[1].legend(loc='lower right', ncol=2)\n",
        "\n",
        "plt.show()\n",
        "plt.clf() "
      ],
      "id": "ceaR1xmO1KWb"
    },
    {
      "cell_type": "markdown",
      "metadata": {
        "id": "LrNKtoZcCM5a"
      },
      "source": [
        "<a name='05-05'></a>\n",
        "### 5.5 결과 해석 \n"
      ],
      "id": "LrNKtoZcCM5a"
    },
    {
      "cell_type": "markdown",
      "source": [
        "릿지 회귀 모델에서의 계수(coefficient)는 각 변수의 곱해지는 가중치를 의미합니다."
      ],
      "metadata": {
        "id": "hpZkW3HRHTwI"
      },
      "id": "hpZkW3HRHTwI"
    },
    {
      "cell_type": "code",
      "execution_count": null,
      "metadata": {
        "colab": {
          "base_uri": "https://localhost:8080/",
          "height": 192
        },
        "id": "z6fx9L9BwiNp",
        "outputId": "7b7b47b7-2037-425f-f84e-6816e49bc9d5"
      },
      "outputs": [
        {
          "output_type": "stream",
          "name": "stdout",
          "text": [
            "Alpha : 10.0\n"
          ]
        },
        {
          "output_type": "execute_result",
          "data": {
            "text/plain": [
              "             04_efem_para2  04_efem_para25  04_efem_para78  04_esc_para94  \\\n",
              "coefficient      -0.267602       -0.144311       -0.467995       0.740078   \n",
              "\n",
              "             04_fr_para28  04_fr_para61  04_gas_para10  04_gas_para13  \\\n",
              "coefficient     -0.760696     -0.042781      -0.571897       0.227714   \n",
              "\n",
              "             04_gas_para15  04_gas_para19  ...  module_name_eq_EQ11  \\\n",
              "coefficient       0.661715       0.823667  ...            -0.382013   \n",
              "\n",
              "             module_name_eq_EQ12  module_name_eq_EQ2  module_name_eq_EQ3  \\\n",
              "coefficient            -1.006414           -0.932351           -0.154557   \n",
              "\n",
              "             module_name_eq_EQ4  module_name_eq_EQ5  module_name_eq_EQ6  \\\n",
              "coefficient             0.30164            0.444675            0.915384   \n",
              "\n",
              "             module_name_eq_EQ7  module_name_eq_EQ8  module_name_eq_EQ9  \n",
              "coefficient            0.175327            -0.31973            0.060051  \n",
              "\n",
              "[1 rows x 693 columns]"
            ],
            "text/html": [
              "\n",
              "  <div id=\"df-99e65adc-59a4-4ebe-9092-39fb5ba3a9e1\">\n",
              "    <div class=\"colab-df-container\">\n",
              "      <div>\n",
              "<style scoped>\n",
              "    .dataframe tbody tr th:only-of-type {\n",
              "        vertical-align: middle;\n",
              "    }\n",
              "\n",
              "    .dataframe tbody tr th {\n",
              "        vertical-align: top;\n",
              "    }\n",
              "\n",
              "    .dataframe thead th {\n",
              "        text-align: right;\n",
              "    }\n",
              "</style>\n",
              "<table border=\"1\" class=\"dataframe\">\n",
              "  <thead>\n",
              "    <tr style=\"text-align: right;\">\n",
              "      <th></th>\n",
              "      <th>04_efem_para2</th>\n",
              "      <th>04_efem_para25</th>\n",
              "      <th>04_efem_para78</th>\n",
              "      <th>04_esc_para94</th>\n",
              "      <th>04_fr_para28</th>\n",
              "      <th>04_fr_para61</th>\n",
              "      <th>04_gas_para10</th>\n",
              "      <th>04_gas_para13</th>\n",
              "      <th>04_gas_para15</th>\n",
              "      <th>04_gas_para19</th>\n",
              "      <th>...</th>\n",
              "      <th>module_name_eq_EQ11</th>\n",
              "      <th>module_name_eq_EQ12</th>\n",
              "      <th>module_name_eq_EQ2</th>\n",
              "      <th>module_name_eq_EQ3</th>\n",
              "      <th>module_name_eq_EQ4</th>\n",
              "      <th>module_name_eq_EQ5</th>\n",
              "      <th>module_name_eq_EQ6</th>\n",
              "      <th>module_name_eq_EQ7</th>\n",
              "      <th>module_name_eq_EQ8</th>\n",
              "      <th>module_name_eq_EQ9</th>\n",
              "    </tr>\n",
              "  </thead>\n",
              "  <tbody>\n",
              "    <tr>\n",
              "      <th>coefficient</th>\n",
              "      <td>-0.267602</td>\n",
              "      <td>-0.144311</td>\n",
              "      <td>-0.467995</td>\n",
              "      <td>0.740078</td>\n",
              "      <td>-0.760696</td>\n",
              "      <td>-0.042781</td>\n",
              "      <td>-0.571897</td>\n",
              "      <td>0.227714</td>\n",
              "      <td>0.661715</td>\n",
              "      <td>0.823667</td>\n",
              "      <td>...</td>\n",
              "      <td>-0.382013</td>\n",
              "      <td>-1.006414</td>\n",
              "      <td>-0.932351</td>\n",
              "      <td>-0.154557</td>\n",
              "      <td>0.30164</td>\n",
              "      <td>0.444675</td>\n",
              "      <td>0.915384</td>\n",
              "      <td>0.175327</td>\n",
              "      <td>-0.31973</td>\n",
              "      <td>0.060051</td>\n",
              "    </tr>\n",
              "  </tbody>\n",
              "</table>\n",
              "<p>1 rows × 693 columns</p>\n",
              "</div>\n",
              "      <button class=\"colab-df-convert\" onclick=\"convertToInteractive('df-99e65adc-59a4-4ebe-9092-39fb5ba3a9e1')\"\n",
              "              title=\"Convert this dataframe to an interactive table.\"\n",
              "              style=\"display:none;\">\n",
              "        \n",
              "  <svg xmlns=\"http://www.w3.org/2000/svg\" height=\"24px\"viewBox=\"0 0 24 24\"\n",
              "       width=\"24px\">\n",
              "    <path d=\"M0 0h24v24H0V0z\" fill=\"none\"/>\n",
              "    <path d=\"M18.56 5.44l.94 2.06.94-2.06 2.06-.94-2.06-.94-.94-2.06-.94 2.06-2.06.94zm-11 1L8.5 8.5l.94-2.06 2.06-.94-2.06-.94L8.5 2.5l-.94 2.06-2.06.94zm10 10l.94 2.06.94-2.06 2.06-.94-2.06-.94-.94-2.06-.94 2.06-2.06.94z\"/><path d=\"M17.41 7.96l-1.37-1.37c-.4-.4-.92-.59-1.43-.59-.52 0-1.04.2-1.43.59L10.3 9.45l-7.72 7.72c-.78.78-.78 2.05 0 2.83L4 21.41c.39.39.9.59 1.41.59.51 0 1.02-.2 1.41-.59l7.78-7.78 2.81-2.81c.8-.78.8-2.07 0-2.86zM5.41 20L4 18.59l7.72-7.72 1.47 1.35L5.41 20z\"/>\n",
              "  </svg>\n",
              "      </button>\n",
              "      \n",
              "  <style>\n",
              "    .colab-df-container {\n",
              "      display:flex;\n",
              "      flex-wrap:wrap;\n",
              "      gap: 12px;\n",
              "    }\n",
              "\n",
              "    .colab-df-convert {\n",
              "      background-color: #E8F0FE;\n",
              "      border: none;\n",
              "      border-radius: 50%;\n",
              "      cursor: pointer;\n",
              "      display: none;\n",
              "      fill: #1967D2;\n",
              "      height: 32px;\n",
              "      padding: 0 0 0 0;\n",
              "      width: 32px;\n",
              "    }\n",
              "\n",
              "    .colab-df-convert:hover {\n",
              "      background-color: #E2EBFA;\n",
              "      box-shadow: 0px 1px 2px rgba(60, 64, 67, 0.3), 0px 1px 3px 1px rgba(60, 64, 67, 0.15);\n",
              "      fill: #174EA6;\n",
              "    }\n",
              "\n",
              "    [theme=dark] .colab-df-convert {\n",
              "      background-color: #3B4455;\n",
              "      fill: #D2E3FC;\n",
              "    }\n",
              "\n",
              "    [theme=dark] .colab-df-convert:hover {\n",
              "      background-color: #434B5C;\n",
              "      box-shadow: 0px 1px 3px 1px rgba(0, 0, 0, 0.15);\n",
              "      filter: drop-shadow(0px 1px 2px rgba(0, 0, 0, 0.3));\n",
              "      fill: #FFFFFF;\n",
              "    }\n",
              "  </style>\n",
              "\n",
              "      <script>\n",
              "        const buttonEl =\n",
              "          document.querySelector('#df-99e65adc-59a4-4ebe-9092-39fb5ba3a9e1 button.colab-df-convert');\n",
              "        buttonEl.style.display =\n",
              "          google.colab.kernel.accessAllowed ? 'block' : 'none';\n",
              "\n",
              "        async function convertToInteractive(key) {\n",
              "          const element = document.querySelector('#df-99e65adc-59a4-4ebe-9092-39fb5ba3a9e1');\n",
              "          const dataTable =\n",
              "            await google.colab.kernel.invokeFunction('convertToInteractive',\n",
              "                                                     [key], {});\n",
              "          if (!dataTable) return;\n",
              "\n",
              "          const docLinkHtml = 'Like what you see? Visit the ' +\n",
              "            '<a target=\"_blank\" href=https://colab.research.google.com/notebooks/data_table.ipynb>data table notebook</a>'\n",
              "            + ' to learn more about interactive tables.';\n",
              "          element.innerHTML = '';\n",
              "          dataTable['output_type'] = 'display_data';\n",
              "          await google.colab.output.renderOutput(dataTable, element);\n",
              "          const docLink = document.createElement('div');\n",
              "          docLink.innerHTML = docLinkHtml;\n",
              "          element.appendChild(docLink);\n",
              "        }\n",
              "      </script>\n",
              "    </div>\n",
              "  </div>\n",
              "  "
            ]
          },
          "metadata": {},
          "execution_count": 167
        }
      ],
      "source": [
        "# Ridge 에서 GridSearchCV로 탐색한 최적의 alpha값 출력합니다. \n",
        "print(f'Alpha : {best_ridge.alpha}')\n",
        "_ = pd.DataFrame(best_ridge.coef_.reshape(-1, df_prep_train[col_X].columns.shape[0]), columns=df_prep_train[col_X].columns, index=['coefficient'])\n",
        "_"
      ],
      "id": "z6fx9L9BwiNp"
    },
    {
      "cell_type": "markdown",
      "source": [
        "랜덤 포레스트와 같은 트리 기반 모델에서는 각 변수의 중요도 정보를 함께 제공합니다. \n",
        "\n",
        "특정 변수로 분기되었을 시 제곱오차(squared_error)가 크게 감소한 변수일수록 중요도가 높아집니다.\n",
        "\n",
        "분류 문제일 경우에는, 불순도(Gini, entropy)가 크게 감소할수록 해당 특성의 중요도가 높아집니다.\n",
        "\n",
        "전체 변수의 중요도 합은 1이며, 이는 상대적 의미를 가집니다.  \n",
        "\n"
      ],
      "metadata": {
        "id": "VxaSYzmwsWeW"
      },
      "id": "VxaSYzmwsWeW"
    },
    {
      "cell_type": "code",
      "execution_count": null,
      "metadata": {
        "colab": {
          "base_uri": "https://localhost:8080/",
          "height": 283
        },
        "id": "JkNz25d24t8B",
        "outputId": "aad83b7a-d4bd-45d6-94d4-5b6b865a5e61"
      },
      "outputs": [
        {
          "output_type": "execute_result",
          "data": {
            "text/plain": [
              "<matplotlib.axes._subplots.AxesSubplot at 0x7fd875e4ad90>"
            ]
          },
          "metadata": {},
          "execution_count": 168
        },
        {
          "output_type": "display_data",
          "data": {
            "text/plain": [
              "<Figure size 432x288 with 1 Axes>"
            ],
            "image/png": "[encoded data removed]"
          },
          "metadata": {
            "needs_background": "light"
          }
        }
      ],
      "source": [
        "feat_importances = pd.Series(best_rf.feature_importances_, index=df_prep_train[col_X].columns)\n",
        "feat_importances.nlargest(15).plot(kind='barh')"
      ],
      "id": "JkNz25d24t8B"
    },
    {
      "cell_type": "markdown",
      "metadata": {
        "id": "7bc5e184"
      },
      "source": [
        "<a name='05-06'></a>\n",
        "### 5.6 예측 결과 파일 제출 "
      ],
      "id": "7bc5e184"
    },
    {
      "cell_type": "code",
      "execution_count": null,
      "metadata": {
        "id": "faU2PsDDz3nf",
        "colab": {
          "base_uri": "https://localhost:8080/",
          "height": 206
        },
        "outputId": "82478471-5f0d-44f2-fe71-c272194b1e20"
      },
      "outputs": [
        {
          "output_type": "execute_result",
          "data": {
            "text/plain": [
              "     key_val    msure_val\n",
              "0  LOT122_18  1259.871306\n",
              "1  LOT313_18  1260.350538\n",
              "2  LOT380_17  1259.383758\n",
              "3  LOT459_12  1259.843852\n",
              "4  LOT459_18  1260.857781"
            ],
            "text/html": [
              "\n",
              "  <div id=\"df-bc638207-bc7f-470f-a2e8-f98dc0336914\">\n",
              "    <div class=\"colab-df-container\">\n",
              "      <div>\n",
              "<style scoped>\n",
              "    .dataframe tbody tr th:only-of-type {\n",
              "        vertical-align: middle;\n",
              "    }\n",
              "\n",
              "    .dataframe tbody tr th {\n",
              "        vertical-align: top;\n",
              "    }\n",
              "\n",
              "    .dataframe thead th {\n",
              "        text-align: right;\n",
              "    }\n",
              "</style>\n",
              "<table border=\"1\" class=\"dataframe\">\n",
              "  <thead>\n",
              "    <tr style=\"text-align: right;\">\n",
              "      <th></th>\n",
              "      <th>key_val</th>\n",
              "      <th>msure_val</th>\n",
              "    </tr>\n",
              "  </thead>\n",
              "  <tbody>\n",
              "    <tr>\n",
              "      <th>0</th>\n",
              "      <td>LOT122_18</td>\n",
              "      <td>1259.871306</td>\n",
              "    </tr>\n",
              "    <tr>\n",
              "      <th>1</th>\n",
              "      <td>LOT313_18</td>\n",
              "      <td>1260.350538</td>\n",
              "    </tr>\n",
              "    <tr>\n",
              "      <th>2</th>\n",
              "      <td>LOT380_17</td>\n",
              "      <td>1259.383758</td>\n",
              "    </tr>\n",
              "    <tr>\n",
              "      <th>3</th>\n",
              "      <td>LOT459_12</td>\n",
              "      <td>1259.843852</td>\n",
              "    </tr>\n",
              "    <tr>\n",
              "      <th>4</th>\n",
              "      <td>LOT459_18</td>\n",
              "      <td>1260.857781</td>\n",
              "    </tr>\n",
              "  </tbody>\n",
              "</table>\n",
              "</div>\n",
              "      <button class=\"colab-df-convert\" onclick=\"convertToInteractive('df-bc638207-bc7f-470f-a2e8-f98dc0336914')\"\n",
              "              title=\"Convert this dataframe to an interactive table.\"\n",
              "              style=\"display:none;\">\n",
              "        \n",
              "  <svg xmlns=\"http://www.w3.org/2000/svg\" height=\"24px\"viewBox=\"0 0 24 24\"\n",
              "       width=\"24px\">\n",
              "    <path d=\"M0 0h24v24H0V0z\" fill=\"none\"/>\n",
              "    <path d=\"M18.56 5.44l.94 2.06.94-2.06 2.06-.94-2.06-.94-.94-2.06-.94 2.06-2.06.94zm-11 1L8.5 8.5l.94-2.06 2.06-.94-2.06-.94L8.5 2.5l-.94 2.06-2.06.94zm10 10l.94 2.06.94-2.06 2.06-.94-2.06-.94-.94-2.06-.94 2.06-2.06.94z\"/><path d=\"M17.41 7.96l-1.37-1.37c-.4-.4-.92-.59-1.43-.59-.52 0-1.04.2-1.43.59L10.3 9.45l-7.72 7.72c-.78.78-.78 2.05 0 2.83L4 21.41c.39.39.9.59 1.41.59.51 0 1.02-.2 1.41-.59l7.78-7.78 2.81-2.81c.8-.78.8-2.07 0-2.86zM5.41 20L4 18.59l7.72-7.72 1.47 1.35L5.41 20z\"/>\n",
              "  </svg>\n",
              "      </button>\n",
              "      \n",
              "  <style>\n",
              "    .colab-df-container {\n",
              "      display:flex;\n",
              "      flex-wrap:wrap;\n",
              "      gap: 12px;\n",
              "    }\n",
              "\n",
              "    .colab-df-convert {\n",
              "      background-color: #E8F0FE;\n",
              "      border: none;\n",
              "      border-radius: 50%;\n",
              "      cursor: pointer;\n",
              "      display: none;\n",
              "      fill: #1967D2;\n",
              "      height: 32px;\n",
              "      padding: 0 0 0 0;\n",
              "      width: 32px;\n",
              "    }\n",
              "\n",
              "    .colab-df-convert:hover {\n",
              "      background-color: #E2EBFA;\n",
              "      box-shadow: 0px 1px 2px rgba(60, 64, 67, 0.3), 0px 1px 3px 1px rgba(60, 64, 67, 0.15);\n",
              "      fill: #174EA6;\n",
              "    }\n",
              "\n",
              "    [theme=dark] .colab-df-convert {\n",
              "      background-color: #3B4455;\n",
              "      fill: #D2E3FC;\n",
              "    }\n",
              "\n",
              "    [theme=dark] .colab-df-convert:hover {\n",
              "      background-color: #434B5C;\n",
              "      box-shadow: 0px 1px 3px 1px rgba(0, 0, 0, 0.15);\n",
              "      filter: drop-shadow(0px 1px 2px rgba(0, 0, 0, 0.3));\n",
              "      fill: #FFFFFF;\n",
              "    }\n",
              "  </style>\n",
              "\n",
              "      <script>\n",
              "        const buttonEl =\n",
              "          document.querySelector('#df-bc638207-bc7f-470f-a2e8-f98dc0336914 button.colab-df-convert');\n",
              "        buttonEl.style.display =\n",
              "          google.colab.kernel.accessAllowed ? 'block' : 'none';\n",
              "\n",
              "        async function convertToInteractive(key) {\n",
              "          const element = document.querySelector('#df-bc638207-bc7f-470f-a2e8-f98dc0336914');\n",
              "          const dataTable =\n",
              "            await google.colab.kernel.invokeFunction('convertToInteractive',\n",
              "                                                     [key], {});\n",
              "          if (!dataTable) return;\n",
              "\n",
              "          const docLinkHtml = 'Like what you see? Visit the ' +\n",
              "            '<a target=\"_blank\" href=https://colab.research.google.com/notebooks/data_table.ipynb>data table notebook</a>'\n",
              "            + ' to learn more about interactive tables.';\n",
              "          element.innerHTML = '';\n",
              "          dataTable['output_type'] = 'display_data';\n",
              "          await google.colab.output.renderOutput(dataTable, element);\n",
              "          const docLink = document.createElement('div');\n",
              "          docLink.innerHTML = docLinkHtml;\n",
              "          element.appendChild(docLink);\n",
              "        }\n",
              "      </script>\n",
              "    </div>\n",
              "  </div>\n",
              "  "
            ]
          },
          "metadata": {},
          "execution_count": 169
        }
      ],
      "source": [
        "predict['msure_val'] = list(y_pred_te_en)\n",
        "df_submission = predict[['key_val', 'msure_val']] \n",
        "df_submission.head()"
      ],
      "id": "faU2PsDDz3nf"
    },
    {
      "cell_type": "code",
      "source": [
        "# 예측값에 결측치가 포함되어 있는지 확인합니다.\n",
        "df_submission.isnull().sum()"
      ],
      "metadata": {
        "colab": {
          "base_uri": "https://localhost:8080/"
        },
        "id": "t_Dmq76OawcM",
        "outputId": "6a3dcdba-24f4-43dc-e562-a01a3fa9207b"
      },
      "id": "t_Dmq76OawcM",
      "execution_count": null,
      "outputs": [
        {
          "output_type": "execute_result",
          "data": {
            "text/plain": [
              "key_val      0\n",
              "msure_val    0\n",
              "dtype: int64"
            ]
          },
          "metadata": {},
          "execution_count": 170
        }
      ]
    },
    {
      "cell_type": "code",
      "source": [
        "# 예측값의 갯수가 평가용 데이터의 갯수와 동일한지 확인합니다.\n",
        "assert len(df_submission) == len(predict)\n",
        "print(f'No. of Predict DataSet : {len(predict)}\\nNo. of Submission DataSet : {len(df_submission)}')"
      ],
      "metadata": {
        "colab": {
          "base_uri": "https://localhost:8080/"
        },
        "id": "VafErHfrbK4T",
        "outputId": "4ab402ae-38a4-4a14-b278-bc3a89b3b7bf"
      },
      "id": "VafErHfrbK4T",
      "execution_count": null,
      "outputs": [
        {
          "output_type": "stream",
          "name": "stdout",
          "text": [
            "No. of Predict DataSet : 262\n",
            "No. of Submission DataSet : 262\n"
          ]
        }
      ]
    },
    {
      "cell_type": "code",
      "execution_count": null,
      "metadata": {
        "id": "Sm2fMII4iwJR"
      },
      "outputs": [],
      "source": [
        "# 예측 파일을 저장합니다. \n",
        "# 제출용 파일 이름은 cds_submission_팀명_차수.csv 형태로 제출합니다.\n",
        "df_submission.set_index('key_val', inplace=True)\n",
        "df_submission.to_csv(f'{path}cds_submission_MyTeam_1.csv')"
      ],
      "id": "Sm2fMII4iwJR"
    },
    {
      "cell_type": "code",
      "source": [
        ""
      ],
      "metadata": {
        "id": "zmgSLBBRm8s_"
      },
      "id": "zmgSLBBRm8s_",
      "execution_count": null,
      "outputs": []
    }
  ],
  "metadata": {
    "accelerator": "GPU",
    "colab": {
      "collapsed_sections": [],
      "name": "CDS_Baseline_2nd.ipynb",
      "provenance": [],
      "toc_visible": true,
      "include_colab_link": true
    },
    "kernelspec": {
      "display_name": "Python 3",
      "name": "python3"
    },
    "language_info": {
      "name": "python"
    },
    "gpuClass": "standard"
  },
  "nbformat": 4,
  "nbformat_minor": 5
}